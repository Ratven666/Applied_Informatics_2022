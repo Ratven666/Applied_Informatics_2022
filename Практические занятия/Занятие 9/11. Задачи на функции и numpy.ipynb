{
 "cells": [
  {
   "cell_type": "markdown",
   "metadata": {
    "toc": true
   },
   "source": [
    "<h1>Table of Contents<span class=\"tocSkip\"></span></h1>\n",
    "<div class=\"toc\"><ul class=\"toc-item\"><li><span><a href=\"#Задачи-на-функции-и-numpy\" data-toc-modified-id=\"Задачи-на-функции-и-numpy-1\"><span class=\"toc-item-num\">1&nbsp;&nbsp;</span>Задачи на функции и numpy</a></span></li><li><span><a href=\"#Задача-11-$\\star$\" data-toc-modified-id=\"Задача-11-$\\star$-2\"><span class=\"toc-item-num\">2&nbsp;&nbsp;</span>Задача 11 $\\star$</a></span><ul class=\"toc-item\"><li><ul class=\"toc-item\"><li><span><a href=\"#Исходные-данные\" data-toc-modified-id=\"Исходные-данные-2.0.1\"><span class=\"toc-item-num\">2.0.1&nbsp;&nbsp;</span>Исходные данные</a></span></li></ul></li></ul></li><li><span><a href=\"#Задание\" data-toc-modified-id=\"Задание-3\"><span class=\"toc-item-num\">3&nbsp;&nbsp;</span>Задание</a></span><ul class=\"toc-item\"><li><ul class=\"toc-item\"><li><span><a href=\"#ВАЖНО\" data-toc-modified-id=\"ВАЖНО-3.0.1\"><span class=\"toc-item-num\">3.0.1&nbsp;&nbsp;</span>ВАЖНО</a></span></li></ul></li></ul></li><li><span><a href=\"#Задача-11.1-$\\star$\" data-toc-modified-id=\"Задача-11.1-$\\star$-4\"><span class=\"toc-item-num\">4&nbsp;&nbsp;</span>Задача 11.1 $\\star$</a></span><ul class=\"toc-item\"><li><ul class=\"toc-item\"><li><span><a href=\"#Задание\" data-toc-modified-id=\"Задание-4.0.1\"><span class=\"toc-item-num\">4.0.1&nbsp;&nbsp;</span>Задание</a></span></li><li><span><a href=\"#ВАЖНО\" data-toc-modified-id=\"ВАЖНО-4.0.2\"><span class=\"toc-item-num\">4.0.2&nbsp;&nbsp;</span>ВАЖНО</a></span></li></ul></li><li><span><a href=\"#Задача-11.1.1-$\\star$\" data-toc-modified-id=\"Задача-11.1.1-$\\star$-4.1\"><span class=\"toc-item-num\">4.1&nbsp;&nbsp;</span>Задача 11.1.1 $\\star$</a></span><ul class=\"toc-item\"><li><span><a href=\"#Задание\" data-toc-modified-id=\"Задание-4.1.1\"><span class=\"toc-item-num\">4.1.1&nbsp;&nbsp;</span>Задание</a></span></li><li><span><a href=\"#Пояснения\" data-toc-modified-id=\"Пояснения-4.1.2\"><span class=\"toc-item-num\">4.1.2&nbsp;&nbsp;</span>Пояснения</a></span></li></ul></li><li><span><a href=\"#Задача-11.1.2-$\\star$\" data-toc-modified-id=\"Задача-11.1.2-$\\star$-4.2\"><span class=\"toc-item-num\">4.2&nbsp;&nbsp;</span>Задача 11.1.2 $\\star$</a></span></li></ul></li><li><span><a href=\"#Задача-11.2-$\\star$\" data-toc-modified-id=\"Задача-11.2-$\\star$-5\"><span class=\"toc-item-num\">5&nbsp;&nbsp;</span>Задача 11.2 $\\star$</a></span><ul class=\"toc-item\"><li><ul class=\"toc-item\"><li><span><a href=\"#Задание\" data-toc-modified-id=\"Задание-5.0.1\"><span class=\"toc-item-num\">5.0.1&nbsp;&nbsp;</span>Задание</a></span></li><li><span><a href=\"#ВАЖНО\" data-toc-modified-id=\"ВАЖНО-5.0.2\"><span class=\"toc-item-num\">5.0.2&nbsp;&nbsp;</span>ВАЖНО</a></span></li><li><span><a href=\"#На-всякий-случай\" data-toc-modified-id=\"На-всякий-случай-5.0.3\"><span class=\"toc-item-num\">5.0.3&nbsp;&nbsp;</span>На всякий случай</a></span></li></ul></li><li><span><a href=\"#Задача-11.2.1-$\\star$\" data-toc-modified-id=\"Задача-11.2.1-$\\star$-5.1\"><span class=\"toc-item-num\">5.1&nbsp;&nbsp;</span>Задача 11.2.1 $\\star$</a></span></li><li><span><a href=\"#Задача-11.2.2-$\\star$\" data-toc-modified-id=\"Задача-11.2.2-$\\star$-5.2\"><span class=\"toc-item-num\">5.2&nbsp;&nbsp;</span>Задача 11.2.2 $\\star$</a></span></li><li><span><a href=\"#Задача-11.2.3-$\\star$\" data-toc-modified-id=\"Задача-11.2.3-$\\star$-5.3\"><span class=\"toc-item-num\">5.3&nbsp;&nbsp;</span>Задача 11.2.3 $\\star$</a></span></li><li><span><a href=\"#Задача-11.2.4-$\\star$\" data-toc-modified-id=\"Задача-11.2.4-$\\star$-5.4\"><span class=\"toc-item-num\">5.4&nbsp;&nbsp;</span>Задача 11.2.4 $\\star$</a></span><ul class=\"toc-item\"><li><span><a href=\"#ВАЖНО!\" data-toc-modified-id=\"ВАЖНО!-5.4.1\"><span class=\"toc-item-num\">5.4.1&nbsp;&nbsp;</span>ВАЖНО!</a></span></li></ul></li></ul></li><li><span><a href=\"#Задача-11.3-$\\star$\" data-toc-modified-id=\"Задача-11.3-$\\star$-6\"><span class=\"toc-item-num\">6&nbsp;&nbsp;</span>Задача 11.3 $\\star$</a></span><ul class=\"toc-item\"><li><span><a href=\"#Задача-11.3.1-$\\star$\" data-toc-modified-id=\"Задача-11.3.1-$\\star$-6.1\"><span class=\"toc-item-num\">6.1&nbsp;&nbsp;</span>Задача 11.3.1 $\\star$</a></span></li><li><span><a href=\"#Задача-11.3.2-$\\star$\" data-toc-modified-id=\"Задача-11.3.2-$\\star$-6.2\"><span class=\"toc-item-num\">6.2&nbsp;&nbsp;</span>Задача 11.3.2 $\\star$</a></span></li><li><span><a href=\"#Задача-11.3.3-$\\star$\" data-toc-modified-id=\"Задача-11.3.3-$\\star$-6.3\"><span class=\"toc-item-num\">6.3&nbsp;&nbsp;</span>Задача 11.3.3 $\\star$</a></span><ul class=\"toc-item\"><li><span><a href=\"#На-всякий-случай\" data-toc-modified-id=\"На-всякий-случай-6.3.1\"><span class=\"toc-item-num\">6.3.1&nbsp;&nbsp;</span>На всякий случай</a></span></li></ul></li><li><span><a href=\"#Задача-11.3.3-$\\star$\" data-toc-modified-id=\"Задача-11.3.3-$\\star$-6.4\"><span class=\"toc-item-num\">6.4&nbsp;&nbsp;</span>Задача 11.3.3 $\\star$</a></span></li></ul></li></ul></div>"
   ]
  },
  {
   "cell_type": "markdown",
   "metadata": {},
   "source": [
    "# Задачи на функции и numpy"
   ]
  },
  {
   "cell_type": "markdown",
   "metadata": {},
   "source": [
    "# Задача 11 $\\star$"
   ]
  },
  {
   "cell_type": "markdown",
   "metadata": {},
   "source": [
    "### Исходные данные\n",
    "\n",
    "При решении предыдущих задач нами были получены:\n",
    "\n",
    "* Словарь ```gnss_spb_msk_64```, содержащий данные о положении некоторых референцных базовых станций на территориии Санкт-Петербурга в СК **МСК-64**,\n",
    "\n",
    "со следующей структурой:\n",
    "```python\n",
    "{\"ID\": {\"rtcm_id\": int,\n",
    "        \"position\": {\"X_64\": float,\n",
    "                     \"Y_64\": float,\n",
    "                     \"Z_64\": float}}\n",
    "}\n",
    "```"
   ]
  },
  {
   "cell_type": "code",
   "execution_count": 1,
   "metadata": {},
   "outputs": [
    {
     "name": "stdout",
     "output_type": "stream",
     "text": [
      "dict_keys(['AGLT', 'BNTA', 'FAG2', 'GPRB', 'GTCN', 'GU29', 'KRNS', 'KRV2', 'LMNS', 'MCHR', 'MRL2', 'MS25', 'NZYA', 'ORLV', 'PRVM', 'PULK', 'RSCH', 'SBOR', 'SL55', 'SRTV', 'SVRS', 'TCNP', 'TSN3', 'UGTS', 'VLS2', 'VSVL'])\n",
      "************************************\n",
      "'AGLT' =  {'rtcm_id': 1015, 'position': {'X_64': 124427.953, 'Y_64': 110155.593, 'Z_64': 68.591}}\n",
      "************************************\n",
      "'AGLT' position =  {'X_64': 124427.953, 'Y_64': 110155.593, 'Z_64': 68.591}\n"
     ]
    }
   ],
   "source": [
    "import json\n",
    "\n",
    "with open(r\"./src/gnss_spb_msk_64.json\", \"r\") as rf:\n",
    "    gnss_spb_msk_64 = json.load(rf)\n",
    "    \n",
    "print(gnss_spb_msk_64.keys())\n",
    "print(\"************************************\")\n",
    "print(\"'AGLT' = \", gnss_spb_msk_64['AGLT'])\n",
    "print(\"************************************\")\n",
    "print(\"'AGLT' position = \", gnss_spb_msk_64['AGLT']['position'])"
   ]
  },
  {
   "cell_type": "markdown",
   "metadata": {},
   "source": [
    "* Словарь ```gnss_geospider```, определяющий положение сети референцных базовых станций на территории Санкт-Петербурга и Ленинградской области \"Геоспайдер\" в СК **ITRF2008** на эпоху 2013.05.23, \n",
    "\n",
    "со следующей структурой:\n",
    "```python\n",
    "{\"name\": {\"rtcm_id\": str,\n",
    "         \"antenna\": {\"manufacturer\": str,\n",
    "                     \"model\": str,\n",
    "                     \"serial number\": str},\n",
    "         \"receiver\": {\"manufacturer\": str,\n",
    "                     \"model\": str,\n",
    "                     \"serial number\": str,\n",
    "                     \"code\": str},\n",
    "         \"status\": {\"is_active\": bool,\n",
    "                    \"date\" : str,\n",
    "                    \"time\": str},         \n",
    "         \"position\": {\"B\": float,\n",
    "                      \"L\": float,\n",
    "                      \"H\": float,\n",
    "                      \"coordinate system\": str}\n",
    "        }\n",
    " ...\n",
    "}\n",
    "```"
   ]
  },
  {
   "cell_type": "code",
   "execution_count": 2,
   "metadata": {},
   "outputs": [
    {
     "name": "stdout",
     "output_type": "stream",
     "text": [
      "dict_keys(['53VN', '60V2', 'AGLT', 'ALHV', 'APAT', 'BBCH', 'BBVO', 'BJNC', 'BLGE', 'BLGR', 'BLKS', 'BLMR', 'BLNS', 'BNTA', 'BRV2', 'BRV3', 'BTCK', 'CHDV', 'CHPV', 'DEMN', 'DMDV', 'EFM2', 'FAG2', 'GAIS', 'GDV2', 'GPR2', 'GRBN', 'GSTL', 'GTCN', 'GU29', 'HOL2', 'HVNY', 'ISTR', 'IVAN', 'JOE2', 'KADU', 'KIM2', 'KLPN', 'KMNG', 'KNGS', 'KOND', 'KRNS', 'KRS2', 'KRV2', 'KSCY', 'KSTM', 'KTLS', 'KVS1', 'KVS2', 'KZML', 'LBT2', 'LDNP', 'LDPL', 'LHSL', 'LMNS', 'LSKR', 'LUBN', 'LUGA', 'MCHR', 'MDVG', 'MG36', 'MLVS', 'MRL2', 'MRMN', 'MRVO', 'MS25', 'MSHN', 'MSNS', 'MTLS', 'NBLC', 'NNMK', 'NSRT', 'NVGD', 'NZYA', 'OKLV', 'OLN2', 'OPCK', 'ORLV', 'OSMN', 'OST2', 'PDDR', 'PDPR', 'PEST', 'PRHV', 'PRM2', 'PRMR', 'PRNS', 'PROZ', 'PRVM', 'PRZR', 'PSHA', 'PSKO', 'PSTS', 'PTKR', 'PTR2', 'PULK', 'ROM2', 'RSCH', 'RSUR', 'SBNS', 'SBOR', 'SEBE', 'SGJA', 'SGOZ', 'SL55', 'SLCY', 'SLNC', 'SLNG', 'SRT2', 'SSNV', 'SSTR', 'STKR', 'STNS', 'STRS', 'SUO2', 'SVRS', 'TCNP', 'THV2', 'TOIL', 'TRG2', 'TRLV', 'TSN3', 'UGTS', 'USLG', 'USTG', 'USVT', 'VAL2', 'VBR2', 'VIR2', 'VJG2', 'VLGD', 'VLH2', 'VLHV', 'VLK2', 'VLS2', 'VNNC', 'VNV2', 'VSVL', 'VVLC', 'VZSN', 'ZBTY', 'ZHUK', 'ZLNG'])\n",
      "************************************\n",
      "'AGLT' =  {'rtcm_id': 1015, 'antenna': {'manufacturer': 'Trimble', 'model': 'TRM57971.00 NONE', 'serial number': '30569147'}, 'receiver': {'manufacturer': 'Trimble', 'model': 'TRIMBLE NETR5', 'serial number': '4624K01633', 'code': '4.48'}, 'status': {'is_active': True, 'date': '17.08.22', 'time': '04:42:28'}, 'position': {'B': 60.206629058333334, 'L': 30.254086430555557, 'H': 84.554, 'coordinate system': 'ITRF2008 2013.05.23'}}\n",
      "************************************\n",
      "'AGLT' position =  {'B': 60.206629058333334, 'L': 30.254086430555557, 'H': 84.554, 'coordinate system': 'ITRF2008 2013.05.23'}\n"
     ]
    }
   ],
   "source": [
    "import json\n",
    "\n",
    "with open(r\"./src/gnss_geospider.json\", \"r\") as rf:\n",
    "    gnss_geospider = json.load(rf)\n",
    "    \n",
    "print(gnss_geospider.keys())\n",
    "print(\"************************************\")\n",
    "print(\"'AGLT' = \", gnss_geospider['AGLT'])\n",
    "print(\"************************************\")\n",
    "print(\"'AGLT' position = \", gnss_geospider['AGLT']['position'])"
   ]
  },
  {
   "cell_type": "markdown",
   "metadata": {},
   "source": [
    "# Задание\n",
    "\n",
    "> **Необходимо рассчитать прямогугольные координаты всех приемников сети референцных базовых станций \"Геоспайдер\" в СК МСК-64**"
   ]
  },
  {
   "cell_type": "markdown",
   "metadata": {},
   "source": [
    "### ВАЖНО\n",
    "\n",
    "> **Координаты, взятые с сайта [GEOBRIDGE](https://geobridge.ru/netrbs), искуственно загрублены, поэтому их и результаты, из них полученные, нельзя использовать напрямую при решении геодезических задач!**"
   ]
  },
  {
   "cell_type": "markdown",
   "metadata": {},
   "source": [
    "***\n",
    "***"
   ]
  },
  {
   "cell_type": "markdown",
   "metadata": {},
   "source": [
    "# Задача 11.1 $\\star$\n",
    "\n",
    "Словарь ```gnss_geospider``` содержит информацию о **геодезических координатах** приемников \"Геоспайдер\" в СК **ITRF2008**:\n",
    "\n",
    "```python\n",
    "{\"name\": {...     \n",
    "         \"position\": {\"B\": float,\n",
    "                      \"L\": float,\n",
    "                      \"H\": float,\n",
    "                      \"coordinate system\": str},\n",
    "          ...\n",
    "        },\n",
    " ...\n",
    "}\n",
    "```\n",
    "\n",
    "### Задание\n",
    "Необходимо рассчитать координаты приемников в одну из референцных систем координат (например :СК-42, СК-95, ГСК-2011).\n",
    "\n",
    "### ВАЖНО\n",
    "\n",
    "> **Алгоритм и способ решения поставленной задачи Вы можете выбрать самостоятельно!**\n",
    "\n",
    "> **В файле gost_r_32453-2017.pdf (в папке \"Дополнительные материалы\") приведен текст ГОСТа 32453-2017 \"Глобальные навигационные спутниковые системы. СИСТЕМЫ КООРДИНАТ. Методы преобразований координат определяемых точек\" в котором представлен один из возможных алгоритмов решения.**"
   ]
  },
  {
   "cell_type": "markdown",
   "metadata": {},
   "source": [
    "## Задача 11.1.1 $\\star$\n",
    "\n",
    "На первом этапе необходимо пересчитать **геодезические** координаты в **плоские прямоугольные координаты**\n",
    "\n",
    "### Задание\n",
    "\n",
    "Напишите функцию ```calk_coord_bl_to_xy```, которая принимает **геодезические координаты пункта** и возвращает **плоские прямоугольные координаты**\n",
    "\n",
    "```python\n",
    "def calk_coord_bl_to_xy(b: float, l: float):\n",
    "    \"\"\"Ваш код\"\"\"\n",
    "    return x, y\n",
    "```\n",
    "\n",
    "### Пояснения\n",
    "\n",
    "> **Алгоритм решения описан в разделе 5.4 \" Преобразование геодезических координат в плоские прямоугольные координаты и обратно\" ГОСТа 32453-2017**"
   ]
  },
  {
   "cell_type": "code",
   "execution_count": null,
   "metadata": {},
   "outputs": [],
   "source": []
  },
  {
   "cell_type": "markdown",
   "metadata": {},
   "source": [
    "***\n",
    "***"
   ]
  },
  {
   "cell_type": "markdown",
   "metadata": {},
   "source": [
    "## Задача 11.1.2 $\\star$\n",
    "\n",
    "Используя функцию ```calk_coord_bl_to_xy```, обновите словарь ```gnss_geospider```, добавив в него соответствующие поля ```X_42``` и ```Y_42```:\n",
    "\n",
    "```python\n",
    "{\"name\": {...       \n",
    "         \"position\": {\"B\": float,\n",
    "                      \"L\": float,\n",
    "                      \"H\": float,\n",
    "                      \"coordinate system\": str,\n",
    "                      \"X_42\": float,\n",
    "                      \"Y_42\": float}\n",
    "        }\n",
    " ...\n",
    "}\n",
    "```"
   ]
  },
  {
   "cell_type": "code",
   "execution_count": null,
   "metadata": {},
   "outputs": [],
   "source": []
  },
  {
   "cell_type": "markdown",
   "metadata": {},
   "source": [
    "***\n",
    "***"
   ]
  },
  {
   "cell_type": "markdown",
   "metadata": {},
   "source": [
    "# Задача 11.2 $\\star$\n",
    "\n",
    "Пускай даны две матрицы:\n",
    "\n",
    "* $C_0$ - матрица, содержащая координаты точек в требуемой \"целевой\" системе координат:\n",
    "\n",
    "$$ C_0 =\n",
    "  \\left[ {\\begin{array}{ccc}\n",
    "    x^0_{1} & y^0_{1}\\\\\n",
    "    x^0_{2} & y^0_{2}\\\\\n",
    "    \\vdots & \\vdots\\\\\n",
    "    x^0_{n} & y^0_{n}\\\\\n",
    "  \\end{array} } \\right] $$\n",
    "  \n",
    "* $C$ - матрица, содержащая координаты тех же точек в другой \"условной\" системе координат:\n",
    "  \n",
    "$$C =\n",
    "  \\left[ {\\begin{array}{cccc}\n",
    "    x_{1} & y_{1}\\\\\n",
    "    x_{2} & y_{2}\\\\\n",
    "    \\vdots & \\vdots\\\\\n",
    "    x_{n} & y_{n}\\\\\n",
    "  \\end{array} } \\right] $$\n",
    "  \n",
    "> Для трансформации в двумерном пространстве справедливы условия:\n",
    "\n",
    "$$ x^0_i = X_0 + x_icos\\theta - y_isin\\theta $$\n",
    "$$ y^0_i = Y_0 + x_isin\\theta + y_icos\\theta $$\n",
    "\n",
    "где:\n",
    "* $X_0$ - Величина линейного сдвига \"условной\" системы координат вдоль оси $X$, необходимая для ее приведения к \"целевой\" системе координат, м;\n",
    "* $Y_0$ - Величина линейного сдвига \"условной\" системы координат вдоль оси $Y$, необходимая для ее приведения к \"целевой\" системе координат, м;\n",
    "* $\\theta$ - Угол необходимого поворота \"условной\" системы координат, необходимый для ее приведения к \"целевой\", отсчитываемый от точки с координатами $(0, 0)$ d \"условной\" системе координат, радиан.\n",
    "\n",
    "### Задание\n",
    "> **Необходимо рассчитать элементы $X_0$, $Y_0$, $\\theta$, необходимые для перехода из СК-42 в МСК-64**\n",
    "\n",
    "\n",
    "### ВАЖНО\n",
    "\n",
    "> **МЫ РАССМАТРИВАЕМ КРАЙНЕ УПРОЩЕННЫЙ ВАРИАНТ РЕШЕНИЯ ПОСТАВЛЕННОЙ ЗАДАЧИ, ПРЕСЛЕДУЮЩИЙ ЦЕЛЬ ЗАКРЕПИТЬ НАВЫКИ ПРОГРАММИРОВАНИЯ, А НЕ ГЕОДЕЗИИ - ОТНЕСИТЕСЬ** ***КРАЙНЕ КРИТИЧЕСКИ*** **К ПОЛУЧЕННЫМ РЕЗУЛЬТАТАМ!!!**\n"
   ]
  },
  {
   "cell_type": "markdown",
   "metadata": {},
   "source": [
    "### На всякий случай\n",
    "\n",
    "Беря за основу выражения\n",
    "\n",
    "$$ x^0_i = X_0 + x_i\\cos\\theta - y_i\\sin\\theta $$\n",
    "$$ y^0_i = Y_0 + x_i\\sin\\theta + y_i\\cos\\theta $$\n",
    "\n",
    "и вспоминая Метод Наименьших Квадратов (МНК) в его параметрической форме решения легко видно, что:\n",
    "\n",
    "$$ v_i = X_0 + x_i\\cos\\theta - y_i\\sin\\theta - x^0_i\\\\\n",
    "v_{i+1} = Y_0 + x_i\\sin\\theta + y_i\\cos\\theta - y^0_i$$\n",
    "\n",
    "каждая точка позволяет сформировать по $2$ параметрических уравнения поправок.\n",
    "\n",
    "Параметрами, очевидно, являются искомые элементы ориентирования $\\theta$, $X_0$, $Y_0$, измерениями - координаты $x$ и $y$ точек в \"условной\" системе координат.\n",
    "\n",
    "Предполагая, что нам известны некоторые приближенные значения параметров $\\theta^0$, $X_0^0$, $Y_0^0$:\n",
    "$$ T^0 =   \\left[ {\\begin{array}{cccc}\n",
    "    X_0^0\\\\\n",
    "    Y_0^0\\\\\n",
    "    \\theta^0\\\\\n",
    "  \\end{array} } \\right] $$\n",
    "  \n",
    "систему параметрических поправок можно записать как:\n",
    "$$ v_i = (X_0^0 + \\delta X_0) + x_i\\cos(\\theta^0 + \\delta\\theta) - y_i\\sin(\\theta^0 + \\delta\\theta) - x^0_i\\\\\n",
    "v_{i+1} = (Y_0^0 + \\delta Y_0) + x_i\\sin(\\theta^0 + \\delta\\theta) + y_i\\cos(\\theta^0 + \\delta\\theta) - y^0_i$$\n",
    "\n",
    "Линеаризовав эту систему через ряд Тейлора и приняв все измерения как равноточные, можно прийти к системе нормальных уравнений вида:\n",
    "\n",
    "$$ N\\cdot \\delta T + A^TL = 0 $$\n",
    "\n",
    "где:\n",
    "* $N$ - матрица коэффициентов нормальных уравнений:\n",
    "\n",
    "$$ N_{3 \\times 3} = A^TPA = A^T \\cdot A $$\n",
    "\n",
    "* $A$ - матрица частных производных системы: \n",
    "\n",
    "$$ F_i = X_0 + x_i\\cos\\theta - y_i\\sin\\theta\\\\\n",
    "   F_{i+1} = Y_0 + x_i\\sin\\theta + y_i\\cos\\theta\\\\\n",
    "   \\dots\\dots\\dots\\dots\\dots\\dots\\dots\\\\\n",
    "   F_n = X_0 + x_n\\cos\\theta - y_n\\sin\\theta\\\\\n",
    "   F_{n+1} = Y_0 + x_n\\sin\\theta + y_ncos\\theta\\\\\n",
    "$$\n",
    "\n",
    "по определяемым параметрам:\n",
    "\n",
    "$$ A_{2n \\times 3} =\n",
    "  \\left[ {\\begin{array}{cccc}\n",
    "    \\frac{\\partial F_1}{X_0} & \\frac{\\partial F_1}{Y_0} & \\frac{\\partial F_1}{\\theta}\\\\\n",
    "    \\frac{\\partial F_2}{X_0} & \\frac{\\partial F_2}{Y_0} & \\frac{\\partial F_2}{\\theta}\\\\\n",
    "    \\vdots & \\vdots & \\vdots\\\\\n",
    "    \\frac{\\partial F_n}{X_0} & \\frac{\\partial F_n}{Y_0} & \\frac{\\partial F_n}{\\theta}\\\\\n",
    "    \\frac{\\partial F_{n+1}}{X_0} & \\frac{\\partial F_{n+1}}{Y_0} & \\frac{\\partial F_{n+1}}{\\theta}\\\\\n",
    "  \\end{array} } \\right] = \n",
    "  \\left[ {\\begin{array}{cccc}\n",
    "    1 & 0 & -x_1\\sin\\theta^0 - y_1\\cos\\theta^0\\\\\n",
    "    0 & 1 & x_1\\cos\\theta^0 - y_1\\sin\\theta^0\\\\\n",
    "    \\vdots & \\vdots & \\vdots\\\\\n",
    "    1 & 0 & -x_n\\sin\\theta^0 - y_n\\cos\\theta^0\\\\\n",
    "    0 & 1 & x_n\\cos\\theta^0 - y_n\\sin\\theta^0\\\\\n",
    "  \\end{array} } \\right]$$\n",
    "  \n",
    "* $L$ - вектор свободных членов:\n",
    "\n",
    "$$ L_{2n \\times 1} =   \\left[ {\\begin{array}{cccc}\n",
    "    (X_0^0 + x_1\\cos\\theta^0 - y_1\\sin\\theta^0) - x^0_1\\\\\n",
    "    (Y_0^0 + x_1\\sin\\theta^0 + y_1\\cos\\theta^0) - y^0_1\\\\\n",
    "    \\vdots \\\\\n",
    "    (X_0^0 + x_n1\\cos\\theta^0 - y_n\\sin\\theta^0) - x^0_1\\\\\n",
    "    (Y_0^0 + x_n\\sin\\theta^0 + y_n\\cos\\theta^0) - y^0_1\\\\\n",
    "  \\end{array} } \\right] $$\n",
    "  \n",
    "* $\\delta T$ - вектор поправок в параметры \n",
    "$$ \\delta T =   \\left[ {\\begin{array}{cccc}\n",
    "    \\delta X_0\\\\\n",
    "    \\delta Y_0\\\\\n",
    "    \\delta\\theta^0\\\\\n",
    "  \\end{array} } \\right] $$\n",
    "  \n",
    "> Таким образом, искомый вектор элементов внешнего ориентирования $T$:\n",
    "\n",
    "$$ T = \\left[ {\\begin{array}{cccc}\n",
    "    X_0^0\\\\\n",
    "    Y_0^0\\\\\n",
    "    \\theta^0\\\\\n",
    "  \\end{array} } \\right] + \\left[ {\\begin{array}{cccc}\n",
    "    \\delta X_0\\\\\n",
    "    \\delta Y_0\\\\\n",
    "    \\delta\\theta^0\\\\\n",
    "  \\end{array} } \\right] $$"
   ]
  },
  {
   "cell_type": "markdown",
   "metadata": {},
   "source": [
    " ## Задача 11.2.1 $\\star$\n",
    " \n",
    " Напишите функцию:\n",
    " \n",
    " ```python\n",
    "def get_a(points, T_0):\n",
    "    \"Ваш код\"\n",
    "    return A\n",
    "```\n",
    "> Функция на вход принимает:\n",
    "* ```points``` - cписок координат точек (можно сразу передавать массив из ```numpy```) в \"условной\" системе координат:\n",
    "```python\n",
    "[[x_1, y_1], [x_2, y_2], ..., [x_n, y_n]]\n",
    "```\n",
    "* ```T_0``` - список приближенных значений параметров трансформации $X_0^0$, $Y_0^0$, $\\theta^0$\n",
    "```python\n",
    "[X_0, Y_0, Theta_0]\n",
    "```\n",
    "> Функция возвращает:\n",
    "* ```A``` - матрицу частных производных\n",
    "```python\n",
    "[[0, 1, x_1 * sin(Theta_0) - y_1 * cos(Theta_0)],\n",
    " [1, 0, x_1 * cos(Theta_0) - y_1 * sin(Theta_0)],\n",
    " ....................................\n",
    " [0, 1, x_n * sin(Theta_0) - y_n * cos(Theta_0)],\n",
    " [1, 0, x_n * cos(Theta_0) - y_n * sin(Theta_0)]\n",
    "]\n",
    "```"
   ]
  },
  {
   "cell_type": "code",
   "execution_count": null,
   "metadata": {},
   "outputs": [],
   "source": []
  },
  {
   "cell_type": "markdown",
   "metadata": {},
   "source": [
    "***\n",
    "***"
   ]
  },
  {
   "cell_type": "markdown",
   "metadata": {},
   "source": [
    " ## Задача 11.2.2 $\\star$\n",
    " \n",
    " Напишите функцию:\n",
    " \n",
    " ```python\n",
    "def get_l(points_0, points, T_0):\n",
    "    \"Ваш код\"\n",
    "    return A\n",
    "```\n",
    "> Функция на вход принимает:\n",
    "* ```points_0``` - cписок координат точек (можно сразу передавать массив из ```numpy```) в \"целевой\" системе координат:\n",
    "```python\n",
    "[[x0_1, y0_1], [x0_2, y0_2], ..., [x0_n, y0_n]]\n",
    "```\n",
    "* ```points``` - cписок координат соответствующих точек (можно сразу передавать массив из ```numpy```) в \"условной\" системе координат:\n",
    "```python\n",
    "[[x_1, y_1], [x_2, y_2], ..., [x_n, y_n]]\n",
    "```\n",
    "* ```T_0``` - список приближенных значений параметров трансформации $X_0^0$, $Y_0^0$, $\\theta^0$\n",
    "```python\n",
    "[X_0, Y_0, Theta_0]\n",
    "```\n",
    "> Функция возвращает:\n",
    "* ```L``` - вектор свободных членов\n",
    "```python\n",
    "[X_0 + x_1cos(Theta) - y_1sin(Theta) - x0_1, \n",
    " Y_0 + x_1sin(Theta) + y_1cos(Theta) - y0_1,\n",
    " ...........................................\n",
    " X_0 + x_ncos(Theta) - y_nsin(Theta) - x0_n, \n",
    " Y_0 + x_nsin(Theta) + y_ncos(Theta) - y0_n\n",
    "]\n",
    "```"
   ]
  },
  {
   "cell_type": "code",
   "execution_count": null,
   "metadata": {},
   "outputs": [],
   "source": []
  },
  {
   "cell_type": "markdown",
   "metadata": {},
   "source": [
    "***\n",
    "***"
   ]
  },
  {
   "cell_type": "markdown",
   "metadata": {},
   "source": [
    " ## Задача 11.2.3 $\\star$\n",
    " \n",
    "  Используя свои функции ```get_a``` и ```get_l```, напишите функцию:\n",
    " \n",
    " ```python\n",
    "def get_dT(points_0, points, T_0):\n",
    "    \"Ваш код\"\n",
    "    return dT\n",
    "```\n",
    "> Функция на вход принимает:\n",
    "* ```points_0``` - cписок координат точек (можно сразу передавать массив из ```numpy```) в \"целевой\" системе координат:\n",
    "```python\n",
    "[[x0_1, y0_1], [x0_2, y0_2], ..., [x0_n, y0_n]]\n",
    "```\n",
    "* ```points``` - cписок координат соответствующих точек (можно сразу передавать массив из ```numpy```) в \"условной\" системе координат:\n",
    "```python\n",
    "[[x_1, y_1], [x_2, y_2], ..., [x_n, y_n]]\n",
    "```\n",
    "* ```T_0``` - список приближенных значений параметров трансформации $X_0^0$, $Y_0^0$, $\\theta^0$\n",
    "```python\n",
    "[X_0, Y_0, Theta_0]\n",
    "```\n",
    "> Функция возвращает:\n",
    "* ```dT``` - вектор поправок в приближенные значения параметров трансформации $X_0^0$, $Y_0^0$, $\\theta^0$\n",
    "\n",
    "$$ \\delta T = -N^{-1} \\cdot A^TL = \\left[ {\\begin{array}{cccc}\n",
    "    \\delta X_0\\\\\n",
    "    \\delta Y_0\\\\\n",
    "    \\delta\\theta^0\\\\\n",
    "  \\end{array} } \\right]$$\n",
    "\n",
    "$$ N = A^T \\cdot A $$"
   ]
  },
  {
   "cell_type": "code",
   "execution_count": null,
   "metadata": {},
   "outputs": [],
   "source": []
  },
  {
   "cell_type": "markdown",
   "metadata": {},
   "source": [
    "***\n",
    "***"
   ]
  },
  {
   "cell_type": "markdown",
   "metadata": {},
   "source": [
    " ## Задача 11.2.4 $\\star$\n",
    " \n",
    "Используя свою функцию ```get_dT```, напишите функцию:\n",
    "\n",
    "```python\n",
    "def calk_2d_transformation(points_0, points, T_0=(0., 0., 0.)):\n",
    "    \"Ваш код\"\n",
    "    return T\n",
    "```\n",
    "> Функция на вход принимает:\n",
    "* ```points_0``` - cписок координат точек (можно сразу передавать массив из ```numpy```) в \"целевой\" системе координат:\n",
    "```python\n",
    "[[x0_1, y0_1], [x0_2, y0_2], ..., [x0_n, y0_n]]\n",
    "```\n",
    "* ```points``` - cписок координат соответствующих точек (можно сразу передавать массив из ```numpy```) в \"условной\" системе координат:\n",
    "```python\n",
    "[[x_1, y_1], [x_2, y_2], ..., [x_n, y_n]]\n",
    "```\n",
    "* ```T_0``` - список приближенных значений параметров трансформации $X_0^0$, $Y_0^0$, $\\theta^0$\n",
    "```python\n",
    "[X_0, Y_0, Theta_0]\n",
    "```\n",
    "> Функция возвращает:\n",
    "* ```T``` - Вектор элементов внешнего ориентирования, необходимых для перехода от \"условной\" к \"целевой\" системе координат\n",
    "\n",
    "$$ T = \\left[ {\\begin{array}{cccc}\n",
    "    X_0^0\\\\\n",
    "    Y_0^0\\\\\n",
    "    \\theta^0\\\\\n",
    "  \\end{array} } \\right] + \\left[ {\\begin{array}{cccc}\n",
    "    \\delta X_0\\\\\n",
    "    \\delta Y_0\\\\\n",
    "    \\delta\\theta^0\\\\\n",
    "  \\end{array} } \\right] $$\n",
    "  \n",
    "### ВАЖНО!\n",
    "\n",
    "> Учтите, что при изначально грубых значениях параметров трансформации $X_0^0$, $Y_0^0$, $\\theta^0$ значения поправок $\\delta X_0$, $\\delta Y_0$ и $\\delta\\theta^0$ будут определены не точно из-за ошибок лианеризации исходных уравнений параметрических поправок!\n",
    "\n",
    "> В функции ```calk_2d_transformation``` итеративное решения, пока вектор $\\delta T$ не станет пренебрежимо мал!"
   ]
  },
  {
   "cell_type": "code",
   "execution_count": null,
   "metadata": {},
   "outputs": [],
   "source": []
  },
  {
   "cell_type": "markdown",
   "metadata": {},
   "source": [
    "***\n",
    "***"
   ]
  },
  {
   "cell_type": "markdown",
   "metadata": {},
   "source": [
    "# Задача 11.3 $\\star$\n",
    "\n",
    "Исходя из полученных \"целевых\" координат МСК-64 в словаре ```gnss_spb_msk_64``` и \"условных\" координатах в СК-42, рассчитанных в ```gnss_geospider```, определите элементы трансформации, необходимые для перехода от СК-42 к МСК-64"
   ]
  },
  {
   "cell_type": "markdown",
   "metadata": {},
   "source": [
    " ## Задача 11.3.1 $\\star$\n",
    " \n",
    " Отфильтруйте словари ```gnss_spb_msk_64``` и ```gnss_geospider``` таким образом, чтобы получить в результате массивы координат точек вида:\n",
    " \n",
    "* ```points_0``` - cписок координат точек (можно сразу передавать массив из ```numpy```) в \"целевой\" системе координат (из словаря ```gnss_spb_msk_64```):\n",
    "```python\n",
    "[[x0_1, y0_1], [x0_2, y0_2], ..., [x0_n, y0_n]]\n",
    "```\n",
    "\n",
    "* ```points``` - cписок координат соответствующих точек (можно сразу передавать массив из ```numpy```) в \"условной\" системе координат (из словаря ```gnss_geospider```):\n",
    "```python\n",
    "[[x_1, y_1], [x_2, y_2], ..., [x_n, y_n]]\n",
    "```"
   ]
  },
  {
   "cell_type": "code",
   "execution_count": null,
   "metadata": {},
   "outputs": [],
   "source": []
  },
  {
   "cell_type": "markdown",
   "metadata": {},
   "source": [
    "***\n",
    "***"
   ]
  },
  {
   "cell_type": "markdown",
   "metadata": {},
   "source": [
    "## Задача 11.3.2 $\\star$\n",
    " \n",
    "Используя функцию ```calk_2d_transformation``` и полученные массивы ```points_0``` и ```points```, рассчитайте элементы трансформации, необходимые для перехода от **СК-42** к **МСК-64**."
   ]
  },
  {
   "cell_type": "code",
   "execution_count": null,
   "metadata": {},
   "outputs": [],
   "source": []
  },
  {
   "cell_type": "markdown",
   "metadata": {},
   "source": [
    "***\n",
    "***"
   ]
  },
  {
   "cell_type": "markdown",
   "metadata": {},
   "source": [
    "## Задача 11.3.3 $\\star$\n",
    " \n",
    "Напишите функцию:\n",
    "\n",
    "```python\n",
    "def transform_coord(points, T):\n",
    "    \"Ваш код\"\n",
    "    return tr_points\n",
    "```\n",
    "> Функция на вход принимает:\n",
    "\n",
    "* ```points``` - cписок координат соответствующих точек (можно сразу передавать массив из ```numpy```) в \"условной\" системе координат (из словаря ```gnss_geospider```):\n",
    "```python\n",
    "[[x_1, y_1], [x_2, y_2], ..., [x_n, y_n]]\n",
    "```\n",
    "* ```T``` - Вектор элементов внешнего ориентирования, необходимых для перехода от \"условной\" к \"целевой\" системе координат\n",
    "\n",
    "> Функция возвращает:\n",
    "* ```tr_points``` - список координат точек, пересчитанных в \"целевую\" СК\n",
    "\n",
    "### На всякий случай\n",
    "\n",
    "$$ x^T_i = X_0 + x_i\\cos\\theta - y_i\\sin\\theta $$\n",
    "$$ y^T_i = Y_0 + x_i\\sin\\theta + y_i\\cos\\theta $$\n",
    "\n"
   ]
  },
  {
   "cell_type": "code",
   "execution_count": null,
   "metadata": {},
   "outputs": [],
   "source": []
  },
  {
   "cell_type": "markdown",
   "metadata": {},
   "source": [
    "***\n",
    "***"
   ]
  },
  {
   "cell_type": "markdown",
   "metadata": {},
   "source": [
    "## Задача 11.3.3 $\\star$\n",
    "\n",
    "Используя функцию ```transform_coord```, обновите словарь ```gnss_geospider```, добавив в него соответствующие поля ```X_64``` и ```Y_64```:\n",
    "\n",
    "```python\n",
    "{\"name\": {...       \n",
    "         \"position\": {\"B\": float,\n",
    "                      \"L\": float,\n",
    "                      \"H\": float,\n",
    "                      \"coordinate system\": str,\n",
    "                      \"X_42\": float,\n",
    "                      \"Y_42\": float,\n",
    "                      \"X_64\": float,\n",
    "                      \"Y_64\": float}\n",
    "        }\n",
    " ...\n",
    "}\n",
    "```"
   ]
  },
  {
   "cell_type": "code",
   "execution_count": null,
   "metadata": {},
   "outputs": [],
   "source": []
  },
  {
   "cell_type": "markdown",
   "metadata": {},
   "source": [
    "***\n",
    "***"
   ]
  }
 ],
 "metadata": {
  "kernelspec": {
   "display_name": "Python 3 (ipykernel)",
   "language": "python",
   "name": "python3"
  },
  "language_info": {
   "codemirror_mode": {
    "name": "ipython",
    "version": 3
   },
   "file_extension": ".py",
   "mimetype": "text/x-python",
   "name": "python",
   "nbconvert_exporter": "python",
   "pygments_lexer": "ipython3",
   "version": "3.9.0"
  },
  "toc": {
   "base_numbering": 1,
   "nav_menu": {},
   "number_sections": true,
   "sideBar": true,
   "skip_h1_title": false,
   "title_cell": "Table of Contents",
   "title_sidebar": "Contents",
   "toc_cell": true,
   "toc_position": {},
   "toc_section_display": true,
   "toc_window_display": false
  }
 },
 "nbformat": 4,
 "nbformat_minor": 4
}
