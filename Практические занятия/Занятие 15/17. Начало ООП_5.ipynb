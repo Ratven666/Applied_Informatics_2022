{
 "cells": [
  {
   "cell_type": "markdown",
   "metadata": {
    "toc": true
   },
   "source": [
    "<h1>Table of Contents<span class=\"tocSkip\"></span></h1>\n",
    "<div class=\"toc\"><ul class=\"toc-item\"><li><span><a href=\"#Задачи-на-ООП\" data-toc-modified-id=\"Задачи-на-ООП-1\"><span class=\"toc-item-num\">1&nbsp;&nbsp;</span>Задачи на ООП</a></span></li><li><span><a href=\"#Задача-17-$\\star$\" data-toc-modified-id=\"Задача-17-$\\star$-2\"><span class=\"toc-item-num\">2&nbsp;&nbsp;</span>Задача 17 $\\star$</a></span><ul class=\"toc-item\"><li><span><a href=\"#Главное-задание\" data-toc-modified-id=\"Главное-задание-2.1\"><span class=\"toc-item-num\">2.1&nbsp;&nbsp;</span>Главное задание</a></span><ul class=\"toc-item\"><li><span><a href=\"#Дополнительно\" data-toc-modified-id=\"Дополнительно-2.1.1\"><span class=\"toc-item-num\">2.1.1&nbsp;&nbsp;</span>Дополнительно</a></span></li></ul></li></ul></li></ul></div>"
   ]
  },
  {
   "cell_type": "markdown",
   "metadata": {},
   "source": [
    "# Задачи на ООП"
   ]
  },
  {
   "cell_type": "markdown",
   "metadata": {},
   "source": [
    "# Задача 17 $\\star$\n",
    "\n",
    "## Главное задание\n",
    "\n",
    "**Раcсчитать и визуализировать деформации отсканированного резервуара из прошлого задания (файл сканирования находится в папке ```Задание 14\\src\\Chemical_Plant_Tank.txt```)**"
   ]
  },
  {
   "cell_type": "markdown",
   "metadata": {},
   "source": [
    "### Дополнительно\n",
    "\n",
    "* **Во всех рассчетах использовать отфильтрованное облако точек в котором удалено все лишнее - верх резервуара, точки на земле, лестница и тп.**\n",
    "\n",
    "\n",
    "* **Удалить лишние точки лучше черерз собственные классы ```Filter```, в крайнем случае - вручную.**\n",
    "* **Отфильтрованный скан лучше сереализовать в отдельный файл через модуль ```pickle``` и дальше работать уже с ним.**\n",
    "\n",
    "***\n",
    "\n",
    "* **Проектное положение резервуара математически описывается цилиндром с постоянным радиусом и вертикальной осью.**\n",
    "\n",
    "\n",
    "* **Проектное положение цилиндра можно рассчитать по МНК, вписав окружность в облако точек (в котором игнорируется отметки точек ```z```), высота цилиндра определяется оттметками $z_{min}$ и $z_{max}$ облака точек.**\n",
    "* **В крайнем случае, параметры положения проектного цилиндра можно определить в сторонних программных продуктах (ReCap, AutoCad и тп).**\n",
    "\n",
    "***\n",
    "\n",
    "* **Деформацию резервуара можно считать как разницу между горизонтальным проложением от точки скана до оси проектного положения резервуара и его радиусом.**\n",
    "\n",
    "\n",
    "* **Визуализировать деформации резервуара можно изменив цвет точек скана в соответствии с их деформацией.**"
   ]
  },
  {
   "cell_type": "code",
   "execution_count": null,
   "metadata": {},
   "outputs": [],
   "source": []
  },
  {
   "cell_type": "markdown",
   "metadata": {},
   "source": [
    "***\n",
    "***"
   ]
  }
 ],
 "metadata": {
  "kernelspec": {
   "display_name": "Python 3 (ipykernel)",
   "language": "python",
   "name": "python3"
  },
  "language_info": {
   "codemirror_mode": {
    "name": "ipython",
    "version": 3
   },
   "file_extension": ".py",
   "mimetype": "text/x-python",
   "name": "python",
   "nbconvert_exporter": "python",
   "pygments_lexer": "ipython3",
   "version": "3.9.0"
  },
  "toc": {
   "base_numbering": 1,
   "nav_menu": {},
   "number_sections": true,
   "sideBar": true,
   "skip_h1_title": false,
   "title_cell": "Table of Contents",
   "title_sidebar": "Contents",
   "toc_cell": true,
   "toc_position": {},
   "toc_section_display": true,
   "toc_window_display": false
  }
 },
 "nbformat": 4,
 "nbformat_minor": 4
}
