{
 "cells": [
  {
   "cell_type": "markdown",
   "metadata": {
    "toc": true
   },
   "source": [
    "<h1>Table of Contents<span class=\"tocSkip\"></span></h1>\n",
    "<div class=\"toc\"><ul class=\"toc-item\"><li><span><a href=\"#Задачи-на-арифметические-операторы\" data-toc-modified-id=\"Задачи-на-арифметические-операторы-1\"><span class=\"toc-item-num\">1&nbsp;&nbsp;</span>Задачи на арифметические операторы</a></span><ul class=\"toc-item\"><li><ul class=\"toc-item\"><li><span><a href=\"#Обозначения-операторов\" data-toc-modified-id=\"Обозначения-операторов-1.0.1\"><span class=\"toc-item-num\">1.0.1&nbsp;&nbsp;</span>Обозначения операторов</a></span></li><li><span><a href=\"#Приоретет-операторов\" data-toc-modified-id=\"Приоретет-операторов-1.0.2\"><span class=\"toc-item-num\">1.0.2&nbsp;&nbsp;</span>Приоретет операторов</a></span></li></ul></li><li><span><a href=\"#Задача-2.0\" data-toc-modified-id=\"Задача-2.0-1.1\"><span class=\"toc-item-num\">1.1&nbsp;&nbsp;</span>Задача 2.0</a></span></li><li><span><a href=\"#Задача-2.1\" data-toc-modified-id=\"Задача-2.1-1.2\"><span class=\"toc-item-num\">1.2&nbsp;&nbsp;</span>Задача 2.1</a></span></li><li><span><a href=\"#Задача-2.3\" data-toc-modified-id=\"Задача-2.3-1.3\"><span class=\"toc-item-num\">1.3&nbsp;&nbsp;</span>Задача 2.3</a></span></li><li><span><a href=\"#Задача-2.4\" data-toc-modified-id=\"Задача-2.4-1.4\"><span class=\"toc-item-num\">1.4&nbsp;&nbsp;</span>Задача 2.4</a></span></li><li><span><a href=\"#Задача-2.5\" data-toc-modified-id=\"Задача-2.5-1.5\"><span class=\"toc-item-num\">1.5&nbsp;&nbsp;</span>Задача 2.5</a></span></li><li><span><a href=\"#Задача-2.6\" data-toc-modified-id=\"Задача-2.6-1.6\"><span class=\"toc-item-num\">1.6&nbsp;&nbsp;</span>Задача 2.6</a></span></li><li><span><a href=\"#Задача-2.7\" data-toc-modified-id=\"Задача-2.7-1.7\"><span class=\"toc-item-num\">1.7&nbsp;&nbsp;</span>Задача 2.7</a></span></li><li><span><a href=\"#Задача-2.8\" data-toc-modified-id=\"Задача-2.8-1.8\"><span class=\"toc-item-num\">1.8&nbsp;&nbsp;</span>Задача 2.8</a></span></li><li><span><a href=\"#Задача-2.9\" data-toc-modified-id=\"Задача-2.9-1.9\"><span class=\"toc-item-num\">1.9&nbsp;&nbsp;</span>Задача 2.9</a></span></li></ul></li></ul></div>"
   ]
  },
  {
   "cell_type": "markdown",
   "metadata": {},
   "source": [
    "# Задачи на арифметические операторы"
   ]
  },
  {
   "cell_type": "markdown",
   "metadata": {},
   "source": [
    "### Обозначения операторов\n",
    "\n",
    "\n",
    "| **Оператор** |      **Значение**     | **Пример**  |\n",
    "|--------------|:---------------------:|-------------|\n",
    "|       +      |        Сложение       | 2 + 2 = 4   |\n",
    "|       -      |       Вычитание       | 4 - 2 = 2   |\n",
    "|       *      |       Умножение       | 2 * 2 = 4   |\n",
    "|       /      |        Деление        | 4 / 2 = 2.0 |\n",
    "|      **      |  Возведение в степень | 2 ** 3 = 8  |\n",
    "|       %      |   Остаток от деления  | 5 % 2 = 1   |\n",
    "|      //      | Целочисленное деление | 5 // 2 = 2  |\n",
    "\n",
    "### Приоретет операторов\n",
    "\n",
    "**Оператор**|**Название**\n",
    ":-----:|:-----:\n",
    "( )|Скобки\n",
    "**|Возведение в степень\n",
    "+x, -x, ~x|Унарные плюс, минус и битовое отрицание\n",
    "*, /, //, %|Умножение, деления, взятие остатка\n",
    "+, -|Сложение и вычитание\n",
    "<<, >>|Битовые сдвиги\n",
    "&|Битовое И\n",
    "^|Битовое исключающее ИЛИ (XOR)\n",
    "||Битовое ИЛИ\n",
    "==, !=, >, >=, <, <=, is, is not, in, not in|Сравнение, проверка идентичности, проверка вхождения\n",
    "not|Логическое НЕ\n",
    "and|Логическое И\n",
    "or|Логическое ИЛИ\n",
    "=|Операторы присваивания"
   ]
  },
  {
   "cell_type": "markdown",
   "metadata": {},
   "source": [
    "***\n",
    "***\n",
    "## Задача 2.0\n",
    "\n",
    "Посчитайте и выведите в консоль число ```googol```"
   ]
  },
  {
   "cell_type": "code",
   "execution_count": null,
   "metadata": {},
   "outputs": [],
   "source": []
  },
  {
   "cell_type": "markdown",
   "metadata": {},
   "source": [
    "***\n",
    "***\n",
    "## Задача 2.1\n",
    "\n",
    "С консоли считывается произволное **целое** число **z**.\n",
    "\n",
    "\n",
    "Вывелите в консоль модуль введенного числа.\n",
    "\n",
    "> Тип выведенного числа должен оставаться ```int```"
   ]
  },
  {
   "cell_type": "code",
   "execution_count": null,
   "metadata": {},
   "outputs": [],
   "source": []
  },
  {
   "cell_type": "markdown",
   "metadata": {},
   "source": [
    "***\n",
    "***\n",
    "## Задача 2.3\n",
    "\n",
    "С консоли считывается двузначное **целое** число **z**. \n",
    "\n",
    "* Умножте число его десятков на 2\n",
    "* Прибавте к этому произведению число 5\n",
    "* Умножте эту сумму на 5\n",
    "* К полученному произведению прибавте 10 и число единиц того числа, которое изначально ввели. \n",
    "* Вычтите из полученного результата число 35\n",
    "\n",
    "Выведите результат в консоль.\n",
    "\n",
    "> Постарайтесь сделать все вычисления в одну строку используя минимальное количество скобок."
   ]
  },
  {
   "cell_type": "code",
   "execution_count": null,
   "metadata": {},
   "outputs": [],
   "source": []
  },
  {
   "cell_type": "markdown",
   "metadata": {},
   "source": [
    "***\n",
    "***\n",
    "## Задача 2.4\n",
    "\n",
    "С консоли считывется **целое** число **z**. \n",
    "\n",
    "Выведите следующее за ним четное число."
   ]
  },
  {
   "cell_type": "code",
   "execution_count": null,
   "metadata": {},
   "outputs": [],
   "source": []
  },
  {
   "cell_type": "markdown",
   "metadata": {},
   "source": [
    "***\n",
    "***\n",
    "## Задача 2.5\n",
    "\n",
    "\n",
    "С консоли считывается угловой отсчет в виде дробного числа по шаблону вида - **ГГ.ММСС**\n",
    "\n",
    "Выведите в консоль значение отсчета:\n",
    "\n",
    "* В виде строки вида **ГГ град ММ мин СС сек**\n",
    "* В виде **десятичной дроби**\n",
    "* Переведя отсчет **в радианы**"
   ]
  },
  {
   "cell_type": "code",
   "execution_count": null,
   "metadata": {},
   "outputs": [],
   "source": []
  },
  {
   "cell_type": "markdown",
   "metadata": {},
   "source": [
    "***\n",
    "***\n",
    "\n",
    "## Задача 2.6\n",
    "\n",
    "С консоли считывется угловой отсчет **в виде десятичного числа**.\n",
    "\n",
    "Выведите в консоль значение отсчета в виде строки вида **ГГ град ММ мин СС сек**."
   ]
  },
  {
   "cell_type": "code",
   "execution_count": null,
   "metadata": {},
   "outputs": [],
   "source": []
  },
  {
   "cell_type": "markdown",
   "metadata": {},
   "source": [
    "Sample Input:\n",
    "12.5\n",
    "\n",
    "\n",
    "Sample Output:\n",
    "12 град 30 мин 00 сек"
   ]
  },
  {
   "cell_type": "markdown",
   "metadata": {},
   "source": [
    "***\n",
    "***\n",
    "\n",
    "## Задача 2.7\n",
    "\n",
    "С консоли считывется натуральное число **n**. \n",
    "\n",
    "С начала суток прошло **n минут**. \n",
    "\n",
    "Определите, сколько часов и минут будут показывать электронные часы в этот момент. \n",
    "\n",
    "Программа должна вывести два числа: количество часов (от 0 до 23) и количество минут (от 0 до 59). \n",
    "\n",
    "> Учтите, что число **n** может быть больше, чем количество минут в сутках."
   ]
  },
  {
   "cell_type": "code",
   "execution_count": null,
   "metadata": {},
   "outputs": [],
   "source": []
  },
  {
   "cell_type": "markdown",
   "metadata": {},
   "source": [
    "Sample Input:\n",
    "150\n",
    "\n",
    "\n",
    "Sample Output:\n",
    "2 30"
   ]
  },
  {
   "cell_type": "markdown",
   "metadata": {},
   "source": [
    "***\n",
    "***\n",
    "## Задача 2.8\n",
    "\n",
    "Напишите программу, которая считывает два натуральных числа **a** и **b** и выводит наибольшее значение из них.\n",
    "\n",
    "\n",
    "> **При решении задачи можно пользоваться только арифметическими операциями +, −, ∗, /, **, //, %.**\n",
    "\n",
    "***Нельзя пользоваться такими конструкциями как: ветвления, циклы, функции.***"
   ]
  },
  {
   "cell_type": "code",
   "execution_count": null,
   "metadata": {},
   "outputs": [],
   "source": []
  },
  {
   "cell_type": "markdown",
   "metadata": {},
   "source": [
    "***\n",
    "***\n",
    "## Задача 2.9\n",
    "\n",
    "В некоторой школе решили набрать три новых математических класса и оборудовать кабинеты для них новыми партами. \n",
    "За каждой партой может сидеть два учащихся. \n",
    "\n",
    "\n",
    "Известно количество учащихся в каждом из трех классов. \n",
    "\n",
    "\n",
    "**Выведите наименьшее число парт, которое нужно приобрести для них.**\n",
    "\n",
    "\n",
    "***Формат ввода***\n",
    "Вводятся  три натуральных числа: количество учащихся в каждом из трех классов.\n",
    "***Формат вывода***\n",
    "Выводится ответ на задачу.\n",
    "\n",
    "> Количество учеников может быть нечетным!"
   ]
  },
  {
   "cell_type": "code",
   "execution_count": null,
   "metadata": {},
   "outputs": [],
   "source": []
  },
  {
   "cell_type": "markdown",
   "metadata": {},
   "source": [
    "Sample Input:\n",
    "\n",
    "8\n",
    "\n",
    "6\n",
    "\n",
    "4\n",
    "\n",
    "\n",
    "Sample Output:\n",
    "\n",
    "9"
   ]
  }
 ],
 "metadata": {
  "kernelspec": {
   "display_name": "Python 3 (ipykernel)",
   "language": "python",
   "name": "python3"
  },
  "language_info": {
   "codemirror_mode": {
    "name": "ipython",
    "version": 3
   },
   "file_extension": ".py",
   "mimetype": "text/x-python",
   "name": "python",
   "nbconvert_exporter": "python",
   "pygments_lexer": "ipython3",
   "version": "3.9.0"
  },
  "toc": {
   "base_numbering": 1,
   "nav_menu": {},
   "number_sections": true,
   "sideBar": true,
   "skip_h1_title": false,
   "title_cell": "Table of Contents",
   "title_sidebar": "Contents",
   "toc_cell": true,
   "toc_position": {},
   "toc_section_display": true,
   "toc_window_display": false
  }
 },
 "nbformat": 4,
 "nbformat_minor": 4
}
