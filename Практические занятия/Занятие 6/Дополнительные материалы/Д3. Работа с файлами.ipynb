{
 "cells": [
  {
   "cell_type": "markdown",
   "metadata": {
    "toc": true
   },
   "source": [
    "<h1>Table of Contents<span class=\"tocSkip\"></span></h1>\n",
    "<div class=\"toc\"><ul class=\"toc-item\"><li><span><a href=\"#Файлы-в-python,-ввод-вывод\" data-toc-modified-id=\"Файлы-в-python,-ввод-вывод-1\"><span class=\"toc-item-num\">1&nbsp;&nbsp;</span>Файлы в python, ввод-вывод</a></span><ul class=\"toc-item\"><li><ul class=\"toc-item\"><li><span><a href=\"#Текстовые-файлы\" data-toc-modified-id=\"Текстовые-файлы-1.0.1\"><span class=\"toc-item-num\">1.0.1&nbsp;&nbsp;</span>Текстовые файлы</a></span></li><li><span><a href=\"#Бинарные-файлы\" data-toc-modified-id=\"Бинарные-файлы-1.0.2\"><span class=\"toc-item-num\">1.0.2&nbsp;&nbsp;</span>Бинарные файлы</a></span></li></ul></li><li><span><a href=\"#Открытие-/-Закрытие-файла\" data-toc-modified-id=\"Открытие-/-Закрытие-файла-1.1\"><span class=\"toc-item-num\">1.1&nbsp;&nbsp;</span>Открытие / Закрытие файла</a></span><ul class=\"toc-item\"><li><span><a href=\"#Метод-open()\" data-toc-modified-id=\"Метод-open()-1.1.1\"><span class=\"toc-item-num\">1.1.1&nbsp;&nbsp;</span>Метод <code>open()</code></a></span></li><li><span><a href=\"#Метод-close()\" data-toc-modified-id=\"Метод-close()-1.1.2\"><span class=\"toc-item-num\">1.1.2&nbsp;&nbsp;</span>Метод <code>close()</code></a></span></li></ul></li><li><span><a href=\"#Методы-файла-в-Python\" data-toc-modified-id=\"Методы-файла-в-Python-1.2\"><span class=\"toc-item-num\">1.2&nbsp;&nbsp;</span>Методы файла в Python</a></span></li><li><span><a href=\"#Пример-записи-файлов\" data-toc-modified-id=\"Пример-записи-файлов-1.3\"><span class=\"toc-item-num\">1.3&nbsp;&nbsp;</span>Пример записи файлов</a></span></li><li><span><a href=\"#Пример-чтения-файлов\" data-toc-modified-id=\"Пример-чтения-файлов-1.4\"><span class=\"toc-item-num\">1.4&nbsp;&nbsp;</span>Пример чтения файлов</a></span></li></ul></li><li><span><a href=\"#Менеджер-контекста\" data-toc-modified-id=\"Менеджер-контекста-2\"><span class=\"toc-item-num\">2&nbsp;&nbsp;</span>Менеджер контекста</a></span></li></ul></div>"
   ]
  },
  {
   "cell_type": "markdown",
   "metadata": {},
   "source": [
    "# Файлы в python, ввод-вывод"
   ]
  },
  {
   "cell_type": "markdown",
   "metadata": {},
   "source": [
    "Файл — это набор данных, сохраненный в виде последовательности битов на компьютере. Информация хранится в куче данных (структура данных ```heap```) и имеет название «имя файла» (```filename```).\n",
    "\n",
    "В ```Python``` существует два класса файлов:\n",
    "\n",
    "* Текстовые\n",
    "* Бинарные"
   ]
  },
  {
   "cell_type": "markdown",
   "metadata": {},
   "source": [
    "### Текстовые файлы\n",
    "\n",
    "Это файлы с человекочитаемым содержимым. В них хранятся последовательности символов, которые понимает человек. Блокнот и другие стандартные редакторы умеют читать и редактировать этот тип файлов.\n",
    "\n",
    "Текст может храниться в двух форматах: (```.txt```) — простой текст и (```.rtf```) — «формат обогащенного текста»."
   ]
  },
  {
   "cell_type": "markdown",
   "metadata": {},
   "source": [
    "### Бинарные файлы\n",
    "\n",
    "В бинарных файлах данные отображаются в закодированной форме (с использованием только нулей (```0```) и единиц (```1```) вместо простых символов). В большинстве случаев это просто последовательности битов.\n",
    "\n",
    "Обычно они хранятся в формате ```.bin```."
   ]
  },
  {
   "cell_type": "markdown",
   "metadata": {},
   "source": [
    "**Любую операцию с файлом можно разбить на три крупных этапа:**\n",
    "\n",
    "* Открытие файла\n",
    "* Выполнение операции (запись, чтение)\n",
    "* Закрытие файла"
   ]
  },
  {
   "cell_type": "markdown",
   "metadata": {},
   "source": [
    "## Открытие / Закрытие файла\n",
    "\n",
    "### Метод ```open()```\n",
    "\n",
    "В ```Python``` есть встроенная функция ```open()```. С ее помощью можно открыть любой файл на компьютере. Технически ```Python``` создает на его основе объект.\n",
    "\n",
    "Синтаксис следующий:\n",
    "\n",
    "```python\n",
    "f = open(file_name, access_mode)\n",
    "```\n",
    "\n",
    "Где,\n",
    "\n",
    "* ```file_name``` - имя открываемого файла\n",
    "* ```access_mode``` - режим открытия файла. Он может быть: для чтения, записи и т. д. По умолчанию используется режим чтения (```r```), если другое не указано. Далее полный список режимов открытия файла"
   ]
  },
  {
   "cell_type": "markdown",
   "metadata": {},
   "source": [
    "| **Режим** |                                                          **Описание**                                                          |\n",
    "|:---------:|:------------------------------------------------------------------------------------------------------------------------------:|\n",
    "|    _r_    | Только для чтения.                                                                                                             |\n",
    "|    _w_    | Только для записи. Создаст новый файл, если не найдет с указанным именем.                                                      |\n",
    "|    _rb_   | Только для чтения (бинарный).                                                                                                  |\n",
    "|    _wb_   | Только для записи (бинарный). Создаст новый файл, если не найдет с указанным именем.                                           |\n",
    "|    _r+_   | Для чтения и записи.                                                                                                           |\n",
    "|   _rb+_   | Для чтения и записи (бинарный).                                                                                                |\n",
    "|    _w+_   | Для чтения и записи. Создаст новый файл для записи, если не найдет с указанным именем.                                         |\n",
    "|   _wb+_   | Для чтения и записи (бинарный). Создаст новый файл для записи, если не найдет с указанным именем.                              |\n",
    "|    _a_    | Откроет для добавления нового содержимого. Создаст новый файл для записи, если не найдет с указанным именем.                   |\n",
    "|    _a+_   | Откроет для добавления нового содержимого. Создаст новый файл для чтения записи, если не найдет с указанным именем.            |\n",
    "|    _ab_   | Откроет для добавления нового содержимого (бинарный). Создаст новый файл для записи, если не найдет с указанным именем.        |\n",
    "|   _ab+_   | Откроет для добавления нового содержимого (бинарный). Создаст новый файл для чтения записи, если не найдет с указанным именем. |"
   ]
  },
  {
   "cell_type": "code",
   "execution_count": null,
   "metadata": {},
   "outputs": [],
   "source": [
    "help(open)"
   ]
  },
  {
   "cell_type": "markdown",
   "metadata": {},
   "source": [
    "### Метод ```close()```\n",
    "\n",
    "**После открытия файла в ```Python``` его нужно закрыть**. \n",
    "\n",
    "Таким образом освобождаются ресурсы и убирается мусор. ```Python``` автоматически закрывает файл, когда объект присваивается другому файлу.\n",
    "\n",
    "Проще всего после открытия файла закрыть его, используя метод ```close()```.\n",
    "\n",
    "```python\n",
    "f = open('example.txt','r')\n",
    "# работа с файлом\n",
    "f.close()\n",
    "```\n",
    "\n",
    "После закрытия этот файл нельзя будет использовать до тех пор, пока заново его не открыть."
   ]
  },
  {
   "cell_type": "markdown",
   "metadata": {},
   "source": [
    "## Методы файла в Python"
   ]
  },
  {
   "cell_type": "markdown",
   "metadata": {},
   "source": [
    "|          **_Метод_**          |                                            **_Описание_**                                            |\n",
    "|:-----------------------------:|:----------------------------------------------------------------------------------------------------:|\n",
    "|        **file.close()**       |                                     **_закрывает открытый файл_**                                    |\n",
    "|         file.fileno()         |                              _возвращает целочисленный дескриптор файла_                             |\n",
    "|          file.flush()         |                                      _очищает внутренний буфер_                                      |\n",
    "|         file.isatty()         |                           _возвращает True, если файл привязан к терминалу_                          |\n",
    "|          file.next()          |                                  _возвращает следующую строку файла_                                 |\n",
    "|        **file.read(n)**       |                                 **_чтение первых n символов файла_**                                 |\n",
    "|      **file.readline()**      |                              **_читает одну строчку строки или файла_**                              |\n",
    "|      **file.readlines()**     |                          **_читает и возвращает список всех строк в файле_**                         |\n",
    "|   file.seek(offset[,whene])   |                                _устанавливает текущую позицию в файле_                               |\n",
    "|        file.seekable()        |             _проверяет, поддерживает ли файл случайный доступ. Возвращает True, если да_             |\n",
    "|          file.tell()          |                                 _возвращает текущую позицию в файле_                                 |\n",
    "|        file.truncate(n)       | _уменьшает размер файл. Если n указала, то файл обрезается до n байт, если нет — до текущей позиции_ |\n",
    "|      **file.write(str)**      |                                   **_добавляет строку str в файл_**                                  |\n",
    "| **file.writelines(sequence)** |                            **_добавляет последовательность строк в файл_**                           |"
   ]
  },
  {
   "cell_type": "markdown",
   "metadata": {},
   "source": [
    "## Пример записи файлов"
   ]
  },
  {
   "cell_type": "markdown",
   "metadata": {},
   "source": [
    "Файл создается уже в конкретной директории. Если указанной папки не существует - будет вызвано исключение.\n",
    "\n",
    "Код ниже проверяет существование директории ```write``` в ```src``` и при ее отсутствии создает ее."
   ]
  },
  {
   "cell_type": "code",
   "execution_count": null,
   "metadata": {},
   "outputs": [],
   "source": [
    "import os\n",
    "if not os.path.exists(r'..\\src\\write'):\n",
    "    os.mkdir(r'..\\src\\write')"
   ]
  },
  {
   "cell_type": "markdown",
   "metadata": {},
   "source": [
    "Код ниже создаст файл ```ex1.txt``` в папке ```src\\write\\``` и запишет в него текст \"Текст 1\""
   ]
  },
  {
   "cell_type": "code",
   "execution_count": null,
   "metadata": {},
   "outputs": [],
   "source": [
    "file = open(r\"..\\src\\write\\ex1.txt\", \"w+\")\n",
    "file.write(\"Текст 1\")\n",
    "file.close()\n",
    "# Текст 1"
   ]
  },
  {
   "cell_type": "markdown",
   "metadata": {},
   "source": [
    "Код ниже перезапишет целиком файл ```ex1.txt``` в папке ```src\\write\\``` и запишет в него текст \"Текст 2\""
   ]
  },
  {
   "cell_type": "code",
   "execution_count": null,
   "metadata": {},
   "outputs": [],
   "source": [
    "file = open(r\"..\\src\\write\\ex1.txt\", \"w+\")\n",
    "file.write(\"Текст 2\")\n",
    "file.close()\n",
    "# Текст 2"
   ]
  },
  {
   "cell_type": "markdown",
   "metadata": {},
   "source": [
    "Код ниже откроет файл ```ex1.txt``` в папке ```src\\write\\``` для дозаписи и запишет в его конец текст \"Текст 3\""
   ]
  },
  {
   "cell_type": "code",
   "execution_count": null,
   "metadata": {},
   "outputs": [],
   "source": [
    "file = open(r\"..\\src\\write\\ex1.txt\", \"a\")\n",
    "file.write(\"Текст 3\")\n",
    "file.close()\n",
    "# Текст 2Текст 3"
   ]
  },
  {
   "cell_type": "markdown",
   "metadata": {},
   "source": [
    "Код ниже откроет файл ```ex1.txt``` для перезаписи в бинарном формате\n",
    "\n",
    "При попытке записи строки - выдаст ошибку, потому что записывается строка, а не поток байт\n",
    "\n",
    "> Обратите внимание, что содержимое файла все равно стерто!\n",
    "\n",
    "> **ВАЖНО!!!** Поток на чтение файла остался открытым, так как программа была прервана необработанным исключением - попробуйте удалить этот файл...\n",
    "\n",
    "*(Чтобы в итоге удалить его можно перезагрузить ядро блокнота, или выполнить одну из предыдущих ячеек)*"
   ]
  },
  {
   "cell_type": "code",
   "execution_count": null,
   "metadata": {},
   "outputs": [],
   "source": [
    "file = open(r\"..\\src\\write\\ex1.txt\", \"wb\")\n",
    "file.write(\"Текст 4\") ## ОШИБКА TypeError: a bytes-like object is required, not 'str' \n",
    "file.close()"
   ]
  },
  {
   "cell_type": "markdown",
   "metadata": {},
   "source": [
    "Код ниже создаст и откроет файл ```ex2.txt``` для перезаписи в бинарном формате.\n",
    "В результате в папке ```src``` будет создано избражение"
   ]
  },
  {
   "cell_type": "code",
   "execution_count": null,
   "metadata": {},
   "outputs": [],
   "source": [
    "file = open(r\"..\\src\\write\\ex2.jpg\", \"wb\")\n",
    "file.write(b'\\xff\\xd8\\xff\\xe0\\x00\\x10JFIF\\x00\\x01\\x01\\x01\\x00H\\x00H\\x00\\x00\\xff\\xdb\\x00C\\x00\\x01\\x01\\x01\\x01\\x01\\x01\\x01\\x01\\x01\\x01\\x01\\x01\\x01\\x02\\x02\\x03\\x02\\x02\\x02\\x02\\x02\\x04\\x03\\x03\\x02\\x03\\x05\\x04\\x05\\x05\\x05\\x04\\x04\\x04\\x05\\x06\\x07\\x06\\x05\\x05\\x07\\x06\\x04\\x04\\x06\\t\\x06\\x07\\x08\\x08\\x08\\x08\\x08\\x05\\x06\\t\\n\\t\\x08\\n\\x07\\x08\\x08\\x08\\xff\\xdb\\x00C\\x01\\x01\\x01\\x01\\x02\\x02\\x02\\x04\\x02\\x02\\x04\\x08\\x05\\x04\\x05\\x08\\x08\\x08\\x08\\x08\\x08\\x08\\x08\\x08\\x08\\x08\\x08\\x08\\x08\\x08\\x08\\x08\\x08\\x08\\x08\\x08\\x08\\x08\\x08\\x08\\x08\\x08\\x08\\x08\\x08\\x08\\x08\\x08\\x08\\x08\\x08\\x08\\x08\\x08\\x08\\x08\\x08\\x08\\x08\\x08\\x08\\x08\\x08\\x08\\x08\\xff\\xc0\\x00\\x11\\x08\\x002\\x002\\x03\\x01\\x11\\x00\\x02\\x11\\x01\\x03\\x11\\x01\\xff\\xc4\\x00\\x1e\\x00\\x00\\x01\\x04\\x02\\x03\\x01\\x00\\x00\\x00\\x00\\x00\\x00\\x00\\x00\\x00\\x00\\x00\\x01\\x07\\t\\n\\x06\\x08\\x02\\x03\\x04\\x05\\xff\\xc4\\x00-\\x10\\x00\\x01\\x03\\x03\\x04\\x02\\x01\\x03\\x03\\x05\\x01\\x00\\x00\\x00\\x00\\x00\\x01\\x02\\x03\\x04\\x05\\x06\\x11\\x00\\x07\\x08\\x12\\x131!\\x14\"Q\\x152A\\t#3Ba\\xb1\\xff\\xc4\\x00\\x1d\\x01\\x00\\x01\\x03\\x05\\x01\\x00\\x00\\x00\\x00\\x00\\x00\\x00\\x00\\x00\\x00\\x00\\x00\\x01\\x05\\x08\\x02\\x04\\x06\\x07\\t\\x03\\xff\\xc4\\x005\\x11\\x00\\x01\\x02\\x04\\x05\\x03\\x01\\x05\\x06\\x07\\x00\\x00\\x00\\x00\\x00\\x00\\x01\\x02\\x11\\x00\\x03\\x04\\x05\\x06\\x12!1A\\x07Qa\"\\x13\\x142q\\x81\\x15BR\\x91\\xb1\\xc1\\x08\\x16#3\\xa1\\xd1\\xf0\\xff\\xda\\x00\\x0c\\x03\\x01\\x00\\x02\\x11\\x03\\x11\\x00?\\x00\\xbf\\xc6\\x88 \\xc8\\xfc\\xe8\\x82<\\xb2\\xdfLx\\xef\\xc8\\xca0\\x84)d\\xab8\\x18\\x19\\xf9 \\x13\\x8dy\\xcdS\\x070\\x04\\xb9hl6>\\xfe\\x9b\\xb9\\xdbUe_\\xd54R\\xd9\\x9dS\\x8a_u0\\x83\\x81\\x84\\x90\\xe2\\x93\\x84\\xf9\\x00P\\xfd\\xbf9\\xfes\\x8c\\x8c\\x1d0a[\\xdf\\xda4\\x12\\xab4\\xf5\\x87\\xd1\\xdbr9\\xd7\\x88q\\xbb\\xd0\\xfb\\xb5J\\xa4~\\x1f\\xf5\\x0e\\xceA\\xf4A\\xd6F\\xf0\\xdd\\x06\\x88 \\xd1\\x04\\x1a\\t\\x82:\\xdcPJI?\\x03\\xff\\x005A\"\\x08\\xacg+\\xb7\\xb7\\x93\\xf6\\xd737^[\\x97\\x15Y\\xa96\\xb4\\xb5\\xbfh\\xd1\\xe4:\\xf2i\\xc8\\x8c[\\x0eE|GmIK\\xa8X\\t\\x0e9\\xf2\\xa0\\xa5\\x91\\x94\\x8dA\\xbe\\xadc\\x0b\\xad& )\\x9b9IL\\xb5\\x82\\x90\\xec\\x9c\\xbci\\xcb\\xf9\\xde$\\x16\\x10\\xb1\\xd0\\xcd\\xb5\\xa4\\xa5 \\x95\\x86Q\\xdc\\xbf?\\x94k%K{\\xf9+G\\xaam\\xadb\\xc0\\xaf\\xd6\\xed\\xdb\\xb2\\x9b16\\xfd\\xb0\\xc5\\r\\xc7\\x90*\\x11|\\xb9e\\x97#)E\\x12{\\xb8\\xeb\\x9d\\xd2S\\xd7\\xefG\\xc2I\\xd6\\x11\\x86q\\x9d\\xcf\\xdf\\xe4\\x8a\\x19\\xaa\\xcc\\x94\\xa5 \\x07c\\xa9,\\xdbjN\\xb1\\x91WXhL\\x89\\x9e\\xdd\\x00\\x82\\xea$\\xee4g\\x07\\xe9\\x17\\x00\\xa4.{\\x94\\xe8*\\xaa!\\x86\\xea\\x9e\\x16\\xfe\\xa5-\\x1c\\xa1/u\\x1d\\xc2O\\xe0+:\\xe8\\xbc\\x95+ +\\xdf\\x9f\\x9f1\\x17V\\x03\\x9c\\xbbG\\xd2\\xd7\\xb01L\\x1aX!\\x0f\\xafY\\xd2\\x18\\x0cCG\\xf5\\x03\\xe5\\xbdv4\\x8d\\xca\\xe3e\\xabK\\x9bI\\x9c\\xd7\\xe9e\\xda\\xc33|Jy\\xb5\\'\\xce\\xf4p\\x9cv\\x05I,\\xa5%>\\xf2\\xb0}\\x8dA\\xef\\xe2G\\xae\\x13)\\x97Q\\x85iR\\xa4M!\\r0\\x1e\\x0f\\xa9A\\xb7\\xd7@\\x1br\\xf1gSP\\x90\\xe8<\\xf8\\x86\\x86\\xd2\\xe3^\\xda\\xee%\\xe9e\\xdb[\\xff\\x00\\xb8\\xb7\\xdc]\\xf2\\x98\\xca\\xa3Lz\\x1dAU\\x06P\\xfa\\x94\\xa7\\x18\\x8b!\\xf7\\xf3\\xe2\\x94\\x10\\xb5\\'\\xc6\\xdaJQ\\xe9K\\n_P\\xcb\\x850]\\x1dt\\xda{>$\\xae_\\xdaK\\x05D\\x03\\x9f}R\\x95(\\xfc*\\xcb\\xf7\\x06\\x83\\xbb\\x98\\xda\\xd8J\\xba\\xe9n\\xb5*\\xa52\\x82\\x90K\\xb9%\\xfbh;C\\x8f\\xbb\\x9c\\r\\xd8}\\x96\\x99h]\\x12/-\\xc15\\x97\\x9ey\\x8a<\\xb9N}<\\x083\\xd2\\xc2\\x8b\\x0eJ\\x97\\x1d!q\\xd2\\x95\\xa8)*\\t^\\n\\t#\\xa8Q\\x19\\xbe)\\xe8\\xed\\xaa\\xc3(MER\\xd0\\xb9\\x99\\x92\\x85\\x1fJR\\xb2=9\\x96\\x90\\xe8s\\xb2\\xbb\\xe9\\xb4{\\xcf\\xc5w\\x0b\\xbd$\\xeaYh\\x0f\\x95\\xf4$)\\xbc\\x0e|\\xc3[\\xc6\\xfeS\\xeeW\\x1a\\xf7\\x06\\xf8\\xdb\\r\\xd9\\x8bY\\xbc\\xe7\\xd4\\xee\\x8at7\\xd7\"\\xaed\\x1ak\\x9eO\\x04\\x87\\xc1VK\\x9d\\xd0Y( \\xe1]A\\xf5\\x83\\xadC\\xd2\\xae\\xb5\\\\\\xb0\\xc5\\xcau\\x8e\\xfd\\x9e|\\xe9\\x93R\\x92\\xea\\'!|\\xaa/\\xce`A\\r\\xa1g\\x8d=\"~S\\xec\\xd7\\xaa\\xa2\\xc0\\t9\\xcf\\xfc8\\xd7H\\x848B\\xe9`\\x8e+ $\\x93\\x80\\x07\\xc9\\xd2*\\x08\\xae%\\x97c\\xdf[\\x93\\xccW\\xe8\\xdb\\x85{\\xc0\\x8fwF\\x9d\"\\x9d\\x16\\xe0\\x96\\x96\\xa5\\x87\\xd4\\x96]r\\x08\\x8f\\x8c\\xa5\\xf2[\\xea\\xa4\\xb8~\\xe4$\\x0f\\xb9*JF\\xb9\\x83o\\xb1\\xdd\\xaex\\xf7\\xddn\\xf5\\x08\\xcc\\x95\\x14\\xa6a\\xca\\xa2tQ\\x96\\x13\\xf8\\x8fg\\xd9\\xb5\\xd4E\\x14sL\\xba\\xa4\\xaap\\nBH-\\xdcn\\xd1\\xbd\\xb4\\xbd\\x89\\xdc\\x8e0\\xb1F\\xdf\\x97\\x1e\\xb7\\xaf\\x99t\\xa4\\xcar\\xe1\\xa56\\t\\xfax+\\xff\\x00#\\xf1\\xa49\\x85-\\xd0\\x9c\\xadJ)\\n\\xf9 v\\x05y\\x906\\x1e\\x94\\xdcpz\\x86#\\x0b\\x15SFol\\x9er\\x92\\xe5HQ\\xd70\\x1a\\x97\\xdfh\\xdb\\xd5\\xf8\\xaa\\x9e\\xee\\r\\xb9\\xbd\\x92Kd>x\\n\\x03\\x83\\xc7hs\\xa1\\xd5j\\\\\\xd5\\xadt\\x88\\x8a\\xa5\\xb9\\xc7JD\\xa4\\xfd@Q\\xf1M\\xb8\\xa7\\xa0\\x05x\\x97\\x82T\\xc2\\x1b\\xec\\t\\x1f\\xb8\\x12?\\xd8\\x8f\\x1et\\x99\\xff\\x00\\xcf\\x8a(H)\\xb5 \\x87;\\x19\\xca\\x1a\\xb7t\\xa1\\'~I\\x86eJ\\xfb\\x04f,j\\x94>a\\x03\\xbf\\x92x\\x88\\xd1\\xe6v\\xdb\\\\\\xdb=\\xba6\\x81\\xa4H\\x8dW\\x9dDm\\x87m\\xd9HKnT>\\x94\\xc8&\\x1a\\xa4 \\x8c:\\xa6]\\x1fN\\x95,\\x11\\xd5\\xa6N\\x00\\xf5\\x14\\xfa\\xfb\\x86\\xeb,\\xd7\\xbaU\\xdb\\x96\\x95M@NR[\\xda0SK*\\x7f\\x89\\x8f\\xa31\\xe0\\x07\\x8c\\x1e\\xfdT\\'\\xcfML\\x80\\x02\\xd5\\xf1\\r\\xb5\\xd9\\xc7\\x83\\xfa\\xc4\\xf0\\xec\\xabW\\x13\\x1bK\\xb7L]\\xd5\\xa6\\xee+\\xa9\\x14x\\xa8\\xa9ML\\x94\\xc8\\x12%\\x06\\xc7\\x94\\xf9RHY\\xed\\xd8\\x15\\x02rA\\xd7A\\xb0<\\xba\\xa4\\xda)\\x93[3\\xdaN\\x08Ne\\x02\\xee\\xa6\\xd4\\xb8\\xdfX\\xb4H`\\xdb\\xc3\\x9f\\xac\\xaa\\x16\\x11Y\\xc7\\xc7\\xbd!\\xda\\x08\\xae\\x97\"\\xac\\xfbk\\x88\\\\\\x9a\\x87zm\\x9d\\xd3n\\\\\\x8e!\\xc9\\xb5\\xa8\\x94E\\xf4S\\x96\\xf5Ac!\\xa9=U\\x957\\xfd\\xe0\\xe2\\x12B\\x14@\\xc18\\x1d\\x8f0\\xfa\\xb7`\\xa0\\xc0\\xd8\\xae]\\xda\\xd8\\xb15d\\xa9i\\x96H\\xfe\\x9a\\xf8\\xcc\\x06\\xb9K\\x96\\xd8\\xf1\\r\\x93\\xd1.Z\\x82\\xc0u~\\x9f>Z$\\x0e\\xde\\xaf]\\xfc\\xe1]\\xaa\\x0c\\xa8\\x16\\xc6\\xc6\\xc7\\x87\\x12}e\\x9amA.\\xc8\\x9d8\\x8c\\xaa#\\xb8=\\xdaR\\x16\\x95a*\\x00\\x04up\\x15\\xa9H\\xf1\\xca\\x0bm\\xca\\xab\\xa8\\x12\\xe4\\x94\\xa8K\\xb6\\xe5J\\xa6\\x04\\xa9\\xd6\\xa5\\xf3-M\\xaa@#W\\xdcF\\xc2\\xb1]\\xe8\\xe8\\xe9=\\xea_\\xaa\\xa5N\\x03\\xec\\x8f>Oh\\xc876\\xc2\\xaeqr\\xe1ox6I\\x8a]/o\\xe4-\\xa6.Ky\\xf7\\xd3\\x1e\\x9e\\xd0\\xce\\x03\\xe1J 6\\x93\\xf3\\x95\\x8c\\xa9\\x0bV@ZV\\xa4i\\xcf\\x14\\xd9*p\\xa5X\\xbc\\xd8\\xf2\\xa6\\x95D\\t\\xf2\\x94\\xac\\xa8\\x03a1$\\xfc$s\\xdf\\xb4^S\\xde\\xe9\\xab\\xe9\\x95OtS-.R\\xbe|\\xa4\\xf7\\xf1\\x11s{_\\xf09\\xbd\\xc8;]\\x8b\\xb6\\xe1\\xb6v\\x8a\\x94\\xe3\\xd2\\xe9\\xbf\\xa9>\\xb4\\xa9\\xb4R\\xd2\\xae\\xcc\\xb7\\x95\\x94\\x83$\\x92\\xe2\\x02\\xc9\\tQy?h\\t\\xc2\\xa1\\x9d\\xdf\\x10\\xd2u\\x1b\\x16IMr\\x85*ARB\\xdc\\x7fl\\x17@\\xd7\\xef\\x92O\\x8d|F\\xae\\x05\\x13\\xa6z\\x92\\xcd\\xce\\xdf/\\xacX\\xa6\\xca\\xb4\\xa8\\xb6\\x15\\xa5nYV\\xe4s\\x12\\x85J\\x86\\xd4\\x08\\x8d\\x92\\tKM\\xa4$v#\\x19Q\\xc6I\\xfeI:\\xe9\\xfd\\x82\\xcb\"\\xddE*\\x82\\x944\\xb9I\\t\\x1f \\x1b\\xf3\\xef\\x0e\\x89\\x00\\x06\\x11\\x94i\\xde*\\x83Hv\\x8253\\x93<]\\xda\\xdd\\xeb\\xb6n:\\xd5[mb\\xdc\\xdb\\x8a\\xdc\\x05\\x8ad\\xa8\\xb2\\x13\\n[\\x92\\x12\\x0f\\x88\\x17\\x94Cj\\xc1\\xf5\\xe5\\nH\\x19\\x1a\\xd3}P\\xe9\\x1d\\x9a\\xfbO6\\xa6}(\\x99T\\x10BT\\x93\\x91gM\\x06m\\xb7\\xdb3\\x88\\xf2\\\\\\xa4\\x92\\xed\\xaf\\xfd\\xccC\\x96\\xddq?\\x9c;ws\\xbb.\\xdd\\xb0\\xae\\xfbN\\x93\"\\n\\xdby\\xca5\\xc4\\xc4R\\xeb\\xc9q\\x1d\\x12\\xe3m\\xc8FS\\xd4\\xb8RI#\\xde\\xa0\\xd6\\x1b\\xe8\\x97Qm2\\x956\\xd6\\x95\\xcaZ\\xcb\\x10&$\\x16\\x1b\\x12\\xc5\\x8f\\x8f\\xda=\\xedr\\x11)%su\\'F:\\xfd\\x7fm\\xe3!\\xdc\\xfe6\\xf3\\xca\\xfe\\x8d@\\xa3\\xd4\\xedm\\xc3\\xbaih\\x92\\xb9\\x12\\xd8\\xaa],\\xbb\\x1d\\x01,\\x92\\x95x\\xdc\\x92\\xb0\\xa5\\xf7\\x18H\\xc6~\\xef~\\xf5}y\\xe9\\x07S\\xae\\xb4\\xab\\xa7\\xba\\x95\\xccJYA&` \\x91\\xe1\\xd9\\xfb~\\xc6*\\xa9BgJP\\xd1*\\x0cC>\\xbc\\x11\\xfe_\\xe9\\xde7\\xdf\\x86\\x1c-\\xb2\\xf6\\xfe\\xd2\\xa5]\\xfb\\xa5\\xb4Q)\\xdb\\xc8\\xd4\\xb5\\xadON\\x94\\xdc\\xa46\\x84\\x9c\\xb4\\xb6YmE\\xa6\\xfa\\x85\\x1cv\\nXVOo\\x90\\x04\\x91\\xe8gAm\\xf6\\xdb|\\x8a\\xcb\\xc5\\x13W$\\x92\\xebP[\\x1e\\x08\\x00\\xe5\\x1e7#\\xbcYH\\xa7HH\\n\\x1a\\x8e\\xfa\\xc4\\x94jT\\xa6.`\\xd5PA\\xa2\\x084A\\t\\x81\\xf8\\x1aF\\x10A\\x81\\xf8\\x1a\\x1a\\x08],\\x10h\\x82\\r\\x10G\\xff\\xd9')\n",
    "file.close()"
   ]
  },
  {
   "cell_type": "markdown",
   "metadata": {},
   "source": [
    "Код ниже создаст и откроет файл ```ex3.jpg``` для перезаписи в бинарном формате.\n",
    "В результате в папке ```src``` будет создано избражение содержщее в себе только первую свою половину"
   ]
  },
  {
   "cell_type": "code",
   "execution_count": null,
   "metadata": {},
   "outputs": [],
   "source": [
    "file = open(r\"..\\src\\write\\ex3.jpg\", \"wb\")\n",
    "file.write(b'\\xff\\xd8\\xff\\xe0\\x00\\x10JFIF\\x00\\x01\\x01\\x01\\x00H\\x00H\\x00\\x00\\xff\\xdb\\x00C\\x00\\x01\\x01\\x01\\x01\\x01\\x01\\x01\\x01\\x01\\x01\\x01\\x01\\x01\\x02\\x02\\x03\\x02\\x02\\x02\\x02\\x02\\x04\\x03\\x03\\x02\\x03\\x05\\x04\\x05\\x05\\x05\\x04\\x04\\x04\\x05\\x06\\x07\\x06\\x05\\x05\\x07\\x06\\x04\\x04\\x06\\t\\x06\\x07\\x08\\x08\\x08\\x08\\x08\\x05\\x06\\t\\n\\t\\x08\\n\\x07\\x08\\x08\\x08\\xff\\xdb\\x00C\\x01\\x01\\x01\\x01\\x02\\x02\\x02\\x04\\x02\\x02\\x04\\x08\\x05\\x04\\x05\\x08\\x08\\x08\\x08\\x08\\x08\\x08\\x08\\x08\\x08\\x08\\x08\\x08\\x08\\x08\\x08\\x08\\x08\\x08\\x08\\x08\\x08\\x08\\x08\\x08\\x08\\x08\\x08\\x08\\x08\\x08\\x08\\x08\\x08\\x08\\x08\\x08\\x08\\x08\\x08\\x08\\x08\\x08\\x08\\x08\\x08\\x08\\x08\\x08\\x08\\xff\\xc0\\x00\\x11\\x08\\x002\\x002\\x03\\x01\\x11\\x00\\x02\\x11\\x01\\x03\\x11\\x01\\xff\\xc4\\x00\\x1e\\x00\\x00\\x01\\x04\\x02\\x03\\x01\\x00\\x00\\x00\\x00\\x00\\x00\\x00\\x00\\x00\\x00\\x00\\x01\\x07\\t\\n\\x06\\x08\\x02\\x03\\x04\\x05\\xff\\xc4\\x00-\\x10\\x00\\x01\\x03\\x03\\x04\\x02\\x01\\x03\\x03\\x05\\x01\\x00\\x00\\x00\\x00\\x00\\x01\\x02\\x03\\x04\\x05\\x06\\x11\\x00\\x07\\x08\\x12\\x131!\\x14\"Q\\x152A\\t#3Ba\\xb1\\xff\\xc4\\x00\\x1d\\x01\\x00\\x01\\x03\\x05\\x01\\x00\\x00\\x00\\x00\\x00\\x00\\x00\\x00\\x00\\x00\\x00\\x00\\x01\\x05\\x08\\x02\\x04\\x06\\x07\\t\\x03\\xff\\xc4\\x005\\x11\\x00\\x01\\x02\\x04\\x05\\x03\\x01\\x05\\x06\\x07\\x00\\x00\\x00\\x00\\x00\\x00\\x01\\x02\\x11\\x00\\x03\\x04\\x05\\x06\\x12!1A\\x07Qa\"\\x13\\x142q\\x81\\x15BR\\x91\\xb1\\xc1\\x08\\x16#3\\xa1\\xd1\\xf0\\xff\\xda\\x00\\x0c\\x03\\x01\\x00\\x02\\x11\\x03\\x11\\x00?\\x00\\xbf\\xc6\\x88 \\xc8\\xfc\\xe8\\x82<\\xb2\\xdfLx\\xef\\xc8\\xca0\\x84)d\\xab8\\x18\\x19\\xf9 \\x13\\x8dy\\xcdS\\x070\\x04\\xb9hl6>\\xfe\\x9b\\xb9\\xdbUe_\\xd54R\\xd9\\x9dS\\x8a_u0\\x83\\x81\\x84\\x90\\xe2\\x93\\x84\\xf9\\x00P\\xfd\\xbf9\\xfes\\x8c\\x8c\\x1d0a[\\xdf\\xda4\\x12\\xab4\\xf5\\x87\\xd1\\xdbr9\\xd7\\x88q\\xbb\\xd0\\xfb\\xb5J\\xa4~\\x1f\\xf5\\x0e\\xceA\\xf4A\\xd6F\\xf0\\xdd\\x06\\x88 \\xd1\\x04\\x1a\\t\\x82:\\xdcPJI?\\x03\\xff\\x005A\"\\x08\\xacg+\\xb7\\xb7\\x93\\xf6\\xd737^[\\x97\\x15Y\\xa96\\xb4\\xb5\\xbfh\\xd1\\xe4:\\xf2i\\xc8\\x8c[\\x0eE|GmIK\\xa8X\\t\\x0e9\\xf2\\xa0\\xa5\\x91\\x94\\x8dA\\xbe\\xadc\\x0b\\xad& )\\x9b9IL\\xb5\\x82\\x90\\xec\\x9c\\xbci\\xcb\\xf9\\xde$\\x16\\x10\\xb1\\xd0\\xcd\\xb5\\xa4\\xa5 \\x95\\x86Q\\xdc\\xbf?\\x94k%K{\\xf9+G\\xaam\\xadb\\xc0\\xaf\\xd6\\xed\\xdb\\xb2\\x9b16\\xfd\\xb0\\xc5\\r\\xc7\\x90*\\x11|\\xb9e\\x97#)E\\x12{\\xb8\\xeb\\x9d\\xd2S\\xd7\\xefG\\xc2I\\xd6\\x11\\x86q\\x9d\\xcf\\xdf\\xe4\\x8a\\x19\\xaa\\xcc\\x94\\xa5 \\x07c\\xa9,\\xdbjN\\xb1\\x91WXhL\\x89\\x9e\\xdd\\x00\\x82\\xea$\\xee4g\\x07\\xe9\\x17\\x00\\xa4.{\\x94\\xe8*\\xaa!\\x86\\xea\\x9e\\x16\\xfe\\xa5-\\x1c\\xa1/u\\x1d\\xc2O\\xe0+:\\xe8\\xbc\\x95+ +\\xdf\\x9f\\x9f1\\x17V\\x03\\x9c\\xbbG\\xd2\\xd7\\xb01L\\x1aX!\\x0f\\xafY\\xd2\\x18\\x0cCG\\xf5\\x03\\xe5\\xbdv4\\x8d\\xca\\xe3e\\xabK\\x9bI\\x9c\\xd7\\xe9e\\xda\\xc33|Jy\\xb5\\'\\xce\\xf4p\\x9cv\\x05I,\\xa5%>\\xf2\\xb0}\\x8dA\\xef\\xe2G\\xae\\x13)\\x97Q\\x85iR\\xa4M!\\r0\\x1e\\x0f\\xa9A\\xb7\\xd7@\\x1br\\xf1gSP\\x90\\xe8<\\xf8\\x86\\x86\\xd2\\xe3^\\xda\\xee%\\xe9e\\xdb[\\xff\\x00\\xb8\\xb7\\xdc]\\xf2\\x98\\xca\\xa3Lz\\x1dAU\\x06P\\xfa\\x94\\xa7\\x18\\x8b!\\xf7\\xf3\\xe2\\x94\\x10\\xb5\\'\\xc6\\xdaJQ\\xe9K\\n_P\\xcb\\x850]\\x1dt\\xda{>$\\xae_\\xdaK\\x05D\\x03\\x9f}R\\x95(\\xfc*\\xcb\\xf7\\x06\\x83\\xbb\\x98\\xda\\xd8J\\xba\\xe9n\\xb5*\\xa52\\x82\\x90K\\xb9%\\xfbh;C\\x8f\\xbb\\x9c\\r\\xd8}\\x96\\x99h]\\x12/-\\xc15\\x97\\x9ey\\x8a<\\xb9N}<\\x083\\xd2\\xc2\\x8b\\x0eJ\\x97\\x1d!q\\xd2\\x95\\xa8)*\\t^\\n\\t#\\xa8Q\\x19\\xbe)\\xe8\\xed\\xaa\\xc3(MER\\xd0\\xb9\\x99\\x92\\x85\\x1fJR\\xb2=9\\x96\\x90\\xe8s\\xb2\\xbb\\xe9\\xb4{\\xcf\\xc5w\\x0b\\xbd$\\xeaYh\\x0f\\x95\\xf4$)\\xbc\\x0e|\\xc3[\\xc6\\xfeS\\xeeW\\x1a\\xf7\\x06\\xf8\\xdb\\r\\xd9\\x8bY\\xbc\\xe7\\xd4\\xee\\x8at7\\xd7\"\\xaed\\x1ak\\x9eO\\x04\\x87\\xc1VK\\x9d\\xd0Y( \\xe1]A\\xf5\\x83\\xadC\\xd2\\xae\\xb5\\\\\\xb0\\xc5\\xcau\\x8e\\xfd\\x9e|\\xe9\\x93R\\x92\\xea\\'!|\\xaa/\\xce`A\\r\\xa1g\\x8d=\"~S\\xec\\xd7\\xaa\\xa2\\xc0\\t9\\xcf\\xfc8\\xd7H\\x848B\\xe9`\\x8e+ $\\x93\\x80\\x07\\xc9\\xd2*\\x08\\xae%\\x97c\\xdf[\\x93\\xccW\\xe8\\xdb\\x85{\\xc0\\x8fwF\\x9d\"\\x9d\\x16\\xe0\\x96\\x96\\xa5\\x87\\xd4\\x96]r\\x08\\x8f\\x8c\\xa5\\xf2[\\xea\\xa4\\xb8~\\xe4$\\x0f\\xb9*JF\\xb9\\x83o\\xb1\\xdd\\xaex\\xf7\\xddn\\xf5\\x08\\xcc\\x95\\x14\\xa6a\\xca\\xa2tQ\\x96\\x13\\xf8\\x8fg\\xd9\\xb5\\xd4E\\x14sL\\xba\\xa4\\xaap\\nBH-\\xdcn\\xd1\\xbd\\xb4\\xbd\\x89\\xdc\\x8e0\\xb1F\\xdf\\x97\\x1e\\xb7\\xaf\\x99t\\xa4\\xcar\\xe1\\xa56\\t\\xfax+\\xff\\x00#\\xf1\\xa49\\x85-\\xd0\\x9c\\xadJ)\\n\\xf9 v\\x05y\\x906\\x1e\\x94\\xdcpz\\x86#\\x0b\\x15SFol\\x9er\\x92\\xe5HQ\\xd70\\x1a\\x97\\xdfh\\xdb\\xd5\\xf8\\xaa\\x9e\\xee\\r\\xb9\\xbd\\x92Kd>x\\n\\x03\\x83\\xc7hs\\xa1\\xd5j\\\\\\xd5\\xadt\\x88\\x8a\\xa5\\xb9\\xc7JD\\xa4\\xfd@Q\\xf1M\\xb8\\xa7\\xa0\\x05x\\x97\\x82T\\xc2\\x1b\\xec\\t\\x1f\\xb8\\x12?\\xd8\\x8f\\x1et\\x99\\xff\\x00\\xcf\\x8a(H)\\xb5 \\x87;\\x19\\xca\\x1a\\xb7t\\xa1\\'~I\\x86eJ\\xfb\\x04f,j\\x94>a\\x03\\xbf\\x92x\\x88\\xd1\\xe6v\\xdb\\\\\\xdb=\\xba6\\x81\\xa4H\\x8dW\\x9dDm\\x87m\\xd9HKnT>\\x94\\xc8&\\x1a\\xa4 \\x8c:\\xa6]\\x1fN\\x95,\\x11\\xd5\\xa6N\\x00\\xf5\\x14\\xfa\\xfb\\x86\\xeb,\\xd7\\xbaU\\xdb\\x96\\x95M@NR[')\n",
    "file.close()"
   ]
  },
  {
   "cell_type": "markdown",
   "metadata": {},
   "source": [
    "Код ниже откроет файл ```ex3.jpg``` для дозаписи в бинарном формате.\n",
    "В результате в папке ```src``` будет избражение будет сформировано полностью."
   ]
  },
  {
   "cell_type": "code",
   "execution_count": null,
   "metadata": {},
   "outputs": [],
   "source": [
    "file = open(r\"..\\src\\write\\ex3.jpg\", \"ab\")\n",
    "file.write(b'\\xda0SK*\\x7f\\x89\\x8f\\xa31\\xe0\\x07\\x8c\\x1e\\xfdT\\'\\xcfML\\x80\\x02\\xd5\\xf1\\r\\xb5\\xd9\\xc7\\x83\\xfa\\xc4\\xf0\\xec\\xabW\\x13\\x1bK\\xb7L]\\xd5\\xa6\\xee+\\xa9\\x14x\\xa8\\xa9ML\\x94\\xc8\\x12%\\x06\\xc7\\x94\\xf9RHY\\xed\\xd8\\x15\\x02rA\\xd7A\\xb0<\\xba\\xa4\\xda)\\x93[3\\xdaN\\x08Ne\\x02\\xee\\xa6\\xd4\\xb8\\xdfX\\xb4H`\\xdb\\xc3\\x9f\\xac\\xaa\\x16\\x11Y\\xc7\\xc7\\xbd!\\xda\\x08\\xae\\x97\"\\xac\\xfbk\\x88\\\\\\x9a\\x87zm\\x9d\\xd3n\\\\\\x8e!\\xc9\\xb5\\xa8\\x94E\\xf4S\\x96\\xf5Ac!\\xa9=U\\x957\\xfd\\xe0\\xe2\\x12B\\x14@\\xc18\\x1d\\x8f0\\xfa\\xb7`\\xa0\\xc0\\xd8\\xae]\\xda\\xd8\\xb15d\\xa9i\\x96H\\xfe\\x9a\\xf8\\xcc\\x06\\xb9K\\x96\\xd8\\xf1\\r\\x93\\xd1.Z\\x82\\xc0u~\\x9f>Z$\\x0e\\xde\\xaf]\\xfc\\xe1]\\xaa\\x0c\\xa8\\x16\\xc6\\xc6\\xc7\\x87\\x12}e\\x9amA.\\xc8\\x9d8\\x8c\\xaa#\\xb8=\\xdaR\\x16\\x95a*\\x00\\x04up\\x15\\xa9H\\xf1\\xca\\x0bm\\xca\\xab\\xa8\\x12\\xe4\\x94\\xa8K\\xb6\\xe5J\\xa6\\x04\\xa9\\xd6\\xa5\\xf3-M\\xaa@#W\\xdcF\\xc2\\xb1]\\xe8\\xe8\\xe9=\\xea_\\xaa\\xa5N\\x03\\xec\\x8f>Oh\\xc876\\xc2\\xaeqr\\xe1ox6I\\x8a]/o\\xe4-\\xa6.Ky\\xf7\\xd3\\x1e\\x9e\\xd0\\xce\\x03\\xe1J 6\\x93\\xf3\\x95\\x8c\\xa9\\x0bV@ZV\\xa4i\\xcf\\x14\\xd9*p\\xa5X\\xbc\\xd8\\xf2\\xa6\\x95D\\t\\xf2\\x94\\xac\\xa8\\x03a1$\\xfc$s\\xdf\\xb4^S\\xde\\xe9\\xab\\xe9\\x95OtS-.R\\xbe|\\xa4\\xf7\\xf1\\x11s{_\\xf09\\xbd\\xc8;]\\x8b\\xb6\\xe1\\xb6v\\x8a\\x94\\xe3\\xd2\\xe9\\xbf\\xa9>\\xb4\\xa9\\xb4R\\xd2\\xae\\xcc\\xb7\\x95\\x94\\x83$\\x92\\xe2\\x02\\xc9\\tQy?h\\t\\xc2\\xa1\\x9d\\xdf\\x10\\xd2u\\x1b\\x16IMr\\x85*ARB\\xdc\\x7fl\\x17@\\xd7\\xef\\x92O\\x8d|F\\xae\\x05\\x13\\xa6z\\x92\\xcd\\xce\\xdf/\\xacX\\xa6\\xca\\xb4\\xa8\\xb6\\x15\\xa5nYV\\xe4s\\x12\\x85J\\x86\\xd4\\x08\\x8d\\x92\\tKM\\xa4$v#\\x19Q\\xc6I\\xfeI:\\xe9\\xfd\\x82\\xcb\"\\xddE*\\x82\\x944\\xb9I\\t\\x1f \\x1b\\xf3\\xef\\x0e\\x89\\x00\\x06\\x11\\x94i\\xde*\\x83Hv\\x8253\\x93<]\\xda\\xdd\\xeb\\xb6n:\\xd5[mb\\xdc\\xdb\\x8a\\xdc\\x05\\x8ad\\xa8\\xb2\\x13\\n[\\x92\\x12\\x0f\\x88\\x17\\x94Cj\\xc1\\xf5\\xe5\\nH\\x19\\x1a\\xd3}P\\xe9\\x1d\\x9a\\xfbO6\\xa6}(\\x99T\\x10BT\\x93\\x91gM\\x06m\\xb7\\xdb3\\x88\\xf2\\\\\\xa4\\x92\\xed\\xaf\\xfd\\xccC\\x96\\xddq?\\x9c;ws\\xbb.\\xdd\\xb0\\xae\\xfbN\\x93\"\\n\\xdby\\xca5\\xc4\\xc4R\\xeb\\xc9q\\x1d\\x12\\xe3m\\xc8FS\\xd4\\xb8RI#\\xde\\xa0\\xd6\\x1b\\xe8\\x97Qm2\\x956\\xd6\\x95\\xcaZ\\xcb\\x10&$\\x16\\x1b\\x12\\xc5\\x8f\\x8f\\xda=\\xedr\\x11)%su\\'F:\\xfd\\x7fm\\xe3!\\xdc\\xfe6\\xf3\\xca\\xfe\\x8d@\\xa3\\xd4\\xedm\\xc3\\xbaih\\x92\\xb9\\x12\\xd8\\xaa],\\xbb\\x1d\\x01,\\x92\\x95x\\xdc\\x92\\xb0\\xa5\\xf7\\x18H\\xc6~\\xef~\\xf5}y\\xe9\\x07S\\xae\\xb4\\xab\\xa7\\xba\\x95\\xccJYA&` \\x91\\xe1\\xd9\\xfb~\\xc6*\\xa9BgJP\\xd1*\\x0cC>\\xbc\\x11\\xfe_\\xe9\\xde7\\xdf\\x86\\x1c-\\xb2\\xf6\\xfe\\xd2\\xa5]\\xfb\\xa5\\xb4Q)\\xdb\\xc8\\xd4\\xb5\\xadON\\x94\\xdc\\xa46\\x84\\x9c\\xb4\\xb6YmE\\xa6\\xfa\\x85\\x1cv\\nXVOo\\x90\\x04\\x91\\xe8gAm\\xf6\\xdb|\\x8a\\xcb\\xc5\\x13W$\\x92\\xebP[\\x1e\\x08\\x00\\xe5\\x1e7#\\xbcYH\\xa7HH\\n\\x1a\\x8e\\xfa\\xc4\\x94jT\\xa6.`\\xd5PA\\xa2\\x084A\\t\\x81\\xf8\\x1aF\\x10A\\x81\\xf8\\x1a\\x1a\\x08],\\x10h\\x82\\r\\x10G\\xff\\xd9')\n",
    "file.close()"
   ]
  },
  {
   "cell_type": "markdown",
   "metadata": {},
   "source": [
    "> Обратите внимание, что при перезапуске предыдущей ячейки файл продолжит дозаписываться - размер файла будет увеличиваться, а изображение останется прежним"
   ]
  },
  {
   "cell_type": "markdown",
   "metadata": {},
   "source": [
    "## Пример чтения файлов"
   ]
  },
  {
   "cell_type": "markdown",
   "metadata": {},
   "source": [
    "```\"rt\"``` открывет файл в режиме чтения текста. \n",
    "\n",
    "Метод ```read()``` примененный к открытому на чтению файлу **ПОЛНОСТЬЮ** загружает его содержимое в оперативную память."
   ]
  },
  {
   "cell_type": "code",
   "execution_count": null,
   "metadata": {},
   "outputs": [],
   "source": [
    "file = open(r\"..\\src\\read\\dream\", \"rt\")\n",
    "\n",
    "text = file.read()\n",
    "file.close()\n",
    "\n",
    "print(text)"
   ]
  },
  {
   "cell_type": "markdown",
   "metadata": {},
   "source": [
    "```\"rb\"``` открывет файл в режиме чтения байтов. \n",
    "\n",
    "Так как текст содержит символы в кириллице они будут отображаться как отдельные байты."
   ]
  },
  {
   "cell_type": "code",
   "execution_count": null,
   "metadata": {},
   "outputs": [],
   "source": [
    "file = open(r\"..\\src\\read\\dream\", \"rb\")\n",
    "\n",
    "text = file.read()\n",
    "file.close()\n",
    "\n",
    "print(text)"
   ]
  },
  {
   "cell_type": "markdown",
   "metadata": {},
   "source": [
    "Тот же код примененый к тексту на латинице откроется в виде читаемого текста.\n",
    "\n",
    "> Обратите внимание, что символы переноса строки и возврата каретки выводятся наравне с остальными символами."
   ]
  },
  {
   "cell_type": "code",
   "execution_count": null,
   "metadata": {},
   "outputs": [],
   "source": [
    "file = open(r\"..\\src\\read\\dream_eng\", \"rb\")\n",
    "\n",
    "text = file.read()\n",
    "file.close()\n",
    "\n",
    "print(text)"
   ]
  },
  {
   "cell_type": "markdown",
   "metadata": {},
   "source": [
    "***\n",
    "\n",
    "\n",
    "```\"rt\"``` открывет файл в режиме чтения текста. \n",
    "\n",
    "Метод ```readline()``` примененный к открытому на чтению файлу загружает поочередно его каждую строку.\n",
    "\n",
    "> Когда файл прочитан до конца метод ```readline()``` будет возвращать пустые строки (Обратите внимание на пустые строки в конце вывода)"
   ]
  },
  {
   "cell_type": "code",
   "execution_count": null,
   "metadata": {},
   "outputs": [],
   "source": [
    "file = open(r\"..\\src\\read\\dream\", \"rt\")\n",
    "\n",
    "text = file.readline()\n",
    "print(text)\n",
    "text = file.readline()\n",
    "print(text)\n",
    "text = file.readline()\n",
    "print(text)\n",
    "text = file.readline()\n",
    "print(text)\n",
    "text = file.readline()\n",
    "print(text)\n",
    "text = file.readline()\n",
    "print(text)\n",
    "text = file.readline()\n",
    "print(text)\n",
    "text = file.readline()\n",
    "print(text)\n",
    "text = file.readline()\n",
    "print(text)\n",
    "text = file.readline()\n",
    "print(text)\n",
    "text = file.readline()\n",
    "print(text)\n",
    "\n",
    "file.close()\n",
    "print(\"*\" * 50)"
   ]
  },
  {
   "cell_type": "markdown",
   "metadata": {},
   "source": [
    "*** \n",
    "\n",
    "Метод ```readlines()``` примененный к открытому на чтению файлу **ПОЛНОСТЬЮ** загружает его содержимое в оперативную память в виде списка каждый элемен которого - строка в файле.\n",
    "\n",
    "> Обратите внимание на символы переноса строки ```\"\\n\"``` в конце каждой строки и лишние пробелы в последней строке"
   ]
  },
  {
   "cell_type": "code",
   "execution_count": null,
   "metadata": {},
   "outputs": [],
   "source": [
    "file = open(r\"..\\src\\read\\dream\", \"rt\")\n",
    "text = file.readlines()\n",
    "file.close()\n",
    "\n",
    "print(text)"
   ]
  },
  {
   "cell_type": "markdown",
   "metadata": {},
   "source": [
    "***\n",
    "\n",
    "Объект файла является иттерируемым объетом и каждую строку файла можно перебрать через цикл ```for```: \n",
    "\n",
    "> Обратите внимание на осташиеся служебные символы переноса строки ```\"\\n\"```, что приводит к выводу лишних пустых строк"
   ]
  },
  {
   "cell_type": "code",
   "execution_count": null,
   "metadata": {},
   "outputs": [],
   "source": [
    "file = open(r\"..\\src\\read\\dream\", \"rt\")\n",
    "\n",
    "for line in file:\n",
    "    print(line)\n",
    "\n",
    "file.close()"
   ]
  },
  {
   "cell_type": "markdown",
   "metadata": {},
   "source": [
    "***\n",
    "\n",
    "Метод ```strip()``` примененый к строке удаляет в ее конце все служебные символы переноса и лишние пробелы."
   ]
  },
  {
   "cell_type": "code",
   "execution_count": null,
   "metadata": {},
   "outputs": [],
   "source": [
    "file = open(r\"..\\src\\read\\dream\", \"rt\")\n",
    "for line in file:\n",
    "    print(line.strip())\n",
    "\n",
    "file.close()"
   ]
  },
  {
   "cell_type": "markdown",
   "metadata": {},
   "source": [
    "# Менеджер контекста"
   ]
  },
  {
   "cell_type": "markdown",
   "metadata": {},
   "source": [
    "Следующая синтаксическая конструкция называется менеджером контекста:\n",
    "\n",
    "```python\n",
    "with open(file_name, access_mode) as file:\n",
    "    <действия с файлом>\n",
    "```\n",
    "\n",
    "Она позволяет выделить действия с потоком в отдельный блок операций отделенный, по аналогии с ветвлением и циклами, четырьмя пробелами.\n",
    "\n",
    "**Менеджер контекста гарантирует закрытие потока в любом случае!** Независимо от того отработал код штатно или был прерван в процессе ошибкой.\n",
    "\n",
    "> **РАБОТА С ФАЙЛАМИ ЧЕРЕЗ МЕНЕДЖЕР КОНТЕКСТА ЯВЛЯЕТСЯ НАИБОЛЕЕ ПРАВИЛЬНОЙ И ПРЕДПОЧТИТЕЛЬНОЙ!**"
   ]
  },
  {
   "cell_type": "code",
   "execution_count": null,
   "metadata": {},
   "outputs": [],
   "source": [
    "with open(r\"..\\src\\read\\dream\", \"rt\") as file:\n",
    "    for line in file:\n",
    "        print(line.strip())"
   ]
  },
  {
   "cell_type": "markdown",
   "metadata": {},
   "source": [
    "***\n",
    "\n",
    "В коде ниже кажый элемент списка ```text``` записывается в файл ```\"..\\src\\write\\_Han.txt\"```. Каждая следующая строка записывается сразу за предыдущей."
   ]
  },
  {
   "cell_type": "markdown",
   "metadata": {},
   "source": [
    "> Результат в файле:\n",
    "\n",
    "На десять миль оградой стен и башенОазис плодородный окружён,Садами и ручьями он украшен,В нём фимиам цветы струят сквозь сон,И древний лес, роскошен и печален,Блистает там воздушностью прогалин."
   ]
  },
  {
   "cell_type": "code",
   "execution_count": null,
   "metadata": {},
   "outputs": [],
   "source": [
    "text = [\"На десять миль оградой стен и башен\", \"Оазис плодородный окружён,\", \"Садами и ручьями он украшен,\",\n",
    "       \"В нём фимиам цветы струят сквозь сон,\", \"И древний лес, роскошен и печален,\", \"Блистает там воздушностью прогалин.\"]\n",
    "\n",
    "with open(r\"..\\src\\write\\_Han.txt\", \"wt\") as file:\n",
    "    for str_ in text:\n",
    "        file.write(str_)"
   ]
  },
  {
   "cell_type": "markdown",
   "metadata": {},
   "source": [
    "***\n",
    "\n",
    "В коде ниже последовательно открыты два потока, первый на чтение из файла, второй - на запись.\n",
    "\n",
    "В первой половине кода каждая прочтенная строка из первого файла записывается во творой файл.\n",
    "\n",
    "Во второй половине кода - каждый элемент списка ```text``` записывается дальше во второй файл."
   ]
  },
  {
   "cell_type": "code",
   "execution_count": null,
   "metadata": {},
   "outputs": [],
   "source": [
    "text = [\"На десять миль оградой стен и башен\", \"Оазис плодородный окружён,\", \"Садами и ручьями он украшен,\",\n",
    "       \"В нём фимиам цветы струят сквозь сон,\", \"И древний лес, роскошен и печален,\", \"Блистает там воздушностью прогалин.\"]\n",
    "\n",
    "with open(r\"..\\src\\read\\dream\", \"rt\") as read_file:\n",
    "    with open(r\"..\\src\\write\\Kubla_Han.txt\", \"wt\") as write_file:\n",
    "        for line in read_file:\n",
    "            line = line.strip()\n",
    "            write_file.write(f\"{line}\\n\")\n",
    "        for str_ in text:\n",
    "            write_file.write(f\"{str_}\\n\")"
   ]
  },
  {
   "cell_type": "code",
   "execution_count": null,
   "metadata": {},
   "outputs": [],
   "source": [
    "with open(r\"..\\src\\write\\Kubla_Han.txt\", \"rt\") as file:\n",
    "    print(file.read())"
   ]
  }
 ],
 "metadata": {
  "kernelspec": {
   "display_name": "Python 3 (ipykernel)",
   "language": "python",
   "name": "python3"
  },
  "language_info": {
   "codemirror_mode": {
    "name": "ipython",
    "version": 3
   },
   "file_extension": ".py",
   "mimetype": "text/x-python",
   "name": "python",
   "nbconvert_exporter": "python",
   "pygments_lexer": "ipython3",
   "version": "3.9.0"
  },
  "toc": {
   "base_numbering": 1,
   "nav_menu": {},
   "number_sections": true,
   "sideBar": true,
   "skip_h1_title": false,
   "title_cell": "Table of Contents",
   "title_sidebar": "Contents",
   "toc_cell": true,
   "toc_position": {},
   "toc_section_display": true,
   "toc_window_display": false
  }
 },
 "nbformat": 4,
 "nbformat_minor": 4
}
