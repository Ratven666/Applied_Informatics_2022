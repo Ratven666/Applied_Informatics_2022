{
 "cells": [
  {
   "cell_type": "markdown",
   "metadata": {
    "toc": true
   },
   "source": [
    "<h1>Table of Contents<span class=\"tocSkip\"></span></h1>\n",
    "<div class=\"toc\"><ul class=\"toc-item\"><li><span><a href=\"#Задачи-на-построение-графиков-в-matplotlib.-Регрессия\" data-toc-modified-id=\"Задачи-на-построение-графиков-в-matplotlib.-Регрессия-1\"><span class=\"toc-item-num\">1&nbsp;&nbsp;</span>Задачи на построение графиков в <code>matplotlib</code>. Регрессия</a></span></li><li><span><a href=\"#Задача-12.1-$\\star$\" data-toc-modified-id=\"Задача-12.1-$\\star$-2\"><span class=\"toc-item-num\">2&nbsp;&nbsp;</span>Задача 12.1 $\\star$</a></span><ul class=\"toc-item\"><li><ul class=\"toc-item\"><li><span><a href=\"#Исходные-данные\" data-toc-modified-id=\"Исходные-данные-2.0.1\"><span class=\"toc-item-num\">2.0.1&nbsp;&nbsp;</span>Исходные данные</a></span></li><li><span><a href=\"#Задание\" data-toc-modified-id=\"Задание-2.0.2\"><span class=\"toc-item-num\">2.0.2&nbsp;&nbsp;</span>Задание</a></span></li></ul></li><li><span><a href=\"#Задача-12.1.1-$\\star$\" data-toc-modified-id=\"Задача-12.1.1-$\\star$-2.1\"><span class=\"toc-item-num\">2.1&nbsp;&nbsp;</span>Задача 12.1.1 $\\star$</a></span></li><li><span><a href=\"#Задача-12.1.2-$\\star$\" data-toc-modified-id=\"Задача-12.1.2-$\\star$-2.2\"><span class=\"toc-item-num\">2.2&nbsp;&nbsp;</span>Задача 12.1.2 $\\star$</a></span></li><li><span><a href=\"#Задача-12.1.3-$\\star$\" data-toc-modified-id=\"Задача-12.1.3-$\\star$-2.3\"><span class=\"toc-item-num\">2.3&nbsp;&nbsp;</span>Задача 12.1.3 $\\star$</a></span><ul class=\"toc-item\"><li><span><a href=\"#На-всякий-случай\" data-toc-modified-id=\"На-всякий-случай-2.3.1\"><span class=\"toc-item-num\">2.3.1&nbsp;&nbsp;</span>На всякий случай</a></span></li><li><span><a href=\"#Задача-12.1.3.1-$\\star$\" data-toc-modified-id=\"Задача-12.1.3.1-$\\star$-2.3.2\"><span class=\"toc-item-num\">2.3.2&nbsp;&nbsp;</span>Задача 12.1.3.1 $\\star$</a></span></li><li><span><a href=\"#Задача-12.1.3.2-$\\star$\" data-toc-modified-id=\"Задача-12.1.3.2-$\\star$-2.3.3\"><span class=\"toc-item-num\">2.3.3&nbsp;&nbsp;</span>Задача 12.1.3.2 $\\star$</a></span></li><li><span><a href=\"#Задача-12.1.3.3-$\\star$\" data-toc-modified-id=\"Задача-12.1.3.3-$\\star$-2.3.4\"><span class=\"toc-item-num\">2.3.4&nbsp;&nbsp;</span>Задача 12.1.3.3 $\\star$</a></span></li><li><span><a href=\"#Задача-12.1.3.4-$\\star$\" data-toc-modified-id=\"Задача-12.1.3.4-$\\star$-2.3.5\"><span class=\"toc-item-num\">2.3.5&nbsp;&nbsp;</span>Задача 12.1.3.4 $\\star$</a></span></li></ul></li><li><span><a href=\"#Задача-12.1.4-$\\star$\" data-toc-modified-id=\"Задача-12.1.4-$\\star$-2.4\"><span class=\"toc-item-num\">2.4&nbsp;&nbsp;</span>Задача 12.1.4 $\\star$</a></span></li></ul></li><li><span><a href=\"#Задача-12.2-$\\star$\" data-toc-modified-id=\"Задача-12.2-$\\star$-3\"><span class=\"toc-item-num\">3&nbsp;&nbsp;</span>Задача 12.2 $\\star$</a></span><ul class=\"toc-item\"><li><ul class=\"toc-item\"><li><span><a href=\"#Исходные-данные\" data-toc-modified-id=\"Исходные-данные-3.0.1\"><span class=\"toc-item-num\">3.0.1&nbsp;&nbsp;</span>Исходные данные</a></span></li></ul></li><li><span><a href=\"#Задача-12.2.1-$\\star$\" data-toc-modified-id=\"Задача-12.2.1-$\\star$-3.1\"><span class=\"toc-item-num\">3.1&nbsp;&nbsp;</span>Задача 12.2.1 $\\star$</a></span></li><li><span><a href=\"#Задача-12.2.2-$\\star$\" data-toc-modified-id=\"Задача-12.2.2-$\\star$-3.2\"><span class=\"toc-item-num\">3.2&nbsp;&nbsp;</span>Задача 12.2.2 $\\star$</a></span></li><li><span><a href=\"#Задача-12.2.3\" data-toc-modified-id=\"Задача-12.2.3-3.3\"><span class=\"toc-item-num\">3.3&nbsp;&nbsp;</span>Задача 12.2.3</a></span></li></ul></li></ul></div>"
   ]
  },
  {
   "cell_type": "markdown",
   "metadata": {},
   "source": [
    "# Задачи на построение графиков в ```matplotlib```. Регрессия"
   ]
  },
  {
   "cell_type": "markdown",
   "metadata": {},
   "source": [
    "# Задача 12.1 $\\star$"
   ]
  },
  {
   "cell_type": "markdown",
   "metadata": {},
   "source": [
    "### Исходные данные\n",
    "\n",
    "В текстовом файле ```regression.txt```, находящемся в папке ```src\\Task_10_1```, содержится информация о связанных значениях $x$ и $y$, полученных в результате некоторого эксперимента.\n",
    "\n",
    "Даннные в файле записаны в соответствии со следующей структурой:"
   ]
  },
  {
   "attachments": {
    "image.png": {
     "image/png": "[encoded data removed]"
    }
   },
   "cell_type": "markdown",
   "metadata": {},
   "source": [
    "![image.png](attachment:image.png)"
   ]
  },
  {
   "cell_type": "markdown",
   "metadata": {},
   "source": [
    "### Задание\n",
    "\n",
    "> **Необходимо рассчитать уравнение регрессии по экспериментальным данным, построить необходимые графики**"
   ]
  },
  {
   "cell_type": "markdown",
   "metadata": {},
   "source": [
    "***\n",
    "***"
   ]
  },
  {
   "cell_type": "markdown",
   "metadata": {},
   "source": [
    "## Задача 12.1.1 $\\star$\n",
    "\n",
    "Прочитайте и распарсите файл ```regression.txt```, из папки ```src\\Task_10_1```.\n",
    "\n",
    "Постройте \"точечный\" график ```scatter plot``` с использованием модуля ```matplotlib```.\n",
    "\n",
    "> Оформите график, чтобы он выглядел, на Ваш взгляд, наиболее представительно и красиво!"
   ]
  },
  {
   "cell_type": "code",
   "execution_count": null,
   "metadata": {},
   "outputs": [],
   "source": []
  },
  {
   "cell_type": "markdown",
   "metadata": {},
   "source": [
    "***\n",
    "***"
   ]
  },
  {
   "cell_type": "markdown",
   "metadata": {},
   "source": [
    "## Задача 12.1.2 $\\star$\n",
    "\n",
    "Постройте \"линейный\" график по этим данным.\n",
    "\n",
    "> Оформите график, чтобы он выглядел, на Ваш взгляд, наиболее представительно и красиво!\n",
    "\n",
    "> Для того чтобы построить такой график необходимо отсортировать пары значений $x$ и $y$ по возрастанию $x$."
   ]
  },
  {
   "cell_type": "code",
   "execution_count": null,
   "metadata": {},
   "outputs": [],
   "source": []
  },
  {
   "cell_type": "markdown",
   "metadata": {},
   "source": [
    "***\n",
    "***"
   ]
  },
  {
   "cell_type": "markdown",
   "metadata": {},
   "source": [
    "## Задача 12.1.3 $\\star$\n",
    "\n",
    "Рассчитаем уравнение регрессии, связывающее значения $x$ и $y$ через функцию $y=f(x)$\n"
   ]
  },
  {
   "cell_type": "markdown",
   "metadata": {},
   "source": [
    "### На всякий случай\n",
    "\n",
    "Из построенных ранее графиков видно, что:\n",
    "\n",
    "* $y$ линейно возрастает от $x$ как $y = Kx + B$\n",
    "* $y$ изменяется относительно линейной функции $y = Kx + B$ по гармонической функции вида $A\\sin(\\omega x + \\phi)$\n",
    "* Амплитуда $A$ в гармонической функции $A\\sin(\\omega x + \\phi)$ линейно затухает как $A = kx + b$\n",
    "\n",
    "Сведя все это вместе можно вывести:\n",
    "\n",
    "$$ y = (Kx + B) + (kx + b)\\sin(\\omega x + \\phi) $$\n",
    "\n",
    "Используя Метод Наименьших Квадратов (МНК) в его параметрической форме видно, что:\n",
    "\n",
    "$$ v_i = (Kx + B) + (kx + b)\\sin(\\omega x + \\phi) - y_i $$\n",
    "\n",
    "Искомыми параметрами функции являются $K$, $B$, $k$, $b$, $\\omega$, $\\phi$, измерениями - значения функции $y$.\n",
    "\n",
    "Предполагая, что нам известны некоторые приближенные значения параметров $K^0$, $B^0$, $k^0$, $b^0$, $\\omega^0$, $\\phi^0$:\n",
    "$$ T^0 =   \\left[ {\\begin{array}{cccc}\n",
    "    K^0\\\\\n",
    "    B^0\\\\\n",
    "    k^0\\\\\n",
    "    b^0\\\\\n",
    "    \\omega^0\\\\\n",
    "    \\phi^0\\\\\n",
    "  \\end{array} } \\right] $$\n",
    "  \n",
    "систему параметрических поправок можно записать как:\n",
    "$$ v_1 = \\left( (K^0 + \\delta K)x_1 + (B^0 + \\delta B) \\right) + \\left( (k^0 + \\delta k)x_1 + (b^0 + \\delta b) \\right)\\sin \\left( (\\omega^0 + \\delta \\omega) x_1 + (\\phi^0 + \\delta \\phi) \\right) - y_1 \\\\\n",
    "   v_2 = \\left( (K^0 + \\delta K)x_2 + (B^0 + \\delta B) \\right) + \\left( (k^0 + \\delta k)x_2 + (b^0 + \\delta b) \\right)\\sin \\left( (\\omega^0 + \\delta \\omega) x_2 + (\\phi^0 + \\delta \\phi) \\right) - y_2 \\\\\n",
    "   \\dots\\dots\\dots\\dots\\dots\\dots\\dots\\dots\\dots\\dots\\dots\\dots\\dots\\dots\\dots\\dots\\dots\\dots\\dots\\dots\\dots\\dots\\dots\\dots\\dots\\dots\\dots\\dots\\dots\\dots \\\\\n",
    "   v_n = \\left( (K^0 + \\delta K)x_n + (B^0 + \\delta B) \\right) + \\left( (k^0 + \\delta k)x_n + (b^0 + \\delta b) \\right)\\sin \\left( (\\omega^0 + \\delta \\omega) x_n + (\\phi^0 + \\delta \\phi) \\right) - y_n $$\n",
    "\n",
    "\n",
    "\n",
    "Линеаризовав эту систему через ряд Тейлора и приняв все измерения как равноточные, можно прийти к системе нормальных уравнений вида:\n",
    "\n",
    "$$ N\\cdot \\delta T + A^TL = 0 $$\n",
    "\n",
    "где:\n",
    "* $N$ - матрица коэффициентов нормальных уравнений:\n",
    "\n",
    "$$ N_{3 \\times 3} = A^TPA = A^T \\cdot A $$\n",
    "\n",
    "* $A$ - матрица частных производных системы: \n",
    "\n",
    "$$ F_1 = (Kx_1 + B) + (kx_1 + b)\\sin(\\omega x_1 + \\phi) \\\\\n",
    "   F_2 = (Kx_2 + B) + (kx_2 + b)\\sin(\\omega x_2 + \\phi) \\\\\n",
    "   \\dots\\dots\\dots\\dots\\dots\\dots\\dots\\dots\\dots\\dots\\dots\\dots\\dots\\dots\\dots\\\\\n",
    "   F_n = (Kx_n + B) + (kx_n + b)\\sin(\\omega x_n + \\phi)\\\\\n",
    "$$\n",
    "\n",
    "по определяемым параметрам:\n",
    "\n",
    "$$ A_{n \\times 6} =\n",
    "  \\left[ {\\begin{array}{cccc}\n",
    "    \\frac{\\partial F_1}{K} & \\frac{\\partial F_1}{B} & \\frac{\\partial F_1}{k} & \\frac{\\partial F_1}{b} & \\frac{\\partial F_1}{\\omega} & \\frac{\\partial F_1}{\\phi}\\\\\n",
    "    \\frac{\\partial F_2}{K} & \\frac{\\partial F_2}{B} & \\frac{\\partial F_2}{k} & \\frac{\\partial F_2}{b} & \\frac{\\partial F_2}{\\omega} & \\frac{\\partial F_2}{\\phi}\\\\\n",
    "    \\vdots & \\vdots & \\vdots & \\vdots & \\vdots & \\vdots\\\\\n",
    "    \\frac{\\partial F_n}{K} & \\frac{\\partial F_n}{B} & \\frac{\\partial F_n}{k} & \\frac{\\partial F_n}{b} & \\frac{\\partial F_n}{\\omega} & \\frac{\\partial F_n}{\\phi}\\\\\n",
    "  \\end{array} } \\right] = \n",
    "  \\left[ {\\begin{array}{cccc}\n",
    "    x_1 & 1 & x_1\\sin(\\omega^0 x_1 + \\phi^0) & \\sin(\\omega^0 x_1 + \\phi^0) & x_1(k^0x_1 + b^0)\\cos(\\omega^0 x_1 + \\phi^0) & (k^0x_1 + b^0)\\cos(\\omega^0 x_1 + \\phi^0)\\\\\n",
    "    x_2 & 1 & x_2\\sin(\\omega^0 x_2 + \\phi^0) & \\sin(\\omega^0 x_2 + \\phi^0) & x_2(k^0x_2 + b^0)\\cos(\\omega^0 x_2 + \\phi^0) & (k^0x_2 + b^0)\\cos(\\omega^0 x_2 + \\phi^0)\\\\\n",
    "    \\vdots & \\vdots & \\vdots & \\vdots & \\vdots & \\vdots\\\\\n",
    "    x_n & 1 & x_n\\sin(\\omega^0 x_n + \\phi^0) & \\sin(\\omega^0 x_n + \\phi^0) & x_n(k^0x_n + b^0)\\cos(\\omega^0 x_n + \\phi^0) & (k^0x_n + b^0)\\cos(\\omega^0 x_n + \\phi^0)\\\\\n",
    "  \\end{array} } \\right]$$\n",
    "  \n",
    "* $L$ - вектор свободных членов:\n",
    "\n",
    "$$ L_{n \\times 1} =   \\left[ {\\begin{array}{cccc}\n",
    "    \\left( K^0x_1 + B^0 \\right) + \\left( k^0x_1 + b^0\\right)\\sin \\left( \\omega^0 x_1 + \\phi^0 \\right) - y_1\\\\\n",
    "    \\left( K^0x_2 + B^0 \\right) + \\left( k^0x_2 + b^0\\right)\\sin \\left( \\omega^0 x_2 + \\phi^0 \\right) - y_2\\\\\n",
    "    \\vdots \\\\\n",
    "    \\left( K^0x_n + B^0 \\right) + \\left( k^0x_n + b^0\\right)\\sin \\left( \\omega^0 x_n + \\phi^0 \\right) - y_n\n",
    "  \\end{array} } \\right] $$\n",
    "  \n",
    "* $\\delta T$ - вектор поправок в параметры \n",
    "$$ \\delta T =   \\left[ {\\begin{array}{cccc}\n",
    "    \\delta K\\\\\n",
    "    \\delta B\\\\\n",
    "    \\delta k\\\\\n",
    "    \\delta b\\\\\n",
    "    \\delta \\omega\\\\\n",
    "    \\delta \\phi\\\\\n",
    "  \\end{array} } \\right] $$\n",
    "    \n",
    "> Таким образом, искомый вектор элементов внешнего ориентирования $T$:\n",
    "\n",
    "$$ T = \\left[ {\\begin{array}{cccc}\n",
    "    K^0\\\\\n",
    "    B^0\\\\\n",
    "    k^0\\\\\n",
    "    b^0\\\\\n",
    "    \\omega^0\\\\\n",
    "    \\phi^0\\\\\n",
    "  \\end{array} } \\right] + \\left[ {\\begin{array}{cccc}\n",
    "    \\delta K\\\\\n",
    "    \\delta B\\\\\n",
    "    \\delta k\\\\\n",
    "    \\delta b\\\\\n",
    "    \\delta \\omega\\\\\n",
    "    \\delta \\phi\\\\\n",
    "  \\end{array} } \\right] $$"
   ]
  },
  {
   "cell_type": "markdown",
   "metadata": {},
   "source": [
    " ### Задача 12.1.3.1 $\\star$\n",
    " \n",
    " Напишите функцию:\n",
    " \n",
    " ```python\n",
    "def get_a(data, T_0):\n",
    "    \"Ваш код\"\n",
    "    return A\n",
    "```\n",
    "> Функция на вход принимает:\n",
    "* ```data``` - cписок координат точек (можно сразу передавать массив из ```numpy```):\n",
    "```python\n",
    "[[x_1, y_1], [x_2, y_2], ..., [x_n, y_n]]\n",
    "```\n",
    "* ```T_0``` - список приближенных значений параметров трансформации $K^0$, $B^0$, $k^0$, $b^0$, $\\omega^0$, $\\phi^0$\n",
    "```python\n",
    "[K_0, B_0, k_0, b_0, omega_0, phi_0]\n",
    "```\n",
    "> Функция возвращает:\n",
    "* ```A``` - матрицу частных производных\n",
    "\n",
    "$$A = \\left[ {\\begin{array}{cccccc}\n",
    "    x_1 & 1 & x_1\\sin(\\omega^0 x_1 + \\phi^0) & \\sin(\\omega^0 x_1 + \\phi^0) & x_1(k^0x_1 + b^0)\\cos(\\omega^0 x_1 + \\phi^0) & (k^0x_1 + b^0)\\cos(\\omega^0 x_1 + \\phi^0)\\\\\n",
    "    x_2 & 1 & x_2\\sin(\\omega^0 x_2 + \\phi^0) & \\sin(\\omega^0 x_2 + \\phi^0) & x_2(k^0x_2 + b^0)\\cos(\\omega^0 x_2 + \\phi^0) & (k^0x_2 + b^0)\\cos(\\omega^0 x_2 + \\phi^0)\\\\\n",
    "    \\vdots & \\vdots & \\vdots & \\vdots & \\vdots & \\vdots\\\\\n",
    "    x_n & 1 & x_n\\sin(\\omega^0 x_n + \\phi^0) & \\sin(\\omega^0 x_n + \\phi^0) & x_n(k^0x_n + b^0)\\cos(\\omega^0 x_n + \\phi^0) & (k^0x_n + b^0)\\cos(\\omega^0 x_n + \\phi^0)\\\\\n",
    "  \\end{array} } \\right]$$"
   ]
  },
  {
   "cell_type": "code",
   "execution_count": null,
   "metadata": {},
   "outputs": [],
   "source": []
  },
  {
   "cell_type": "markdown",
   "metadata": {},
   "source": [
    "***\n",
    "***"
   ]
  },
  {
   "cell_type": "markdown",
   "metadata": {},
   "source": [
    "### Задача 12.1.3.2 $\\star$\n",
    " \n",
    " Напишите функцию:\n",
    " \n",
    " ```python\n",
    "def get_l(data, T_0):\n",
    "    \"Ваш код\"\n",
    "    return L\n",
    "```\n",
    "> Функция на вход принимает:\n",
    "* ```data``` - cписок координат точек (можно сразу передавать массив из ```numpy```):\n",
    "```python\n",
    "[[x_1, y_1], [x_2, y_2], ..., [x_n, y_n]]\n",
    "```\n",
    "* ```T_0``` - список приближенных значений параметров трансформации $K^0$, $B^0$, $k^0$, $b^0$, $\\omega^0$, $\\phi^0$\n",
    "```python\n",
    "[K_0, B_0, k_0, b_0, omega_0, phi_0]\n",
    "```\n",
    "\n",
    "> Функция возвращает:\n",
    "* ```L``` - вектор свободных членов\n",
    "$$ L_{n \\times 1} =   \\left[ {\\begin{array}{cccc}\n",
    "    \\left( K^0x_1 + B^0 \\right) + \\left( k^0x_1 + b^0\\right)\\sin \\left( \\omega^0 x_1 + \\phi^0 \\right) - y_1\\\\\n",
    "    \\left( K^0x_2 + B^0 \\right) + \\left( k^0x_2 + b^0\\right)\\sin \\left( \\omega^0 x_2 + \\phi^0 \\right) - y_2\\\\\n",
    "    \\vdots \\\\\n",
    "    \\left( K^0x_n + B^0 \\right) + \\left( k^0x_n + b^0\\right)\\sin \\left( \\omega^0 x_n + \\phi^0 \\right) - y_n\n",
    "  \\end{array} } \\right] $$"
   ]
  },
  {
   "cell_type": "code",
   "execution_count": null,
   "metadata": {},
   "outputs": [],
   "source": []
  },
  {
   "cell_type": "markdown",
   "metadata": {},
   "source": [
    "***\n",
    "***"
   ]
  },
  {
   "cell_type": "markdown",
   "metadata": {},
   "source": [
    "### Задача 12.1.3.3 $\\star$\n",
    " \n",
    "  Используя свои функции ```get_a``` и ```get_l```, напишите функцию:\n",
    " \n",
    " ```python\n",
    "def get_dT(data, T_0):\n",
    "    \"Ваш код\"\n",
    "    return dT\n",
    "```\n",
    "> Функция на вход принимает:\n",
    "* ```data``` - cписок координат точек (можно сразу передавать массив из ```numpy```):\n",
    "```python\n",
    "[[x_1, y_1], [x_2, y_2], ..., [x_n, y_n]]\n",
    "```\n",
    "* ```T_0``` - список приближенных значений параметров трансформации $K^0$, $B^0$, $k^0$, $b^0$, $\\omega^0$, $\\phi^0$\n",
    "```python\n",
    "[K_0, B_0, k_0, b_0, omega_0, phi_0]\n",
    "```\n",
    "> Функция возвращает:\n",
    "* ```dT``` - вектор поправок в приближенные значения параметров трансформации $K^0$, $B^0$, $k^0$, $b^0$, $\\omega^0$, $\\phi^0$\n",
    "\n",
    "$$ \\delta T = -N^{-1} \\cdot A^TL = \\left[ {\\begin{array}{cccc}\n",
    "    \\delta K\\\\\n",
    "    \\delta B\\\\\n",
    "    \\delta k\\\\\n",
    "    \\delta b\\\\\n",
    "    \\delta \\omega\\\\\n",
    "    \\delta \\phi\\\\\n",
    "  \\end{array} } \\right] $$\n",
    "\n",
    "$$ N = A^T \\cdot A $$"
   ]
  },
  {
   "cell_type": "code",
   "execution_count": null,
   "metadata": {},
   "outputs": [],
   "source": []
  },
  {
   "cell_type": "markdown",
   "metadata": {},
   "source": [
    "***\n",
    "***"
   ]
  },
  {
   "cell_type": "markdown",
   "metadata": {},
   "source": [
    "### Задача 12.1.3.4 $\\star$\n",
    " \n",
    "Используя свою функцию ```get_dT```, напишите функцию:\n",
    "\n",
    "```python\n",
    "def calk_regres_param(data, T_0):\n",
    "    \"Ваш код\"\n",
    "    return T\n",
    "```\n",
    "> Функция на вход принимает:\n",
    "* ```data``` - cписок координат точек (можно сразу передавать массив из ```numpy```):\n",
    "```python\n",
    "[[x_1, y_1], [x_2, y_2], ..., [x_n, y_n]]\n",
    "```\n",
    "* ```T_0``` - список приближенных значений параметров трансформации $K^0$, $B^0$, $k^0$, $b^0$, $\\omega^0$, $\\phi^0$\n",
    "```python\n",
    "[K_0, B_0, k_0, b_0, omega_0, phi_0]\n",
    "```\n",
    "> Функция возвращает:\n",
    "* ```T``` - Вектор элементов внешнего ориентирования, необходимых для перехода от \"условной\" к \"целевой\" системе координат\n",
    "\n",
    "$$ T = \\left[ {\\begin{array}{cccc}\n",
    "    K^0\\\\\n",
    "    B^0\\\\\n",
    "    k^0\\\\\n",
    "    b^0\\\\\n",
    "    \\omega^0\\\\\n",
    "    \\phi^0\\\\\n",
    "  \\end{array} } \\right] + \\left[ {\\begin{array}{cccc}\n",
    "    \\delta K\\\\\n",
    "    \\delta B\\\\\n",
    "    \\delta k\\\\\n",
    "    \\delta b\\\\\n",
    "    \\delta \\omega\\\\\n",
    "    \\delta \\phi\\\\\n",
    "  \\end{array} } \\right]  $$\n",
    "  \n",
    "> **ВАЖНО!**\n",
    "\n",
    "> Учтите, что при изначально грубых значениях параметров трансформации $K^0$, $B^0$, $k^0$, $b^0$, $\\omega^0$, $\\phi^0$ значения поправок $\\delta K^0$, $\\delta B^0$, $\\delta k^0$, $\\delta b^0$, $\\delta \\omega^0$, $\\delta \\phi^0$ будут определены неточно из-за ошибок линеаризации исходных уравнений параметрических поправок!\n",
    "\n",
    "> В функции ```calk_regres_param``` решение будет итеративным до тех пор, пока вектор $\\delta T$ не станет пренебрежимо мал!"
   ]
  },
  {
   "cell_type": "code",
   "execution_count": null,
   "metadata": {},
   "outputs": [],
   "source": []
  },
  {
   "cell_type": "markdown",
   "metadata": {},
   "source": [
    "***\n",
    "***"
   ]
  },
  {
   "cell_type": "markdown",
   "metadata": {},
   "source": [
    "## Задача 12.1.4 $\\star$\n",
    "\n",
    "Постройте в одной области \n",
    "* график функции $ y = (Kx + B) + (kx + b)\\sin(\\omega x + \\phi) $ по рассчитанным через функцию ```calk_regres_param``` параметрам;\n",
    "* \"точечный\" график ```scatter plot```.\n",
    "\n",
    "> Оформите график, чтобы он выглядел, на Ваш взгляд, наиболее представительно и красиво!\n",
    "\n",
    "> **ВАЖНО. С учетом блоьшого количества параметров при расчете функции регрессии есть риск сведение параметров в *ложный минимум*. Это будет визуально заметно по несовпадению рассчитанной функции с экспериментальными данными. Если это проихошло постарайтесь подобрать точнее список приближенных значений параметров трансформации $K^0$, $B^0$, $k^0$, $b^0$, $\\omega^0$, $\\phi^0$** "
   ]
  },
  {
   "cell_type": "code",
   "execution_count": null,
   "metadata": {},
   "outputs": [],
   "source": []
  },
  {
   "cell_type": "markdown",
   "metadata": {},
   "source": [
    "***\n",
    "***"
   ]
  },
  {
   "cell_type": "markdown",
   "metadata": {},
   "source": [
    "# Задача 12.2 $\\star$"
   ]
  },
  {
   "attachments": {},
   "cell_type": "markdown",
   "metadata": {},
   "source": [
    "### Исходные данные\n",
    "\n",
    "В текстовом файле ```heap.txt```, находящемся в папке ```src\\Task_10_2```, содержится информация о тахеометрической съемке склада полехного ископаемого."
   ]
  },
  {
   "cell_type": "markdown",
   "metadata": {},
   "source": [
    "<img src=\".\\src\\Task_10_2\\Heap.bmp\" width=\"600\">"
   ]
  },
  {
   "cell_type": "markdown",
   "metadata": {},
   "source": [
    "Даннные в файле записаны в соответствии со следующей структурой:\n",
    "\n",
    "$№ \\;точки$, $\\;\\;\\;\\;\\;\\;X\\;Север$, $\\;\\;\\;\\;\\;\\;Y\\;Восток$, $\\;\\;\\;\\;\\;\\;H\\;Высота$"
   ]
  },
  {
   "attachments": {
    "image.png": {
     "image/png": "[encoded data removed]"
    }
   },
   "cell_type": "markdown",
   "metadata": {},
   "source": [
    "![image.png](attachment:image.png)"
   ]
  },
  {
   "cell_type": "markdown",
   "metadata": {},
   "source": [
    "## Задача 12.2.1 $\\star$\n",
    "\n",
    "Прочитайте и распарсите файл ```heap.txt```, из папки ```src\\Task_10_2```.\n",
    "\n",
    "Постройте **трехмерный \"точечный\" график** с использованием модуля ```matplotlib```.\n",
    "\n",
    "> Оформите график, чтобы он выглядел, на Ваш взгляд, наиболее представительно и красиво!"
   ]
  },
  {
   "cell_type": "code",
   "execution_count": null,
   "metadata": {},
   "outputs": [],
   "source": []
  },
  {
   "cell_type": "markdown",
   "metadata": {},
   "source": [
    "***\n",
    "***"
   ]
  },
  {
   "cell_type": "markdown",
   "metadata": {},
   "source": [
    "## Задача 12.2.2 $\\star$\n",
    "\n",
    "Постройте, по данным съемки, **трехмерную триангуляционную поверхность** с использованием модуля ```matplotlib```.\n",
    "\n",
    "> Оформите график, чтобы он выглядел, на Ваш взгляд, наиболее представительно и красиво!"
   ]
  },
  {
   "cell_type": "code",
   "execution_count": null,
   "metadata": {},
   "outputs": [],
   "source": []
  },
  {
   "cell_type": "markdown",
   "metadata": {},
   "source": [
    "***\n",
    "***"
   ]
  },
  {
   "cell_type": "markdown",
   "metadata": {},
   "source": [
    "## Задача 12.2.3 \n",
    "\n",
    "Постройте, по данным съемки, **изолинии поверхности** добавьте их поверх **трехмерной триангуляционной поверхности**, построенной ранее.\n",
    "\n",
    "> Оформите график, чтобы он выглядел, на Ваш взгляд, наиболее представительно и красиво!"
   ]
  },
  {
   "cell_type": "code",
   "execution_count": null,
   "metadata": {},
   "outputs": [],
   "source": []
  },
  {
   "cell_type": "markdown",
   "metadata": {},
   "source": [
    "***\n",
    "***"
   ]
  }
 ],
 "metadata": {
  "kernelspec": {
   "display_name": "Python 3 (ipykernel)",
   "language": "python",
   "name": "python3"
  },
  "language_info": {
   "codemirror_mode": {
    "name": "ipython",
    "version": 3
   },
   "file_extension": ".py",
   "mimetype": "text/x-python",
   "name": "python",
   "nbconvert_exporter": "python",
   "pygments_lexer": "ipython3",
   "version": "3.9.0"
  },
  "toc": {
   "base_numbering": 1,
   "nav_menu": {},
   "number_sections": true,
   "sideBar": true,
   "skip_h1_title": false,
   "title_cell": "Table of Contents",
   "title_sidebar": "Contents",
   "toc_cell": true,
   "toc_position": {},
   "toc_section_display": true,
   "toc_window_display": false
  }
 },
 "nbformat": 4,
 "nbformat_minor": 4
}
