{
 "cells": [
  {
   "cell_type": "markdown",
   "metadata": {
    "toc": true
   },
   "source": [
    "<h1>Table of Contents<span class=\"tocSkip\"></span></h1>\n",
    "<div class=\"toc\"><ul class=\"toc-item\"><li><span><a href=\"#Задачи-на-базовое-ООП\" data-toc-modified-id=\"Задачи-на-базовое-ООП-1\"><span class=\"toc-item-num\">1&nbsp;&nbsp;</span>Задачи на базовое ООП</a></span></li><li><span><a href=\"#Задача-15-$\\star$\" data-toc-modified-id=\"Задача-15-$\\star$-2\"><span class=\"toc-item-num\">2&nbsp;&nbsp;</span>Задача 15 $\\star$</a></span><ul class=\"toc-item\"><li><span><a href=\"#Задача-15.1-$\\star$\" data-toc-modified-id=\"Задача-15.1-$\\star$-2.1\"><span class=\"toc-item-num\">2.1&nbsp;&nbsp;</span>Задача 15.1 $\\star$</a></span></li><li><span><a href=\"#Задача-15.2-$\\star$\" data-toc-modified-id=\"Задача-15.2-$\\star$-2.2\"><span class=\"toc-item-num\">2.2&nbsp;&nbsp;</span>Задача 15.2 $\\star$</a></span></li><li><span><a href=\"#Задача-15.3-$\\star$\" data-toc-modified-id=\"Задача-15.3-$\\star$-2.3\"><span class=\"toc-item-num\">2.3&nbsp;&nbsp;</span>Задача 15.3 $\\star$</a></span></li><li><span><a href=\"#Задача-15.4-$\\star$\" data-toc-modified-id=\"Задача-15.4-$\\star$-2.4\"><span class=\"toc-item-num\">2.4&nbsp;&nbsp;</span>Задача 15.4 $\\star$</a></span></li></ul></li></ul></div>"
   ]
  },
  {
   "cell_type": "markdown",
   "metadata": {},
   "source": [
    "# Задачи на базовое ООП"
   ]
  },
  {
   "cell_type": "markdown",
   "metadata": {},
   "source": [
    "# Задача 15 $\\star$\n",
    "\n",
    "Переписать код ранее написанного класса ```Point``` (```Точка```) так, чтобы он отвечал ***SOLID*** принципам.\n",
    "\n",
    "Для этого:"
   ]
  },
  {
   "cell_type": "markdown",
   "metadata": {},
   "source": [
    "## Задача 15.1 $\\star$\n",
    "\n",
    "**Написать класс ```Point``` (```Точка```).**\n",
    "\n",
    "В качестве необходимых атрибутов класс ```Point``` должен имплементировать:\n",
    "\n",
    "* Уникальный для каждой точки идентификатор ```id```, определяющий порядковый номер создаваемой точки (Можно реализовать через инкременитруемый счетчик в *статической переменной ```count```* реализованный на уровне класса);\n",
    "* Координаты ```x```, ```y```, ```z``` (для плоских координат ```z``` можно принимать по умолчанию равной ```0```);\n",
    "\n",
    "**Переопределите стандартный метод приведения объекта к строке ```__str__(self)``` и ```__repr__(self)``` (методы должны вернуть объект строки ```str``` описывающий объект в котором он вызван).**\n",
    "\n",
    "**Переопределите стандартный метод ```__eq__(self, other)``` который переопределяет оператор ```==```. Метод должен вернуть ```True``` если сам объект ```self``` равен объекту ```other``` и ```False``` - если нет.**"
   ]
  },
  {
   "cell_type": "code",
   "execution_count": null,
   "metadata": {},
   "outputs": [],
   "source": []
  },
  {
   "cell_type": "markdown",
   "metadata": {},
   "source": [
    "***\n",
    "***"
   ]
  },
  {
   "cell_type": "markdown",
   "metadata": {},
   "source": [
    "## Задача 15.2 $\\star$\n",
    "\n",
    "**Написать класс ```ScanPoint``` (```Точка в скане```).**\n",
    "\n",
    "Класс ```ScanPoint``` может агрегировать через композицию класс ```Point``` или быть унаследованным от него.\n",
    "\n",
    "В качестве необходимых дополнительных атрибутов класс ```ScanPoint``` должен имплементировать:\n",
    "\n",
    "* Цвет точки в виде кортежа ```(R, G, B)```, где R, G, B - значения соответствующих цветов, лежащие в пределах от 0 до 255;\n",
    "\n",
    "> Атрибут цвета можно реализовать через отдельный класс (например ```ColorRGB```) который будет содержать в себе необходимые данные и их проверки\n",
    "\n",
    "**Переопределите стандартный метод приведения объекта к строке ```__str__(self)``` и ```__repr__(self)``` (методы должны вернуть объект строки ```str``` описывающий объект в котором он вызван).**"
   ]
  },
  {
   "cell_type": "code",
   "execution_count": null,
   "metadata": {},
   "outputs": [],
   "source": []
  },
  {
   "cell_type": "markdown",
   "metadata": {},
   "source": [
    "***\n",
    "***"
   ]
  },
  {
   "cell_type": "markdown",
   "metadata": {},
   "source": [
    "## Задача 15.3 $\\star$\n",
    "\n",
    "**Написать класс ```RMSPositionError``` (```Среднеквадратическая погрешность положения```).**\n",
    "\n",
    "В качестве необходимых дополнительных атрибутов класс ```RMSPositionError``` должен имплементировать:\n",
    "\n",
    "* Погрешности координат ```rms_x```, ```rms_y```, ```rms_z```\n",
    "* Параметры эллипса ошибок ```a``` - большая полуось эллипса,```b``` - малая полуось эллипса,```alpha``` - дирекционный угол большей полуоси эллипса.\n",
    "\n",
    "> Атрибуты эллипса ошибок можно вынести в отдельный класс ```Ellipse``` и агрегировать объект этого класса в конструкторе класса ```RMSPositionError```\n",
    "\n",
    "**Переопределите стандартный метод приведения объекта к строке ```__str__(self)``` и ```__repr__(self)``` (методы должны вернуть объект строки ```str``` описывающий объект в котором он вызван).**"
   ]
  },
  {
   "cell_type": "code",
   "execution_count": null,
   "metadata": {},
   "outputs": [],
   "source": []
  },
  {
   "cell_type": "markdown",
   "metadata": {},
   "source": [
    "***\n",
    "***"
   ]
  },
  {
   "cell_type": "markdown",
   "metadata": {},
   "source": [
    "## Задача 15.4 $\\star$\n",
    "\n",
    "**Написать класс ```CredoPoint``` (```Точка из \"Кредо\"```).**\n",
    "\n",
    "Класс ```CredoPoint``` может агрегировать через композицию класс ```Point``` или быть унаследованным от него.\n",
    "\n",
    "В качестве необходимых дополнительных атрибутов класс ```CredoPoint``` должен имплементировать:\n",
    "\n",
    "* Имя точки ```name``` **Заданные имена точек должны быть уникальны!**\n",
    "* Тип точки в плане ```xy_type``` **Тип точки должен соответствовать одному из следующих вариантов - \"Source\" (Исходная), \"pre_calculated\" (Предварительная) и \"calculated\" (Вычисляемая)**\n",
    "* Тип точки по высоте ```z_type``` **Тип точки должен соответствовать одному из следующих вариантов - \"Source\" (Исходная), \"pre_calculated\" (Предварительная) и \"calculated\" (Вычисляемая)**\n",
    "* Объект ```RMSPositionError``` определяющий погрешность положения точки.\n",
    "\n",
    "> Атрибуты типа точек ```xy_type``` и ```z_type``` можно вынести в отдельный класс перечисления ```ENUM``` \n",
    "* [Ссылка на статью](https://digitology.tech/docs/python_3/library/enum.html) \n",
    "* [Ссылка на документацию](https://docs-python.ru/standart-library/modul-enum-perechislenija-python/#:~:text=%D0%9F%D0%B5%D1%80%D0%B5%D1%87%D0%B8%D1%81%D0%BB%D0%B5%D0%BD%D0%B8%D1%8F%20Enum%20%D0%B2%20Python%20%2D%20%D1%8D%D1%82%D0%BE,%D0%B0%20%D1%81%D0%B0%D0%BC%D0%BE%20%D0%BF%D0%B5%D1%80%D0%B5%D1%87%D0%B8%D1%81%D0%BB%D0%B5%D0%BD%D0%B8%D0%B5%20%D0%BC%D0%BE%D0%B6%D0%B5%D1%82%20%D0%BF%D0%BE%D0%B2%D1%82%D0%BE%D1%80%D1%8F%D1%82%D1%8C%D1%81%D1%8F.)\n",
    "\n",
    "**Переопределите стандартный метод приведения объекта к строке ```__str__(self)``` и ```__repr__(self)``` (методы должны вернуть объект строки ```str``` описывающий объект в котором он вызван).**\n",
    "\n",
    "**Переопределите стандартный метод ```__eq__(self, other)``` который переопределяет оператор ```==```. Метод должен вернуть ```True``` если сам объект ```self``` равен объекту ```other``` и ```False``` - если нет.**"
   ]
  },
  {
   "cell_type": "code",
   "execution_count": null,
   "metadata": {},
   "outputs": [],
   "source": []
  },
  {
   "cell_type": "markdown",
   "metadata": {},
   "source": [
    "***\n",
    "***"
   ]
  }
 ],
 "metadata": {
  "kernelspec": {
   "display_name": "Python 3 (ipykernel)",
   "language": "python",
   "name": "python3"
  },
  "language_info": {
   "codemirror_mode": {
    "name": "ipython",
    "version": 3
   },
   "file_extension": ".py",
   "mimetype": "text/x-python",
   "name": "python",
   "nbconvert_exporter": "python",
   "pygments_lexer": "ipython3",
   "version": "3.9.0"
  },
  "toc": {
   "base_numbering": 1,
   "nav_menu": {},
   "number_sections": true,
   "sideBar": true,
   "skip_h1_title": false,
   "title_cell": "Table of Contents",
   "title_sidebar": "Contents",
   "toc_cell": true,
   "toc_position": {},
   "toc_section_display": true,
   "toc_window_display": false
  }
 },
 "nbformat": 4,
 "nbformat_minor": 4
}
