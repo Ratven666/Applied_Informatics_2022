{
 "cells": [
  {
   "cell_type": "markdown",
   "metadata": {
    "toc": true
   },
   "source": [
    "<h1>Table of Contents<span class=\"tocSkip\"></span></h1>\n",
    "<div class=\"toc\"><ul class=\"toc-item\"><li><span><a href=\"#Задачи-на-функции-2\" data-toc-modified-id=\"Задачи-на-функции-2-1\"><span class=\"toc-item-num\">1&nbsp;&nbsp;</span>Задачи на функции 2</a></span></li><li><span><a href=\"#Задача-10.1\" data-toc-modified-id=\"Задача-10.1-2\"><span class=\"toc-item-num\">2&nbsp;&nbsp;</span>Задача 10.1</a></span><ul class=\"toc-item\"><li><ul class=\"toc-item\"><li><span><a href=\"#ПРИМЕР\" data-toc-modified-id=\"ПРИМЕР-2.0.1\"><span class=\"toc-item-num\">2.0.1&nbsp;&nbsp;</span><strong>ПРИМЕР</strong></a></span></li></ul></li><li><span><a href=\"#Задача-10.1.1-$\\star$\" data-toc-modified-id=\"Задача-10.1.1-$\\star$-2.1\"><span class=\"toc-item-num\">2.1&nbsp;&nbsp;</span>Задача 10.1.1 $\\star$</a></span></li><li><span><a href=\"#Задача-10.1.2\" data-toc-modified-id=\"Задача-10.1.2-2.2\"><span class=\"toc-item-num\">2.2&nbsp;&nbsp;</span>Задача 10.1.2</a></span></li></ul></li><li><span><a href=\"#Задача-10.2-$\\star$\" data-toc-modified-id=\"Задача-10.2-$\\star$-3\"><span class=\"toc-item-num\">3&nbsp;&nbsp;</span>Задача 10.2 $\\star$</a></span><ul class=\"toc-item\"><li><span><a href=\"#Одномерный-случай\" data-toc-modified-id=\"Одномерный-случай-3.1\"><span class=\"toc-item-num\">3.1&nbsp;&nbsp;</span>Одномерный случай</a></span><ul class=\"toc-item\"><li><span><a href=\"#Метод-прямоугольников\" data-toc-modified-id=\"Метод-прямоугольников-3.1.1\"><span class=\"toc-item-num\">3.1.1&nbsp;&nbsp;</span>Метод прямоугольников</a></span></li><li><span><a href=\"#Метод-трапеций\" data-toc-modified-id=\"Метод-трапеций-3.1.2\"><span class=\"toc-item-num\">3.1.2&nbsp;&nbsp;</span>Метод трапеций</a></span></li><li><span><a href=\"#Метод-парабол-(метод-Симпсона)\" data-toc-modified-id=\"Метод-парабол-(метод-Симпсона)-3.1.3\"><span class=\"toc-item-num\">3.1.3&nbsp;&nbsp;</span>Метод парабол (метод Симпсона)</a></span></li></ul></li><li><span><a href=\"#Задача-10.2.1-$\\star$\" data-toc-modified-id=\"Задача-10.2.1-$\\star$-3.2\"><span class=\"toc-item-num\">3.2&nbsp;&nbsp;</span>Задача 10.2.1 $\\star$</a></span></li><li><span><a href=\"#Задача-10.2.2-$\\star$\" data-toc-modified-id=\"Задача-10.2.2-$\\star$-3.3\"><span class=\"toc-item-num\">3.3&nbsp;&nbsp;</span>Задача 10.2.2 $\\star$</a></span></li><li><span><a href=\"#Задача-10.3-$\\star$\" data-toc-modified-id=\"Задача-10.3-$\\star$-3.4\"><span class=\"toc-item-num\">3.4&nbsp;&nbsp;</span>Задача 10.3 $\\star$</a></span></li><li><span><a href=\"#Задача-10.4\" data-toc-modified-id=\"Задача-10.4-3.5\"><span class=\"toc-item-num\">3.5&nbsp;&nbsp;</span>Задача 10.4</a></span></li><li><span><a href=\"#Задача-10.5\" data-toc-modified-id=\"Задача-10.5-3.6\"><span class=\"toc-item-num\">3.6&nbsp;&nbsp;</span>Задача 10.5</a></span></li><li><span><a href=\"#Задача-10.6\" data-toc-modified-id=\"Задача-10.6-3.7\"><span class=\"toc-item-num\">3.7&nbsp;&nbsp;</span>Задача 10.6</a></span></li></ul></li></ul></div>"
   ]
  },
  {
   "cell_type": "markdown",
   "metadata": {},
   "source": [
    "# Задачи на функции 2"
   ]
  },
  {
   "cell_type": "markdown",
   "metadata": {},
   "source": [
    "# Задача 10.1\n",
    "\n",
    "**Формула площади Гаусса** (*формула землемера* или *формула шнурования* или *алгоритм шнурования*) — формула определения площади простого многоугольника, вершины которого заданы декартовыми координатами на плоскости. \n",
    "\n",
    "[Ссылка на статью \"Википедии\"](https://ru.wikipedia.org/wiki/%D0%A4%D0%BE%D1%80%D0%BC%D1%83%D0%BB%D0%B0_%D0%BF%D0%BB%D0%BE%D1%89%D0%B0%D0%B4%D0%B8_%D0%93%D0%B0%D1%83%D1%81%D1%81%D0%B0)."
   ]
  },
  {
   "cell_type": "markdown",
   "metadata": {},
   "source": [
    "$$ S = \\frac{1}{2}\\left|\\sum_{i=1}^{n-1} x_iy_{i+1} + x_ny_1 - \\sum_{i=1}^{n-1} x_{i+1}y_i - x_1y_n\\right|  = \\\\ =\n",
    "\\frac{1}{2}\\left|x_1y_2 + x_2y_3 + \\dots + x_{n-1}y_n + x_ny_1 - x_2y_1 - x_3y_2 - \\dots - x_ny_{n-1} - x_1y_n\\right|,\\; где $$\n",
    "\n",
    "$S$ - площадь многоугольника,\n",
    "\n",
    "$n$ - количество сторон многоугольника,\n",
    "\n",
    "$(x_i,y_i),\\; i = 1,2,\\dots,n$ - координаты вершин многоугольника\n",
    "\n",
    "Другое представление этой же формулы:\n",
    "\n",
    "$$ S = \\frac{1}{2} \\left|\\sum_{i=1}^n x_i \\big(y_{i+1} - y_{i-1}\\big)\\right| = \\\\\n",
    "= \\frac{1}{2} \\left|\\sum_{i=1}^n y_i \\big(x_{i+1} - x_{i-1}\\big)\\right| = \\\\\n",
    "= \\frac{1}{2} \\left|\\sum_{i=1}^n x_i y_{i+1} - x_{i+1} y_i\\right| = \\\\\n",
    "= \\frac{1}{2} \\left|\\sum_{i=1}^n \\det\\left( \\begin{matrix}\n",
    "  x_i & y_i \\\\\n",
    "  x_{i+1} & y_{i+1}\n",
    " \\end{matrix}\\right) \\right|, \\; где$$\n",
    " \n",
    " где\n",
    " \n",
    " $ x_{n+1} = x_1,\\; x_0 = x_n $\n",
    " \n",
    " $ y_{n+1} = y_1,\\; y_0 = y_n $\n",
    " \n",
    "Если точки пронумерованы последовательно в направлении против часовой стрелки, то детерминанты в формуле выше положительны, и модуль в ней может быть опущен; если они пронумерованы в направлении по часовой стрелке, то детерминанты будут отрицательными. "
   ]
  },
  {
   "cell_type": "markdown",
   "metadata": {},
   "source": [
    "### **ПРИМЕР**\n",
    "\n",
    "Для применения формулы необходимо знать координаты вершин многоугольника в декартовой плоскости. \n",
    "\n",
    "Для примера возьмём треугольник с координатами $ (2, 1),\\; (4, 5),\\; (7, 8) $. Возьмём координату $x$ первой вершины и умножим её на координату $y$ второй вершины, а затем умножим $x$ второй вершины на $y$ третьей. Повторим эту процедуру для всех вершин. \n",
    "\n",
    "Результат может быть определён по следующей формуле:\n",
    "\n",
    "$$ S_{tri} = \\frac{1}{2}\\left| x_1y_2 + x_2y_3 + x_3y_1 - x_2y_1 - x_3y_2 - x_1y_3 \\right| $$\n",
    "\n",
    "где $x_i$ и $y_i$ обозначают координаты соответствующих точек. \n",
    "\n",
    "Эту формулу можно получить, раскрыв скобки в общей формуле для случая $n = 3$. \n",
    "\n",
    "По этой формуле можно обнаружить, что \n",
    "\n",
    "$$ S_{\\bigtriangleup} = \\frac{1}{2}\\left| 2\\cdot5 + 4\\cdot8 + 7\\cdot1 - 4\\cdot1 - 7\\cdot5 - 2\\cdot8 \\right| = \\\\\n",
    "= \\frac{1}{2}\\left| 10 + 32 + 7 - 4 -35 - 16 \\right| = \\\\\n",
    "=  \\frac{1}{2}\\left| -6 \\right| = 3 $$"
   ]
  },
  {
   "cell_type": "markdown",
   "metadata": {},
   "source": [
    "## Задача 10.1.1 $\\star$\n",
    "\n",
    "> **Напишите функцию ```gauss_area``` принимающую кортежи из координат вершин многоугольника $(x_i,\\; y_i)$ и возвращающую площадь многоугольника, образованного ими.**"
   ]
  },
  {
   "cell_type": "code",
   "execution_count": 15,
   "metadata": {},
   "outputs": [],
   "source": [
    "def gauss_area(*points):\n",
    "    \"\"\"Ваш код\"\"\"\n",
    "    area = 0\n",
    "    \n",
    "    return area"
   ]
  },
  {
   "cell_type": "markdown",
   "metadata": {},
   "source": [
    "> Проверьте Ваш код на рассмотренном примере"
   ]
  },
  {
   "cell_type": "code",
   "execution_count": null,
   "metadata": {},
   "outputs": [],
   "source": [
    "print(gauss_area((2, 1), (4, 5), (7, 8)))"
   ]
  },
  {
   "cell_type": "markdown",
   "metadata": {},
   "source": [
    "> Проверьте Ваш код на собственных примерах:"
   ]
  },
  {
   "cell_type": "code",
   "execution_count": null,
   "metadata": {},
   "outputs": [],
   "source": []
  },
  {
   "cell_type": "markdown",
   "metadata": {},
   "source": [
    "## Задача 10.1.2 \n",
    "\n",
    "Проверьте работу Вашей функции на списках вершин полигонов, сформированных при решении задачи $9.2$"
   ]
  },
  {
   "cell_type": "code",
   "execution_count": null,
   "metadata": {},
   "outputs": [],
   "source": []
  },
  {
   "cell_type": "markdown",
   "metadata": {},
   "source": [
    "***\n",
    "***"
   ]
  },
  {
   "cell_type": "markdown",
   "metadata": {},
   "source": [
    "# Задача 10.2 $\\star$\n",
    "\n",
    "**Численное интегрирование** (историческое название: (численная) квадратура) — набор численных методов для вычисления значения определённого интеграла (как правило, приближённое). \n",
    "\n",
    "[Ссылка на статью \"Википедии\"](https://ru.wikipedia.org/wiki/%D0%A7%D0%B8%D1%81%D0%BB%D0%B5%D0%BD%D0%BD%D0%BE%D0%B5_%D0%B8%D0%BD%D1%82%D0%B5%D0%B3%D1%80%D0%B8%D1%80%D0%BE%D0%B2%D0%B0%D0%BD%D0%B8%D0%B5)."
   ]
  },
  {
   "cell_type": "markdown",
   "metadata": {},
   "source": [
    "## Одномерный случай\n",
    "\n",
    "Одномерный определённый интеграл равен площади криволинейной трапеции под графиком функции:"
   ]
  },
  {
   "cell_type": "code",
   "execution_count": null,
   "metadata": {},
   "outputs": [],
   "source": []
  },
  {
   "cell_type": "markdown",
   "metadata": {},
   "source": [
    "<img src=\".\\img\\Integral_of_function.png\" width=\"300\">"
   ]
  },
  {
   "cell_type": "markdown",
   "metadata": {},
   "source": [
    "Основная идея большинства методов численного интегрирования состоит в замене подынтегральной функции на более простую, интеграл от которой легко вычисляется аналитически. При этом для оценки значения интеграла получаются формулы вида\n",
    "\n",
    "$$ I \\approx \\sum_{i=1}^n w_if(x_i) $$\n",
    "\n",
    "где $ n $ — число точек, в которых вычисляется значение подынтегральной функции. Точки $ x_i $  называются узлами метода, числа $w_{i} $ — весами узлов. \n",
    "\n",
    "При замене подынтегральной функции на полином нулевой, первой и второй степени получаются соответственно методы прямоугольников, трапеций и парабол (Симпсона)."
   ]
  },
  {
   "cell_type": "markdown",
   "metadata": {},
   "source": [
    "### Метод прямоугольников\n",
    "\n",
    "Пусть требуется определить значение интеграла функции на отрезке $\\left[a,\\; b\\right]$ Этот отрезок делится точками $x_0,x_1,\\dots,x_{n-1},x_n$ на $ n $ равных отрезков длиной $\\Delta x = \\frac{b-a}{n} $. \n",
    "\n",
    "Обозначим через $y_o,y_1, \\dots, y_{n-1},y_n$ значение функции $f(x)$ в точках $x_0,x_1,\\dots,x_{n-1},x_n$.\n",
    "\n",
    "Далее составляем суммы $y_0\\Delta x + y_1\\Delta x + \\dots + y_{n-1}\\Delta x$. Каждая из сумм — интегральная сумма для $f(x)$ на $\\left[a,\\; b\\right]$  и поэтому приближённо выражает интеграл\n",
    "\n",
    "$$ I \\approx \\int\\limits_a^b f(x)dx \\approx \\frac{b-a}{n}\\big(y_0 + y_1 + \\dots + y_{n+1} \\big) $$\n",
    "\n",
    "Если заданная функция — положительная и возрастающая, то эта формула выражает площадь ступенчатой фигуры, составленной из «входящих» прямоугольников, также называемая формулой левых прямоугольников.\n",
    "\n",
    "Очевидно, стоит рассчитывать на большую точность, если брать в качестве опорной точки для нахождения высоты точку посередине промежутка. В результате получаем формулу средних прямоугольников:\n",
    "\n",
    "$$ I \\approx \\int\\limits_a^b f(x)dx \\approx h \\sum_{i=1}^n f\\left(x_{i-1} + \\frac{h}{2}\\right) = h \\sum_{i=1}^n f\\left(x_{i} - \\frac{h}{2}\\right) , $$\n",
    "\n",
    "где $ h = \\frac{b-a}{n} $\n",
    "\n",
    "Учитывая априорно большую точность последней формулы при том же объёме и характере вычислений её называют формулой прямоугольников.\n",
    "\n",
    "[Ссылка на статью \"Википедии\"](https://ru.wikipedia.org/wiki/%D0%9C%D0%B5%D1%82%D0%BE%D0%B4_%D0%BF%D1%80%D1%8F%D0%BC%D0%BE%D1%83%D0%B3%D0%BE%D0%BB%D1%8C%D0%BD%D0%B8%D0%BA%D0%BE%D0%B2)."
   ]
  },
  {
   "cell_type": "markdown",
   "metadata": {},
   "source": [
    "### Метод трапеций\n",
    "\n",
    "Если функцию на каждом из частичных отрезков аппроксимировать прямой, проходящей через конечные значения, то получим метод трапеций.\n",
    "\n",
    "Площадь трапеции на каждом отрезке:\n",
    "\n",
    "$$ I_i \\approx \\frac{f(x_{i-1}) + f(x_i)}{2} (x_i - x_{i-1}). $$\n",
    "\n",
    "Полная формула трапеций в случае деления всего промежутка интегрирования на отрезки одинаковой длины $h$:\n",
    "\n",
    "$$ I \\approx \\int\\limits_a^b f(x)dx \\approx h\\left( \\frac{f(x_0) + f(x_n)}{2} + \\sum_{i=1}^{n-1} f(x_i)\\right), $$\n",
    "\n",
    "где $ h = \\frac{b-a}{n} $\n",
    "\n",
    "[Ссылка на статью \"Википедии\"](https://ru.wikipedia.org/wiki/%D0%9C%D0%B5%D1%82%D0%BE%D0%B4_%D1%82%D1%80%D0%B0%D0%BF%D0%B5%D1%86%D0%B8%D0%B9)."
   ]
  },
  {
   "cell_type": "markdown",
   "metadata": {},
   "source": [
    "### Метод парабол (метод Симпсона)\n",
    "\n",
    "Использовав три точки отрезка интегрирования, можно заменить подынтегральную функцию параболой. Обычно в качестве таких точек используют концы отрезка и его среднюю точку. В этом случае формула имеет очень простой вид\n",
    "\n",
    "$$ I \\approx \\frac{b-a}{6} \\left(f(a) +4f\\left(\\frac{a+b}{2}\\right) + f(b)\\right) $$\n",
    "\n",
    "Если разбить интервал интегрирования на $2n$ равных частей, то имеем\n",
    "\n",
    "$$ I \\approx \\int\\limits_a^b f(x)dx \\approx \\frac{b-a}{6n} \\left(f_0 + 4(f_1 + f_3 + \\dots + f_{2n-1}) + 2(f_2 + f_4 + \\dots + f_{2n-2}) +f_{2n}\\right), $$\n",
    "\n",
    "где $ f_i = f\\left(a + \\frac{(b-a)i}{2n}\\right) $\n",
    "\n",
    "[Ссылка на статью \"Википедии\"](https://ru.wikipedia.org/wiki/%D0%A4%D0%BE%D1%80%D0%BC%D1%83%D0%BB%D0%B0_%D0%A1%D0%B8%D0%BC%D0%BF%D1%81%D0%BE%D0%BD%D0%B0)."
   ]
  },
  {
   "cell_type": "markdown",
   "metadata": {},
   "source": [
    "## Задача 10.2.1 $\\star$\n",
    "\n",
    "> **Напишите функцию ```normal_law_probability``` принимающую:**\n",
    "* Значение математического ожидания  - $M(x)$;\n",
    "* Среднего квадратического отклонения - $\\sigma$;\n",
    "* Границы области $a$ и $b$;\n",
    "\n",
    "> **и возвращающую вероятность попадания случайной величины в указанный интервал $\\left[a, b\\right]$**"
   ]
  },
  {
   "cell_type": "markdown",
   "metadata": {},
   "source": [
    "**Для этого**\n",
    "\n",
    "1. *Напишите функцию ```normal_law_function``` которая принимает значение аргумента $x$, математического ожидания $M(x)$ и среднего квадратического отклонения - $\\sigma$ и возвращает значение функции плотности нормального распределения.*\n",
    "\n",
    "> Функция плотности нормального закона распределения определяется как:\n",
    "\n",
    "$$ \\Large f(x) = \\frac{1}{\\sigma\\sqrt{2\\pi}} \\exp^{-\\frac{1}{2}\\left(\\frac{x - M(x)}{\\sigma} \\right)^2} $$"
   ]
  },
  {
   "cell_type": "code",
   "execution_count": 12,
   "metadata": {},
   "outputs": [],
   "source": [
    "def normal_law_function(x, mean, sigma):\n",
    "    \"\"\"Ваш код\"\"\"\n",
    "    f_x = ...\n",
    "    return f_x"
   ]
  },
  {
   "cell_type": "markdown",
   "metadata": {},
   "source": [
    "2.  *Напишите функцию ```normal_law_probability```, принимающую:*\n",
    "* Значение математического ожидания  - $M(x)$;\n",
    "* Среднего квадратического отклонения - $\\sigma$;\n",
    "* Границы области $a$ и $b$;\n",
    "\n",
    "*и рассчитывающую численным методом вероятность попадания случайной величины в указанный интервал $\\left[a, b\\right]$*\n",
    "\n",
    "* Выберите вариант численного интегрирования и реализуйте функцию:"
   ]
  },
  {
   "cell_type": "code",
   "execution_count": 14,
   "metadata": {},
   "outputs": [
    {
     "ename": "SyntaxError",
     "evalue": "invalid syntax (305536138.py, line 1)",
     "output_type": "error",
     "traceback": [
      "\u001b[1;36m  Input \u001b[1;32mIn [14]\u001b[1;36m\u001b[0m\n\u001b[1;33m    def normal_law_probability(...):\u001b[0m\n\u001b[1;37m                               ^\u001b[0m\n\u001b[1;31mSyntaxError\u001b[0m\u001b[1;31m:\u001b[0m invalid syntax\n"
     ]
    }
   ],
   "source": [
    "def normal_law_probability(...):\n",
    "    \"\"\"Ваш код\"\"\"\n",
    "    probability = ...\n",
    "    return probability"
   ]
  },
  {
   "cell_type": "markdown",
   "metadata": {},
   "source": [
    "3.  *Проверьте Вашу функцию ```normal_law_probability``` на значениях ```интеграла вероятности``` для которого:*\n",
    "* Значение математического ожидания  - $M(x) = 0$;\n",
    "* Среднего квадратического отклонения - $\\sigma = 1$;\n",
    "* Границы области $a$ и $b$ равны соответственно $-t$ и $t$;\n",
    "\n",
    "$$ \\Large Ф_0(t) = \\frac{1}{\\sqrt{2\\pi}} \\int\\limits_{-t}^t \\exp^{-\\frac{t^2}{2}}dt $$\n",
    "\n",
    "*сравните полученные результаты с табличными значениями.*"
   ]
  },
  {
   "cell_type": "markdown",
   "metadata": {},
   "source": [
    "<img src=\"img\\Integral_of_probability.png\" width=\"600\">"
   ]
  },
  {
   "cell_type": "code",
   "execution_count": null,
   "metadata": {},
   "outputs": [],
   "source": []
  },
  {
   "cell_type": "markdown",
   "metadata": {},
   "source": [
    "***\n",
    "***"
   ]
  },
  {
   "cell_type": "markdown",
   "metadata": {},
   "source": [
    "## Задача 10.2.2 $\\star$\n",
    "\n",
    "*Перепишите код функции ```normal_law_probability``` таким образом, чтобы в ней по умолчанию принимались значения:*\n",
    "\n",
    "* значение математического ожидания  - $M(x) = 0$;\n",
    "* среднего квадратического отклонения - $\\sigma = 1$;\n",
    "* в качестве области интегрирования принималось одно число $a$, а второе выбиралось как обратное ему $(b = -a)$, но сохранялась возможность явного указания несимметричных границ - $a$ и $b$;\n",
    "\n",
    "> **Функция должна работать при любых значениях!**"
   ]
  },
  {
   "cell_type": "code",
   "execution_count": null,
   "metadata": {},
   "outputs": [],
   "source": []
  },
  {
   "cell_type": "markdown",
   "metadata": {},
   "source": [
    "***\n",
    "***"
   ]
  },
  {
   "cell_type": "markdown",
   "metadata": {},
   "source": [
    "## Задача 10.3 $\\star$\n",
    "\n",
    "> **Напишите код функции ```probability_calculation``` принимающую:**\n",
    "\n",
    "* Границы области $a$ и $b$;\n",
    "* Объект функции ```prob_density_func```, возвращающей значение функции плоности распределения в точке $x$;\n",
    "* Произвольное количество аргументов, необходимых для рассчета функции ```prob_density_func```\n",
    "\n",
    "> **и рассчитывающую численным методом вероятность попадания случайной величины в указанный интервал $\\left[a, b\\right]$ для введенной функции плотности распределения вероятности**\n",
    "\n",
    "* Вариант численного интегрирования выберите самостоятельно."
   ]
  },
  {
   "cell_type": "code",
   "execution_count": 16,
   "metadata": {},
   "outputs": [],
   "source": [
    "def probability_calculation(a, b, prob_density_func, *args):\n",
    "    \"\"\"Ваш код\"\"\"\n",
    "    probability = ...\n",
    "    return probability"
   ]
  },
  {
   "cell_type": "markdown",
   "metadata": {},
   "source": [
    "> **Проверьте результат работы Вашей функции для реализованной ранее функйии ```normal_law_function(x, mean, sigma)```**"
   ]
  },
  {
   "cell_type": "code",
   "execution_count": 17,
   "metadata": {},
   "outputs": [
    {
     "name": "stdout",
     "output_type": "stream",
     "text": [
      "Ellipsis\n"
     ]
    }
   ],
   "source": [
    "print(probability_calculation(-1, 1, normal_law_function, 0, 1))"
   ]
  },
  {
   "cell_type": "markdown",
   "metadata": {},
   "source": [
    "***\n",
    "***"
   ]
  },
  {
   "cell_type": "markdown",
   "metadata": {},
   "source": [
    "## Задача 10.4\n",
    "\n",
    "> **Реализуйте по аналогии с предыдущей задачей оставшиеся алгоритмы численного интегрирования.** "
   ]
  },
  {
   "cell_type": "code",
   "execution_count": null,
   "metadata": {},
   "outputs": [],
   "source": []
  },
  {
   "cell_type": "markdown",
   "metadata": {},
   "source": [
    "***\n",
    "***"
   ]
  },
  {
   "cell_type": "markdown",
   "metadata": {},
   "source": [
    "## Задача 10.5\n",
    "\n",
    "> **По аналогии с функцией нормального распредления ```normal_law_function``` pеализуйте вычисление вероятностей для других законов распределения:**\n",
    "\n",
    "* [Равномерного распределения](https://ru.wikipedia.org/wiki/%D0%9D%D0%B5%D0%BF%D1%80%D0%B5%D1%80%D1%8B%D0%B2%D0%BD%D0%BE%D0%B5_%D1%80%D0%B0%D0%B2%D0%BD%D0%BE%D0%BC%D0%B5%D1%80%D0%BD%D0%BE%D0%B5_%D1%80%D0%B0%D1%81%D0%BF%D1%80%D0%B5%D0%B4%D0%B5%D0%BB%D0%B5%D0%BD%D0%B8%D0%B5)\n",
    "* [Логнормального распределения](https://ru.wikipedia.org/wiki/%D0%9B%D0%BE%D0%B3%D0%BD%D0%BE%D1%80%D0%BC%D0%B0%D0%BB%D1%8C%D0%BD%D0%BE%D0%B5_%D1%80%D0%B0%D1%81%D0%BF%D1%80%D0%B5%D0%B4%D0%B5%D0%BB%D0%B5%D0%BD%D0%B8%D0%B5)\n",
    "* [Распределения Стьюдента](https://ru.wikipedia.org/wiki/%D0%A0%D0%B0%D1%81%D0%BF%D1%80%D0%B5%D0%B4%D0%B5%D0%BB%D0%B5%D0%BD%D0%B8%D0%B5_%D0%A1%D1%82%D1%8C%D1%8E%D0%B4%D0%B5%D0%BD%D1%82%D0%B0)"
   ]
  },
  {
   "cell_type": "code",
   "execution_count": null,
   "metadata": {},
   "outputs": [],
   "source": []
  },
  {
   "cell_type": "markdown",
   "metadata": {},
   "source": [
    "> **Проверьте результат работы Вашей функции ```probability_calculation``` для реализованных законов**"
   ]
  },
  {
   "cell_type": "code",
   "execution_count": null,
   "metadata": {},
   "outputs": [],
   "source": []
  },
  {
   "cell_type": "markdown",
   "metadata": {},
   "source": [
    "***\n",
    "***"
   ]
  },
  {
   "cell_type": "markdown",
   "metadata": {},
   "source": [
    "## Задача 10.6\n",
    "\n",
    "> **Используя собственные функции рассчитайте и выведите в файл вероятности попадания случайных величин в интервалы, по аналогии с таблицей *интеграла вероятности*, представленного в задаче 10.2.1.**"
   ]
  },
  {
   "cell_type": "code",
   "execution_count": null,
   "metadata": {},
   "outputs": [],
   "source": []
  },
  {
   "cell_type": "markdown",
   "metadata": {},
   "source": [
    "***\n",
    "***"
   ]
  }
 ],
 "metadata": {
  "kernelspec": {
   "display_name": "Python 3 (ipykernel)",
   "language": "python",
   "name": "python3"
  },
  "language_info": {
   "codemirror_mode": {
    "name": "ipython",
    "version": 3
   },
   "file_extension": ".py",
   "mimetype": "text/x-python",
   "name": "python",
   "nbconvert_exporter": "python",
   "pygments_lexer": "ipython3",
   "version": "3.9.0"
  },
  "toc": {
   "base_numbering": 1,
   "nav_menu": {},
   "number_sections": true,
   "sideBar": true,
   "skip_h1_title": false,
   "title_cell": "Table of Contents",
   "title_sidebar": "Contents",
   "toc_cell": true,
   "toc_position": {},
   "toc_section_display": true,
   "toc_window_display": false
  }
 },
 "nbformat": 4,
 "nbformat_minor": 4
}
