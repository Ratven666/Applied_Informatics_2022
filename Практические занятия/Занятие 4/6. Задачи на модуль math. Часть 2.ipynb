{
 "cells": [
  {
   "cell_type": "markdown",
   "metadata": {
    "toc": true
   },
   "source": [
    "<h1>Table of Contents<span class=\"tocSkip\"></span></h1>\n",
    "<div class=\"toc\"><ul class=\"toc-item\"><li><span><a href=\"#Задачи-на-модуль-math.-Часть-2\" data-toc-modified-id=\"Задачи-на-модуль-math.-Часть-2-1\"><span class=\"toc-item-num\">1&nbsp;&nbsp;</span>Задачи на модуль <code>math</code>. Часть 2</a></span><ul class=\"toc-item\"><li><span><a href=\"#Задача-5.1.1-$\\star$\" data-toc-modified-id=\"Задача-5.1.1-$\\star$-1.1\"><span class=\"toc-item-num\">1.1&nbsp;&nbsp;</span>Задача 5.1.1 $\\star$</a></span></li><li><span><a href=\"#Задача-5.1.2\" data-toc-modified-id=\"Задача-5.1.2-1.2\"><span class=\"toc-item-num\">1.2&nbsp;&nbsp;</span>Задача 5.1.2</a></span></li><li><span><a href=\"#Задача-5.2.1-$\\star$\" data-toc-modified-id=\"Задача-5.2.1-$\\star$-1.3\"><span class=\"toc-item-num\">1.3&nbsp;&nbsp;</span>Задача 5.2.1 $\\star$</a></span></li><li><span><a href=\"#Задача-5.2.2\" data-toc-modified-id=\"Задача-5.2.2-1.4\"><span class=\"toc-item-num\">1.4&nbsp;&nbsp;</span>Задача 5.2.2</a></span></li><li><span><a href=\"#Задача-5.3.1-$\\star$\" data-toc-modified-id=\"Задача-5.3.1-$\\star$-1.5\"><span class=\"toc-item-num\">1.5&nbsp;&nbsp;</span>Задача 5.3.1 $\\star$</a></span></li><li><span><a href=\"#Задача-5.3.2\" data-toc-modified-id=\"Задача-5.3.2-1.6\"><span class=\"toc-item-num\">1.6&nbsp;&nbsp;</span>Задача 5.3.2</a></span></li></ul></li></ul></div>"
   ]
  },
  {
   "cell_type": "markdown",
   "metadata": {},
   "source": [
    "# Задачи на модуль ```math```. Часть 2"
   ]
  },
  {
   "cell_type": "markdown",
   "metadata": {},
   "source": [
    "## Задача 5.1.1 $\\star$\n",
    "\n",
    "Рассчитайте через ряд Маклорена значение функции $ \\exp^x $\n",
    "\n",
    "$$ e^x = 1 + \\frac{x}{1!} + \\frac{x^2}{2!} + \\frac{x^3}{3!} + \\frac{x^4}{4!},\\;\\; x \\in \\mathbb{C} $$\n",
    "\n",
    "Сравните полученное значение с с переменной $ e^x $ из модуля ```math``` (```math.exp(X)```)\n",
    "\n",
    "> для отображения в консоли большего числа знаков полсле запятой воспользуйтесь следующей функцией:\n",
    "\n",
    "```python\n",
    "print(format(exp(x), \".50f\"))\n",
    "```\n",
    "\n",
    "> где ```50``` в строке ```\".50f\"``` - количество цифр после запятой"
   ]
  },
  {
   "cell_type": "code",
   "execution_count": null,
   "metadata": {},
   "outputs": [],
   "source": []
  },
  {
   "cell_type": "markdown",
   "metadata": {},
   "source": [
    "## Задача 5.1.2\n",
    "\n",
    "Рассчитайте через ряд Маклорена значение функции $ \\sin(x) $\n",
    "\n",
    "$$ \\sin(x) = x - \\frac{x^3}{3!} + \\frac{x^5}{5!} - \\frac{x^7}{7!} + \\frac{x^9}{9!},\\;\\; x \\in \\mathbb{C} $$\n",
    "\n",
    "Сравните полученное значение с с переменной $ \\sin(x) $ из модуля ```math``` (```math.sin(X)```)\n",
    "\n",
    "> для отображения в консоли большего числа знаков полсле запятой воспользуйтесь следующей функцией:\n",
    "\n",
    "```python\n",
    "print(format(sin(x), \".50f\"))\n",
    "```\n",
    "\n",
    "> где ```50``` в строке ```\".50f\"``` - количество цифр после запятой"
   ]
  },
  {
   "cell_type": "code",
   "execution_count": null,
   "metadata": {},
   "outputs": [],
   "source": []
  },
  {
   "cell_type": "markdown",
   "metadata": {},
   "source": [
    "***\n",
    "***"
   ]
  },
  {
   "cell_type": "markdown",
   "metadata": {},
   "source": [
    "## Задача 5.2.1 $\\star$\n",
    "\n",
    "Рассчитайте через ряд Маклорена значение функции $ \\exp^x $ через цикл ```while```.\n",
    "\n",
    "$$ e^x = \\sum_{n=0}^{\\infty}\\frac{x^n}{n!},\\;\\; x \\in \\mathbb{C} $$\n",
    "\n",
    "Реализуйте выход их цикла при выполнении рассчета ```n-ой``` иттерации.\n",
    "\n",
    "> Сравните полученное значение с с переменной $ e^x $ из модуля ```math``` (```math.exp(X)```)"
   ]
  },
  {
   "cell_type": "code",
   "execution_count": null,
   "metadata": {},
   "outputs": [],
   "source": []
  },
  {
   "cell_type": "markdown",
   "metadata": {},
   "source": [
    "## Задача 5.2.2\n",
    "\n",
    "Рассчитайте через ряд Маклорена значение функции $ \\sin(x) $ через цикл ```while```\n",
    "\n",
    "$$ \\sin(x) = \\sum_{n=0}^{\\infty}\\frac{(-1)^nx^{2n+1}}{(2n+1)!},\\;\\; x \\in \\mathbb{C} $$\n",
    "\n",
    "Реализуйте выход их цикла при выполнении рассчета ```n-ой``` иттерации.\n",
    "\n",
    "> Сравните полученное значение с с переменной $ \\sin(x) $ из модуля ```math``` (```math.sin(X)```)"
   ]
  },
  {
   "cell_type": "code",
   "execution_count": null,
   "metadata": {},
   "outputs": [],
   "source": []
  },
  {
   "cell_type": "markdown",
   "metadata": {},
   "source": [
    "***\n",
    "***"
   ]
  },
  {
   "cell_type": "markdown",
   "metadata": {},
   "source": [
    "## Задача 5.3.1 $\\star$\n",
    "\n",
    "Рассчитайте через ряд Маклорена значение функции $ \\exp^x $ через цикл ```while```.\n",
    "\n",
    "$$ e^x = \\sum_{n=0}^{\\infty}\\frac{x^n}{n!},\\;\\; x \\in \\mathbb{C} $$\n",
    "\n",
    "Реализуйте выход их цикла при достиженнии точности рассчета в ```n-ом``` знаке после запятой.\n",
    "\n",
    "> Реализуйте проверку без сравнения со значениями получаемыми из встроенных функций!\n",
    "\n",
    "> Округлите результат до требуемого знака\n",
    "\n",
    "> Сравните полученное значение с с переменной $ e^x $ из модуля ```math``` (```math.exp(X)```)"
   ]
  },
  {
   "cell_type": "code",
   "execution_count": null,
   "metadata": {},
   "outputs": [],
   "source": []
  },
  {
   "cell_type": "markdown",
   "metadata": {},
   "source": [
    "## Задача 5.3.2\n",
    "\n",
    "Рассчитайте через ряд Маклорена значение функции $ \\sin(x) $ через цикл ```while```\n",
    "\n",
    "$$ \\sin(x) = \\sum_{n=0}^{\\infty}\\frac{(-1)^nx^{2n+1}}{(2n+1)!},\\;\\; x \\in \\mathbb{C} $$\n",
    "\n",
    "Реализуйте выход их цикла при достиженнии точности рассчета в ```n-ом``` знаке после запятой.\n",
    "\n",
    "> Реализуйте проверку без сравнения со значениями получаемыми из встроенных функций!\n",
    "\n",
    "> Округлите результат до требуемого знака\n",
    "\n",
    "> Сравните полученное значение с с переменной $ \\sin(x) $ из модуля ```math``` (```math.sin(X)```)"
   ]
  },
  {
   "cell_type": "code",
   "execution_count": null,
   "metadata": {},
   "outputs": [],
   "source": []
  },
  {
   "cell_type": "markdown",
   "metadata": {},
   "source": [
    "***\n",
    "***"
   ]
  }
 ],
 "metadata": {
  "kernelspec": {
   "display_name": "Python 3 (ipykernel)",
   "language": "python",
   "name": "python3"
  },
  "language_info": {
   "codemirror_mode": {
    "name": "ipython",
    "version": 3
   },
   "file_extension": ".py",
   "mimetype": "text/x-python",
   "name": "python",
   "nbconvert_exporter": "python",
   "pygments_lexer": "ipython3",
   "version": "3.9.0"
  },
  "toc": {
   "base_numbering": 1,
   "nav_menu": {},
   "number_sections": true,
   "sideBar": true,
   "skip_h1_title": false,
   "title_cell": "Table of Contents",
   "title_sidebar": "Contents",
   "toc_cell": true,
   "toc_position": {},
   "toc_section_display": true,
   "toc_window_display": false
  }
 },
 "nbformat": 4,
 "nbformat_minor": 4
}
