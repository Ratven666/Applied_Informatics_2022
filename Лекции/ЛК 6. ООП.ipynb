{
 "cells": [
  {
   "cell_type": "markdown",
   "metadata": {
    "toc": true
   },
   "source": [
    "# <h1>Table of Contents<span class=\"tocSkip\"></span></h1>\n",
    "<div class=\"toc\"><ul class=\"toc-item\"><li><span><a href=\"#Объектно-ориентированное-программирование\" data-toc-modified-id=\"Объектно-ориентированное-программирование-1\"><span class=\"toc-item-num\">1&nbsp;&nbsp;</span>Объектно-ориентированное программирование</a></span><ul class=\"toc-item\"><li><span><a href=\"#Основные-понятия-объектно-ориентированного-программирования\" data-toc-modified-id=\"Основные-понятия-объектно-ориентированного-программирования-1.1\"><span class=\"toc-item-num\">1.1&nbsp;&nbsp;</span>Основные понятия объектно-ориентированного программирования</a></span><ul class=\"toc-item\"><li><span><a href=\"#Абстракция\" data-toc-modified-id=\"Абстракция-1.1.1\"><span class=\"toc-item-num\">1.1.1&nbsp;&nbsp;</span>Абстракция</a></span></li><li><span><a href=\"#Инкапсуляция\" data-toc-modified-id=\"Инкапсуляция-1.1.2\"><span class=\"toc-item-num\">1.1.2&nbsp;&nbsp;</span>Инкапсуляция</a></span></li><li><span><a href=\"#Наследование\" data-toc-modified-id=\"Наследование-1.1.3\"><span class=\"toc-item-num\">1.1.3&nbsp;&nbsp;</span>Наследование</a></span></li><li><span><a href=\"#Полиморфизм\" data-toc-modified-id=\"Полиморфизм-1.1.4\"><span class=\"toc-item-num\">1.1.4&nbsp;&nbsp;</span>Полиморфизм</a></span></li></ul></li><li><span><a href=\"#Классы-в-Python\" data-toc-modified-id=\"Классы-в-Python-1.2\"><span class=\"toc-item-num\">1.2&nbsp;&nbsp;</span>Классы в Python</a></span><ul class=\"toc-item\"><li><span><a href=\"#Создание-классов-и-объектов\" data-toc-modified-id=\"Создание-классов-и-объектов-1.2.1\"><span class=\"toc-item-num\">1.2.1&nbsp;&nbsp;</span>Создание классов и объектов</a></span></li><li><span><a href=\"#Статические-и-динамические-атрибуты-класса\" data-toc-modified-id=\"Статические-и-динамические-атрибуты-класса-1.2.2\"><span class=\"toc-item-num\">1.2.2&nbsp;&nbsp;</span>Статические и динамические атрибуты класса</a></span></li></ul></li><li><span><a href=\"#Методы-класса\" data-toc-modified-id=\"Методы-класса-1.3\"><span class=\"toc-item-num\">1.3&nbsp;&nbsp;</span>Методы класса</a></span><ul class=\"toc-item\"><li><span><a href=\"#Конструктор-класса-и-инициализация-экземпляра-класса\" data-toc-modified-id=\"Конструктор-класса-и-инициализация-экземпляра-класса-1.3.1\"><span class=\"toc-item-num\">1.3.1&nbsp;&nbsp;</span>Конструктор класса и инициализация экземпляра класса</a></span></li><li><span><a href=\"#Что-такое-self?\" data-toc-modified-id=\"Что-такое-self?-1.3.2\"><span class=\"toc-item-num\">1.3.2&nbsp;&nbsp;</span>Что такое <code>self</code>?</a></span></li></ul></li><li><span><a href=\"#Уровни-доступа-атрибута-и-метода\" data-toc-modified-id=\"Уровни-доступа-атрибута-и-метода-1.4\"><span class=\"toc-item-num\">1.4&nbsp;&nbsp;</span>Уровни доступа атрибута и метода</a></span><ul class=\"toc-item\"><li><span><a href=\"#Свойства\" data-toc-modified-id=\"Свойства-1.4.1\"><span class=\"toc-item-num\">1.4.1&nbsp;&nbsp;</span>Свойства</a></span></li></ul></li><li><span><a href=\"#Наследование\" data-toc-modified-id=\"Наследование-1.5\"><span class=\"toc-item-num\">1.5&nbsp;&nbsp;</span>Наследование</a></span></li><li><span><a href=\"#Полиморфизм\" data-toc-modified-id=\"Полиморфизм-1.6\"><span class=\"toc-item-num\">1.6&nbsp;&nbsp;</span>Полиморфизм</a></span></li></ul></li></ul></div>"
   ]
  },
  {
   "cell_type": "markdown",
   "metadata": {},
   "source": [
    "# Объектно-ориентированное программирование"
   ]
  },
  {
   "cell_type": "markdown",
   "metadata": {},
   "source": [
    "## Основные понятия объектно-ориентированного программирования"
   ]
  },
  {
   "cell_type": "markdown",
   "metadata": {},
   "source": [
    "> **Объектно-ориентированное программирование (ООП)** является методологией разработки программного обеспечения, в основе которой лежит понятие класса и объекта, при этом сама программа создается как некоторая совокупность объектов, которые взаимодействую друг с другом и с внешним миром. \n",
    "\n",
    "Каждый объект является экземпляром некоторого класса. \n",
    "\n",
    "Классы образуют иерархии. \n",
    "\n",
    "Более подробно о понятии ООП можно прочитать на [википедии](https://ru.wikipedia.org/wiki/Объектно-ориентированное_программирование).\n",
    "\n",
    "Выделяют четыре основных “столпа” ООП- это: \n",
    "* абстракция;\n",
    "* инкапсуляция; \n",
    "* наследование;\n",
    "* полиморфизм."
   ]
  },
  {
   "cell_type": "markdown",
   "metadata": {},
   "source": [
    "### Абстракция\n",
    "\n",
    "> **Абстрагирование означает выделение значимой информации и исключение из рассмотрения незначимой.** \n",
    "\n",
    "В ООП рассматривают лишь абстракцию данных (нередко называя её просто «абстракцией»), подразумевая набор наиболее значимых характеристик объекта, доступных остальной программе."
   ]
  },
  {
   "cell_type": "markdown",
   "metadata": {},
   "source": [
    "### Инкапсуляция\n",
    "\n",
    "> **Под инкапсуляцией понимается сокрытие деталей реализации, данных и т.п. от внешней стороны.**\n",
    "\n",
    "Например, можно определить класс “холодильник”, который будет содержать следующие данные: \n",
    "* производитель,\n",
    "* объем,\n",
    "* количество камер хранения,\n",
    "* потребляемая мощность и т.п., \n",
    "\n",
    "и методы: \n",
    "* открыть/закрыть холодильник, \n",
    "* включить/выключить, \n",
    "но при этом реализация того, как происходит непосредственно включение и выключение пользователю вашего класса не доступна, что позволяет ее менять без опасения, что это может отразиться на использующей класс «холодильник» программе. \n",
    "\n",
    "При этом класс становится новым типом данных в рамках разрабатываемой программы. \n",
    "\n",
    "Можно создавать переменные этого нового типа, такие переменные называются объекты."
   ]
  },
  {
   "cell_type": "markdown",
   "metadata": {},
   "source": [
    "### Наследование\n",
    "\n",
    "> **Под наследованием понимается возможность создания нового класса на базе существующего.**\n",
    "\n",
    "Наследование предполагает наличие отношения “является” между классом наследником и классом родителем. При этом класс потомок будет содержать те же атрибуты и методы, что и базовый класс, но при этом его можно расширять через добавление новых методов и атрибутов.\n",
    "\n",
    "Примером базового класса, демонстрирующего наследование, можно определить класс “автомобиль”, имеющий атрибуты: \n",
    "* масса, \n",
    "* мощность двигателя\n",
    "* объем топливного бака \n",
    "\n",
    "и методы: \n",
    "* завести\n",
    "* заглушить. \n",
    "\n",
    "У такого класса может быть потомок – “грузовой автомобиль”, он будет содержать те же атрибуты и методы, что и класс “автомобиль”, и дополнительные свойства: \n",
    "* количество осей\n",
    "* мощность компрессора и т.п."
   ]
  },
  {
   "cell_type": "markdown",
   "metadata": {},
   "source": [
    "### Полиморфизм\n",
    "\n",
    "> **Полиморфизм позволяет одинаково обращаться с объектами, имеющими однотипный интерфейс, независимо от внутренней реализации объекта.**\n",
    "\n",
    "Например, с объектом класса “грузовой автомобиль” можно производить те же операции, что и с объектом класса “автомобиль”, т.к. первый является наследником второго, при этом обратное утверждение неверно (во всяком случае не всегда). \n",
    "\n",
    "> **Другими словами полиморфизм предполагает разную реализацию методов с одинаковыми именами.**\n",
    "\n",
    "Это очень полезно при наследовании, когда в классе наследнике можно переопределить методы класса родителя."
   ]
  },
  {
   "cell_type": "markdown",
   "metadata": {},
   "source": [
    "## Классы в Python"
   ]
  },
  {
   "cell_type": "markdown",
   "metadata": {},
   "source": [
    "### Создание классов и объектов\n",
    "\n",
    "Создание класса в ```Python``` начинается с инструкции ```class```. Вот так будет выглядеть минимальный класс.\n",
    "\n",
    "```python\n",
    "class C: \n",
    "    pass\n",
    "```\n",
    "\n",
    "Класс состоит из объявления (инструкция ```class```), имени класса (нашем случае это имя ```C```) и тела класса, которое содержит атрибуты и методы (в нашем минимальном классе есть только одна инструкция ```pass```).\n",
    "\n",
    "Для того чтобы создать объект класса необходимо воспользоваться следующим синтаксисом:\n",
    "\n",
    "```python\n",
    "имя_объекта = имя_класса()\n",
    "```"
   ]
  },
  {
   "cell_type": "code",
   "execution_count": null,
   "metadata": {},
   "outputs": [],
   "source": [
    "class C: \n",
    "    pass\n",
    "\n",
    "c_obj = C()\n",
    "c_obj_2 = C()\n",
    "\n",
    "\n",
    "print(c_obj, type(c_obj))\n",
    "print(c_obj_2, type(c_obj_2))\n",
    "\n",
    "print(dir(c_obj))"
   ]
  },
  {
   "cell_type": "markdown",
   "metadata": {},
   "source": [
    "### Статические и динамические атрибуты класса\n",
    "\n",
    "Как уже было сказано выше, класс может содержать ```атрибуты``` и ```методы```. \n",
    "\n",
    "> **Атрибут** может быть ```статическим``` и ```динамическим``` (уровня объекта класса). \n",
    "\n",
    "> **Суть в том, что для работы со статическим атрибутом, вам не нужно создавать экземпляр класса, а для работы с динамическим – нужно.**\n",
    "\n",
    "Пример:"
   ]
  },
  {
   "cell_type": "code",
   "execution_count": null,
   "metadata": {},
   "outputs": [],
   "source": [
    "class Rectangle:\n",
    "    default_color = \"green\"\n",
    "    \n",
    "    def __init__(self, width, height):\n",
    "        self.width = width\n",
    "        self.height = height"
   ]
  },
  {
   "cell_type": "markdown",
   "metadata": {},
   "source": [
    "В представленном выше классе, атрибут ```default_color``` – это статический атрибут, и доступ к нему можно получить не создавая объект класса ```Rectangle```."
   ]
  },
  {
   "cell_type": "code",
   "execution_count": null,
   "metadata": {},
   "outputs": [],
   "source": [
    "print(Rectangle.default_color)"
   ]
  },
  {
   "cell_type": "markdown",
   "metadata": {},
   "source": [
    "```width``` и ```height``` – это **динамические атрибуты**, при их создании было использовано ключевое слово ```self```. \n",
    "\n",
    "Пока просто примите это как должное, более подробно про ```self``` будет рассказано ниже. \n",
    "\n",
    "Для доступа к ```width``` и ```height``` предварительно нужно создать объект класса ```Rectangle```:"
   ]
  },
  {
   "cell_type": "code",
   "execution_count": null,
   "metadata": {},
   "outputs": [],
   "source": [
    "rect = Rectangle(10, 20)\n",
    "\n",
    "print(rect.width)\n",
    "print(rect.height)\n",
    "print(rect.default_color)"
   ]
  },
  {
   "cell_type": "markdown",
   "metadata": {},
   "source": [
    "Если обратиться через класс, то получим ошибку:"
   ]
  },
  {
   "cell_type": "code",
   "execution_count": null,
   "metadata": {},
   "outputs": [],
   "source": [
    "print(Rectangle.width)    # AttributeError: type object 'Rectangle' has no attribute 'width'"
   ]
  },
  {
   "cell_type": "markdown",
   "metadata": {},
   "source": [
    "При этом, если вы обратитесь к статическому атрибуту через экземпляр класса, то все будет нормально, до тех пор, пока вы не попытаетесь его поменять. \n",
    "\n",
    "Проверим ещё раз значение атрибута ```default_color```:"
   ]
  },
  {
   "cell_type": "code",
   "execution_count": null,
   "metadata": {},
   "outputs": [],
   "source": [
    "print(Rectangle.default_color)"
   ]
  },
  {
   "cell_type": "markdown",
   "metadata": {},
   "source": [
    "Присвоим ему новое значение:"
   ]
  },
  {
   "cell_type": "code",
   "execution_count": null,
   "metadata": {},
   "outputs": [],
   "source": [
    "Rectangle.default_color = \"red\"\n",
    "\n",
    "print(Rectangle.default_color)"
   ]
  },
  {
   "cell_type": "markdown",
   "metadata": {},
   "source": [
    "Создадим два объекта класса Rectangle и проверим, что ```default_color``` у них совпадает:"
   ]
  },
  {
   "cell_type": "code",
   "execution_count": null,
   "metadata": {},
   "outputs": [],
   "source": [
    "r1 = Rectangle(1, 2)\n",
    "r2 = Rectangle(10, 20)\n",
    "\n",
    "print(Rectangle.default_color)\n",
    "print(r1.default_color)\n",
    "print(r2.default_color)\n",
    "print()\n",
    "\n",
    "Rectangle.default_color = \"blue\"\n",
    "\n",
    "print(Rectangle.default_color)\n",
    "print(r1.default_color)\n",
    "print(r2.default_color)\n",
    "print()\n",
    "\n",
    "r1.default_color = \"black\"\n",
    "\n",
    "print(Rectangle.default_color)\n",
    "print(r1.default_color)            # sic!!!\n",
    "print(r2.default_color)\n",
    "print()\n",
    "print(dir(r2))"
   ]
  },
  {
   "cell_type": "markdown",
   "metadata": {},
   "source": [
    "Если поменять значение ```default_color``` через имя класса ```Rectangle```, то все будет ожидаемо: у объектов ```r1``` и ```r2``` это значение изменится, но если поменять его через экземпляр класса, то у экземпляра будет создан атрибут с таким же именем как статический, а доступ к последнему будет потерян\n",
    "\n",
    "> **Вообще напрямую работать с атрибутами – ```не очень хорошая идея```, лучше для этого использовать свойства.**"
   ]
  },
  {
   "cell_type": "markdown",
   "metadata": {},
   "source": [
    "## Методы класса"
   ]
  },
  {
   "cell_type": "markdown",
   "metadata": {},
   "source": [
    "? **Метод** – это функция, находящаяся внутри класса и выполняющая определенную работу.\n",
    "\n",
    "Методы бывают ```статическими```, ```классовыми``` (среднее между статическими и обычными) и ```уровня класса``` (будем их называть просто словом метод). \n",
    "\n",
    "Статический метод создается с декоратором ```@staticmethod```, классовый – с декоратором ```@classmethod```, первым аргументом в него передается ```cls```, обычный метод создается без специального декоратора, ему первым аргументом передается ```self```:"
   ]
  },
  {
   "cell_type": "code",
   "execution_count": null,
   "metadata": {},
   "outputs": [],
   "source": [
    "class MyClass:\n",
    "    \n",
    "    @staticmethod\n",
    "    def ex_static_method():\n",
    "        print(\"static method\")\n",
    "        \n",
    "    @classmethod\n",
    "    def ex_class_method(cls):\n",
    "        print(\"class method\")\n",
    "        \n",
    "    def ex_method(self):\n",
    "        print(\"method\")"
   ]
  },
  {
   "cell_type": "markdown",
   "metadata": {},
   "source": [
    "Статический и классовый метод можно вызвать, не создавая экземпляр класса, для вызова ```ex_method()``` нужен объект:"
   ]
  },
  {
   "cell_type": "code",
   "execution_count": null,
   "metadata": {},
   "outputs": [],
   "source": [
    "MyClass.ex_static_method()\n",
    "\n",
    "MyClass.ex_class_method()\n",
    "\n",
    "MyClass.ex_method()            # TypeError: ex_method() missing 1 required positional argument: 'self'"
   ]
  },
  {
   "cell_type": "code",
   "execution_count": null,
   "metadata": {},
   "outputs": [],
   "source": [
    "m = MyClass()\n",
    "\n",
    "m.ex_method()"
   ]
  },
  {
   "cell_type": "markdown",
   "metadata": {},
   "source": [
    "### Конструктор класса и инициализация экземпляра класса\n",
    "\n",
    "В ```Python``` разделяют **конструктор класса** и **метод для инициализации экземпляра класса**. \n",
    "\n",
    "Конструктор класса это метод ```__new__(cls, *args, **kwargs)``` для инициализации экземпляра класса используется метод ```__init__(self)```. \n",
    "\n",
    "При этом, как вы могли заметить ```__new__```– это классовый метод, а ```__init__``` таким не является. \n",
    "\n",
    "Метод ```__new__``` редко переопределяется, чаще используется реализация от базового класса ```object```, ```__init__``` же наоборот является очень удобным способом задать параметры объекта при его создании.\n",
    "\n",
    "Создадим реализацию класса ```Rectangle``` с измененным конструктором и инициализатором, через который задается ширина и высота прямоугольника:"
   ]
  },
  {
   "cell_type": "code",
   "execution_count": null,
   "metadata": {},
   "outputs": [],
   "source": [
    "class Rectangle:\n",
    "    \n",
    "    def __new__(cls, *args, **kwargs):\n",
    "        print(\"Hello from __new__\")\n",
    "        return super().__new__(cls)\n",
    "    \n",
    "    def __init__(self, width, height):\n",
    "        print(\"Hello from __init__\")\n",
    "        self.width = width\n",
    "        self.height = height"
   ]
  },
  {
   "cell_type": "code",
   "execution_count": null,
   "metadata": {},
   "outputs": [],
   "source": [
    "rect = Rectangle(10, 20)"
   ]
  },
  {
   "cell_type": "markdown",
   "metadata": {},
   "source": [
    "### Что такое ```self```?\n",
    "\n",
    "До этого момента вы уже успели познакомиться с ключевым словом ```self```. \n",
    "\n",
    "> **```self```** – это ссылка на текущий экземпляр класса, в таких языках как ```Java```, ```C#``` аналогом является ключевое слово ```this```. \n",
    "\n",
    "Через ```self``` вы получаете доступ к атрибутам и методам класса внутри него:"
   ]
  },
  {
   "cell_type": "code",
   "execution_count": null,
   "metadata": {},
   "outputs": [],
   "source": [
    "class Rectangle:\n",
    "    \n",
    "    def __init__(self, width, height):\n",
    "        self.width = width\n",
    "        self.height = height\n",
    "        \n",
    "    def area(self):\n",
    "        return self.width * self.height"
   ]
  },
  {
   "cell_type": "markdown",
   "metadata": {},
   "source": [
    "В приведенной реализации метод area получает доступ к атрибутам ```width``` и ```height``` для расчета площади. \n",
    "\n",
    "Если бы в качестве первого параметра не было указано ```self```, то при попытке вызвать area программа была бы остановлена с ошибкой."
   ]
  },
  {
   "cell_type": "code",
   "execution_count": null,
   "metadata": {},
   "outputs": [],
   "source": [
    "rect = Rectangle(10, 20)\n",
    "\n",
    "print(rect.area())"
   ]
  },
  {
   "cell_type": "markdown",
   "metadata": {},
   "source": [
    "## Уровни доступа атрибута и метода"
   ]
  },
  {
   "cell_type": "markdown",
   "metadata": {},
   "source": [
    "Если вы знакомы с языками программирования ```Java```, ```C#```, ```C++``` то, наверное, уже задались вопросом: “а как управлять уровнем доступа?”. В перечисленных языка вы можете явно указать для переменной, что доступ к ней снаружи класса запрещен, это делается с помощью ключевых слов (```private```, ```protected``` и т.д.). \n",
    "\n",
    "В ```Python``` таких возможностей нет, и любой может обратиться к атрибутам и методам вашего класса, если возникнет такая необходимость. Это существенный недостаток этого языка, т.к. нарушается один из ключевых принципов ООП – **инкапсуляция**. \n",
    "\n",
    "> Хорошим тоном считается, что для чтения/изменения какого-то атрибута должны использоваться специальные методы, которые называются **```getter/setter```**, их можно реализовать, но ничего не помешает изменить атрибут напрямую. При этом есть соглашение, что метод или атрибут, который начинается с нижнего подчеркивания, является скрытым, и снаружи класса трогать его не нужно (хотя сделать это можно).\n",
    "\n",
    "Внесем соответствующие изменения в класс ```Rectangle```:"
   ]
  },
  {
   "cell_type": "code",
   "execution_count": null,
   "metadata": {},
   "outputs": [],
   "source": [
    "class Rectangle:\n",
    "    \n",
    "    def __init__(self, width, height):\n",
    "        self._width = width\n",
    "        self._height = height\n",
    "        \n",
    "    def get_width(self):\n",
    "        return self._width\n",
    "    \n",
    "    def set_width(self, w):\n",
    "        self._width = w\n",
    "        \n",
    "    def get_height(self):\n",
    "        return self._height\n",
    "    \n",
    "    def set_height(self, h):\n",
    "        self._height = h\n",
    "        \n",
    "    def area(self):\n",
    "        return self._width * self._height"
   ]
  },
  {
   "cell_type": "markdown",
   "metadata": {},
   "source": [
    "В приведенном примере для доступа к ```_width``` и ```_height``` используются специальные методы, но ничего не мешает вам обратиться к ним (атрибутам) напрямую."
   ]
  },
  {
   "cell_type": "code",
   "execution_count": null,
   "metadata": {},
   "outputs": [],
   "source": [
    "rect = Rectangle(10, 20)\n",
    "\n",
    "print(rect.get_width())\n",
    "\n",
    "print(rect._width)"
   ]
  },
  {
   "cell_type": "markdown",
   "metadata": {},
   "source": [
    "Если же атрибут или метод начинается с двух подчеркиваний, то тут напрямую вы к нему уже не обратитесь (простым образом). Модифицируем наш класс ```Rectangle```:"
   ]
  },
  {
   "cell_type": "code",
   "execution_count": null,
   "metadata": {},
   "outputs": [],
   "source": [
    "class Rectangle:\n",
    "    \n",
    "    def __init__(self, width, height):\n",
    "        self.__width = width\n",
    "        self.__height = height\n",
    "        \n",
    "    def get_width(self):\n",
    "        return self.__width\n",
    "    \n",
    "    def set_width(self, w):\n",
    "        self.__width = w\n",
    "        \n",
    "    def get_height(self):\n",
    "        return self.__height\n",
    "    \n",
    "    def set_height(self, h):\n",
    "        self.__height = h\n",
    "        \n",
    "    def area(self):\n",
    "        return self.__width * self.__height"
   ]
  },
  {
   "cell_type": "markdown",
   "metadata": {},
   "source": [
    "Попытка обратиться к ```__width``` напрямую вызовет ошибку, нужно работать только через ```get_width()```:"
   ]
  },
  {
   "cell_type": "code",
   "execution_count": null,
   "metadata": {},
   "outputs": [],
   "source": [
    "rect = Rectangle(10, 20)\n",
    "\n",
    "print(rect.get_width())\n",
    "\n",
    "print(rect.__width)           # AttributeError: 'Rectangle' object has no attribute '__width'"
   ]
  },
  {
   "cell_type": "markdown",
   "metadata": {},
   "source": [
    "Но на самом деле это сделать можно, просто этот атрибут теперь для внешнего использования носит название: ```_Rectangle__width```:"
   ]
  },
  {
   "cell_type": "code",
   "execution_count": null,
   "metadata": {},
   "outputs": [],
   "source": [
    "rect = Rectangle(10, 20)\n",
    "\n",
    "print(rect.get_width())\n",
    "\n",
    "print(rect._Rectangle__width)"
   ]
  },
  {
   "cell_type": "markdown",
   "metadata": {},
   "source": [
    "### Свойства\n",
    "\n",
    "> **Свойством** называется такой метод класса, работа с которым подобна работе с атрибутом. Для объявления метода свойством необходимо использовать декоратор **```@property```**.\n",
    "\n",
    "Важным преимуществом работы через свойства является то, что вы можете осуществлять проверку входных значений, перед тем как присвоить их атрибутам.\n",
    "\n",
    "Сделаем реализацию класса ```Rectangle``` с использованием свойств:"
   ]
  },
  {
   "cell_type": "code",
   "execution_count": null,
   "metadata": {},
   "outputs": [],
   "source": [
    "class Rectangle:\n",
    "    \n",
    "    def __init__(self, width, height):\n",
    "        self.__width = width\n",
    "        self.__height = height\n",
    "        \n",
    "    @property\n",
    "    def width(self):\n",
    "        return self.__width\n",
    "    \n",
    "    @width.setter\n",
    "    def width(self, w):\n",
    "        if w > 0:\n",
    "            self.__width = w\n",
    "        else:\n",
    "            raise ValueError\n",
    "            \n",
    "    @property\n",
    "    def height(self):\n",
    "        return self.__height\n",
    "    \n",
    "    @height.setter\n",
    "    def height(self, h):\n",
    "        if h > 0:\n",
    "            self.__height = h\n",
    "        else:\n",
    "            raise ValueError\n",
    "            \n",
    "    def area(self):\n",
    "        return self.__width * self.__height"
   ]
  },
  {
   "cell_type": "markdown",
   "metadata": {},
   "source": [
    "Теперь работать с ```width``` и ```height``` можно так, как будто они являются атрибутами:"
   ]
  },
  {
   "cell_type": "code",
   "execution_count": null,
   "metadata": {},
   "outputs": [],
   "source": [
    "rect = Rectangle(10, 20)\n",
    "\n",
    "print(rect.width)\n",
    "\n",
    "print(rect.height)\n",
    "\n",
    "print(rect.area())"
   ]
  },
  {
   "cell_type": "markdown",
   "metadata": {},
   "source": [
    "Можно не только читать, но и задавать новые значения свойствам:"
   ]
  },
  {
   "cell_type": "code",
   "execution_count": null,
   "metadata": {},
   "outputs": [],
   "source": [
    "print(rect.width)\n",
    "\n",
    "rect.width = 50\n",
    "\n",
    "print(rect.width)"
   ]
  },
  {
   "cell_type": "markdown",
   "metadata": {},
   "source": [
    "> Если вы обратили внимание: в ```setter’ах``` этих свойств осуществляется проверка входных значений, если значение меньше нуля, то будет выброшено исключение ```ValueError```:"
   ]
  },
  {
   "cell_type": "code",
   "execution_count": null,
   "metadata": {},
   "outputs": [],
   "source": [
    "rect.width = -10   # ValueError"
   ]
  },
  {
   "cell_type": "code",
   "execution_count": null,
   "metadata": {},
   "outputs": [],
   "source": [
    "rect = Rectangle(10, -20)\n",
    "\n",
    "print(rect.area())"
   ]
  },
  {
   "cell_type": "markdown",
   "metadata": {},
   "source": [
    "## Наследование"
   ]
  },
  {
   "cell_type": "markdown",
   "metadata": {},
   "source": [
    "В организации наследования участвуют как минимум два класса: \n",
    "* класс родитель\n",
    "* класс потомок. \n",
    "\n",
    "> При этом возможно множественное наследование, в этом случае у класса потомка может быть несколько родителей. \n",
    "\n",
    "\n",
    "Не все языки программирования поддерживают множественное наследование, но в ```Python``` можно его использовать. По умолчанию все классы в ```Python``` являются наследниками от ```object```, явно этот факт указывать не нужно.\n",
    "\n",
    "Синтаксически создание класса с указанием его родителя выглядит так:\n",
    "\n",
    "```python\n",
    "class имя_класса(имя_родителя1, [имя_родителя2,…, имя_родителя_n])\n",
    "```\n",
    "\n",
    "Переработаем наш пример так, чтобы в нем присутствовало наследование:"
   ]
  },
  {
   "cell_type": "code",
   "execution_count": null,
   "metadata": {},
   "outputs": [],
   "source": [
    "class Figure:\n",
    "    \n",
    "    def __init__(self, color):\n",
    "        self.__color = color\n",
    "        \n",
    "    @property\n",
    "    def color(self):\n",
    "        return self.__color\n",
    "    \n",
    "    @color.setter\n",
    "    def color(self, c):\n",
    "        self.__color = c\n",
    "        \n",
    "class Rectangle(Figure): \n",
    "    def __init__(self, width, height, color):\n",
    "        super().__init__(color)\n",
    "        self.__width = width\n",
    "        self.__height = height\n",
    "        \n",
    "    @property\n",
    "    def width(self):\n",
    "        return self.__width\n",
    "    \n",
    "    @width.setter\n",
    "    def width(self, w):\n",
    "        if w > 0:\n",
    "            self.__width = w\n",
    "        else:\n",
    "            raise ValueError\n",
    "            \n",
    "    @property\n",
    "    def height(self):\n",
    "        return self.__height\n",
    "    \n",
    "    @height.setter\n",
    "    def height(self, h):\n",
    "        if h > 0:\n",
    "            self.__height = h\n",
    "        else:\n",
    "            raise ValueError\n",
    "            \n",
    "    def area(self):\n",
    "        return self.__width * self.__height"
   ]
  },
  {
   "cell_type": "markdown",
   "metadata": {},
   "source": [
    "Родительским классом является ```Figure```, который при инициализации принимает цвет фигуры и предоставляет его через свойства.\n",
    "\n",
    "```Rectangle``` – класс наследник от ```Figure``. \n",
    "\n",
    "Обратите внимание на его метод ```__init__```: в нем первым делом вызывается конструктор его родительского класса:\n",
    "\n",
    "```python\n",
    "super().__init__(color)\n",
    "```\n",
    "\n",
    "**```super```** – это ключевое слово, которое используется для обращения к родительскому классу.\n",
    "\n",
    "Теперь у объекта класса ```Rectangle``` помимо уже знакомых свойств ```width``` и ```height``` появилось свойство ```color```:"
   ]
  },
  {
   "cell_type": "code",
   "execution_count": null,
   "metadata": {},
   "outputs": [],
   "source": [
    "rect = Rectangle(10, 20, \"green\")\n",
    "\n",
    "print(rect.width)\n",
    "print(rect.height)\n",
    "print(rect.color)"
   ]
  },
  {
   "cell_type": "code",
   "execution_count": null,
   "metadata": {},
   "outputs": [],
   "source": [
    "rect.color = \"red\"\n",
    "\n",
    "print(rect.color)"
   ]
  },
  {
   "cell_type": "code",
   "execution_count": null,
   "metadata": {},
   "outputs": [],
   "source": [
    "class Circle(Figure): \n",
    "    def __init__(self, radius, color):\n",
    "        super().__init__(color)\n",
    "        self.__radius = radius\n",
    "        \n",
    "    @property\n",
    "    def radius(self):\n",
    "        return self.__radius\n",
    "    \n",
    "    @radius.setter\n",
    "    def radius(self, r):\n",
    "        if r > 0:\n",
    "            self.__radius = r\n",
    "        else:\n",
    "            raise ValueError\n",
    "\n",
    "    def area(self):\n",
    "        return 3.1415 * self.__radius ** 2"
   ]
  },
  {
   "cell_type": "code",
   "execution_count": null,
   "metadata": {},
   "outputs": [],
   "source": [
    "rect = Rectangle(10, 20, \"green\")\n",
    "circle = Circle(2, \"black\")\n",
    "\n",
    "print(rect.area())\n",
    "print(circle.area())"
   ]
  },
  {
   "cell_type": "code",
   "execution_count": null,
   "metadata": {},
   "outputs": [],
   "source": [
    "lst = [rect, \"abc\", circle, 42, [1,2,3]]\n",
    "\n",
    "for elm in lst:\n",
    "    print(elm.area())"
   ]
  },
  {
   "cell_type": "code",
   "execution_count": null,
   "metadata": {},
   "outputs": [],
   "source": [
    "lst = [rect, \"abc\", circle, 42, [1,2,3]]\n",
    "\n",
    "for elm in lst:\n",
    "    if isinstance(elm, Figure):\n",
    "        print(elm.area())"
   ]
  },
  {
   "cell_type": "markdown",
   "metadata": {},
   "source": [
    "## Полиморфизм"
   ]
  },
  {
   "cell_type": "markdown",
   "metadata": {},
   "source": [
    "> **Полиморфизм**, как правило, используется с позиции переопределения методов базового класса в классе наследнике. \n",
    "\n",
    "Проще всего это рассмотреть на примере. Добавим в наш базовый класс метод ```info()```, который печатает сводную информацию по объекту класса ```Figure``` и переопределим этот метод в классе ```Rectangle```, добавим  в него дополнительные данные:"
   ]
  },
  {
   "cell_type": "code",
   "execution_count": null,
   "metadata": {},
   "outputs": [],
   "source": [
    "class Figure:\n",
    "    \n",
    "    def __init__(self, color):\n",
    "        self.__color = color\n",
    "        \n",
    "    @property\n",
    "    def color(self):\n",
    "        return self.__color\n",
    "    \n",
    "    @color.setter\n",
    "    def color(self, c):\n",
    "        self.__color = c\n",
    "        \n",
    "    def info(self):\n",
    "        print(\"Figure\", self.__class__)\n",
    "        print(\"Color: \" + self.__color)\n",
    "        \n",
    "class Rectangle(Figure):\n",
    "    def __init__(self, width, height, color):\n",
    "        super().__init__(color)\n",
    "        self.__width = width\n",
    "        self.__height = height\n",
    "        \n",
    "    @property\n",
    "    def width(self):\n",
    "        return self.__width\n",
    "    \n",
    "    @width.setter\n",
    "    def width(self, w):\n",
    "        if w > 0:\n",
    "            self.__width = w\n",
    "        else:\n",
    "            raise ValueError\n",
    "            \n",
    "    @property\n",
    "    def height(self):\n",
    "        return self.__height\n",
    "    \n",
    "    @height.setter\n",
    "    def height(self, h):\n",
    "        if h > 0:\n",
    "            self.__height = h\n",
    "        else:\n",
    "            raise ValueError\n",
    "            \n",
    "    def info(self):\n",
    "        print(\"Rectangle\")\n",
    "        print(\"Color: \" + self.color)\n",
    "        print(\"Width: \" + str(self.width))\n",
    "        print(\"Height: \" + str(self.height))\n",
    "        print(\"Area: \" + str(self.area()))\n",
    "        \n",
    "    def area(self):\n",
    "        return self.__width * self.__height"
   ]
  },
  {
   "cell_type": "code",
   "execution_count": null,
   "metadata": {},
   "outputs": [],
   "source": [
    "class Circle(Figure): \n",
    "    def __init__(self, radius, color):\n",
    "        super().__init__(color)\n",
    "        self.__radius = radius\n",
    "        \n",
    "    @property\n",
    "    def radius(self):\n",
    "        return self.__radius\n",
    "    \n",
    "    @radius.setter\n",
    "    def radius(self, r):\n",
    "        if r > 0:\n",
    "            self.__radius = r\n",
    "        else:\n",
    "            raise ValueError\n",
    "\n",
    "    def area(self):\n",
    "        return 3.1415 * self.__radius ** 2"
   ]
  },
  {
   "cell_type": "code",
   "execution_count": null,
   "metadata": {},
   "outputs": [],
   "source": [
    "fig = Figure(\"orange\")\n",
    "print(fig.info(), \"\\n\")\n",
    "\n",
    "rect = Rectangle(10, 20, \"green\")\n",
    "print(rect.info(), \"\\n\")\n",
    "\n",
    "circle = Circle(2, \"black\")\n",
    "print(circle.info())"
   ]
  },
  {
   "cell_type": "markdown",
   "metadata": {},
   "source": [
    "Таким образом, класс наследник может расширять функционал класса родителя."
   ]
  },
  {
   "cell_type": "markdown",
   "metadata": {},
   "source": [
    "***\n",
    "***"
   ]
  }
 ],
 "metadata": {
  "kernelspec": {
   "display_name": "Python 3 (ipykernel)",
   "language": "python",
   "name": "python3"
  },
  "language_info": {
   "codemirror_mode": {
    "name": "ipython",
    "version": 3
   },
   "file_extension": ".py",
   "mimetype": "text/x-python",
   "name": "python",
   "nbconvert_exporter": "python",
   "pygments_lexer": "ipython3",
   "version": "3.9.0"
  },
  "toc": {
   "base_numbering": 1,
   "nav_menu": {},
   "number_sections": true,
   "sideBar": true,
   "skip_h1_title": false,
   "title_cell": "Table of Contents",
   "title_sidebar": "Contents",
   "toc_cell": true,
   "toc_position": {},
   "toc_section_display": true,
   "toc_window_display": false
  }
 },
 "nbformat": 4,
 "nbformat_minor": 4
}
