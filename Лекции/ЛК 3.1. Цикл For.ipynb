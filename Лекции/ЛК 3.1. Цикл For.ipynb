{
 "cells": [
  {
   "cell_type": "markdown",
   "metadata": {
    "toc": true
   },
   "source": [
    "<h1>Table of Contents<span class=\"tocSkip\"></span></h1>\n",
    "<div class=\"toc\"><ul class=\"toc-item\"><li><span><a href=\"#Цикл-for\" data-toc-modified-id=\"Цикл-for-1\"><span class=\"toc-item-num\">1&nbsp;&nbsp;</span>Цикл <code>for</code></a></span><ul class=\"toc-item\"><li><span><a href=\"#Оператор-прерывания-в-python-—-break\" data-toc-modified-id=\"Оператор-прерывания-в-python-—-break-1.1\"><span class=\"toc-item-num\">1.1&nbsp;&nbsp;</span>Оператор прерывания в python — break</a></span></li><li><span><a href=\"#Оператор-пропуска-python-—-continue\" data-toc-modified-id=\"Оператор-пропуска-python-—-continue-1.2\"><span class=\"toc-item-num\">1.2&nbsp;&nbsp;</span>Оператор пропуска python — continue</a></span></li><li><span><a href=\"#Функция-range\" data-toc-modified-id=\"Функция-range-1.3\"><span class=\"toc-item-num\">1.3&nbsp;&nbsp;</span>Функция <code>range</code></a></span></li><li><span><a href=\"#Функция-enumerate\" data-toc-modified-id=\"Функция-enumerate-1.4\"><span class=\"toc-item-num\">1.4&nbsp;&nbsp;</span>Функция <code>enumerate</code></a></span></li></ul></li></ul></div>"
   ]
  },
  {
   "cell_type": "markdown",
   "metadata": {},
   "source": [
    "# Цикл ```for```"
   ]
  },
  {
   "cell_type": "markdown",
   "metadata": {},
   "source": [
    "Цикл ```for``` в ```Python``` является итератором, основанным на цикле. Он проходит по элементам **итерируемых объектов**\n",
    "\n",
    "**Например:**\n",
    "* list\n",
    "* tuple\n",
    "* строкам\n",
    "* ключам словаря\n",
    "* и другим\n",
    "\n",
    "В ```Python``` **цикл начинается с ключевого слова ```for```**, за которым следует произвольное имя переменной, которое будет хранить значения следующего объекта последовательности. \n",
    "\n",
    "\n",
    "Общий синтаксис ```for...in``` в ```python``` выглядит следующим образом:\n",
    "\n",
    "```python\n",
    "for <переменная> in <последовательность>:\n",
    "    <действие>\n",
    "else:\n",
    "    <действие>\n",
    "```\n",
    "\n",
    "Элементы **«последовательности»** перебираются один за другим **«переменной»** цикла; \n",
    "\n",
    "Если быть точным, переменная указывает на элементы. \n",
    "\n",
    "Для каждого элемента выполняется «действие».\n",
    "\n",
    "**Пример простого цикла for в ```Python```:**"
   ]
  },
  {
   "cell_type": "code",
   "execution_count": null,
   "metadata": {},
   "outputs": [],
   "source": [
    "for color in \"red\", \"orange\", \"yellow\", \"green\", \"cyan\", \"blue\", \"violet\":\n",
    "    print(\"Color of rainbow is\", color)"
   ]
  },
  {
   "cell_type": "markdown",
   "metadata": {},
   "source": [
    "***\n",
    "***\n",
    "Перечисление:\n",
    "\n",
    "```python\n",
    "\"red\", \"orange\", \"yellow\", \"green\", \"cyan\", \"blue\", \"violet\"\n",
    "```\n",
    "\n",
    "Автоматически запаковывается в **```кортеж```** ```(tuple)```:\n"
   ]
  },
  {
   "cell_type": "code",
   "execution_count": null,
   "metadata": {},
   "outputs": [],
   "source": [
    "rainbow_colors = \"red\", \"orange\", \"yellow\", \"green\", \"cyan\", \"blue\", \"violet\"\n",
    "\n",
    "print(type(rainbow_colors), rainbow_colors, \"\\n\")\n",
    "\n",
    "for color in rainbow_colors:\n",
    "    print(\"Color of rainbow is\", color)"
   ]
  },
  {
   "cell_type": "markdown",
   "metadata": {},
   "source": [
    "***\n",
    "***\n",
    "\n",
    "**Пример иттерации строки циклом ```for```:**"
   ]
  },
  {
   "cell_type": "code",
   "execution_count": null,
   "metadata": {},
   "outputs": [],
   "source": [
    "for char in \"hello world\":\n",
    "    print(char)"
   ]
  },
  {
   "cell_type": "markdown",
   "metadata": {},
   "source": [
    "***\n",
    "***\n",
    "\n",
    "## Оператор прерывания в python — break"
   ]
  },
  {
   "cell_type": "markdown",
   "metadata": {},
   "source": [
    "Если в программе цикл ```for``` должен быть прерван оператором ```break```, цикл будет завершен, и поток программы будет продолжен без выполнения действий из ```else```.\n",
    "\n",
    "Обычно фразы ```break``` в ```pyton``` связаны с условными операторами:"
   ]
  },
  {
   "cell_type": "code",
   "execution_count": null,
   "metadata": {},
   "outputs": [],
   "source": [
    "edibles = [\"отбивные\", \"пельмени\", \"рыба\", \"орехи\"]\n",
    "\n",
    "for food in edibles:\n",
    "    if food == \"рыба\":\n",
    "        print(\"\\nЯ не ем рыбу!\\n\")\n",
    "        break\n",
    "        \n",
    "    print(\"Отлично, вкусные \" + food)\n",
    "else:\n",
    "    print(\"\\nХорошо, что не было рыбы!\\n\")\n",
    "    \n",
    "print(\"Ужин окончен.\")"
   ]
  },
  {
   "cell_type": "markdown",
   "metadata": {},
   "source": [
    "***\n",
    "***\n",
    "\n",
    "Удалим строку \"рыба\" из списка edibles:"
   ]
  },
  {
   "cell_type": "code",
   "execution_count": null,
   "metadata": {},
   "outputs": [],
   "source": [
    "edibles = [\"отбивные\", \"пельмени\", \"орехи\"]\n",
    "\n",
    "for food in edibles:\n",
    "    if food == \"рыба\":\n",
    "        print(\"\\nЯ не ем рыбу!\\n\")\n",
    "        break\n",
    "        \n",
    "    print(\"Отлично, вкусные \" + food)\n",
    "else:\n",
    "    print(\"\\nХорошо, что не было рыбы!\\n\")\n",
    "    \n",
    "print(\"Ужин окончен.\")"
   ]
  },
  {
   "cell_type": "markdown",
   "metadata": {},
   "source": [
    "***\n",
    "***\n",
    "\n",
    "## Оператор пропуска python — continue\n",
    "\n",
    "Предположим, нам «пельмени» нам нужно просто пропустить и продолжить прием пищи. Тогда нужно использовать оператор ```continue```, для перехода к следующему элементу.\n",
    "\n",
    "В следующем маленьком скрипте ```python``` мы используем ```continue```, чтобы продолжить, итерацию по списку, когда мы сталкиваемся с пельменями."
   ]
  },
  {
   "cell_type": "code",
   "execution_count": null,
   "metadata": {},
   "outputs": [],
   "source": [
    "edibles = [\"отбивные\", \"пельмени\", \"рыба\", \"орехи\"]\n",
    "\n",
    "for food in edibles:\n",
    "    if food == \"рыба\":\n",
    "        print(\"\\nЯ не ем рыбу!\\n\")\n",
    "        continue\n",
    "        \n",
    "    print(\"Отлично, вкусные \" + food)\n",
    "else:\n",
    "    print(\"\\nНенавижу рыбу!\\n\")\n",
    "    \n",
    "print(\"Ужин окончен.\")"
   ]
  },
  {
   "cell_type": "markdown",
   "metadata": {},
   "source": [
    "***\n",
    "***\n",
    "\n",
    "## Функция ```range```"
   ]
  },
  {
   "cell_type": "markdown",
   "metadata": {},
   "source": [
    "**```range()```** является универсальной функцией для создания **последовательности** арифметической прогрессии."
   ]
  },
  {
   "cell_type": "code",
   "execution_count": null,
   "metadata": {},
   "outputs": [],
   "source": [
    "help(range)"
   ]
  },
  {
   "cell_type": "markdown",
   "metadata": {},
   "source": [
    "***\n",
    "***\n",
    "\n",
    "> Функция **```range()```** может принимать **от одного до трех агрументов**, при этом **аргументами должны быть целые числа (int)**.\n",
    "\n",
    "Функция **```range```** создает специальный объект своего типа:"
   ]
  },
  {
   "cell_type": "code",
   "execution_count": null,
   "metadata": {},
   "outputs": [],
   "source": [
    "r = range(10)\n",
    "\n",
    "print(r, type(r), len(r), sep=\"\\t\\t\")"
   ]
  },
  {
   "cell_type": "markdown",
   "metadata": {},
   "source": [
    "***\n",
    "***\n",
    "\n",
    "Его можно передать в конструктор ```list()``` и получить стандартный список:"
   ]
  },
  {
   "cell_type": "code",
   "execution_count": null,
   "metadata": {},
   "outputs": [],
   "source": [
    "r = range(10)\n",
    "lst = list(r)\n",
    "\n",
    "print(lst, type(lst), len(lst), sep=\"\\t\\t\")"
   ]
  },
  {
   "cell_type": "markdown",
   "metadata": {},
   "source": [
    "***\n",
    "***\n",
    "\n",
    "\"Распаковать\" всю последовательность можно поставив символ **```*```** перед последовательностью:"
   ]
  },
  {
   "cell_type": "code",
   "execution_count": null,
   "metadata": {},
   "outputs": [],
   "source": [
    "r = range(10)\n",
    "print(*r)"
   ]
  },
  {
   "cell_type": "code",
   "execution_count": null,
   "metadata": {},
   "outputs": [],
   "source": [
    "print(*range(5))\n",
    "print(0, 1, 2, 3, 4)"
   ]
  },
  {
   "cell_type": "code",
   "execution_count": null,
   "metadata": {},
   "outputs": [],
   "source": [
    "print(*range(5), sep=\"\\n\")"
   ]
  },
  {
   "cell_type": "code",
   "execution_count": null,
   "metadata": {},
   "outputs": [],
   "source": [
    "print(*[0, 1, 2, 3, 4], sep=\"\\n\")"
   ]
  },
  {
   "cell_type": "code",
   "execution_count": null,
   "metadata": {},
   "outputs": [],
   "source": [
    "err = *range(12)       # ТАК НЕЛЬЗЯ!!!!!!!"
   ]
  },
  {
   "cell_type": "code",
   "execution_count": null,
   "metadata": {},
   "outputs": [],
   "source": [
    "a, b, c = *range(3)"
   ]
  },
  {
   "cell_type": "code",
   "execution_count": null,
   "metadata": {},
   "outputs": [],
   "source": [
    "a, b, c = 0, 1, 2\n",
    "print(f\"a = {a}\")\n",
    "print(f\"b = {b}\")\n",
    "print(f\"c = {c}\")"
   ]
  },
  {
   "cell_type": "code",
   "execution_count": null,
   "metadata": {},
   "outputs": [],
   "source": [
    "a, b, c = 0, 1, 2\n",
    "\n",
    "c, a, b = a, b, c\n",
    "\n",
    "print(f\"a = {a}\")\n",
    "print(f\"b = {b}\")\n",
    "print(f\"c = {c}\")"
   ]
  },
  {
   "cell_type": "markdown",
   "metadata": {},
   "source": [
    "При передаче в функцию **```range```** **одного** аргумента от воспринимается как аргумент **```stop```** до которого выполняется рассчет последовательности.\n",
    "\n",
    "Аргумент **```start```** принимается равным по умолчанию - 0\n",
    "\n",
    "***\n",
    "***\n",
    "\n",
    "Передав в функцию **```range```** **два** аргумента первый передается в **```start```**, а второй в **```stop```**:"
   ]
  },
  {
   "cell_type": "code",
   "execution_count": null,
   "metadata": {},
   "outputs": [],
   "source": [
    "r = range(5, 10)\n",
    "\n",
    "print(r, type(r), len(r), sep=\"\\t\\t\")\n",
    "\n",
    "print(*r)"
   ]
  },
  {
   "cell_type": "markdown",
   "metadata": {},
   "source": [
    "***\n",
    "***\n",
    "\n",
    "Третий аргумент функции **```range```** - **```step```**.\n",
    "\n",
    "> По умолчанию аргумент **```step=1```**\n",
    "\n",
    "Он определяет **шаг изменения** элементов последовательности:"
   ]
  },
  {
   "cell_type": "code",
   "execution_count": null,
   "metadata": {},
   "outputs": [],
   "source": [
    "r = range(0, 10, 2)\n",
    "\n",
    "print(r, type(r), len(r), sep=\"\\t\\t\")\n",
    "\n",
    "print(*r)"
   ]
  },
  {
   "cell_type": "markdown",
   "metadata": {},
   "source": [
    "***\n",
    "***\n",
    "\n",
    "Если невозможно прийти с установленным **шагом** от значения **старт** до значения **стоп** последовательность не вернет ни одного значения:"
   ]
  },
  {
   "cell_type": "code",
   "execution_count": null,
   "metadata": {},
   "outputs": [],
   "source": [
    "r = range(10, 5)\n",
    "\n",
    "print(r, type(r), len(r), sep=\"\\t\\t\")\n",
    "\n",
    "print(*r)\n",
    "\n",
    "lst = list(r)\n",
    "\n",
    "print(lst, type(lst), len(lst), sep=\"\\t\\t\")"
   ]
  },
  {
   "cell_type": "markdown",
   "metadata": {},
   "source": [
    "***\n",
    "***\n",
    "\n",
    "Шаг **```step```** может быть отрицательным:"
   ]
  },
  {
   "cell_type": "code",
   "execution_count": null,
   "metadata": {},
   "outputs": [],
   "source": [
    "r = range(10, 0, -1)\n",
    "\n",
    "print(r, type(r), len(r), sep=\"\\t\\t\")\n",
    "\n",
    "print(*r)"
   ]
  },
  {
   "cell_type": "markdown",
   "metadata": {},
   "source": [
    "***\n",
    "***\n",
    "\n",
    "Нулевое значение **```step```**  приведет к ошибке:"
   ]
  },
  {
   "cell_type": "code",
   "execution_count": null,
   "metadata": {},
   "outputs": [],
   "source": [
    "r = range(10, 0, 0)  # Ошибка!!!"
   ]
  },
  {
   "cell_type": "markdown",
   "metadata": {},
   "source": [
    "***\n",
    "***\n",
    "\n",
    "Чаще всего функция **```range```** используется в циклах ```for```:"
   ]
  },
  {
   "cell_type": "code",
   "execution_count": null,
   "metadata": {},
   "outputs": [],
   "source": [
    "for i in range(99, 0, -1):\n",
    "    if i == 1:\n",
    "        print(\"1 bottle of beer on the wall, 1 bottle of beer!\")\n",
    "        print(\"So take it down, pass it around, no more bottles of beer on the wall!\")\n",
    "    elif i == 2:\n",
    "        print(\"2 more bottles of beer on the wall, 2 more bottles of beer!\")\n",
    "        print(\"So take one down, pass it around, 1 more bottle of beer on the wall!\")\n",
    "    else:\n",
    "        print(\"{0} bottles of beer on the wall, {0} bottles of beer!\".format(i))\n",
    "        print(\"So take it down, pass it around, {0} more bottles of beer on the wall!\".format(i - 1))"
   ]
  },
  {
   "cell_type": "markdown",
   "metadata": {},
   "source": [
    "***\n",
    "***\n",
    "\n",
    "## Функция ```enumerate```"
   ]
  },
  {
   "cell_type": "markdown",
   "metadata": {},
   "source": [
    "В ```Python``` есть еще одна встроенная функция, которая часто используется в заголовке ```for```. Это функция ```enumerate()```. \n",
    "\n",
    "Если ```range()``` позволяет получить только индексы элементов списка, то ```enumerate()``` – сразу индекс элемента и его значение.\n",
    "\n",
    "> Функция ```enumerate()``` применяется для итерируемых объектов и создает объект-генератор, который генерирует кортежи, состоящие из двух элементов – индекса элемента и самого элемента."
   ]
  },
  {
   "cell_type": "code",
   "execution_count": null,
   "metadata": {},
   "outputs": [],
   "source": [
    "rainbow_colors = \"red\", \"orange\", \"yellow\", \"green\", \"cyan\", \"blue\", \"violet\"\n",
    "print(rainbow_colors)\n",
    "\n",
    "e = enumerate(rainbow_colors)\n",
    "\n",
    "print(e, type(e), sep=\"\\t\\t\")\n",
    "\n",
    "print(*e)"
   ]
  },
  {
   "cell_type": "markdown",
   "metadata": {},
   "source": [
    "***\n",
    "***\n",
    "\n",
    "**Применительно к циклу ```for```:**"
   ]
  },
  {
   "cell_type": "code",
   "execution_count": null,
   "metadata": {},
   "outputs": [],
   "source": [
    "rainbow_colors = \"red\", \"orange\", \"yellow\", \"green\", \"cyan\", \"blue\", \"violet\"\n",
    "\n",
    "for e in enumerate(rainbow_colors):\n",
    "    print(e[0] + 1, e[1])"
   ]
  },
  {
   "cell_type": "markdown",
   "metadata": {},
   "source": [
    "**Или по-другому:**"
   ]
  },
  {
   "cell_type": "code",
   "execution_count": null,
   "metadata": {},
   "outputs": [],
   "source": [
    "rainbow_colors = \"red\", \"orange\", \"yellow\", \"green\", \"cyan\", \"blue\", \"violet\"\n",
    "\n",
    "for e in enumerate(rainbow_colors):\n",
    "    idx, color = e\n",
    "    print(idx + 1, color)"
   ]
  },
  {
   "cell_type": "markdown",
   "metadata": {},
   "source": [
    "**Но лучше всего так:**"
   ]
  },
  {
   "cell_type": "code",
   "execution_count": null,
   "metadata": {},
   "outputs": [],
   "source": [
    "rainbow_colors = \"red\", \"orange\", \"yellow\", \"green\", \"cyan\", \"blue\", \"violet\"\n",
    "\n",
    "for idx, color in enumerate(rainbow_colors):\n",
    "    print(idx + 1, color)"
   ]
  }
 ],
 "metadata": {
  "kernelspec": {
   "display_name": "Python 3 (ipykernel)",
   "language": "python",
   "name": "python3"
  },
  "language_info": {
   "codemirror_mode": {
    "name": "ipython",
    "version": 3
   },
   "file_extension": ".py",
   "mimetype": "text/x-python",
   "name": "python",
   "nbconvert_exporter": "python",
   "pygments_lexer": "ipython3",
   "version": "3.9.0"
  },
  "toc": {
   "base_numbering": 1,
   "nav_menu": {},
   "number_sections": true,
   "sideBar": true,
   "skip_h1_title": false,
   "title_cell": "Table of Contents",
   "title_sidebar": "Contents",
   "toc_cell": true,
   "toc_position": {},
   "toc_section_display": true,
   "toc_window_display": false
  }
 },
 "nbformat": 4,
 "nbformat_minor": 4
}
