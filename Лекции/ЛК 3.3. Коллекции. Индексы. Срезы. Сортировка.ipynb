{
 "cells": [
  {
   "cell_type": "markdown",
   "metadata": {
    "toc": true
   },
   "source": [
    "<h1>Table of Contents<span class=\"tocSkip\"></span></h1>\n",
    "<div class=\"toc\"><ul class=\"toc-item\"><li><span><a href=\"#Коллекции.-Индексирование,-срезы,-сортировка\" data-toc-modified-id=\"Коллекции.-Индексирование,-срезы,-сортировка-1\"><span class=\"toc-item-num\">1&nbsp;&nbsp;</span>Коллекции. Индексирование, срезы, сортировка</a></span><ul class=\"toc-item\"><li><span><a href=\"#Индексирование\" data-toc-modified-id=\"Индексирование-1.1\"><span class=\"toc-item-num\">1.1&nbsp;&nbsp;</span>Индексирование</a></span><ul class=\"toc-item\"><li><span><a href=\"#Индексированные-коллекции\" data-toc-modified-id=\"Индексированные-коллекции-1.1.1\"><span class=\"toc-item-num\">1.1.1&nbsp;&nbsp;</span>Индексированные коллекции</a></span></li><li><span><a href=\"#Получение-значения-по-индексу\" data-toc-modified-id=\"Получение-значения-по-индексу-1.1.2\"><span class=\"toc-item-num\">1.1.2&nbsp;&nbsp;</span>Получение значения по индексу</a></span></li><li><span><a href=\"#Изменение-элемента-списка-по-индексу\" data-toc-modified-id=\"Изменение-элемента-списка-по-индексу-1.1.3\"><span class=\"toc-item-num\">1.1.3&nbsp;&nbsp;</span>Изменение элемента списка по индексу</a></span></li></ul></li><li><span><a href=\"#Срезы\" data-toc-modified-id=\"Срезы-1.2\"><span class=\"toc-item-num\">1.2&nbsp;&nbsp;</span>Срезы</a></span><ul class=\"toc-item\"><li><span><a href=\"#Синтаксис-среза\" data-toc-modified-id=\"Синтаксис-среза-1.2.1\"><span class=\"toc-item-num\">1.2.1&nbsp;&nbsp;</span>Синтаксис среза</a></span></li><li><span><a href=\"#Именованные-срезы\" data-toc-modified-id=\"Именованные-срезы-1.2.2\"><span class=\"toc-item-num\">1.2.2&nbsp;&nbsp;</span>Именованные срезы</a></span></li><li><span><a href=\"#Изменение-списка-срезом\" data-toc-modified-id=\"Изменение-списка-срезом-1.2.3\"><span class=\"toc-item-num\">1.2.3&nbsp;&nbsp;</span>Изменение списка срезом</a></span></li><li><span><a href=\"#Выход-за-границы-индекса\" data-toc-modified-id=\"Выход-за-границы-индекса-1.2.4\"><span class=\"toc-item-num\">1.2.4&nbsp;&nbsp;</span>Выход за границы индекса</a></span></li></ul></li><li><span><a href=\"#Сортировка-элементов-коллекции\" data-toc-modified-id=\"Сортировка-элементов-коллекции-1.3\"><span class=\"toc-item-num\">1.3&nbsp;&nbsp;</span>Сортировка элементов коллекции</a></span><ul class=\"toc-item\"><li><span><a href=\"#Функция-sorted()\" data-toc-modified-id=\"Функция-sorted()-1.3.1\"><span class=\"toc-item-num\">1.3.1&nbsp;&nbsp;</span>Функция <code>sorted()</code></a></span></li><li><span><a href=\"#Функция-reversed()\" data-toc-modified-id=\"Функция-reversed()-1.3.2\"><span class=\"toc-item-num\">1.3.2&nbsp;&nbsp;</span>Функция <code>reversed()</code></a></span></li><li><span><a href=\"#Методы-списка-.sort()-и-.reverse()\" data-toc-modified-id=\"Методы-списка-.sort()-и-.reverse()-1.3.3\"><span class=\"toc-item-num\">1.3.3&nbsp;&nbsp;</span>Методы списка <code>.sort()</code> и <code>.reverse()</code></a></span></li><li><span><a href=\"#Особенности-сортировки-словаря\" data-toc-modified-id=\"Особенности-сортировки-словаря-1.3.4\"><span class=\"toc-item-num\">1.3.4&nbsp;&nbsp;</span>Особенности сортировки словаря</a></span></li><li><span><a href=\"#Дополнительная-информация-по-использованию-параметра-key-при-сортировке\" data-toc-modified-id=\"Дополнительная-информация-по-использованию-параметра-key-при-сортировке-1.3.5\"><span class=\"toc-item-num\">1.3.5&nbsp;&nbsp;</span>Дополнительная информация по использованию параметра key при сортировке</a></span></li><li><span><a href=\"#Устойчивость-сортировки\" data-toc-modified-id=\"Устойчивость-сортировки-1.3.6\"><span class=\"toc-item-num\">1.3.6&nbsp;&nbsp;</span>Устойчивость сортировки</a></span></li></ul></li></ul></li></ul></div>"
   ]
  },
  {
   "cell_type": "markdown",
   "metadata": {},
   "source": [
    "# Коллекции. Индексирование, срезы, сортировка"
   ]
  },
  {
   "cell_type": "markdown",
   "metadata": {},
   "source": [
    "## Индексирование\n",
    "\n",
    "### Индексированные коллекции\n",
    "\n",
    "Рассмотрим индексированные коллекции (их еще называют последовательности — ```sequences```):\n",
    "\n",
    "* список (list)\n",
    "* кортеж (tuple)\n",
    "* строку (string)\n",
    "\n",
    "> Под индексированностью имеется ввиду, что элементы коллекции располагаются в определённом порядке, каждый элемент имеет свой индекс от 0 (то есть первый по счёту элемент имеет индекс не 1, а 0) до индекса на единицу меньшего длины коллекции (т.е. len(mycollection)-1).\n"
   ]
  },
  {
   "cell_type": "markdown",
   "metadata": {},
   "source": [
    "### Получение значения по индексу\n",
    "\n",
    "**Для всех индексированных коллекций можно получить значение элемента по его индексу в квадратных скобках.** \n",
    "\n",
    "> Причем, можно задавать отрицательный индекс, это значит, что будем находить элемент с конца считая обратном порядке.\n",
    "\n",
    "**При задании отрицательного индекса**, последний элемент имеет ```индекс -1```, предпоследний ```-2``` и так далее до первого элемента индекс которого равен значению длины коллекции с отрицательным знаком, то есть ```-len(mycollection)```."
   ]
  },
  {
   "cell_type": "markdown",
   "metadata": {},
   "source": [
    "**элементы**|**a**|**b**|**c**|**d**|**e**\n",
    ":-----:|:-----:|:-----:|:-----:|:-----:|:-----:\n",
    "индексы|0 (-5)|1 (-4)|2 (-3)|3 (-2)|4 (-1)"
   ]
  },
  {
   "cell_type": "code",
   "execution_count": null,
   "metadata": {},
   "outputs": [],
   "source": [
    "my_str = \"abcde\"\n",
    "\n",
    "print(my_str[0])                # a - первый элемент\n",
    "print(my_str[-1])               # e - последний элемент \n",
    "print(my_str[len(my_str)-1])    # e - так тоже можно взять последний элемент\n",
    "print(my_str[-2])               # d - предпоследний элемент"
   ]
  },
  {
   "cell_type": "markdown",
   "metadata": {},
   "source": [
    "> **Коллекции могут иметь несколько уровней вложенности, как список списков в примере ниже.**\n",
    "Для перехода на уровень глубже ставится вторая пара квадратных скобок и так далее."
   ]
  },
  {
   "cell_type": "code",
   "execution_count": null,
   "metadata": {},
   "outputs": [],
   "source": [
    "my_2lvl_list = [[1, 2, 3], ['a', 'b', 'c']]\n",
    "print(my_2lvl_list, \"\\n\")\n",
    "\n",
    "print(my_2lvl_list[0])                        # [1, 2, 3] - первый элемент — первый вложенный список\n",
    "print(my_2lvl_list[0][0])                     # 1 — первый элемент первого вложенного списка\n",
    "print(my_2lvl_list[1][-1])                    # с — последний элемент второго вложенного списка"
   ]
  },
  {
   "cell_type": "markdown",
   "metadata": {},
   "source": [
    "### Изменение элемента списка по индексу\n",
    "\n",
    "> Поскольку кортежи и строки неизменяемые коллекции, то по индексу мы можем только брать элементы, но не менять их:"
   ]
  },
  {
   "cell_type": "code",
   "execution_count": null,
   "metadata": {},
   "outputs": [],
   "source": [
    "my_tuple = (1, 2, 3, 4, 5)\n",
    "print(my_tuple[0])            # 1\n",
    "\n",
    "my_tuple[0] = 100             # TypeError: 'tuple' object does not support item assignment"
   ]
  },
  {
   "cell_type": "markdown",
   "metadata": {},
   "source": [
    "> А вот для списка, если взятие элемента по индексу располагается в левой части выражения, а далее идёт оператор присваивания ```=```, то мы задаём новое значение элементу с этим индексом."
   ]
  },
  {
   "cell_type": "code",
   "execution_count": null,
   "metadata": {},
   "outputs": [],
   "source": [
    "my_list = [1, 2, 3, [4, 5]]\n",
    "print(my_list, \"\\n\") \n",
    "\n",
    "my_list[0] = 10\n",
    "my_list[-1][0] = 40\n",
    "\n",
    "print(my_list)                    # [10, 2, 3, [40, 5]]"
   ]
  },
  {
   "cell_type": "markdown",
   "metadata": {},
   "source": [
    "> **Примечание:** Для такого присвоения, элемент уже должен существовать в списке, нельзя таким образом добавить элемент на несуществующий индекс."
   ]
  },
  {
   "cell_type": "code",
   "execution_count": null,
   "metadata": {},
   "outputs": [],
   "source": [
    "my_list = [1, 2, 3, 4, 5]\n",
    "my_list[5] = 6                  # IndexError: list assignment index out of range"
   ]
  },
  {
   "cell_type": "markdown",
   "metadata": {},
   "source": [
    "## Срезы\n",
    "\n",
    "### Синтаксис среза\n",
    "\n",
    "Очень часто, надо получить не один какой-то элемент, а некоторый их набор ограниченный определенными простыми правилами — например первые 5 или последние три, или каждый второй элемент — в таких задачах, вместо перебора в цикле намного удобнее использовать так называемый срез ```(slice, slicing)```.\n",
    "\n",
    "**Следует помнить, что взяв элемент по индексу или срезом (slice) мы не как не меняем исходную коллекцию, мы просто скопировали ее часть для дальнейшего использования (например добавления в другую коллекцию, вывода на печать, каких-то вычислений).**\n",
    "\n",
    "> **Поскольку сама коллекция не меняется — это применимо как к изменяемым (список) так и к неизменяемым (строка, кортеж) последовательностям.**\n",
    "\n",
    "Синтаксис среза похож на таковой для индексации, но в квадратных скобках вместо одного значения указывается 2-3 через двоеточие:\n",
    "\n",
    "```python\n",
    "my_collection[start:stop:step]  # старт, стоп и шаг\n",
    "```\n",
    "\n",
    "**Особенности среза:**\n",
    "\n",
    "* Отрицательные значения старта и стопа означают, что считать надо не с начала, а с конца коллекции.\n",
    "\n",
    "* Отрицательное значение шага — перебор ведём в обратном порядке справа налево.\n",
    "\n",
    "* Если не указан старт ```[:stop:step]```— начинаем с самого края коллекции, то есть с первого элемента (включая его), если шаг положительный или с последнего (включая его), если шаг отрицательный (и соответственно перебор идет от конца к началу).\n",
    "\n",
    "* Если не указан стоп ```[start:: step]``` — идем до самого края коллекции, то есть до последнего элемента (включая его), если шаг положительный или до первого элемента (включая его), если шаг отрицательный (и соответственно перебор идет от конца к началу).\n",
    "\n",
    "* ```step = 1```, то есть последовательный перебор слева направо указывать не обязательно — это значение шага по умолчанию. В таком случае достаточно указать ```[start:stop]```\n",
    "\n",
    "* Можно сделать даже так ```[:]``` — это значит взять коллекцию целиком\n",
    "\n",
    "* **ВАЖНО**: При срезе, первый индекс входит в выборку, а второй нет!\n",
    "\n",
    "То есть от старта включительно, до стопа, где стоп не включается в результат. Математически это можно было бы записать как ```[start, stop)``` или пояснить вот таким правилом:\n",
    "\n",
    "```python\n",
    "[ <первый включаемый> : <первый НЕ включаемый> : <шаг> ]\n",
    "```\n",
    "\n",
    "Поэтому, например, ```mylist[::-1]``` не идентично ```mylist[:0:-1]```, так как в первом случае мы включим все элементы, а во втором дойдем до 0 индекса, но не включим его!\n",
    "\n",
    "**Примеры срезов в виде таблицы:**"
   ]
  },
  {
   "attachments": {
    "ef4f9ea203604aadb56748e7305def0e.png": {
     "image/png": "[encoded data removed]"
    }
   },
   "cell_type": "markdown",
   "metadata": {},
   "source": [
    "![ef4f9ea203604aadb56748e7305def0e.png](attachment:ef4f9ea203604aadb56748e7305def0e.png)"
   ]
  },
  {
   "cell_type": "code",
   "execution_count": null,
   "metadata": {},
   "outputs": [],
   "source": [
    "col = 'abcdefg'\n",
    "\n",
    "print(col[:])       # abcdefg\n",
    "print(col[::-1])    # gfedcba\n",
    "print(col[::2])     # aceg\n",
    "print(col[1::2])    # bdf\n",
    "print(col[:1])      # a\n",
    "print(col[-1:])     # g\n",
    "print(col[3:4])     # d\n",
    "print(col[-3:])     # efg\n",
    "print(col[-3:1:-1]) # edc\n",
    "print(col[2:5])     # cde"
   ]
  },
  {
   "cell_type": "markdown",
   "metadata": {},
   "source": [
    "### Именованные срезы\n",
    "\n",
    "Чтобы избавится от «магических констант», особенно в случае, когда один и тот же срез надо применять многократно, можно задать константы с именованными срезами с пользованием специальной функции ```slice()```\n",
    "\n",
    "> **Примечание:** ```Nonе``` соответствует опущенному значению по-умолчанию. То есть ```[:2]``` становится ```slice(None, 2)```, а ```[1::2]``` становится ```slice(1, None, 2)```."
   ]
  },
  {
   "cell_type": "code",
   "execution_count": null,
   "metadata": {},
   "outputs": [],
   "source": [
    "person = ('Alex', 'Smith', \"May\", 10, 1980)\n",
    "NAME = slice(None, 2)                             # задаем константам именованные срезы\n",
    "BIRTHDAY = slice(2, None)                         # данные константы в квадратных скобках заменятся соответствующими срезами\n",
    "\n",
    "print(person[NAME])      # ('Alex', 'Smith')\n",
    "print(person[BIRTHDAY])  # ('May', 10, 1980)"
   ]
  },
  {
   "cell_type": "code",
   "execution_count": null,
   "metadata": {},
   "outputs": [],
   "source": [
    "my_list = [1, 2, 3, 4, 5, 6, 7]\n",
    "EVEN = slice(1, None, 2)\n",
    "print(my_list[EVEN])     # [2, 4, 6]"
   ]
  },
  {
   "cell_type": "markdown",
   "metadata": {},
   "source": [
    "### Изменение списка срезом\n",
    "\n",
    "> Важный момент, на котором не всегда заостряется внимание — с помощью среза можно не только получать копию коллекции, но в случае списка можно также менять значения элементов, удалять и добавлять новые.\n",
    "\n",
    "**Проиллюстрируем это на примерах ниже:**\n",
    "\n",
    "Даже если хотим добавить один элемент, необходимо передавать итерируемый объект, иначе будет ошибка ```TypeError: can only assign an iterable```\n",
    "\n",
    "```python\n",
    "my_list = [1, 2, 3, 4, 5]\n",
    "# my_list[1:2] = 20     # TypeError: can only assign an iterable\n",
    "my_list[1:2] = [20]     # Вот теперь все работает\n",
    "print(my_list)          # [1, 20, 3, 4, 5]\n",
    "```"
   ]
  },
  {
   "cell_type": "code",
   "execution_count": null,
   "metadata": {},
   "outputs": [],
   "source": [
    "my_list = [1, 2, 3, 4, 5]\n",
    "# my_list[1:2] = 20     # TypeError: can only assign an iterable\n",
    "my_list[1:2] = [20]     # Вот теперь все работает\n",
    "print(my_list)          # [1, 20, 3, 4, 5]\n",
    "my_list[1:4] = [20]     # Вот теперь все работает\n",
    "print(my_list)          # [1, 20, 3, 4, 5]"
   ]
  },
  {
   "cell_type": "markdown",
   "metadata": {},
   "source": [
    "> Для вставки одиночных элементов можно использовать срез, код примеров есть ниже, но делать так не рекомендую, так как такой синтаксис хуже читать. \n",
    "\n",
    "> **Лучше использовать методы списка ```.append()``` и ```.insert()```:**"
   ]
  },
  {
   "cell_type": "code",
   "execution_count": null,
   "metadata": {},
   "outputs": [],
   "source": [
    "my_list = [1, 2, 3, 4, 5]\n",
    "\n",
    "my_list[5:] = [6]             # вставляем в конец — лучше использовать .append(6)\n",
    "print(my_list)                # [1, 2, 3, 4, 5, 6]\n",
    "\n",
    "my_list[0:0] = [0]            # вставляем в начало — лучше использовать .insert(0, 0)\n",
    "print(my_list)                # [0, 1, 2, 3, 4, 5, 6]\n",
    "\n",
    "my_list[3:3] = [25]           # вставляем между элементами — лучше использовать .insert(3, 25)\n",
    "print(my_list)                # [0, 1, 2, 25, 3, 4, 5, 6]"
   ]
  },
  {
   "cell_type": "code",
   "execution_count": null,
   "metadata": {},
   "outputs": [],
   "source": [
    "my_list = [1, 2, 3, 4, 5]\n",
    "\n",
    "my_list.append(6)     \n",
    "print(my_list)                # [1, 2, 3, 4, 5, 6]\n",
    "\n",
    "my_list.insert(0, 0) \n",
    "print(my_list)                # [0, 1, 2, 3, 4, 5, 6]\n",
    "\n",
    "my_list.insert(3, 25)         \n",
    "print(my_list)                # [0, 1, 2, 25, 3, 4, 5, 6]"
   ]
  },
  {
   "cell_type": "markdown",
   "metadata": {},
   "source": [
    "**Можно менять части последовательности — это применение выглядит наиболее интересным, так как решает задачу просто и наглядно.**"
   ]
  },
  {
   "cell_type": "code",
   "execution_count": null,
   "metadata": {},
   "outputs": [],
   "source": [
    "my_list = [1, 2, 3, 4, 5]\n",
    "\n",
    "my_list[1:3] = [20, 30]\n",
    "print(my_list)                    # [1, 20, 30, 4, 5]\n",
    "\n",
    "my_list[1:3] = [0]                # нет проблем заменить два элемента на один\n",
    "print(my_list)                    # [1, 0, 4, 5]\n",
    "\n",
    "my_list[2:] = [40, 50, 60]        # или два элемента на три\n",
    "print(my_list)                    # [1, 0, 40, 50, 60]"
   ]
  },
  {
   "cell_type": "markdown",
   "metadata": {},
   "source": [
    "**Можно просто удалить часть последовательности:**"
   ]
  },
  {
   "cell_type": "code",
   "execution_count": null,
   "metadata": {},
   "outputs": [],
   "source": [
    "my_list = [1, 2, 3, 4, 5]\n",
    "print(my_list)      # [1, 2, 3, 4, 5]\n",
    "\n",
    "my_list[:2] = []    # или del my_list[:2]\n",
    "print(my_list)      # [3, 4, 5]"
   ]
  },
  {
   "cell_type": "code",
   "execution_count": null,
   "metadata": {},
   "outputs": [],
   "source": [
    "my_list = [1, 2, 3, 4, 5]\n",
    "print(my_list)      # [1, 2, 3, 4, 5]\n",
    "\n",
    "del my_list[:2]    \n",
    "print(my_list)      # [3, 4, 5]"
   ]
  },
  {
   "cell_type": "markdown",
   "metadata": {},
   "source": [
    "### Выход за границы индекса\n",
    "\n",
    "**Обращение по индексу по сути является частным случаем среза, когда мы обращаемся только к одному элементу, а не диапазону.**\n",
    "\n",
    "> Но есть очень важное отличие в обработке ситуации с отсутствующим элементом с искомым индексом.\n",
    "\n",
    "**Обращение к несуществующему индексу коллекции вызывает ошибку:**"
   ]
  },
  {
   "cell_type": "code",
   "execution_count": null,
   "metadata": {},
   "outputs": [],
   "source": [
    "my_list = [1, 2, 3, 4, 5]\n",
    "\n",
    "print(my_list[-10])       # IndexError: list index out of range\n",
    "print(my_list[10])        # IndexError: list index out of range"
   ]
  },
  {
   "cell_type": "markdown",
   "metadata": {},
   "source": [
    "**А в случае выхода границ среза за границы коллекции никакой ошибки не происходит:**"
   ]
  },
  {
   "cell_type": "code",
   "execution_count": null,
   "metadata": {},
   "outputs": [],
   "source": [
    "my_list = [1, 2, 3, 4, 5]\n",
    "print(my_list[0:10])      # [1, 2, 3, 4, 5] — отработали в пределах коллекции\n",
    "print(my_list[10:100])    # [] - таких элементов нет — вернули пустую коллекцию\n",
    "print(my_list[10:11])     # [] - проверяем 1 отсутствующий элемент - пустая коллекция, без ошибки"
   ]
  },
  {
   "cell_type": "markdown",
   "metadata": {},
   "source": [
    "> **Примечание:** Для тех случаев, когда функционала срезов недостаточно и требуются более сложные выборки, можно воспользоваться синтаксисом ```list comprehension```"
   ]
  },
  {
   "cell_type": "markdown",
   "metadata": {},
   "source": [
    "## Сортировка элементов коллекции\n",
    "\n",
    "Сортировка элементов коллекции важная и востребованная функция, постоянно встречающаяся в обычных задачах. Тут есть несколько особенностей, на которых не всегда заостряется внимание, но которые очень важны.\n",
    "\n",
    "### Функция ```sorted()```\n",
    "\n",
    "Мы может использовать функцию ```sorted()``` для вывода списка сортированных элементов любой коллекции для последующее обработки или вывода.\n",
    "\n",
    "* функция не меняет исходную коллекцию, а возвращает новый список из ее элементов;\n",
    "* не зависимо от типа исходной коллекции, вернётся список (list) ее элементов;\n",
    "* поскольку она не меняет исходную коллекцию, ее можно применять к неизменяемым коллекциям;\n",
    "* поскольку при сортировке возвращаемых элементов нам не важно, был ли у элемента некий индекс в исходной коллекции, можно применять к неиндексированным коллекциям;\n",
    "\n",
    "**Имеет дополнительные не обязательные аргументы:**\n",
    "* **```reverse=True```** — сортировка в обратном порядке\n",
    "* **```key=funcname```** (начиная с Python 2.4) — сортировка с помощью специальной функции funcname, она может быть как стандартной функцией ```Python```, так и специально написанной вами для данной задачи функцией и лямбдой."
   ]
  },
  {
   "cell_type": "code",
   "execution_count": null,
   "metadata": {},
   "outputs": [],
   "source": [
    "my_list = [2, 5, 1, 7, 3]\n",
    "my_list_sorted = sorted(my_list)\n",
    "print(my_list_sorted)                         # [1, 2, 3, 5, 7]\n",
    "\n",
    "my_set = {2, 5, 1, 7, 3}\n",
    "my_set_sorted = sorted(my_set, reverse=True)\n",
    "print(my_set_sorted)                          # [7, 5, 3, 2, 1]"
   ]
  },
  {
   "cell_type": "markdown",
   "metadata": {},
   "source": [
    "**Пример сортировки списка строк по длине ```len()``` каждого элемента:**"
   ]
  },
  {
   "cell_type": "code",
   "execution_count": null,
   "metadata": {},
   "outputs": [],
   "source": [
    "my_files = ['somecat.jpg', 'pc.png', 'apple.bmp', 'mydog.gif']\n",
    "my_files_sorted = sorted(my_files, key=len)\n",
    "print(my_files_sorted)      # ['pc.png', 'apple.bmp', 'mydog.gif', 'somecat.jpg']\n",
    "print(my_files)"
   ]
  },
  {
   "cell_type": "markdown",
   "metadata": {},
   "source": [
    "### Функция ```reversed()```\n",
    "\n",
    "**Функция ```reversed()``` применяется для последовательностей и работает по другому:**\n",
    "\n",
    "* возвращает генератор списка, а не сам список;\n",
    "* если нужно получить не генератор, а готовый список, результат можно обернуть в ```list()``` или же вместо ```reversed()``` воспользоваться ```срезом [: :-1]```;\n",
    "* она не сортирует элементы, а возвращает их в обратном порядке, то есть читает с конца списка;\n",
    "* из предыдущего пункта понятно, что если у нас коллекция неиндексированная — мы не можем вывести её элементы в обратном порядке и эта функция к таким коллекциям не применима — получим ```«TypeError: argument to reversed() must be a sequence»```;\n",
    "* не позволяет использовать дополнительные аргументы — будет ошибка ```«TypeError: reversed() does not take keyword arguments»```."
   ]
  },
  {
   "cell_type": "code",
   "execution_count": null,
   "metadata": {},
   "outputs": [],
   "source": [
    "my_list = [2, 5, 1, 7, 3]\n",
    "my_list_sorted = reversed(my_list)\n",
    "\n",
    "print(my_list_sorted)               # <listreverseiterator object at 0x7f8982121450>\n",
    "print(list(my_list_sorted))         # [3, 7, 1, 5, 2]\n",
    "print(my_list[::-1])                # [3, 7, 1, 5, 2] - тот же результат с помощью среза\n",
    "\n",
    "for elm in my_list_sorted:          # НИЧЕГО НЕ ПРОИСХОДИТ (генератор одноразовый и истрачен в list(my_list_sorted))\n",
    "    print(elm, end=\" \")\n",
    "else:\n",
    "    print(\"Цикл отработал нормально!\\n\")"
   ]
  },
  {
   "cell_type": "code",
   "execution_count": null,
   "metadata": {},
   "outputs": [],
   "source": [
    "my_list = [2, 5, 1, 7, 3]\n",
    "my_list_sorted = reversed(my_list)\n",
    "\n",
    "print(my_list_sorted)               # <listreverseiterator object at 0x7f8982121450>\n",
    "# print(list(my_list_sorted))       # [3, 7, 1, 5, 2]\n",
    "print(my_list[::-1])                # [3, 7, 1, 5, 2] - тот же результат с помощью среза\n",
    "\n",
    "for elm in my_list_sorted:          \n",
    "    print(elm, end=\" ! \")"
   ]
  },
  {
   "cell_type": "markdown",
   "metadata": {},
   "source": [
    "### Методы списка ```.sort()``` и ```.reverse()```\n",
    "\n",
    "**У списка (и только у него) есть особые методы ```.sort()``` и ```.reverse()``` которые делают тоже самое, что соответствующие функции ```sorted()``` и ```reversed()```, но при этом:**\n",
    "\n",
    "* **меняют сам исходный список, а не генерируют новый**;\n",
    "* возвращают ```None```, а не новый список;\n",
    "* поддерживают те же дополнительные аргументы;\n",
    "* в них не надо передавать сам список первым параметром, более того, если это сделать — будет ошибка — не верное количество аргументов."
   ]
  },
  {
   "cell_type": "code",
   "execution_count": null,
   "metadata": {},
   "outputs": [],
   "source": [
    "my_list = [2, 5, 1, 7, 3]\n",
    "print(my_list)\n",
    "\n",
    "my_list.sort()\n",
    "print(my_list)              # [1, 2, 3, 5, 7]"
   ]
  },
  {
   "cell_type": "markdown",
   "metadata": {},
   "source": [
    "> **Обратите внимание:)) Частая ошибка начинающих, которая не является ошибкой для интерпретатора, но приводит не к тому результату, который хотят получить."
   ]
  },
  {
   "cell_type": "code",
   "execution_count": null,
   "metadata": {},
   "outputs": [],
   "source": [
    "my_list = [2, 5, 1, 7, 3]\n",
    "print(my_list)\n",
    "\n",
    "my_list = my_list.sort()\n",
    "print(my_list)              # None"
   ]
  },
  {
   "cell_type": "markdown",
   "metadata": {},
   "source": [
    "### Особенности сортировки словаря\n",
    "\n",
    "**В сортировке словаря есть свои особенности, вызванные тем, что элемент словаря — это пара ключ: значение.**\n",
    "\n",
    "> Так же, не забываем, что говоря о сортировке словаря, мы имеем ввиду сортировку полученных из словаря данных для вывода или сохранения в индексированную коллекцию. \n",
    "\n",
    "> Сохранить данные сортированными в самом стандартном словаре не получится, они в нем, как и других неиндексированных коллекциях находятся в произвольном порядке.\n",
    "\n",
    "* **```sorted(my_dict)```** — когда мы передаем в функцию сортировки словарь без вызова его дополнительных методов — идёт перебор только ключей, сортированный список ключей нам и возвращается;\n",
    "* **```sorted(my_dict.keys())```** — тот же результат, что в предыдущем примере, но прописанный более явно;\n",
    "* **```sorted(my_dict.items())```** — возвращается сортированный список кортежей (ключ, значение), сортированных по ключу;\n",
    "* **```sorted(my_dict.values())```** — возвращается сортированный список значений"
   ]
  },
  {
   "cell_type": "code",
   "execution_count": null,
   "metadata": {},
   "outputs": [],
   "source": [
    "my_dict = {'a': 1, 'c': 3, 'e': 5, 'f': 6, 'b': 2, 'd': 4}\n",
    "\n",
    "mysorted = sorted(my_dict)\n",
    "print(mysorted)           # ['a', 'b', 'c', 'd', 'e', 'f']\n",
    "\n",
    "mysorted = sorted(my_dict.items())\n",
    "print(mysorted)           # [('a', 1), ('b', 2), ('c', 3), ('d', 4), ('e', 5), ('f', 6)]\n",
    "\n",
    "mysorted = sorted(my_dict.values())\n",
    "print(mysorted)           # [1, 2, 3, 4, 5, 6]"
   ]
  },
  {
   "cell_type": "markdown",
   "metadata": {},
   "source": [
    "**Отдельные сложности может вызвать сортировка словаря не по ключам, а по значениям, если нам не просто нужен список значений, и именно выводить пары в порядке сортировки по значению.**\n",
    "\n",
    "> Для решения этой задачи можно в качестве специальной функции сортировки передавать ```lambda```-функцию ```lambda x: x[1]``` которая из получаемых на каждом этапе кортежей (ключ, значение) будет брать для сортировки второй элемент кортежа."
   ]
  },
  {
   "cell_type": "code",
   "execution_count": null,
   "metadata": {},
   "outputs": [],
   "source": [
    "population = {\"Shanghai\": 24256800, \"Karachi\": 23500000, \"Beijing\": 21516000, \"Delhi\": 16787941}\n",
    "\n",
    "# отсортируем по возрастанию населения:\n",
    "population_sorted = sorted(population.items(), key=lambda x: x[1])\n",
    "print(population_sorted)\n",
    "# [('Delhi', 16787941), ('Beijing', 21516000), ('Karachi', 23500000), ('Shanghai', 24256800)]"
   ]
  },
  {
   "cell_type": "markdown",
   "metadata": {},
   "source": [
    "### Дополнительная информация по использованию параметра key при сортировке\n",
    "\n",
    "Допустим, у нас есть список кортежей названий деталей и их стоимостей.\n",
    "Нам нужно отсортировать его сначала по названию деталей, а одинаковые детали по убыванию цены."
   ]
  },
  {
   "cell_type": "code",
   "execution_count": null,
   "metadata": {},
   "outputs": [],
   "source": [
    "shop = [('каретка', 1200), ('шатун', 1000), ('седло', 300),\n",
    "        ('педаль', 100), ('седло', 1500), ('рама', 12000),\n",
    "        ('обод', 2000), ('шатун', 200), ('седло', 2700)]\n",
    "\n",
    "def prepare_item(item):\n",
    "    return (item[0], -item[1])\n",
    "\n",
    "shop.sort(key=prepare_item)\n",
    "\n",
    "for det, price in shop:\n",
    "    print('{:<10} цена: {:>5}р.'.format(det, price))"
   ]
  },
  {
   "cell_type": "markdown",
   "metadata": {},
   "source": [
    "Перед тем, как сравнивать два элемента списка к ним применялась функция prepare_item, которая меняла знак у стоимости (функция применяется ровно по одному разу к каждому элементу. В результате при одинаковом первом значении сортировка по второму происходила в обратном порядке.\n",
    "\n",
    "> Чтобы не плодить утилитарные функции, вместо использования сторонней функции, того же эффекта можно добиться с использованием лямбда-функции."
   ]
  },
  {
   "cell_type": "code",
   "execution_count": null,
   "metadata": {},
   "outputs": [],
   "source": [
    "shop = [('каретка', 1200), ('шатун', 1000), ('седло', 300),\n",
    "        ('педаль', 100), ('седло', 1500), ('рама', 12000),\n",
    "        ('обод', 2000), ('шатун', 200), ('седло', 2700)]\n",
    "\n",
    "shop.sort(key=lambda x: (x[0], -x[1]))\n",
    "\n",
    "for det, price in shop:\n",
    "    print('{:<10} цена: {:>5}р.'.format(det, price))"
   ]
  },
  {
   "cell_type": "markdown",
   "metadata": {},
   "source": [
    "### Устойчивость сортировки\n",
    "\n",
    "Допустим данные нужно отсортировать:\n",
    "* сначала по столбцу **А** по возрастанию, \n",
    "* затем по столбцу **B** по убыванию, \n",
    "* и наконец по столбцу **C** снова по возрастанию.\n",
    "\n",
    "Если данные в столбце **B** числовые, то при помощи подходящей функции в ```key``` можно поменять знак у элементов **B**, что приведёт к необходимому результату.\n",
    "А если все данные текстовые? Тут есть такая возможность.\n",
    "Дело в том, что сортировка ```sort``` в ```Python``` устойчивая (начиная с Python 2.2), то есть она не меняет порядок «одинаковых» элементов.\n",
    "\n",
    "**Поэтому можно просто отсортировать три раза по разным ключам:**\n",
    "\n",
    "```python\n",
    "data.sort(key=lambda x: x['C'])\n",
    "data.sort(key=lambda x: x['B'], reverse=True)\n",
    "data.sort(key=lambda x: x['А'])\n",
    "```"
   ]
  }
 ],
 "metadata": {
  "kernelspec": {
   "display_name": "Python 3 (ipykernel)",
   "language": "python",
   "name": "python3"
  },
  "language_info": {
   "codemirror_mode": {
    "name": "ipython",
    "version": 3
   },
   "file_extension": ".py",
   "mimetype": "text/x-python",
   "name": "python",
   "nbconvert_exporter": "python",
   "pygments_lexer": "ipython3",
   "version": "3.9.0"
  },
  "toc": {
   "base_numbering": 1,
   "nav_menu": {},
   "number_sections": true,
   "sideBar": true,
   "skip_h1_title": false,
   "title_cell": "Table of Contents",
   "title_sidebar": "Contents",
   "toc_cell": true,
   "toc_position": {},
   "toc_section_display": true,
   "toc_window_display": false
  }
 },
 "nbformat": 4,
 "nbformat_minor": 4
}
