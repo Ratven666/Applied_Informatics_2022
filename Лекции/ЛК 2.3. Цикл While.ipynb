{
 "cells": [
  {
   "cell_type": "markdown",
   "metadata": {
    "toc": true
   },
   "source": [
    "<h1>Table of Contents<span class=\"tocSkip\"></span></h1>\n",
    "<div class=\"toc\"><ul class=\"toc-item\"><li><span><a href=\"#Циклы\" data-toc-modified-id=\"Циклы-1\"><span class=\"toc-item-num\">1&nbsp;&nbsp;</span>Циклы</a></span><ul class=\"toc-item\"><li><ul class=\"toc-item\"><li><span><a href=\"#Определения\" data-toc-modified-id=\"Определения-1.0.1\"><span class=\"toc-item-num\">1.0.1&nbsp;&nbsp;</span>Определения</a></span></li></ul></li><li><span><a href=\"#Цикл-While\" data-toc-modified-id=\"Цикл-While-1.1\"><span class=\"toc-item-num\">1.1&nbsp;&nbsp;</span>Цикл <code>While</code></a></span><ul class=\"toc-item\"><li><span><a href=\"#Бесконечный-цикл-while-в-Python\" data-toc-modified-id=\"Бесконечный-цикл-while-в-Python-1.1.1\"><span class=\"toc-item-num\">1.1.1&nbsp;&nbsp;</span>Бесконечный цикл while в Python</a></span></li><li><span><a href=\"#Else-в-цикле-while\" data-toc-modified-id=\"Else-в-цикле-while-1.1.2\"><span class=\"toc-item-num\">1.1.2&nbsp;&nbsp;</span>Else в цикле while</a></span></li><li><span><a href=\"#Прерывание-цикла-в-Python\" data-toc-modified-id=\"Прерывание-цикла-в-Python-1.1.3\"><span class=\"toc-item-num\">1.1.3&nbsp;&nbsp;</span>Прерывание цикла в <code>Python</code></a></span></li></ul></li></ul></li></ul></div>"
   ]
  },
  {
   "cell_type": "markdown",
   "metadata": {},
   "source": [
    "# Циклы"
   ]
  },
  {
   "cell_type": "markdown",
   "metadata": {},
   "source": [
    "**```Цикл```** — разновидность управляющей конструкции в высокоуровневых языках программирования, предназначенная для организации многократного исполнения набора инструкций.\n",
    "\n",
    "### Определения\n",
    "\n",
    "**```Циклом```** может называться любая многократно исполняемая последовательность инструкций, организованная любым способом (например, с помощью условного перехода).\n",
    "\n",
    "Последовательность инструкций, предназначенная для многократного исполнения, называется **```телом цикла```**. \n",
    "\n",
    "Единичное выполнение тела цикла называется **```итерацией```**. \n",
    "\n",
    "Выражение, определяющее, будет в очередной раз выполняться итерация или цикл завершится, называется **```условием выхода```** или **```условием окончания цикла```** (либо условием продолжения в зависимости от того, как интерпретируется его истинность — как признак необходимости завершения или продолжения цикла). \n",
    "\n",
    "Переменная, хранящая текущий номер итерации, называется **```счётчиком итераций цикла```** или просто **```счётчиком цикла```**. \n",
    "\n",
    "> Цикл не обязательно содержит счётчик, счётчик не обязан быть один — условие выхода из цикла может зависеть от нескольких изменяемых в цикле переменных, а может определяться внешними условиями (например, наступлением определённого времени), в последнем случае счётчик может вообще не понадобиться.\n",
    "\n",
    "***\n",
    "***"
   ]
  },
  {
   "cell_type": "markdown",
   "metadata": {},
   "source": [
    "## Цикл ```While```"
   ]
  },
  {
   "cell_type": "markdown",
   "metadata": {},
   "source": [
    "Цикл ```while``` используется в ```Python``` для неоднократного исполнения определенной инструкции до тех пор, пока заданное условие остается истинным. Этот цикл позволяет программе перебирать блок кода.\n",
    "\n",
    "\n",
    "\n",
    "```python \n",
    "while условие:\n",
    "    тело цикла\n",
    "```\n",
    "\n",
    "\n",
    "\n",
    "Сначала программа оценивает ```условие цикла``` ```while```. \n",
    "\n",
    "Если оно истинное, начинается цикл, и ```тело``` ```while``` исполняется. \n",
    "\n",
    "Тело будет исполняться до тех пор, пока условие остается истинным. \n",
    "\n",
    "Если оно становится ложным, программа выходит из цикла и прекращает исполнение тела.\n",
    "\n",
    "**Рассмотрим пример:**"
   ]
  },
  {
   "cell_type": "code",
   "execution_count": null,
   "metadata": {},
   "outputs": [],
   "source": [
    "i = 1\n",
    "\n",
    "print(f\"Переменная i={i}\\n\")\n",
    "\n",
    "while i <= 10:\n",
    "    print(\"Цикл выполнился\", i, \"раз(а)\")\n",
    "    i += 1\n",
    "    \n",
    "print(\"\\nЦикл окончен\\n\")\n",
    "\n",
    "print(f\"Переменная i={i}\")"
   ]
  },
  {
   "cell_type": "markdown",
   "metadata": {},
   "source": [
    "***\n",
    "***\n",
    "\n",
    "### Бесконечный цикл while в Python\n",
    "\n",
    "**Бесконечный цикл ```while```** — это цикл, в котором условие никогда не становится ложным. \n",
    "\n",
    "Это значит, что тело исполняется снова и снова, а цикл никогда не заканчивается.\n",
    "\n",
    "**Следующий пример — бесконечный цикл:**"
   ]
  },
  {
   "cell_type": "code",
   "execution_count": null,
   "metadata": {},
   "outputs": [],
   "source": [
    "i = 1\n",
    "\n",
    "while i == 1:\n",
    "    name = input(\"Как тебя зовут?\")\n",
    "    print(\"Привет\", name, \", Добро пожаловать\")"
   ]
  },
  {
   "cell_type": "markdown",
   "metadata": {},
   "source": [
    "***\n",
    "***\n",
    "\n",
    "### Else в цикле while\n",
    "\n",
    "В ```Python``` с циклами ```while``` также можно использовать инструкцию ```else```. \n",
    "\n",
    "В этом случае блок в ```else``` исполняется, когда условие цикла становится ложным."
   ]
  },
  {
   "cell_type": "code",
   "execution_count": null,
   "metadata": {},
   "outputs": [],
   "source": [
    "i = 0\n",
    "\n",
    "while i < 5:\n",
    "    print(f\"условие верно i={i}\")\n",
    "    i = i + 1\n",
    "else:\n",
    "    print(f\"\\nусловие неверно i={i}\")"
   ]
  },
  {
   "cell_type": "code",
   "execution_count": null,
   "metadata": {},
   "outputs": [],
   "source": [
    "i = 10\n",
    "\n",
    "while i < 5:\n",
    "    print(\"условие верно\")\n",
    "    i = i + 1\n",
    "else:\n",
    "    print(f\"условие неверно i={i}\")"
   ]
  },
  {
   "cell_type": "markdown",
   "metadata": {},
   "source": [
    "***\n",
    "***\n",
    "\n",
    "### Прерывание цикла в ```Python```\n",
    "\n",
    "\n",
    "В ```Python``` есть два ключевых слова, с помощью которых можно преждевременно остановить итерацию цикла.\n",
    "\n",
    "> **```Break```** — ключевое слово ```break``` прерывает цикл и передает управление **в конец цикла**:"
   ]
  },
  {
   "cell_type": "code",
   "execution_count": null,
   "metadata": {},
   "outputs": [],
   "source": [
    "i = 0\n",
    "\n",
    "while i < 5:\n",
    "    print(f\"Переменная i={i}\")\n",
    "    i += 1\n",
    "    print(f\"Переменная i={i}\")\n",
    "    \n",
    "    if i == 3:\n",
    "        print(\"Условие i равно трем выполнено\\n\")\n",
    "        break\n",
    "        print(\"Выполнение цикла уже прервано, эта команда никогда не будет исполнена\")\n",
    "    \n",
    "    print(\"Условие i равно трем не выполнено\")\n",
    "    print(\"\\t\", f\"Переменная i={i}\\n\", sep=\"\")\n",
    "    \n",
    "print(\"Инструкции вне цикла\")"
   ]
  },
  {
   "cell_type": "markdown",
   "metadata": {},
   "source": [
    "***\n",
    "***\n",
    "\n",
    "> **```Continue```** — ключевое слово ```continue``` прерывает текущую итерацию и передает управление **в начало цикла**, после чего условие снова проверяется. Если оно истинно, исполняется следующая итерация."
   ]
  },
  {
   "cell_type": "code",
   "execution_count": null,
   "metadata": {},
   "outputs": [],
   "source": [
    "i = 0\n",
    "\n",
    "while i < 5:\n",
    "    print(f\"Переменная i={i}\")\n",
    "    i += 1\n",
    "    print(f\"Переменная i={i}\")\n",
    "    \n",
    "    if i == 3:\n",
    "        print(\"Условие i равно трем выполнено\\n\")\n",
    "        continue\n",
    "        print(\"Выполнение цикла прешло на следующую иттерацию, эта команда никогда не будет исполнена\")\n",
    "    \n",
    "    print(\"Условие i равно трем не выполнено\")\n",
    "    print(\"\\t\", f\"Переменная i={i}\\n\", sep=\"\")\n",
    "    \n",
    "print(\"Инструкции вне цикла\")"
   ]
  },
  {
   "cell_type": "markdown",
   "metadata": {},
   "source": [
    "***\n",
    "***\n",
    "\n",
    "**Есть еще варианты прерывания действия цикла**\n",
    "\n",
    "> Например ключевое слово **```raise```** позволяет \"выбросить\" ```исключение```\n",
    "\n",
    "**Например:**"
   ]
  },
  {
   "cell_type": "code",
   "execution_count": null,
   "metadata": {},
   "outputs": [],
   "source": [
    "i = -3\n",
    "\n",
    "while i < 5:\n",
    "    print(f\"Переменная i={i}\")\n",
    "    i += 1\n",
    "    print(f\"Переменная i={i}\")\n",
    "    \n",
    "    if i == 0:\n",
    "        print(\"Условие i равно 0 выполнено\\n\")\n",
    "        raise ArithmeticError(\"Выполнение программы прервано моим исключением\")\n",
    "        print(\"Выполнение цикла уже прервано, эта команда никогда не будет исполнена\")\n",
    "    \n",
    "    print(\"\\t\", f\"10 / {i} = {10 / i}\\n\", sep=\"\")\n",
    "    \n",
    "print(\"Инструкции вне цикла\")"
   ]
  },
  {
   "cell_type": "markdown",
   "metadata": {},
   "source": [
    "***\n",
    "***\n",
    "\n",
    "**Без выбрасывания исключения:**"
   ]
  },
  {
   "cell_type": "code",
   "execution_count": null,
   "metadata": {},
   "outputs": [],
   "source": [
    "i = -3\n",
    "\n",
    "while i < 5:\n",
    "    print(f\"Переменная i={i}\")\n",
    "    i += 1\n",
    "    print(f\"Переменная i={i}\")\n",
    "   \n",
    "    print(\"\\t\", f\"10 / {i} = {10 / i}\\n\", sep=\"\")\n",
    "    \n",
    "print(\"Инструкции вне цикла\")"
   ]
  },
  {
   "cell_type": "markdown",
   "metadata": {},
   "source": [
    "***\n",
    "***\n",
    "\n",
    "**Ошибки и исключения** - отдельная тема, сейчас вникать в нее нет особого смысла\n",
    "\n",
    "Для интересующихся - [Исключения в python](https://pythonworld.ru/tipy-dannyx-v-python/isklyucheniya-v-python-konstrukciya-try-except-dlya-obrabotki-isklyuchenij.html)\n",
    "\n",
    "***\n",
    "***"
   ]
  }
 ],
 "metadata": {
  "kernelspec": {
   "display_name": "Python 3 (ipykernel)",
   "language": "python",
   "name": "python3"
  },
  "language_info": {
   "codemirror_mode": {
    "name": "ipython",
    "version": 3
   },
   "file_extension": ".py",
   "mimetype": "text/x-python",
   "name": "python",
   "nbconvert_exporter": "python",
   "pygments_lexer": "ipython3",
   "version": "3.9.0"
  },
  "toc": {
   "base_numbering": 1,
   "nav_menu": {},
   "number_sections": true,
   "sideBar": true,
   "skip_h1_title": false,
   "title_cell": "Table of Contents",
   "title_sidebar": "Contents",
   "toc_cell": true,
   "toc_position": {},
   "toc_section_display": true,
   "toc_window_display": false
  }
 },
 "nbformat": 4,
 "nbformat_minor": 4
}
