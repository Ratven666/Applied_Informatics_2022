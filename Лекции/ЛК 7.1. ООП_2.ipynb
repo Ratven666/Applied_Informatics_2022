{
 "cells": [
  {
   "cell_type": "markdown",
   "metadata": {
    "toc": true
   },
   "source": [
    "<h1>Table of Contents<span class=\"tocSkip\"></span></h1>\n",
    "<div class=\"toc\"><ul class=\"toc-item\"><li><span><a href=\"#Объектно-ориентированное-программирование.-Часть-2\" data-toc-modified-id=\"Объектно-ориентированное-программирование.-Часть-2-1\"><span class=\"toc-item-num\">1&nbsp;&nbsp;</span>Объектно-ориентированное программирование. Часть 2</a></span><ul class=\"toc-item\"><li><span><a href=\"#Абстрактные-классы\" data-toc-modified-id=\"Абстрактные-классы-1.1\"><span class=\"toc-item-num\">1.1&nbsp;&nbsp;</span>Абстрактные классы</a></span></li><li><span><a href=\"#Обзор-наследования-в-Python\" data-toc-modified-id=\"Обзор-наследования-в-Python-1.2\"><span class=\"toc-item-num\">1.2&nbsp;&nbsp;</span>Обзор наследования в Python</a></span><ul class=\"toc-item\"><li><span><a href=\"#Объект-Супер-Класс\" data-toc-modified-id=\"Объект-Супер-Класс-1.2.1\"><span class=\"toc-item-num\">1.2.1&nbsp;&nbsp;</span>Объект Супер Класс</a></span></li><li><span><a href=\"#Исключения-—-есть-исключение\" data-toc-modified-id=\"Исключения-—-есть-исключение-1.2.2\"><span class=\"toc-item-num\">1.2.2&nbsp;&nbsp;</span>Исключения — есть исключение</a></span></li></ul></li><li><span><a href=\"#Множественное-наследование-в-Python\" data-toc-modified-id=\"Множественное-наследование-в-Python-1.3\"><span class=\"toc-item-num\">1.3&nbsp;&nbsp;</span>Множественное наследование в <code>Python</code></a></span></li><li><span><a href=\"#Порядок-разрешения-методов-(Method-Resolution-Order-/-MRO)-в-Python.-Ромбовидное-наследование-(The-Diamond-Problem)\" data-toc-modified-id=\"Порядок-разрешения-методов-(Method-Resolution-Order-/-MRO)-в-Python.-Ромбовидное-наследование-(The-Diamond-Problem)-1.4\"><span class=\"toc-item-num\">1.4&nbsp;&nbsp;</span>Порядок разрешения методов (<em>Method Resolution Order / MRO</em>) в <code>Python</code>. Ромбовидное наследование (<em>The Diamond Problem</em>)</a></span></li><li><span><a href=\"#Примеси-(Mixins)-в-Python\" data-toc-modified-id=\"Примеси-(Mixins)-в-Python-1.5\"><span class=\"toc-item-num\">1.5&nbsp;&nbsp;</span>Примеси (<em>Mixins</em>) в <code>Python</code></a></span></li><li><span><a href=\"#Наследование-и-композиция\" data-toc-modified-id=\"Наследование-и-композиция-1.6\"><span class=\"toc-item-num\">1.6&nbsp;&nbsp;</span>Наследование и композиция</a></span><ul class=\"toc-item\"><li><span><a href=\"#Наследование\" data-toc-modified-id=\"Наследование-1.6.1\"><span class=\"toc-item-num\">1.6.1&nbsp;&nbsp;</span>Наследование</a></span></li><li><span><a href=\"#Композиция\" data-toc-modified-id=\"Композиция-1.6.2\"><span class=\"toc-item-num\">1.6.2&nbsp;&nbsp;</span>Композиция</a></span></li></ul></li><li><span><a href=\"#S.O.L.I.D-принципы\" data-toc-modified-id=\"S.O.L.I.D-принципы-1.7\"><span class=\"toc-item-num\">1.7&nbsp;&nbsp;</span><strong>S.O.L.I.D</strong> принципы</a></span><ul class=\"toc-item\"><li><span><a href=\"#1.-Single-Responsibility-Principle-(Принцип-единственной-обязанности)\" data-toc-modified-id=\"1.-Single-Responsibility-Principle-(Принцип-единственной-обязанности)-1.7.1\"><span class=\"toc-item-num\">1.7.1&nbsp;&nbsp;</span>1. Single Responsibility Principle (Принцип единственной обязанности)</a></span></li><li><span><a href=\"#2.-Open-Closed-Principle-(Принцип-открытости/закрытости)\" data-toc-modified-id=\"2.-Open-Closed-Principle-(Принцип-открытости/закрытости)-1.7.2\"><span class=\"toc-item-num\">1.7.2&nbsp;&nbsp;</span>2. Open-Closed Principle (Принцип открытости/закрытости)</a></span></li><li><span><a href=\"#3.-Liskov-Substitution-Principle-(Принцип-подстановки-Лисков)\" data-toc-modified-id=\"3.-Liskov-Substitution-Principle-(Принцип-подстановки-Лисков)-1.7.3\"><span class=\"toc-item-num\">1.7.3&nbsp;&nbsp;</span>3. Liskov Substitution Principle (Принцип подстановки Лисков)</a></span></li><li><span><a href=\"#4.-Interface-Segregation-Principle-(Принцип-разделения-интерфейсов)\" data-toc-modified-id=\"4.-Interface-Segregation-Principle-(Принцип-разделения-интерфейсов)-1.7.4\"><span class=\"toc-item-num\">1.7.4&nbsp;&nbsp;</span>4. Interface Segregation Principle (Принцип разделения интерфейсов)</a></span></li><li><span><a href=\"#5.-Dependecy-Inversion-Principle-(Принцип-инверсии-зависимостей)\" data-toc-modified-id=\"5.-Dependecy-Inversion-Principle-(Принцип-инверсии-зависимостей)-1.7.5\"><span class=\"toc-item-num\">1.7.5&nbsp;&nbsp;</span>5. Dependecy Inversion Principle (Принцип инверсии зависимостей)</a></span></li></ul></li></ul></li></ul></div>"
   ]
  },
  {
   "cell_type": "markdown",
   "metadata": {},
   "source": [
    "# Объектно-ориентированное программирование. Часть 2"
   ]
  },
  {
   "cell_type": "markdown",
   "metadata": {},
   "source": [
    "## Абстрактные классы"
   ]
  },
  {
   "cell_type": "markdown",
   "metadata": {},
   "source": [
    "> **Абстрактный класс** в объектно-ориентированном программировании — базовый класс, который не предполагает создания экземпляров. \n",
    "\n",
    "* **Абстрактные классы** реализуют на практике один из принципов ООП — ```полиморфизм```. \n",
    "\n",
    "* **Абстрактный класс** может содержать (и не содержать) абстрактные методы и свойства. \n",
    "\n",
    "* **Абстрактный метод** не реализуется для класса, в котором описан, однако должен быть реализован для его неабстрактных потомков.\n",
    "\n",
    "* **Абстрактные классы** представляют собой наиболее общие абстракции, то есть имеющие наибольший объём и наименьшее содержание.\n",
    "\n",
    "В одних языках создавать экземпляры абстрактных классов запрещено, в других это допускается (например, ```Delphi```), но обращение к абстрактному методу объекта этого класса в процессе выполнения программы приведёт к ошибке. \n",
    "\n",
    "Во многих языках допустимо объявить любой класс абстрактным, даже если в нём нет абстрактных методов (например, ```Java```), именно для запрета создания экземпляров. \n",
    "\n",
    "Абстрактный класс можно рассматривать в качестве ```интерфейса``` к семейству классов, порождённому им, но, в отличие от классического интерфейса, **абстрактный класс может иметь определённые методы, а также свойства**."
   ]
  },
  {
   "cell_type": "markdown",
   "metadata": {},
   "source": [
    "> **Абстрактным** называется класс, который содержит один и более абстрактных методов. \n",
    "\n",
    "> Абстрактным называется объявленный, но не реализованный метод. \n",
    "\n",
    "> Абстрактные классы не могут быть инстанциированы, от них нужно унаследовать, реализовать все их абстрактные методы и только тогда можно создать экземпляр такого класса. \n",
    "\n",
    "**В ```Python``` отсутствует встроенная поддержка абстрактных классов, для этой цели используется модуль ```abc (Abstract Base Class)```**\n",
    "\n",
    "Возьмем для примера, шахматы. У всех шахматных фигур есть общий функционал, например - возможность фигуры ходить и быть отображенной на доске. Исходя из этого, мы можем создать абстрактный класс ```Фигура```, определить в нем ```абстрактный метод``` (в нашем случае - ```ход```, поскольку каждая фигура ходит по-своему) и реализовать общий функционал (```отрисовка на доске```)."
   ]
  },
  {
   "cell_type": "code",
   "execution_count": null,
   "metadata": {},
   "outputs": [],
   "source": [
    "from abc import ABC, abstractmethod\n",
    " \n",
    "class ChessPiece(ABC):\n",
    "    # общий метод, который будут использовать все наследники этого класса\n",
    "    def draw(self):\n",
    "        print(\"Drew a chess piece\")\n",
    " \n",
    "    # абстрактный метод, который будет необходимо переопределять для каждого подкласса\n",
    "    @abstractmethod\n",
    "    def move(self):\n",
    "        pass"
   ]
  },
  {
   "cell_type": "code",
   "execution_count": null,
   "metadata": {},
   "outputs": [],
   "source": [
    "a = ChessPiece()   # TypeError: Can't instantiate abstract class ChessPiece with abstract methods move"
   ]
  },
  {
   "cell_type": "code",
   "execution_count": null,
   "metadata": {},
   "outputs": [],
   "source": [
    "class Queen(ChessPiece):\n",
    "    pass"
   ]
  },
  {
   "cell_type": "code",
   "execution_count": null,
   "metadata": {},
   "outputs": [],
   "source": [
    "q = Queen()"
   ]
  },
  {
   "cell_type": "code",
   "execution_count": null,
   "metadata": {},
   "outputs": [],
   "source": [
    "class Queen(ChessPiece):\n",
    "    def move(self):\n",
    "        print(\"Moved Queen to e2e4\")"
   ]
  },
  {
   "cell_type": "code",
   "execution_count": null,
   "metadata": {},
   "outputs": [],
   "source": [
    "# Мы можем создать экземпляр класса\n",
    "q = Queen()\n",
    "# И нам доступны все методы класса\n",
    "q.draw()\n",
    "q.move()"
   ]
  },
  {
   "cell_type": "markdown",
   "metadata": {},
   "source": [
    "> **Обратите внимание**, абстрактный метод может быть реализован сразу в абстрактном классе, однако, декоратор ```@abstractmethod```, обяжет программистов, реализующих подкласс либо реализовать собственную версию абстрактного метода, либо дополнить существующую. В таком случае, мы можем переопределять метод как в обычном наследовании, а вызывать родительский метод при помощи ```super()```."
   ]
  },
  {
   "cell_type": "code",
   "execution_count": null,
   "metadata": {},
   "outputs": [],
   "source": [
    "from abc import ABC, abstractmethod\n",
    " \n",
    "class Basic(ABC):\n",
    "    @abstractmethod\n",
    "    def hello(self):\n",
    "        print(\"Hello from Basic class\")\n",
    "\n",
    "class Advanced(Basic):\n",
    "    def hello(self):\n",
    "        super().hello()\n",
    "        print(\"Enriched functionality\")\n",
    "\n",
    "a = Advanced()\n",
    "a.hello()"
   ]
  },
  {
   "cell_type": "markdown",
   "metadata": {},
   "source": [
    "Таким образом, используя концепцию **абстрактных классов**, мы можем улучшить качество архитектуры приложения, уменьшить объем работы и при этом, обеспечить легкость дальнейшей поддержки кода."
   ]
  },
  {
   "cell_type": "markdown",
   "metadata": {},
   "source": [
    "## Обзор наследования в Python\n",
    "\n",
    "Все в ```Python``` является объектом. Модули — это объекты, определения классов и функции — это объекты, и, конечно, объекты, созданные из классов, тоже являются объектами.\n",
    "\n",
    "Наследование является обязательной функцией каждого объектно-ориентированного языка программирования. Это означает, что ```Python``` поддерживает наследование, и это один из немногих языков, который поддерживает **множественное наследование**.\n",
    "\n",
    "Когда вы пишете код ```Python``` с использованием классов, вы используете наследование, даже если вы не знаете, что используете его."
   ]
  },
  {
   "cell_type": "markdown",
   "metadata": {},
   "source": [
    "### Объект Супер Класс\n",
    "\n",
    "Самый простой способ увидеть наследование в ```Python``` — это написать самый простой из возможных классов:"
   ]
  },
  {
   "cell_type": "code",
   "execution_count": null,
   "metadata": {},
   "outputs": [],
   "source": [
    "class MyClass:\n",
    "    pass"
   ]
  },
  {
   "cell_type": "code",
   "execution_count": null,
   "metadata": {},
   "outputs": [],
   "source": [
    "c = MyClass()\n",
    "dir(c)"
   ]
  },
  {
   "cell_type": "markdown",
   "metadata": {},
   "source": [
    "Мы объявили класс ```MyClass```, который мало что делает, но он проиллюстрирует самые основные концепции наследования. Теперь, когда у нас объявлен класс, мы можем использовать функцию ```dir()``` для получения списка его членов:"
   ]
  },
  {
   "cell_type": "code",
   "execution_count": null,
   "metadata": {},
   "outputs": [],
   "source": [
    "o = object()\n",
    "dir(o)"
   ]
  },
  {
   "cell_type": "markdown",
   "metadata": {},
   "source": [
    "```dir()``` возвращает список всех членов в указанном объекте. Мы не объявили ни одного члена в ```MyClass```, так откуда этот список?"
   ]
  },
  {
   "cell_type": "markdown",
   "metadata": {},
   "source": [
    "Как видите, два списка практически идентичны. В ```MyClass``` есть несколько дополнительных членов, таких как ```__dict__``` и ```__weakref__```, но каждый отдельный член класса ```object``` также присутствует в ```MyClass```.\n",
    "\n",
    "Это потому, что каждый класс, который вы создаете в ```Python```, неявно происходит от ```object```. Мы могли бы быть более явным и написать: \n",
    "\n",
    "```python\n",
    "class MyClass (object):\n",
    "```\n",
    "но это избыточно и не нужно."
   ]
  },
  {
   "cell_type": "markdown",
   "metadata": {},
   "source": [
    "### Исключения — есть исключение\n",
    "\n",
    "Каждый класс, который вы создаете в ```Python```, будет неявно наследоваться от ```object```. Исключением из этого правила являются классы, используемые для обозначения ошибок путем возбуждения ```exception```."
   ]
  },
  {
   "cell_type": "code",
   "execution_count": null,
   "metadata": {},
   "outputs": [],
   "source": [
    "class MyError:\n",
    "    pass\n",
    "\n",
    "raise MyError()    # TypeError: exceptions must derive from BaseException"
   ]
  },
  {
   "cell_type": "markdown",
   "metadata": {},
   "source": [
    "Мы создали новый класс, чтобы указать тип ошибки. Затем мы попытались использовать это, чтобы вызвать исключение. Возникает исключение, но в выходных данных указывается, что исключение имеет тип ```TypeError```, а не ```MyError```, и что все исключения должны быть производными от ```BaseException (exceptions must derive from BaseException)```.\n",
    "\n",
    "**```BaseException```** — это базовый класс, предоставленный для всех типов ошибок. Чтобы создать новый тип ошибки, мы должны получить свой класс из ```BaseException``` или одного из его производных классов. Соглашение в ```Python``` заключается в получении пользовательских типов ошибок из ```Exception```, который, в свою очередь, является производным от ```BaseException```.\n",
    "\n",
    "Правильный способ определения ошибки:"
   ]
  },
  {
   "cell_type": "code",
   "execution_count": null,
   "metadata": {},
   "outputs": [],
   "source": [
    "class MyError(Exception):\n",
    "    pass\n",
    "\n",
    "raise MyError()"
   ]
  },
  {
   "cell_type": "markdown",
   "metadata": {},
   "source": [
    "## Множественное наследование в ```Python```"
   ]
  },
  {
   "cell_type": "markdown",
   "metadata": {},
   "source": [
    "Язык программирования ```Python``` поддерживает и возможность **множественного наследования**. \n",
    "\n",
    "> То есть, возможность у класса потомка наследовать функционал не от одного, а от нескольких родителей. \n",
    "\n",
    "Благодаря этому мы можем создавать сложные структуры, сохраняя простой и легко-поддерживаемый код.\n",
    "\n",
    "Например, у нас есть класс автомобиля:"
   ]
  },
  {
   "cell_type": "code",
   "execution_count": null,
   "metadata": {},
   "outputs": [],
   "source": [
    "class Auto:\n",
    "    def ride(self):\n",
    "        print(\"Riding on a ground\")"
   ]
  },
  {
   "cell_type": "markdown",
   "metadata": {},
   "source": [
    "Так же у нас есть класс для лодки:"
   ]
  },
  {
   "cell_type": "code",
   "execution_count": null,
   "metadata": {},
   "outputs": [],
   "source": [
    "class Boat:\n",
    "    def swim(self):\n",
    "        print(\"Sailing in the ocean\")"
   ]
  },
  {
   "cell_type": "markdown",
   "metadata": {},
   "source": [
    "Теперь, если нам нужно запрограммировать автомобиль-амфибию, который будет плавать в воде и ездить по земле, мы вместо написания нового класса, можем просто унаследовать от уже существующих:"
   ]
  },
  {
   "cell_type": "code",
   "execution_count": null,
   "metadata": {},
   "outputs": [],
   "source": [
    "class Amphibian(Auto, Boat):\n",
    "    pass\n",
    " \n",
    "a = Amphibian()\n",
    "a.ride()\n",
    "a.swim()"
   ]
  },
  {
   "cell_type": "markdown",
   "metadata": {},
   "source": [
    "> Обратите внимание, что инстанс класса ```Amphibian```, будет одновременно инстансом класса ```Auto``` и ```Boat```, то есть:"
   ]
  },
  {
   "cell_type": "code",
   "execution_count": null,
   "metadata": {},
   "outputs": [],
   "source": [
    "a = Amphibian()\n",
    "\n",
    "print(isinstance(a, Auto))\n",
    "\n",
    "print(isinstance(a, Boat))\n",
    "\n",
    "print(isinstance(a, Amphibian))"
   ]
  },
  {
   "cell_type": "code",
   "execution_count": null,
   "metadata": {},
   "outputs": [],
   "source": [
    "a = Amphibian()\n",
    "\n",
    "print(a == Auto)\n",
    "print(a == Boat)\n",
    "print(a == Amphibian)"
   ]
  },
  {
   "cell_type": "code",
   "execution_count": null,
   "metadata": {},
   "outputs": [],
   "source": [
    "a = Amphibian()\n",
    "\n",
    "print(type(a) == Auto)\n",
    "print(type(a) == Boat)\n",
    "print(type(a) == Amphibian)"
   ]
  },
  {
   "cell_type": "markdown",
   "metadata": {},
   "source": [
    "## Порядок разрешения методов (*Method Resolution Order / MRO*) в ```Python```. Ромбовидное наследование (*The Diamond Problem*)"
   ]
  },
  {
   "cell_type": "markdown",
   "metadata": {},
   "source": [
    "Итак, классы-наследники могут использовать родительские методы. Но что, если у нескольких родителей будут одинаковые методы? \n",
    "Какой метод в таком случае будет использовать наследник? \n",
    "\n",
    "Рассмотрим классический пример:"
   ]
  },
  {
   "cell_type": "code",
   "execution_count": null,
   "metadata": {},
   "outputs": [],
   "source": [
    "class A:\n",
    "    def hi(self):\n",
    "        print(\"A\")\n",
    "\n",
    "class B(A):\n",
    "    def hi(self):\n",
    "        print(\"B\")\n",
    "\n",
    "class C(A):\n",
    "    def hi(self):\n",
    "        print(\"C\")\n",
    "        \n",
    "class D(B, C):\n",
    "    pass\n",
    " \n",
    "d = D()\n",
    "d.hi()"
   ]
  },
  {
   "cell_type": "markdown",
   "metadata": {},
   "source": [
    "Эта ситуация, так называемое **ромбовидное наследование (diamond problem)** решается в ```Python``` путем установления порядка разрешения методов. \n",
    "\n",
    "В ```Python3``` для определения порядка используется **алгоритм поиска в ширину**, то есть сначала интерпретатор будет искать метод ```hi``` в классе ```B```, если его там нету - в классе ```С```, потом ```A```. \n",
    "\n",
    "В ```Python2``` используется **алгоритм поиска в глубину**, то есть в данном случае - сначала ```B```, потом - ```А```, потом ```С```. \n",
    "\n",
    "В ```Python3``` можно посмотреть в каком порядке будут проинспектированы родительские классы при помощи метода класса ```mro()```:"
   ]
  },
  {
   "cell_type": "code",
   "execution_count": null,
   "metadata": {},
   "outputs": [],
   "source": [
    "D.mro()"
   ]
  },
  {
   "cell_type": "markdown",
   "metadata": {},
   "source": [
    "Если вам необходимо использовать метод конкретного родителя, например ```hi()``` класса ```С```, нужно напрямую вызвать его по имени класса, передав ```self``` в качестве аргумента:"
   ]
  },
  {
   "cell_type": "code",
   "execution_count": null,
   "metadata": {},
   "outputs": [],
   "source": [
    "class D(B, C):\n",
    "    def call_hi(self):\n",
    "        C.hi(self)\n",
    "\n",
    "d = D()\n",
    "d.call_hi()"
   ]
  },
  {
   "cell_type": "markdown",
   "metadata": {},
   "source": [
    "## Примеси (*Mixins*) в ```Python```\n",
    "\n",
    "Использование множественного наследования, позволяет нам создавать, так называемые, **классы-примеси** или **миксины**.\n",
    "\n",
    "Представим, что мы программируем класс для автомобиля. Мы хотим, чтобы у нас была возможность слушать музыку в машине. Конечно, можно просто добавить метод ```play_music()``` в класс ```Car```:"
   ]
  },
  {
   "cell_type": "code",
   "execution_count": null,
   "metadata": {},
   "outputs": [],
   "source": [
    "class Car:\n",
    "    def ride(self):\n",
    "        print(\"Riding a car\")\n",
    " \n",
    "    def play_music(self, song):\n",
    "        print(f\"Now playing: {song}\")"
   ]
  },
  {
   "cell_type": "code",
   "execution_count": null,
   "metadata": {},
   "outputs": [],
   "source": [
    "c = Car()\n",
    "c.ride()\n",
    "c.play_music(\"Queen - Bohemian Rhapsody\")"
   ]
  },
  {
   "cell_type": "markdown",
   "metadata": {},
   "source": [
    "Но что если, у нас есть еще и телефон, радио или любой другой девайс, с которого мы будем слушать музыку. В таком случае, лучше вынести функционал проигрывания музыки в отдельный класс-миксин:"
   ]
  },
  {
   "cell_type": "code",
   "execution_count": null,
   "metadata": {},
   "outputs": [],
   "source": [
    "class MusicPlayerMixin:\n",
    "    def play_music(self, song):\n",
    "        print(f\"Now playing: {song}\")"
   ]
  },
  {
   "cell_type": "markdown",
   "metadata": {},
   "source": [
    "Мы можем \"домешивать\" этот класс в любой, где нужна функция проигрывания музыки:"
   ]
  },
  {
   "cell_type": "code",
   "execution_count": null,
   "metadata": {},
   "outputs": [],
   "source": [
    "class Smartphone(MusicPlayerMixin):\n",
    "    pass\n",
    "\n",
    "class Radio(MusicPlayerMixin):\n",
    "    pass\n",
    " \n",
    "class Amphibian(Auto, Boat, MusicPlayerMixin):\n",
    "    pass"
   ]
  },
  {
   "cell_type": "markdown",
   "metadata": {},
   "source": [
    "## Наследование и композиция"
   ]
  },
  {
   "cell_type": "markdown",
   "metadata": {},
   "source": [
    "**Наследование** (Inheritance) и **композиция** (composition) — это две важные концепции в объектно-ориентированном программировании, которые моделируют отношения между двумя классами. \n",
    "\n",
    "Они являются строительными блоками объектно-ориентированного проектирования (object oriented design) и помогают программистам писать повторно используемый код.\n",
    "\n",
    "**Наследование** и **композиция** являются двумя основными понятиями в объектно-ориентированном программировании, которые моделируют отношения между двумя классами. Они определяют дизайн приложения и определяют, как приложение должно развиваться по мере добавления новых функций или изменения требований.\n",
    "\n",
    "Оба они реализуют повторное использование кода, но делают это по-разному."
   ]
  },
  {
   "cell_type": "markdown",
   "metadata": {},
   "source": [
    "### Наследование\n",
    "\n",
    "> **Модели наследования — это отношения.**\n",
    "\n",
    "Это означает, что когда у вас есть класс ```Derived```, который наследуется от базового класса ```Base```, вы создали отношение, в котором ```Derived``` является специализированной версией ```Base```."
   ]
  },
  {
   "cell_type": "markdown",
   "metadata": {},
   "source": [
    "> **Примечание. в отношениях наследования:**\n",
    "\n",
    "* Классы, которые наследуются от другого, называются производными классами, подклассами или подтипами.\n",
    "* Классы, из которых получены другие классы, называются базовыми классами или суперклассами.\n",
    "* Считается, что производный класс порождает, наследует или расширяет базовый класс.\n",
    "\n",
    "Допустим, у вас есть базовый класс ```Animal```, и вы создаете его для создания класса ```Horse```. В наследственных отношениях говорится, что ```Horse``` — это ```Animal```. Это означает, что ```Horse``` наследует интерфейс и реализацию ```Animal```, и объекты ```Horse``` могут использоваться для замены объектов ```Animal``` в приложении.\n",
    "\n",
    "Это известно как **принцип подстановки Лисков**. \n",
    "\n",
    "> Принцип гласит, что **«в компьютерной программе, если ```S``` является подтипом ```T```, объекты типа ```T``` могут быть заменены объектами типа ```S``` без изменения каких-либо требуемых свойств программы»**."
   ]
  },
  {
   "cell_type": "markdown",
   "metadata": {},
   "source": [
    "### Композиция "
   ]
  },
  {
   "cell_type": "markdown",
   "metadata": {},
   "source": [
    "> **Композиция** — это концепция, которая моделирует отношения. \n",
    "\n",
    "Она позволяет создавать сложные типы, комбинируя объекты других типов. Это означает, что класс ```Composite``` может *содержать объект другого класса* ```Component```."
   ]
  },
  {
   "cell_type": "markdown",
   "metadata": {},
   "source": [
    "Как вы можете видеть, когда мы вызываем MyError, в выводе правильно указывается тип возникшей ошибки."
   ]
  },
  {
   "cell_type": "markdown",
   "metadata": {},
   "source": [
    "> **Примечание.** Классы, содержащие объекты других классов, обычно называются ```композитами``` (```composites```), а классы, используемые для создания более сложных типов, называются ```компонентами``` (```components```).\n",
    "\n",
    "Например, наш класс ```Horse``` может быть составлен другим объектом типа ```Tail```. Композиция позволяет выразить эти отношения, сказав, что **у ```Horse``` есть ```Tail```**.\n",
    "\n",
    "> Композиция позволяет повторно использовать код, добавляя объекты к другим объектам, в отличие от наследования интерфейса и реализации других классов. \n",
    "\n",
    "Классы ```Horse``` и ```Dog``` могут использовать функциональность ```Tail``` посредством композиции, не выводя один класс из другого."
   ]
  },
  {
   "cell_type": "markdown",
   "metadata": {},
   "source": [
    "## **S.O.L.I.D** принципы"
   ]
  },
  {
   "cell_type": "markdown",
   "metadata": {},
   "source": [
    "> **SOLID** — это мнемоническая аббревиатура для набора принципов проектирования, созданных для разработки программного обеспечения при помощи объектно-ориентированных языков. \n",
    "\n",
    "Принципы **SOLID** направленны на содействие разработки более простого, надежного и обновляемого кода. \n",
    "\n",
    "Каждая буква в аббревиатуре **SOLID** соответствует одному принципу разработки.\n",
    "\n",
    "При правильной реализации это делает ваш код более расширяемым, логичным и легким для чтения.\n",
    "\n",
    "Для понимания **SOLID** принципов вы должны хорошо понимать как используются интерфейсы.\n",
    "\n",
    "Рассмотрим каждый принцип один за другим:"
   ]
  },
  {
   "cell_type": "markdown",
   "metadata": {},
   "source": [
    "### 1. Single Responsibility Principle (Принцип единственной обязанности)\n",
    "\n",
    "\n",
    "> Принцип единственной обязанности требует того, чтобы один класс выполнял только **одну** работу. \n",
    "\n",
    "Таким образом, если у класса есть более одной работы, он становится зависимым. Изменение поведения одной работы класса приводит к изменению в другой."
   ]
  },
  {
   "cell_type": "code",
   "execution_count": null,
   "metadata": {},
   "outputs": [],
   "source": [
    "# Below is Given a class which has two responsibilities \n",
    "class  User:\n",
    "    def __init__(self, name: str):\n",
    "        self.name = name\n",
    "    \n",
    "    def get_name(self) -> str:\n",
    "        pass\n",
    "\n",
    "    def save(self, user: User):\n",
    "        pass"
   ]
  },
  {
   "cell_type": "markdown",
   "metadata": {},
   "source": [
    "Мы имеем класс ```User```, который ответственен за **две** работы — *свойства пользователя* и *управление базой данных*. \n",
    "\n",
    "Если в приложении будет изменен функционал управления базой данных для пользователя, тогда классы использующие свойства класса ```User``` тоже придется доработать и перекомпилировать, чтобы компенсировать новые изменения. Это как домино эффект, уроните одну кость, и она уронит все за ней следом.\n",
    "\n",
    "Мы же просто разделим класс. Мы создадим ещё один класс, который возьмет на себя одну ответственность — управление базой данных пользователя."
   ]
  },
  {
   "cell_type": "code",
   "execution_count": null,
   "metadata": {},
   "outputs": [],
   "source": [
    "class BaseUser:\n",
    "    def __init__(self, name: str):\n",
    "            self.name = name\n",
    "    \n",
    "    def get_name(self):\n",
    "        pass\n",
    "\n",
    "\n",
    "class UserDB:\n",
    "    def get_user(self, name) -> User:\n",
    "        pass\n",
    "\n",
    "    def save(self, user: User):\n",
    "        pass\n",
    "\n",
    "\n",
    "class User:\n",
    "    def __init__(self, name: str):\n",
    "        self.b_user = BaseUser(name)\n",
    "        self.db = UserDB()\n",
    "    \n",
    "    def get_name(self):\n",
    "        return self.b_user.get_name()\n",
    "    \n",
    "    def save(self):\n",
    "        self.db.save() "
   ]
  },
  {
   "cell_type": "markdown",
   "metadata": {},
   "source": [
    "Распространённым решением этой проблемы является применение шаблона проектирования **Фасад**.\n",
    "\n",
    "```User``` класс был бы фасадом для управления базой данных пользователя и управления свойствами пользователя."
   ]
  },
  {
   "cell_type": "markdown",
   "metadata": {},
   "source": [
    "### 2. Open-Closed Principle (Принцип открытости/закрытости)\n",
    "\n",
    "Программные сущности (классы, модули, функции) должно быть открыты для расширения, но не модификации.\n",
    "\n",
    "Давайте представим, что у вас есть магазин, и вы даете скидку в 20% для ваших любимых покупателей используя класс ```Discount```. \n",
    "\n",
    "Если бы вы решаете удвоить 20-ти процентную скидку для VIP клиентов, вы могли бы изменить класс следующим образом:"
   ]
  },
  {
   "cell_type": "code",
   "execution_count": null,
   "metadata": {},
   "outputs": [],
   "source": [
    "class Discount:\n",
    "    def __init__(self, customer, price):\n",
    "        self.customer = customer\n",
    "        self.price = price\n",
    "        \n",
    "    def give_discount(self):\n",
    "        if self.customer == 'fav':\n",
    "            return self.price * 0.2\n",
    "        if self.customer == 'vip':\n",
    "            return self.price * 0.4"
   ]
  },
  {
   "cell_type": "markdown",
   "metadata": {},
   "source": [
    "Но нет, это нарушает **OCP**. \n",
    "\n",
    "> **OCP** запрещает это. Например, если мы хотим дать новую скидку для другого типа покупателей, то это требует добавления новой логики. Чтобы следовать **OCP**, мы добавим новый класс, который будет расширять ```Discount```. И в этом новом классе реализуем требуемую логику:"
   ]
  },
  {
   "cell_type": "code",
   "execution_count": null,
   "metadata": {},
   "outputs": [],
   "source": [
    "class Discount:\n",
    "    def __init__(self, customer, price):\n",
    "        self.customer = customer\n",
    "        self.price = price\n",
    "    def get_discount(self):\n",
    "        return self.price * 0.2\n",
    "\n",
    "class VIPDiscount(Discount):\n",
    "    def get_discount(self):\n",
    "        return super().get_discount() * 2"
   ]
  },
  {
   "cell_type": "markdown",
   "metadata": {},
   "source": [
    "Если вы решите дать скидку супер VIP пользователям, то это будет выглядеть так:"
   ]
  },
  {
   "cell_type": "code",
   "execution_count": null,
   "metadata": {},
   "outputs": [],
   "source": [
    "class SuperVIPDiscount(VIPDiscount):\n",
    "    def get_discount(self):\n",
    "        return super().get_discount() * 2"
   ]
  },
  {
   "cell_type": "markdown",
   "metadata": {},
   "source": [
    "> **Расширяйте, но не модифицируйте!!!**"
   ]
  },
  {
   "cell_type": "markdown",
   "metadata": {},
   "source": [
    "### 3. Liskov Substitution Principle (Принцип подстановки Лисков)\n",
    "\n",
    "Главная идея, стоящая за ```Liskov Substitution Principle``` в том, что для любого класса клиент должен иметь возможность использовать любой подкласс базового класса, не замечая разницы между ними, и следовательно, без каких-либо изменений поведения программы при выполнении. \n",
    "\n",
    "> Это означает, что клиент полностью изолирован и не подозревает об изменениях в иерархии классов.\n",
    "\n",
    "Более формально: Пусть ```q(x)``` является свойством, верным относительно объектов ```x``` некоторого типа ```T```. Тогда ```q(y)``` также должно быть верным для объектов y типа ```S```, где ```S``` является подтипом типа ```T```.\n",
    "\n",
    "Проще говоря, это значит, что подкласс, дочерний класс должны соответствовать их родительскому классу или супер классу."
   ]
  },
  {
   "cell_type": "markdown",
   "metadata": {},
   "source": [
    "```python\n",
    "class User():\n",
    "    def __init__(self, color, board):\n",
    "        create_pieces()\n",
    "        self.color = color\n",
    "        self.board = board\n",
    "        \n",
    "    def move(self, piece:Piece, position:int):\n",
    "        piece.move(position)\n",
    "        chessmate_check()\n",
    "        \n",
    "board = ChessBoard()\n",
    "\n",
    "user_white = User(\"white\", board)\n",
    "user_black = User(\"black\", board)\n",
    "\n",
    "pieces = user_white.pieces\n",
    "horse = helper.getHorse(user_white, 1)\n",
    "user.move(horse)\n",
    "```"
   ]
  },
  {
   "cell_type": "markdown",
   "metadata": {},
   "source": [
    "**LSP** это основа хорошего объектно-ориентированного проектирования программного обеспечения, потому что он следует одному из базовых принципов ООП — полиморфизму. \n",
    "\n",
    "Речь о том, чтобы создавать правильные иерархии, такие, что классы, производные от базового являлись полиморфными для их родителя по отношению к методам их интерфейсов. \n",
    "\n",
    "Ещё интересно отметить, как этот принцип относится к примеру предыдущего принципа. \n",
    "\n",
    "Если мы пытаемся расширить класс новым несовместимым классом, то все сломается. Взаимодействие с клиентом будет нарушено, и как результат, такое расширение будет невозможно (или, для того чтобы сделать это возможным, нам пришлось бы нарушить другой принцип и модифицировать код клиента, который должен быть закрыт для модификации, такое крайне нежелательно и неприемлемо).\n",
    "\n",
    "Тщательное обдумывание новых классов в соответствии с **LSP** помогает нам расширять иерархию классов правильно. Также, **LSP** способствует **OCP**."
   ]
  },
  {
   "cell_type": "markdown",
   "metadata": {},
   "source": [
    "### 4. Interface Segregation Principle (Принцип разделения интерфейсов)\n",
    "\n",
    "> Создавайте тонкие интерфейсы, которые ориентированы на клиента. Клиенты не должны зависеть от интерфейсов, которые они не используют. Этот принцип устраняет недостатки реализации больших интерфейсов.\n",
    "\n",
    "Чтобы полностью проиллюстрировать это, мы возьмем классический пример, потому что он очень показательный и легок для понимания. Классический пример:"
   ]
  },
  {
   "cell_type": "code",
   "execution_count": null,
   "metadata": {},
   "outputs": [],
   "source": [
    "class IShape:\n",
    "    def draw(self):\n",
    "        raise NotImplementedError\n",
    "\n",
    "class Circle(IShape):\n",
    "    def draw(self):\n",
    "        pass\n",
    "\n",
    "class Square(IShape):\n",
    "    def draw(self):\n",
    "        pass\n",
    "\n",
    "class Rectangle(IShape):\n",
    "    def draw(self):\n",
    "        pass"
   ]
  },
  {
   "cell_type": "markdown",
   "metadata": {},
   "source": [
    "Еще один приятный трюк заключается в том, что в нашей бизнес-логике отдельный класс может реализовать несколько интерфейсов, если необходимо. \n",
    "\n",
    "Таким образом, мы может предоставить единую реализацию для всех общих методов между интерфейсами. \n",
    "\n",
    "Сегрегированные интерфейсы заставляют нас больше думать о нашем коде с точки зрения клиента, что приведет нас к меньшей зависимости и более легкому тестированию. \n",
    "\n",
    "Таким образом, мы не только сделали наш код лучше для клиента, но также это облегчило нам понимание, тестирование и реализацию кода для нас самих."
   ]
  },
  {
   "cell_type": "markdown",
   "metadata": {},
   "source": [
    "### 5. Dependecy Inversion Principle (Принцип инверсии зависимостей)\n",
    "\n",
    "> Зависимость должна быть от абстракций, а не от конкретики. \n",
    "\n",
    "* Модули верхних уровней не должны зависеть от модулей нижних уровней. \n",
    "* Классы и верхних, и нижних уровней должны зависеть от одних и тех же абстракций. \n",
    "* Абстракции не должны зависеть от деталей. \n",
    "* Детали должны зависеть от абстракций.\n",
    "\n",
    "Наступает момент в разработке, когда наше приложение в основном состоит из модулей. Когда такое происходит, нам необходимо улучшать код используя внедрение зависимостей. Функционирование компонентов высокого уровня зависит от компонентов низкого уровня. Для создания определенного поведения вы можете использовать наследование или интерфейсы."
   ]
  },
  {
   "cell_type": "code",
   "execution_count": null,
   "metadata": {},
   "outputs": [],
   "source": [
    "class AuthenticationForUser():\n",
    "    def __init__(self, connector:Connector):\n",
    "        self.connection = connector.connect()\n",
    "\n",
    "    def authenticate(self, credentials):\n",
    "        pass\n",
    "    \n",
    "    def is_authenticated(self):\n",
    "        pass\n",
    "    \n",
    "    def last_login(self):\n",
    "        pass\n",
    "\n",
    "class AnonymousAuth(AuthenticationForUser):\n",
    "    pass\n",
    "\n",
    "class GithubAuth(AuthenticationForUser):\n",
    "    def last_login(self):\n",
    "        pass\n",
    "\n",
    "class FacebookAuth(AuthenticationForUser):\n",
    "    pass\n",
    "\n",
    "class Permissions()\n",
    "    def __init__(self, auth: AuthenticationForUser)\n",
    "        self.auth = auth\n",
    "\n",
    "    def has_permissions():\n",
    "        pass\n",
    "\n",
    "class IsLoggedInPermissions (Permissions):\n",
    "    def last_login():\n",
    "        return auth.last_log"
   ]
  }
 ],
 "metadata": {
  "kernelspec": {
   "display_name": "Python 3 (ipykernel)",
   "language": "python",
   "name": "python3"
  },
  "language_info": {
   "codemirror_mode": {
    "name": "ipython",
    "version": 3
   },
   "file_extension": ".py",
   "mimetype": "text/x-python",
   "name": "python",
   "nbconvert_exporter": "python",
   "pygments_lexer": "ipython3",
   "version": "3.9.0"
  },
  "toc": {
   "base_numbering": 1,
   "nav_menu": {},
   "number_sections": true,
   "sideBar": true,
   "skip_h1_title": false,
   "title_cell": "Table of Contents",
   "title_sidebar": "Contents",
   "toc_cell": true,
   "toc_position": {},
   "toc_section_display": true,
   "toc_window_display": false
  }
 },
 "nbformat": 4,
 "nbformat_minor": 4
}
