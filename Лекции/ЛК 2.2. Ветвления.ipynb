{
 "cells": [
  {
   "cell_type": "markdown",
   "metadata": {
    "toc": true
   },
   "source": [
    "<h1>Table of Contents<span class=\"tocSkip\"></span></h1>\n",
    "<div class=\"toc\"><ul class=\"toc-item\"><li><span><a href=\"#Ветвления\" data-toc-modified-id=\"Ветвления-1\"><span class=\"toc-item-num\">1&nbsp;&nbsp;</span>Ветвления</a></span><ul class=\"toc-item\"><li><span><a href=\"#Оператор-if\" data-toc-modified-id=\"Оператор-if-1.1\"><span class=\"toc-item-num\">1.1&nbsp;&nbsp;</span>Оператор if</a></span></li><li><span><a href=\"#Оператор-if-else\" data-toc-modified-id=\"Оператор-if-else-1.2\"><span class=\"toc-item-num\">1.2&nbsp;&nbsp;</span>Оператор if-else</a></span></li><li><span><a href=\"#Вложенные-операторы-if-и-if-else\" data-toc-modified-id=\"Вложенные-операторы-if-и-if-else-1.3\"><span class=\"toc-item-num\">1.3&nbsp;&nbsp;</span>Вложенные операторы if и if-else</a></span><ul class=\"toc-item\"><li><span><a href=\"#Оператор-if-внутри-другого-if-оператора\" data-toc-modified-id=\"Оператор-if-внутри-другого-if-оператора-1.3.1\"><span class=\"toc-item-num\">1.3.1&nbsp;&nbsp;</span>Оператор if внутри другого if-оператора</a></span></li><li><span><a href=\"#Инструкция-if-else-внутри-другого-оператора-if.\" data-toc-modified-id=\"Инструкция-if-else-внутри-другого-оператора-if.-1.3.2\"><span class=\"toc-item-num\">1.3.2&nbsp;&nbsp;</span>Инструкция if-else внутри другого оператора if.</a></span></li><li><span><a href=\"#Оператор-if-else-внутри-условия-else\" data-toc-modified-id=\"Оператор-if-else-внутри-условия-else-1.3.3\"><span class=\"toc-item-num\">1.3.3&nbsp;&nbsp;</span>Оператор if-else внутри условия else</a></span></li><li><span><a href=\"#Оператор-if-elif-else\" data-toc-modified-id=\"Оператор-if-elif-else-1.3.4\"><span class=\"toc-item-num\">1.3.4&nbsp;&nbsp;</span>Оператор if-elif-else</a></span></li></ul></li><li><span><a href=\"#Структурное-сопоставление-с-шаблоном-switch-case\" data-toc-modified-id=\"Структурное-сопоставление-с-шаблоном-switch-case-1.4\"><span class=\"toc-item-num\">1.4&nbsp;&nbsp;</span>Структурное сопоставление с шаблоном <code>switch-case</code></a></span></li></ul></li></ul></div>"
   ]
  },
  {
   "cell_type": "markdown",
   "metadata": {},
   "source": [
    "# Ветвления"
   ]
  },
  {
   "cell_type": "markdown",
   "metadata": {},
   "source": [
    "Ход выполнения программы может быть ```линейным```, то есть таким, когда **выражения выполняются друг за другом, начиная с первого и заканчивая последним**. \n",
    "\n",
    "Ни одна строка кода программы не пропускается.\n",
    "\n",
    "Однако чаще в программах бывает не так. При выполнении кода, в зависимости от тех или иных условий, некоторые его участки могут быть опущены, в то время как другие – выполнены. \n",
    "\n",
    "Иногда нужно исполнить ряд инструкций **только в том случае, если соблюдаются определенные условия**. \n",
    "\n",
    "Для обработки таких ситуаций в языках программирования есть ```операторы управления```. \n",
    "\n",
    "В дополнение к управлению потоком выполнения программы эти операторы используются для создания циклов или пропуска инструкций, когда какое-то условие истинно.\n",
    "\n",
    "> **Операторы управления бывают следующих типов:**\n",
    "\n",
    "* **Оператор-выражение** ```if```\n",
    "* **Оператор-выражение** ```if-else```\n",
    "* **Оператор-выражение** ```if-elif-else```\n",
    "* **Цикл** ```while```\n",
    "* **Цикл** ```for```\n",
    "* **Оператор-выражение** ```break```\n",
    "* **Оператор-выражение** ```continue```\n",
    "\n",
    "***\n",
    "***"
   ]
  },
  {
   "cell_type": "markdown",
   "metadata": {},
   "source": [
    "## Оператор if\n",
    "\n",
    "Синтаксис оператора ```if``` следующий:\n",
    "\n",
    "``` python\n",
    "if condition:\n",
    "    <indented statement 1>\n",
    "    <indented statement 2>\n",
    "\n",
    "<non-indented statement>\n",
    "```\n",
    "\n",
    "Первая строчка оператора, то есть ```if``` ```condition```: — это **условие ```if```**, а ```condition``` — это **логическое выражение**, которое возвращает ```True``` или ```False```. \n",
    "\n",
    "В следующей строке **блок инструкций**. \n",
    "\n",
    "Блок представляет собой одну или больше инструкций. Если он идет следом за условием ```if```, такой блок называют ```блоком if```.\n",
    "\n",
    "> **Стоит обратить внимание, что у каждой инструкции в ```блоке if``` одинаковый отступ от слова if.** \n",
    "\n",
    "Многие языки, такие как C, C++, Java и PHP, используют фигурные скобки ```{}```, чтобы определять начало и конец блока, но **в ```Python``` используются отступы**.\n",
    "\n",
    "> **Каждая инструкция должна содержать одинаковое количество пробелов.** В противном случае программа вернет синтаксическую ошибку. \n",
    "\n",
    "> В документации ```Python``` рекомендуется делать **отступ на 4 пробела.**\n",
    "\n",
    "**Как это работает:**\n",
    "\n",
    "* Когда выполняется инструкция ``if``, проверяется условие. \n",
    "\n",
    "* Если условие истинно, тогда все инструкции в блоке if выполняются. \n",
    "\n",
    "* Но если условие оказывается неверным, тогда все инструкции внутри этого блока пропускаются.\n",
    "\n",
    "* > Инструкции следом за ```условием if```, у которых нет отступов, не относятся к ```блоку if```. \n",
    "\n",
    "Например, ```<non-intenden statement>``` — это не часть блока if, поэтому она будет выполнена в любом случае.\n",
    "\n",
    "**Например:**"
   ]
  },
  {
   "cell_type": "code",
   "execution_count": null,
   "metadata": {},
   "outputs": [],
   "source": [
    "number = int(input(\"Введите число: \"))            # Ввод данных пользователем\n",
    "\n",
    "if number > 10:                                   # Проверка логического условия number > 10\n",
    "    print(\"Число больше 10\")                      # Блок инструкций - выполняется только если введенное число больше 10\n",
    "    \n",
    "print(\"Программа закончила свое выполнение\")      # Выполняется независимо от истинности условия if"
   ]
  },
  {
   "cell_type": "markdown",
   "metadata": {},
   "source": [
    "***\n",
    "***"
   ]
  },
  {
   "cell_type": "code",
   "execution_count": null,
   "metadata": {},
   "outputs": [],
   "source": [
    "print(\"Начало выполнеиня программы\\n\")\n",
    "\n",
    "number = int(input(\"Введите число: \"))            # Ввод данных пользователем\n",
    "\n",
    "print(\"Ввод числа прошел успешно\\n\")\n",
    "\n",
    "if number > 10:                                   # Проверка логического условия number > 10\n",
    "    print(\"Условие оказалось истинным\")           # Блок инструкций - выполняется только если введенное число больше 10\n",
    "    print(\"Число больше 10\")                      # Блок инструкций - выполняется только если введенное число больше 10\n",
    "    print(f\"Вы ввели число {number}\\n\")           # Блок инструкций - выполняется только если введенное число больше 10\n",
    "    \n",
    "print(\"Программа закончила свое выполнение\")      # Выполняется независимо от истинности условия if"
   ]
  },
  {
   "cell_type": "markdown",
   "metadata": {},
   "source": [
    "***\n",
    "***\n",
    "\n",
    "Здесь важно обратить внимание, что только выражения на строках 8, 9 и 10 относятся к ```блоку if```. Следовательно, они будут исполнены только в том случае, когда ```условие if``` будет ```истинно```. Но инструкция в строке 12 выполнятся в любом случае.\n",
    "\n",
    "> Консоль ```Python``` реагирует иначе при использовании операторов управления прямо в ней. Стоит напомнить, что для разбития выражения на несколько строк используется оператор продолжение ```\\```. **Но в этом нет необходимости с операторами управления**. \n",
    "\n",
    "> Интерпретатор ```Python``` автоматически активирует мультистрочный режим, если нажать ```Enter``` после условия ```if```.\n",
    "\n",
    "Например:\n",
    "\n",
    "```python\n",
    ">>>\n",
    ">>> n = 100\n",
    ">>> if n > 10:\n",
    "...\n",
    "```\n",
    "\n",
    "После нажатия ```Enter``` на строке с ```условием if``` командная строка преобразуется с ```>>>``` на ```…```.\n",
    "\n",
    "Консоль ```Python``` показывает ```…``` для многострочных инструкций. Это значит, что начатая инструкция все еще не закончена.\n",
    "\n",
    "Чтобы закончить ```инструкцию if```, нужно добавить еще одну инструкцию в ```блок if```:\n",
    "\n",
    "```python\n",
    ">>>\n",
    ">>> n = 100\n",
    ">>> if n > 10:\n",
    "...     print(\"n v 10\")\n",
    "...\n",
    "```\n",
    "\n",
    "> ```Python``` не будет автоматически добавлять отступ. Это нужно сделать самостоятельно. \n",
    "Закончив ввод инструкции, нужно дважды нажать ```Enter```, чтобы исполнить инструкцию. После этого консоль вернется к изначальному состоянию.\n",
    "\n",
    "```python\n",
    ">>>\n",
    ">>> n = 100\n",
    ">>> if n > 10:\n",
    "...     print(\"n больше чем 10\")\n",
    "...\n",
    "n больше чем 10\n",
    ">>>\n",
    "```\n",
    "\n",
    "Все эти программы заканчиваются внезапно, не показывая ничего, если условие не истинно. \n",
    "\n",
    "Но в большинстве случаев пользователю нужно показать хотя бы что-нибудь. \n",
    "\n",
    "Для этого используется оператор-выражение **```if-else```**.\n",
    "\n",
    "***\n",
    "***"
   ]
  },
  {
   "cell_type": "code",
   "execution_count": null,
   "metadata": {},
   "outputs": [],
   "source": [
    "radius = int(input(\"Введите радиус: \"))\n",
    "\n",
    "if radius >= 0:\n",
    "    print(\"Длина окружности =\",  2  *  3.14  *  radius)\n",
    "    print(\"Площадь =\", 3.14 * radius ** 2)\n",
    "if radius < 0:\n",
    "    print(\"Пожалуйста, введите положительное число\")"
   ]
  },
  {
   "cell_type": "markdown",
   "metadata": {},
   "source": [
    "***\n",
    "***"
   ]
  },
  {
   "cell_type": "markdown",
   "metadata": {},
   "source": [
    "## Оператор if-else"
   ]
  },
  {
   "cell_type": "markdown",
   "metadata": {},
   "source": [
    "Оператор ```if-else``` исполняет одну порцию инструкций, если условие истинно и другое — если нет. \n",
    "\n",
    "Таким образом этот оператор предлагает два направления действий. \n",
    "\n",
    "**Синтаксис оператора ```if-else``` следующий:**\n",
    "\n",
    "```python\n",
    "if  condition:\n",
    "    # блок if\n",
    "    statement 1\n",
    "    statement 2\n",
    "else:\n",
    "    # блок else\n",
    "    statement 3\n",
    "    statement 4\n",
    "```\n",
    "        \n",
    "**Как это работает:**\n",
    "\n",
    "Когда оператор ```if-else``` исполняется, условие проверяется, и если оно возвращает ```True```, когда инструкции в ```блоке if``` исполняются. Но если возвращается ```False```, тогда исполняются инструкции из ```блока else```.\n",
    "\n",
    "**Пример: программа для расчета площади и длины окружности круга**"
   ]
  },
  {
   "cell_type": "code",
   "execution_count": null,
   "metadata": {},
   "outputs": [],
   "source": [
    "radius = int(input(\"Введите радиус: \"))\n",
    "\n",
    "if radius > 0:\n",
    "    print(\"Длина окружности = \",  2  *  3.14  *  radius)\n",
    "    print(\"Площадь = \", 3.14 * radius ** 2)\n",
    "else:\n",
    "    print(\"Пожалуйста, введите положительное число\")"
   ]
  },
  {
   "cell_type": "markdown",
   "metadata": {},
   "source": [
    "***\n",
    "***"
   ]
  },
  {
   "cell_type": "markdown",
   "metadata": {},
   "source": [
    "Теперь программа показывает корректный ответ пользователю, даже если условие ```if``` не является истинным. Это и требуется.\n",
    "\n",
    "> В инструкциях ```if-else``` нужно следить за тем, чтобы условия ```if``` и ```else``` находились на одном уровне. \n",
    "\n",
    "В противном случае программа вернет синтаксическую ошибку. \n",
    "\n",
    "**Например НЕПРАВИЛЬНЫЙ СИНТАКСИС:**"
   ]
  },
  {
   "cell_type": "code",
   "execution_count": null,
   "metadata": {},
   "outputs": [],
   "source": [
    "radius = int(input(\"Введите радиус: \"))\n",
    "\n",
    "if radius >= 0:\n",
    "    print(\"Длина окружности = \",  2  *  3.14  *  radius)\n",
    "    print(\"Площадь = \", 3.14 * radius ** 2)\n",
    "    else:\n",
    "        print(\"Пожалуйста, введите положительное число\")"
   ]
  },
  {
   "cell_type": "markdown",
   "metadata": {},
   "source": [
    "***\n",
    "***\n",
    "\n",
    "## Вложенные операторы if и if-else\n",
    "\n",
    "Использовать операторы ```if-else``` можно внутри других ```инструкций if``` или ```if-else```. \n",
    "\n",
    "Это лучше объяснить на примерах:\n",
    "\n",
    "### Оператор if внутри другого if-оператора\n",
    "\n",
    "**Пример 1: программа, проверяющая, имеет ли студент право на кредит**"
   ]
  },
  {
   "cell_type": "code",
   "execution_count": null,
   "metadata": {},
   "outputs": [],
   "source": [
    "per_grad = int(input(\"Введите кредитный рейтинг: \"))\n",
    "gre_score = int(input(\"Введите текущий лимит: \"))\n",
    "\n",
    "if per_grad > 70:\n",
    "    # внешний блок if\n",
    "    if gre_score > 150:\n",
    "        # внутренний блок if\n",
    "        print(\"\\nПоздравляем, вам выдан кредит\")\n",
    "else:\n",
    "    print(\"\\nИзвините, вы не имеете права на кредит\")"
   ]
  },
  {
   "cell_type": "code",
   "execution_count": null,
   "metadata": {},
   "outputs": [],
   "source": [
    "gre_score = int(input(\"Введите текущий лимит: \"))\n",
    "per_grad = int(input(\"Введите кредитный рейтинг: \"))\n",
    "\n",
    "if per_grad > 70 and gre_score > 150:\n",
    "    print(\"\\nПоздравляем, вам выдан кредит\")\n",
    "else:\n",
    "    print(\"\\nИзвините, вы не имеете права на кредит\")"
   ]
  },
  {
   "cell_type": "markdown",
   "metadata": {},
   "source": [
    "***\n",
    "***\n",
    "Здесь оператор ```if``` используется внутри другого if-оператора. \n",
    "\n",
    "Внутренним называют вложенный оператором if. \n",
    "\n",
    "В этом случае внутренний оператор if относится к внешнему блоку if, а у внутреннего блока if есть только одна инструкция, которая выводит “Поздравляем, вам выдан кредит”.\n",
    "\n",
    "**Как это работает:**\n",
    "\n",
    "Сначала оценивается ```внешнее условие if```, то есть ```per_grad > 70```. \n",
    "\n",
    "Если оно возвращает ```True```, тогда управление программой происходит внутри ```внешнего блока if```. \n",
    "\n",
    "Там же проверяется условие ```gre_score > 150```. Если оно возвращает ```True```, тогда в консоль выводится \"\\nПоздравляем, вам выдан кредит\". \n",
    "\n",
    "Если ```False```, тогда программа выходит из инструкции ```if-else```, чтобы исполнить следующие операции. Ничего при этом не выводится в консоль.\n",
    "\n",
    "При этом если внешнее условие возвращает ```False```, тогда выполнение инструкций внутри блока ```if``` пропускается, и контроль переходит к блоку ```else```(9 строчка).\n",
    "\n",
    "***\n",
    "***"
   ]
  },
  {
   "cell_type": "markdown",
   "metadata": {},
   "source": [
    "### Инструкция if-else внутри другого оператора if."
   ]
  },
  {
   "cell_type": "code",
   "execution_count": null,
   "metadata": {},
   "outputs": [],
   "source": [
    "gre_score = int(input(\"Введите текущий лимит: \"))\n",
    "per_grad = int(input(\"Введите кредитный рейтинг: \"))\n",
    "\n",
    "if per_grad > 70:\n",
    "    if gre_score > 150:\n",
    "        print(\"Поздравляем, вам выдан кредит\")\n",
    "    else:\n",
    "        print(\"У вас низкий кредитный лимит\")\n",
    "else:\n",
    "    print(\"Извините, вы не имеете права на кредит\")"
   ]
  },
  {
   "cell_type": "markdown",
   "metadata": {},
   "source": [
    "**Как это работает:**\n",
    "\n",
    "Эта программа работает та же, как и предыдущая. Единственное отличие — у вложенного оператора if теперь есть инструкция else. Теперь если ввести балл GRE меньше, чем 150, программа выведет: “У вас низкий кредитный лимит”\n",
    "\n",
    "При создании вложенных операторов if или if-else, всегда важно помнить об отступах. В противном случае выйдет синтаксическая ошибка.\n",
    "\n",
    "***\n",
    "***"
   ]
  },
  {
   "cell_type": "markdown",
   "metadata": {},
   "source": [
    "### Оператор if-else внутри условия else"
   ]
  },
  {
   "cell_type": "markdown",
   "metadata": {},
   "source": [
    "**Пример: программа для определения оценки студента на основе введенных баллов**"
   ]
  },
  {
   "cell_type": "code",
   "execution_count": null,
   "metadata": {},
   "outputs": [],
   "source": [
    "score = int(input(\"Введите набранный на экзамене проент правильных ответов: \"))\n",
    "\n",
    "if score >= 90:\n",
    "    print(\"Отлично! Ваша оценка А\")\n",
    "else:\n",
    "    if score >= 80:\n",
    "        print(\"Здорово! Ваша оценка - B\")\n",
    "    else:\n",
    "        if score >= 70:\n",
    "            print(\"Хорошо! Ваша оценка - C\")\n",
    "        else:\n",
    "            if score >= 60:\n",
    "                print(\"Ваша оценка - D. Стоит повторить материал.\")\n",
    "            else:\n",
    "                print(\"Вы не сдали экзамен\")"
   ]
  },
  {
   "cell_type": "markdown",
   "metadata": {},
   "source": [
    "***\n",
    "***\n",
    "\n",
    "**Как это работает:**\n",
    "\n",
    "Когда управление программой переходит к оператору ```if-else```, проверяется условие на строке 3 ```score >= 90```. Если оно возвращает ```True```, в консоль выводится **“Отлично! Ваша оценка А”**. Если значение неверное, управление переходит к условию ```else``` на 5 строке. Теперь проверяется условие ```score >= 80``` ```6 строка```. Если оно верное, тогда в консоли выводится **“Здорово! Ваша оценка — B”**.\n",
    "\n",
    "В противном случае управление программой переходит к условию ```else``` на 8 строке. И здесь снова имеется вложенный оператор ```if-else```. Проверяется условие ```score >= 70```. Если оно истинно, тогда в консоль выводится **“Хорошо! Ваша оценка — C”**. В противном случае управление переходит к блоку ```else``` на 11 строке. В конце концов, проверяется условие ```score >= 60```. Если оно возвращает ```True```, тогда в консоль выводится **“Ваша оценка — D. Стоит повторить материал.”** Если же ```False```, тогда в консоли будет **“Вы не сдали экзамен”**. На этом этапе управление переходит к следующим инструкциям, написанным после внешнего ```if-else```.\n",
    "\n",
    "Хотя вложенные операторы ```if-else``` позволяют проверять несколько условий, их довольно сложно читать и писать. Эти же программы можно сделать более читабельными и простыми с помощью ```if-elif-else```.\n",
    "\n",
    "***\n",
    "***"
   ]
  },
  {
   "cell_type": "markdown",
   "metadata": {},
   "source": [
    "### Оператор if-elif-else"
   ]
  },
  {
   "cell_type": "markdown",
   "metadata": {},
   "source": [
    "Оператор ```if-elif-else``` — это альтернативное представление оператора ```if-else```, которое позволяет проверять несколько условий, вместо того чтобы писать вложенные ```if-else```. \n",
    "\n",
    "**Синтаксис этого оператора следующий:**\n",
    "\n",
    "```python\n",
    "if condition_1:\n",
    "    # блок if\n",
    "    statement\n",
    "    statement\n",
    "    more statement\n",
    "elif condition_2:\n",
    "    # первый блок elif\n",
    "    statement\n",
    "    statement\n",
    "    more statement\n",
    "elif condition_3:\n",
    "    # второй блок elif\n",
    "    statement\n",
    "    statement\n",
    "    more statement\n",
    "\n",
    "...\n",
    "\n",
    "else\n",
    "    statement\n",
    "    statement\n",
    "    more statement\n",
    "```\n",
    "\n",
    "> **Примечание:** ```…``` означает, что можно писать **сколько угодно условий ```eilf```**.\n",
    "\n",
    "**Как это работает:**\n",
    "\n",
    "Когда исполняется инструкция ```if-elif-else```, в первую очередь проверяется ```condition_1```. Если условие истинно, тогда исполняется ```блок инструкций if```. Следующие условия и инструкции пропускаются, и управление переходит к операторам ```вне if-elif-else```.\n",
    "\n",
    "Если ```condition_1``` оказывается ложным, тогда управление переходит ```к следующему условию elif```, и проверяется ```condition_2```. Если оно истинно, тогда исполняются инструкции внутри ```первого блока elif```. Последующие инструкции внутри этого блока пропускаются.\n",
    "\n",
    "Этот процесс повторяется, пока не находится условие ```elif```, которое оказывается истинным. Если такого нет, тогда исполняется блок ```else``` в самом конце.\n",
    "\n",
    "**Перепишем программу с помощью ```if-elif-else```**."
   ]
  },
  {
   "cell_type": "code",
   "execution_count": null,
   "metadata": {},
   "outputs": [],
   "source": [
    "score = int(input(\"Введите вашу оценку: \"))\n",
    "\n",
    "if score >= 90:\n",
    "    print(\"Отлично! Ваша оценка А\")\n",
    "elif score >= 80:\n",
    "    print(\"Здорово! Ваша оценка - B\")\n",
    "elif score >= 70:\n",
    "    print(\"Хорошо! Ваша оценка - C\")\n",
    "elif score >= 60:\n",
    "    print(\"Ваша оценка - D. Стоит повторить материал.\")\n",
    "else:\n",
    "    print(\"Вы не сдали экзамен\")"
   ]
  },
  {
   "cell_type": "markdown",
   "metadata": {},
   "source": [
    "***\n",
    "***\n",
    "\n",
    "> Такую программу намного легче читать, чем в случае с вложенными ```if-else```.\n",
    "\n",
    "***\n",
    "***"
   ]
  },
  {
   "cell_type": "markdown",
   "metadata": {},
   "source": [
    "## Структурное сопоставление с шаблоном ```switch-case```"
   ]
  },
  {
   "cell_type": "markdown",
   "metadata": {},
   "source": [
    "Оператор ```switch/case``` - это оператор, который оценивает точность или сходство переданного значения. Почти во всех языках (таких как ```Java``` и ```.NET``` ```C#``` и т.д.), в синтаксисе, присутствует оператор ```switch/case```.\n",
    "\n",
    "Сопоставление подразумевает определение при операторе ```match``` искомого значения, после которого можно перечислить несколько потенциальных кейсов, каждый с оператором ```case```. В месте обнаружения совпадения между ```match``` и ```case``` выполняется соответствующий код.\n",
    "\n",
    "Начиная с **```Python 3.10```** эта конструкция представлена сочетанием операторов ```match/case```:\n",
    "\n",
    "```python\n",
    "match some_expression:\n",
    "    case pattern_1:\n",
    "        ...\n",
    "    case pattern_2:\n",
    "        ...\n",
    "```"
   ]
  },
  {
   "cell_type": "code",
   "execution_count": null,
   "metadata": {},
   "outputs": [],
   "source": [
    "http_code = \"418\"\n",
    "\n",
    "match http_code:\n",
    "    case \"200\":\n",
    "        print(\"OK\")\n",
    "        do_something_good()\n",
    "    case \"404\":\n",
    "        print(\"Not Found\")\n",
    "        do_something_bad()\n",
    "    case \"418\":\n",
    "        print(\"I'm a teapot\")\n",
    "        make_coffee()\n",
    "    case _:\n",
    "        print(\"Code not found\")"
   ]
  },
  {
   "attachments": {
    "0_yx4Kdb_HgLswTA6L.png": {
     "image/png": "[encoded data removed]"
    }
   },
   "cell_type": "markdown",
   "metadata": {},
   "source": [
    "Здесь происходит проверка нескольких условий и выполнение разных операций на основе значения, которое мы находим внутри ```http_code```.\n",
    "\n",
    "![0_yx4Kdb_HgLswTA6L.png](attachment:0_yx4Kdb_HgLswTA6L.png)"
   ]
  },
  {
   "cell_type": "code",
   "execution_count": null,
   "metadata": {},
   "outputs": [],
   "source": [
    "http_code = \"418\"\n",
    "\n",
    "if http_code == \"418\":\n",
    "    print(\"OK\")\n",
    "    do_something_good()\n",
    "elif http_code == \"404\":\n",
    "    print(\"Not Found\")\n",
    "    do_something_bad()\n",
    "elif http_code == \"418\":\n",
    "    print(\"I'm a teapot\")\n",
    "    make_coffee()\n",
    "else:\n",
    "    print(\"Code not found\")"
   ]
  },
  {
   "cell_type": "markdown",
   "metadata": {},
   "source": [
    "Тем не менее, с помощью инструкций ```match-case``` мы избавляемся от повторения ```http_code ==```, что повышает чистоту кода при тестировании на соответствие многим разным условиям."
   ]
  }
 ],
 "metadata": {
  "kernelspec": {
   "display_name": "Python 3 (ipykernel)",
   "language": "python",
   "name": "python3"
  },
  "language_info": {
   "codemirror_mode": {
    "name": "ipython",
    "version": 3
   },
   "file_extension": ".py",
   "mimetype": "text/x-python",
   "name": "python",
   "nbconvert_exporter": "python",
   "pygments_lexer": "ipython3",
   "version": "3.9.0"
  },
  "toc": {
   "base_numbering": 1,
   "nav_menu": {},
   "number_sections": true,
   "sideBar": true,
   "skip_h1_title": false,
   "title_cell": "Table of Contents",
   "title_sidebar": "Contents",
   "toc_cell": true,
   "toc_position": {},
   "toc_section_display": true,
   "toc_window_display": false
  }
 },
 "nbformat": 4,
 "nbformat_minor": 4
}
