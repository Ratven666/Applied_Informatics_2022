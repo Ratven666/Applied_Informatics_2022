{
 "cells": [
  {
   "cell_type": "markdown",
   "metadata": {
    "toc": true
   },
   "source": [
    "<h1>Table of Contents<span class=\"tocSkip\"></span></h1>\n",
    "<div class=\"toc\"><ul class=\"toc-item\"><li><span><a href=\"#Функции\" data-toc-modified-id=\"Функции-1\"><span class=\"toc-item-num\">1&nbsp;&nbsp;</span>Функции</a></span><ul class=\"toc-item\"><li><span><a href=\"#Именные-функции,-инструкция-def\" data-toc-modified-id=\"Именные-функции,-инструкция-def-1.1\"><span class=\"toc-item-num\">1.1&nbsp;&nbsp;</span>Именные функции, инструкция <code>def</code></a></span></li><li><span><a href=\"#Аргументы-функции\" data-toc-modified-id=\"Аргументы-функции-1.2\"><span class=\"toc-item-num\">1.2&nbsp;&nbsp;</span>Аргументы функции</a></span></li><li><span><a href=\"#Вложенные-функции\" data-toc-modified-id=\"Вложенные-функции-1.3\"><span class=\"toc-item-num\">1.3&nbsp;&nbsp;</span>Вложенные функции</a></span></li><li><span><a href=\"#Документирование-функции\" data-toc-modified-id=\"Документирование-функции-1.4\"><span class=\"toc-item-num\">1.4&nbsp;&nbsp;</span>Документирование функции</a></span><ul class=\"toc-item\"><li><span><a href=\"#Методы,-функции-и-атрибуты,-связанные-с-объектами-функции\" data-toc-modified-id=\"Методы,-функции-и-атрибуты,-связанные-с-объектами-функции-1.4.1\"><span class=\"toc-item-num\">1.4.1&nbsp;&nbsp;</span>Методы, функции и атрибуты, связанные с объектами функции</a></span></li></ul></li><li><span><a href=\"#Рекурсивные-функции\" data-toc-modified-id=\"Рекурсивные-функции-1.5\"><span class=\"toc-item-num\">1.5&nbsp;&nbsp;</span>Рекурсивные функции</a></span><ul class=\"toc-item\"><li><span><a href=\"#Снежинка-Коха\" data-toc-modified-id=\"Снежинка-Коха-1.5.1\"><span class=\"toc-item-num\">1.5.1&nbsp;&nbsp;</span>Снежинка Коха</a></span></li><li><span><a href=\"#Дракон-Хартера-—-Хейтуэя\" data-toc-modified-id=\"Дракон-Хартера-—-Хейтуэя-1.5.2\"><span class=\"toc-item-num\">1.5.2&nbsp;&nbsp;</span>Дракон Хартера — Хейтуэя</a></span></li></ul></li><li><span><a href=\"#Глобальная-переменная\" data-toc-modified-id=\"Глобальная-переменная-1.6\"><span class=\"toc-item-num\">1.6&nbsp;&nbsp;</span>Глобальная переменная</a></span></li><li><span><a href=\"#Анонимная-функция:-лямбда\" data-toc-modified-id=\"Анонимная-функция:-лямбда-1.7\"><span class=\"toc-item-num\">1.7&nbsp;&nbsp;</span>Анонимная функция: лямбда</a></span><ul class=\"toc-item\"><li><span><a href=\"#Зачем-использовать-лямбда-функции?\" data-toc-modified-id=\"Зачем-использовать-лямбда-функции?-1.7.1\"><span class=\"toc-item-num\">1.7.1&nbsp;&nbsp;</span>Зачем использовать лямбда-функции?</a></span></li></ul></li></ul></li></ul></div>"
   ]
  },
  {
   "cell_type": "markdown",
   "metadata": {},
   "source": [
    "# Функции"
   ]
  },
  {
   "cell_type": "markdown",
   "metadata": {},
   "source": [
    "## Именные функции, инструкция ```def```\n",
    "**Функция в ```python```** - объект, принимающий аргументы и возвращающий значение. \n",
    "\n",
    "Обычно функция определяется с помощью инструкции ```def```.\n",
    "\n",
    "> Определим простейшую функцию:"
   ]
  },
  {
   "cell_type": "code",
   "execution_count": null,
   "metadata": {},
   "outputs": [],
   "source": [
    "def my_sum(x, y):\n",
    "    return x + y"
   ]
  },
  {
   "cell_type": "markdown",
   "metadata": {},
   "source": [
    "Инструкция ```return``` говорит, что нужно вернуть значение. \n",
    "\n",
    "В нашем случае функция возвращает сумму ```x``` и ```y```.\n",
    "\n",
    "Теперь мы можем ее вызвать:"
   ]
  },
  {
   "cell_type": "code",
   "execution_count": null,
   "metadata": {},
   "outputs": [],
   "source": [
    "my_sum(2, 3)"
   ]
  },
  {
   "cell_type": "code",
   "execution_count": null,
   "metadata": {},
   "outputs": [],
   "source": [
    "my_sum(\"ab\", \"cd\")"
   ]
  },
  {
   "cell_type": "code",
   "execution_count": null,
   "metadata": {},
   "outputs": [],
   "source": [
    "my_sum([1, 2, 3], 4)     # TypeError: can only concatenate list (not \"int\") to list"
   ]
  },
  {
   "cell_type": "code",
   "execution_count": null,
   "metadata": {},
   "outputs": [],
   "source": [
    "my_sum([1, 2, 3], [4])"
   ]
  },
  {
   "cell_type": "markdown",
   "metadata": {},
   "source": [
    "***\n",
    "***"
   ]
  },
  {
   "cell_type": "code",
   "execution_count": null,
   "metadata": {},
   "outputs": [],
   "source": [
    "rezult = my_sum(2, 3)\n",
    "print(rezult, type(rezult), sep=\"\\t\")\n",
    "print(my_sum, type(my_sum), sep=\"\\t\")"
   ]
  },
  {
   "cell_type": "markdown",
   "metadata": {},
   "source": [
    "> **Функция - тоже объект!!!**"
   ]
  },
  {
   "cell_type": "code",
   "execution_count": null,
   "metadata": {},
   "outputs": [],
   "source": [
    "def my_sum(x, y):\n",
    "    return x + y\n",
    "\n",
    "print(my_sum, type(my_sum), sep=\"\\t\")\n",
    "\n",
    "my_sum = my_sum(2, 3)\n",
    "\n",
    "print(my_sum, type(my_sum), sep=\"\\t\")\n",
    "\n",
    "my_sum(2, 3)           # TypeError: 'int' object is not callable"
   ]
  },
  {
   "cell_type": "markdown",
   "metadata": {},
   "source": [
    "***\n",
    "***\n",
    "\n",
    "> Если инструкции ```return``` нет, тогда по умолчанию функция будет возвращать объект ```None```"
   ]
  },
  {
   "cell_type": "code",
   "execution_count": null,
   "metadata": {},
   "outputs": [],
   "source": [
    "def my_sum(x, y):\n",
    "    print(f\"Распечатанная из функции сумма: {x} + {y} = {x + y}\")\n",
    "\n",
    "rezult = my_sum(2, 3)\n",
    "\n",
    "print(rezult, type(rezult), sep=\"\\t\")"
   ]
  },
  {
   "cell_type": "markdown",
   "metadata": {},
   "source": [
    "***\n",
    "***\n",
    "\n",
    "## Аргументы функции\n",
    "\n",
    "Функция может принимать произвольное количество аргументов или не принимать их вовсе. \n",
    "\n",
    "Также распространены функции с произвольным числом аргументов, функции с позиционными и именованными аргументами, обязательными и необязательными.\n",
    "\n",
    "В функции можно использовать неограниченное количество параметров, но число аргументов должно точно соответствовать параметрам. \n",
    "\n",
    "> **Параметр** — это имя в списке параметров в первой строке определения функции. Он получает свое значение при вызове. \n",
    "\n",
    "> **Аргумент** — это реальное значение или ссылка на него, переданное функции при вызове.\n",
    "\n",
    "Эти параметры представляют собой позиционные аргументы. Также ```Python``` предоставляет возможность определять значения по умолчанию, которые можно задавать с помощью аргументов-ключевых слов."
   ]
  },
  {
   "cell_type": "code",
   "execution_count": null,
   "metadata": {},
   "outputs": [],
   "source": [
    "def func(a, b, c=3):      # c - необязательный аргумент\n",
    "    return a + b + c"
   ]
  },
  {
   "cell_type": "code",
   "execution_count": null,
   "metadata": {},
   "outputs": [],
   "source": [
    "rezult = func(1, 2)\n",
    "print(rezult)             # 1 + 2 + 3"
   ]
  },
  {
   "cell_type": "code",
   "execution_count": null,
   "metadata": {},
   "outputs": [],
   "source": [
    "rezult = func(a=1, b=2)\n",
    "print(rezult)             # 1 + 2 + 3"
   ]
  },
  {
   "cell_type": "code",
   "execution_count": null,
   "metadata": {},
   "outputs": [],
   "source": [
    "rezult = func(1, 2, 7)    # a=1, b=2, c=7\n",
    "print(rezult)             # 1 + 2 + 7"
   ]
  },
  {
   "cell_type": "code",
   "execution_count": null,
   "metadata": {},
   "outputs": [],
   "source": [
    "rezult = func(\"a\", \"b\", \"c\")    # a=\"a\", b=\"a\", c=\"a\"\n",
    "print(rezult)             # 1 + 2 + 7"
   ]
  },
  {
   "cell_type": "code",
   "execution_count": null,
   "metadata": {},
   "outputs": [],
   "source": [
    "rezult = func(b=\"a\", a=\"b\", c=\"c\")    # a=\"a\", b=\"a\", c=\"a\"\n",
    "print(rezult)             # 1 + 2 + 7"
   ]
  },
  {
   "cell_type": "code",
   "execution_count": null,
   "metadata": {},
   "outputs": [],
   "source": [
    "rezult = func(a=1, c=2)\n",
    "print(rezult)             # TypeError: func() missing 1 required positional argument: 'b'"
   ]
  },
  {
   "cell_type": "code",
   "execution_count": null,
   "metadata": {},
   "outputs": [],
   "source": [
    "rezult = func(c=1, 2, 7)\n",
    "print(rezult)             # SyntaxError: positional argument follows keyword argument"
   ]
  },
  {
   "cell_type": "markdown",
   "metadata": {},
   "source": [
    "> **Если использовать необязательный параметр, тогда все, что указаны справа, должны быть параметрами по умолчанию.**"
   ]
  },
  {
   "cell_type": "code",
   "execution_count": null,
   "metadata": {},
   "outputs": [],
   "source": [
    "def func(c=3, a, b):      # SyntaxError: non-default argument follows default argument\n",
    "    return a + b + c"
   ]
  },
  {
   "cell_type": "markdown",
   "metadata": {},
   "source": [
    "***\n",
    "***\n",
    "\n",
    "> **Функция также может принимать переменное количество позиционных аргументов, тогда перед именем ставится ```*```:**"
   ]
  },
  {
   "cell_type": "code",
   "execution_count": null,
   "metadata": {},
   "outputs": [],
   "source": [
    "def func(*args):\n",
    "    return args"
   ]
  },
  {
   "cell_type": "code",
   "execution_count": null,
   "metadata": {},
   "outputs": [],
   "source": [
    "func(1, 2, 3, 'abc')"
   ]
  },
  {
   "cell_type": "code",
   "execution_count": null,
   "metadata": {},
   "outputs": [],
   "source": [
    "func()"
   ]
  },
  {
   "cell_type": "code",
   "execution_count": null,
   "metadata": {},
   "outputs": [],
   "source": [
    "func(1)"
   ]
  },
  {
   "cell_type": "markdown",
   "metadata": {},
   "source": [
    "Как видно из примера, ```args``` - это кортеж из всех переданных аргументов функции, и с переменной можно работать также, как и с кортежем.\n",
    "\n",
    "> Функция может принимать и произвольное число именованных аргументов, тогда перед именем ставится ```**```:"
   ]
  },
  {
   "cell_type": "code",
   "execution_count": null,
   "metadata": {},
   "outputs": [],
   "source": [
    "def func(**kwargs):\n",
    "    return kwargs"
   ]
  },
  {
   "cell_type": "code",
   "execution_count": null,
   "metadata": {},
   "outputs": [],
   "source": [
    "func(a=1, b=2, c=3)"
   ]
  },
  {
   "cell_type": "code",
   "execution_count": null,
   "metadata": {},
   "outputs": [],
   "source": [
    "func()"
   ]
  },
  {
   "cell_type": "code",
   "execution_count": null,
   "metadata": {},
   "outputs": [],
   "source": [
    "func(a='python')"
   ]
  },
  {
   "cell_type": "code",
   "execution_count": null,
   "metadata": {},
   "outputs": [],
   "source": [
    "func(1, 2, 3)            # TypeError: func() takes 0 positional arguments but 3 were given"
   ]
  },
  {
   "cell_type": "markdown",
   "metadata": {},
   "source": [
    "В переменной ```kwargs``` у нас хранится словарь, с которым мы, опять-таки, можем делать все, что нам заблагорассудится."
   ]
  },
  {
   "cell_type": "markdown",
   "metadata": {},
   "source": [
    "Пока что функция возвращала только одно значение или не возвращала ничего (объект ```None```). \n",
    "\n",
    "А как насчет нескольких значений? Этого можно добиться с помощью запаковки. Технически, это все еще один объект. \n",
    "\n",
    "Например:"
   ]
  },
  {
   "cell_type": "code",
   "execution_count": null,
   "metadata": {},
   "outputs": [],
   "source": [
    "def func(*args, **kwargs):\n",
    "    return args, kwargs\n",
    "\n",
    "func(1, 2, 3, a=\"a\", b=\"b\", c=\"c\")"
   ]
  },
  {
   "cell_type": "code",
   "execution_count": null,
   "metadata": {},
   "outputs": [],
   "source": [
    "def func(**kwargs, *args): # SyntaxError: invalid syntax\n",
    "    return args, kwargs"
   ]
  },
  {
   "cell_type": "code",
   "execution_count": null,
   "metadata": {},
   "outputs": [],
   "source": [
    "def stats(data):\n",
    "    \"\"\"данные должны быть списком\"\"\"\n",
    "    _sum = sum(data)       # обратите внимание на подчеркивание, чтобы избежать переименования встроенной функции sum\n",
    "    mean = _sum / float(len(data)) # обратите внимание на использование функции float, чтобы избежать деления на целое число\n",
    "    variance = sum([(x-mean)**2/len(data) for x in data])\n",
    "    return mean,variance   # возвращаем x,y — кортеж!\n",
    "\n",
    "m, v = stats([1, 2, 1])\n",
    "\n",
    "print(m, v, sep=\"\\n\")"
   ]
  },
  {
   "cell_type": "markdown",
   "metadata": {},
   "source": [
    "***\n",
    "***\n",
    "\n",
    "## Вложенные функции"
   ]
  },
  {
   "cell_type": "markdown",
   "metadata": {},
   "source": [
    "Функции могут быть вложенными:\n",
    "\n",
    "```python\n",
    "def func1(a, b):\n",
    "    def inner_func(x):\n",
    "        return x*x*x\n",
    "\n",
    "    return inner_func(a) + inner_func(b)\n",
    "```\n",
    "\n",
    "Функции — это объекты, поэтому их можно присваивать переменным."
   ]
  },
  {
   "cell_type": "code",
   "execution_count": null,
   "metadata": {},
   "outputs": [],
   "source": [
    "def func(a, b):\n",
    "\n",
    "    def inner_func(x):\n",
    "        return x*x*x\n",
    "\n",
    "    return inner_func(a) + inner_func(b)\n",
    "\n",
    "print(func(2, 3))         # 35\n",
    "\n",
    "print(inner_func(2))      # NameError: name 'inner_func' is not defined"
   ]
  },
  {
   "cell_type": "markdown",
   "metadata": {},
   "source": [
    "***\n",
    "***\n",
    "\n",
    "## Документирование функции"
   ]
  },
  {
   "cell_type": "markdown",
   "metadata": {},
   "source": [
    "Определим функцию:\n",
    "\n",
    "```python\n",
    "def my_sum(s,y): \n",
    "    return x + y\n",
    "```\n",
    "\n",
    "Если изучить ее, обнаружатся два скрытых метода (которые начинаются с двух знаков нижнего подчеркивания), среди которых есть ```__doc__```. Он нужен для настройки документации функции. Документация в ```Python``` называется ```docstring``` и может быть объединена с функцией следующим образом:\n",
    "\n",
    "```python\n",
    "def my_sum(x, y):\n",
    "    \"\"\"Первая срока - заголовок\n",
    "\n",
    "    Затем следует необязательная пустая строка и текст \n",
    "    документации.\n",
    "    \"\"\"\n",
    "    return x+y\n",
    "```\n",
    "\n",
    "Команда ```docstring``` должна быть первой инструкцией после объявления функции. Ее потом можно будет извлекать или дополнять:\n",
    "\n",
    "```python\n",
    "print(my_sum.__doc__)\n",
    "my_sum.__doc__ += \"some additional text\"\n",
    "```"
   ]
  },
  {
   "cell_type": "code",
   "execution_count": null,
   "metadata": {},
   "outputs": [],
   "source": [
    "def my_sum(x, y):\n",
    "    \"\"\"Первая срока - заголовок\n",
    "\n",
    "    Затем следует необязательная пустая строка и текст \n",
    "    документации.\n",
    "    \"\"\"\n",
    "    return x+y\n",
    "\n",
    "print(my_sum.__doc__)\n",
    "\n",
    "my_sum.__doc__ += \"some additional text\"\n",
    "print(my_sum.__doc__)"
   ]
  },
  {
   "cell_type": "markdown",
   "metadata": {},
   "source": [
    "### Методы, функции и атрибуты, связанные с объектами функции\n",
    "\n",
    "Если поискать доступные для функции атрибуты, то в списке окажутся следующие методы (в ```Python``` все является объектом — даже функция):\n",
    "\n",
    "```\n",
    "sum.func_closure   sum.func_defaults  sum.func_doc       sum.func_name\n",
    "sum.func_code      sum.func_dict      sum.func_globals\n",
    "```\n",
    "\n",
    "И несколько скрытых методов, функций и атрибутов. Например, можно получить имя функции или модуля, в котором она определена:\n",
    "```python\n",
    ">>> sum.__name__\n",
    "\"sum\"\n",
    ">>> sum.__module__\n",
    "\"__main__\"\n",
    "```\n",
    "\n",
    "Есть и другие. Вот те, которые не обсуждались:\n",
    "\n",
    "```\n",
    "sum.__call__          sum.__delattr__       sum.__getattribute__     sum.__setattr__\n",
    "sum.__class__         sum.__dict__          sum.__globals__       sum.__new__           sum.__sizeof__\n",
    "sum.__closure__       sum.__hash__          sum.__reduce__        sum.__str__\n",
    "sum.__code__          sum.__format__        sum.__init__          sum.__reduce_ex__     sum.__subclasshook__\n",
    "sum.__defaults__      sum.__get__           sum.__repr__\n",
    "```"
   ]
  },
  {
   "cell_type": "code",
   "execution_count": null,
   "metadata": {},
   "outputs": [],
   "source": [
    "help(dir)"
   ]
  },
  {
   "cell_type": "code",
   "execution_count": null,
   "metadata": {},
   "outputs": [],
   "source": [
    "dir(my_sum)"
   ]
  },
  {
   "cell_type": "code",
   "execution_count": null,
   "metadata": {},
   "outputs": [],
   "source": [
    "dir()"
   ]
  },
  {
   "cell_type": "code",
   "execution_count": null,
   "metadata": {},
   "outputs": [],
   "source": [
    "dir('__builtins__')"
   ]
  },
  {
   "cell_type": "markdown",
   "metadata": {},
   "source": [
    "***\n",
    "***\n",
    "\n",
    "## Рекурсивные функции"
   ]
  },
  {
   "cell_type": "markdown",
   "metadata": {},
   "source": [
    "**Рекурсия** — это не особенность ```Python```. Это общепринятая и часто используемая техника в Computer Science, когда функция вызывает сама себя. \n",
    "\n",
    "Самый известный пример — вычисление факториала $$n! = n \\cdot n-1 \\cdot n-2 \\cdot \\dots \\cdot 2 \\cdot 1$$. \n",
    "\n",
    "Зная, что $0! = 1$, факториал можно записать следующим образом:"
   ]
  },
  {
   "cell_type": "code",
   "execution_count": null,
   "metadata": {},
   "outputs": [],
   "source": [
    "def factorial(n):\n",
    "    if n != 0:\n",
    "        return n * factorial(n-1)\n",
    "    else:\n",
    "        return 1"
   ]
  },
  {
   "cell_type": "code",
   "execution_count": null,
   "metadata": {},
   "outputs": [],
   "source": [
    "factorial(56)"
   ]
  },
  {
   "cell_type": "markdown",
   "metadata": {},
   "source": [
    "Важно, чтобы в ней было была конечная инструкция, иначе она никогда не закончится. \n",
    "\n",
    "Реализация вычисления факториала выше, например, не является надежной. \n",
    "\n",
    "Если указать отрицательное значение, функция будет вызывать себя бесконечно. \n",
    "\n",
    "Нужно написать так:"
   ]
  },
  {
   "cell_type": "code",
   "execution_count": null,
   "metadata": {},
   "outputs": [],
   "source": [
    "factorial(-56)        # RecursionError: maximum recursion depth exceeded in comparison"
   ]
  },
  {
   "cell_type": "markdown",
   "metadata": {},
   "source": [
    "Нужно написать так:"
   ]
  },
  {
   "cell_type": "code",
   "execution_count": null,
   "metadata": {},
   "outputs": [],
   "source": [
    "def factorial(n):\n",
    "    assert n > 0, \"Вы ввели отрицательное значение\"\n",
    "    if n != 0:\n",
    "        return n * factorial(n-1)\n",
    "    else:\n",
    "        return 1"
   ]
  },
  {
   "cell_type": "code",
   "execution_count": null,
   "metadata": {},
   "outputs": [],
   "source": [
    "factorial(-56)"
   ]
  },
  {
   "cell_type": "markdown",
   "metadata": {},
   "source": [
    "> Важно!\n",
    "Рекурсия позволяет писать простые и элегантные функции, но это не гарантирует эффективность и высокую скорость исполнения.\n",
    "\n",
    "Если рекурсия содержит баги (например, длится бесконечно), функции может не хватить памяти. \n",
    "\n",
    "Задать максимальное значение рекурсий можно с помощью модуля ```sys```."
   ]
  },
  {
   "cell_type": "markdown",
   "metadata": {},
   "source": [
    "### Снежинка Коха"
   ]
  },
  {
   "cell_type": "code",
   "execution_count": null,
   "metadata": {},
   "outputs": [],
   "source": [
    "import turtle\n",
    "\n",
    "t = turtle.Turtle()\n",
    "wn = turtle.Screen()\n",
    "wn.bgcolor('black')\n",
    "\n",
    "t.color(\"orange\")\n",
    "t.pensize(2)\n",
    "t.penup()\n",
    "t.setpos(-450, 250)\n",
    "t.pendown()\n",
    "t.speed(9999)\n",
    "\n",
    "def triangle(size):\n",
    "    for angle in [-120, -120, 0]:\n",
    "        koch(t, order, size)\n",
    "        t.left(angle)\n",
    "\n",
    "def koch(t, order, size):\n",
    "    if order == 0:\n",
    "        t.forward(size)\n",
    "    else:\n",
    "        for angle in [60, -120, 60, 0]:\n",
    "            koch(t, order - 1, size // 3)\n",
    "            t.left(angle)\n",
    "\n",
    "size = 500\n",
    "order = 3\n",
    "triangle(size)\n",
    "\n",
    "wn.exitonclick()"
   ]
  },
  {
   "cell_type": "markdown",
   "metadata": {},
   "source": [
    "### Дракон Хартера — Хейтуэя"
   ]
  },
  {
   "cell_type": "code",
   "execution_count": null,
   "metadata": {},
   "outputs": [],
   "source": [
    "import turtle\n",
    "\n",
    "turtle.hideturtle()\n",
    "turtle.tracer(0)\n",
    "turtle.penup()\n",
    "turtle.setpos(-100, -150)\n",
    "turtle.pendown()\n",
    "\n",
    "axiom, tempAx, logic, count = 'FX', '', {'X': 'X+YF+', 'Y': '−FX−Y'}, 16\n",
    "\n",
    "for i in range(count):\n",
    "    for j in axiom:\n",
    "        tempAx += logic[j] if j in logic else j\n",
    "    axiom, tempAx = tempAx, ''\n",
    "\n",
    "for k in axiom:\n",
    "    if k == 'F':\n",
    "        turtle.forward(2.5)\n",
    "    elif k == '+':\n",
    "        turtle.right(90)\n",
    "    elif k == '−':\n",
    "        turtle.left(90)\n",
    "\n",
    "turtle.update()\n",
    "turtle.mainloop()"
   ]
  },
  {
   "cell_type": "markdown",
   "metadata": {},
   "source": [
    "***\n",
    "***\n",
    "\n",
    "## Глобальная переменная\n",
    "\n",
    "Вот уже знакомый пример с глобальной переменной:\n",
    "\n",
    "```python\n",
    "i = 0\n",
    "def increment():\n",
    "    global i\n",
    "    i += 1\n",
    "```\n",
    "\n",
    "Здесь функция увеличивает на ```1``` значение глобальной переменной ```i```. \n",
    "\n",
    "Это способ изменять глобальную переменную, определенную вне функции. Без него функция не будет знать, что такое переменная ```i```. Ключевое слово ```global``` можно вводить в любом месте, но переменную разрешается использовать только после ее объявления.\n",
    "\n",
    "> **За редкими исключениями глобальные переменные лучше вообще не использовать!**"
   ]
  },
  {
   "cell_type": "markdown",
   "metadata": {},
   "source": [
    "***\n",
    "***\n",
    "\n",
    "## Анонимная функция: лямбда\n",
    "\n",
    "**Лямбда-функция** — это короткая однострочная функция, которой даже не нужно имя давать. \n",
    "\n",
    "Такие выражения содержат лишь одну инструкцию, поэтому, например, ```if```, ```for``` и ```while``` использовать нельзя. \n",
    "\n",
    "Их также можно присваивать переменным:\n",
    "\n",
    "```python\n",
    "product = lambda x,y: x*y\n",
    "```\n",
    "\n",
    "В отличие от функций, здесь не используется ключевое слово ```return```. Результат работы и так возвращается.\n",
    "\n",
    "С помощью ```type()``` можно проверить тип:\n",
    "\n",
    "```python\n",
    ">>> type(product)\n",
    "function\n",
    "```\n",
    "\n",
    "На практике эти функции редко используются. Это всего лишь элегантный способ записи, когда она содержит одну инструкцию."
   ]
  },
  {
   "cell_type": "code",
   "execution_count": null,
   "metadata": {},
   "outputs": [],
   "source": [
    "power = lambda x=1, y=2: x**y\n",
    "square = power\n",
    "square(5.)"
   ]
  },
  {
   "cell_type": "code",
   "execution_count": null,
   "metadata": {},
   "outputs": [],
   "source": [
    "power = lambda x,y,pow=2: x**pow + y\n",
    "[power(x, 2, 3) for x in [0,1,2]]"
   ]
  },
  {
   "cell_type": "markdown",
   "metadata": {},
   "source": [
    "### Зачем использовать лямбда-функции?\n",
    "\n",
    "Силу ```lambda-функции``` лучше видно, когда вы используете ее как анонимную функцию внутри другой функции. Скажем, у вас есть определение функции, которое принимает один аргумент, и этот аргумент будет умножен на неизвестное число:\n",
    "\n",
    "```python\n",
    "def myfunc(n):  \n",
    "    return lambda a: a * n\n",
    "```\n",
    "\n",
    "Используйте это определение функции для создания функции, которая всегда удваивает число, которое вы отправляете:\n",
    "\n",
    "```python\n",
    "def myfunc(n):\n",
    "    return lambda a: a * n\n",
    "\n",
    "mydoubler = myfunc(2)\n",
    "print(mydoubler(11))\n",
    "```\n",
    "\n",
    "Вывод:\n",
    "```\n",
    "22\n",
    "```\n",
    "\n",
    "Или используйте то же самое определение функции, чтобы сделать функцию, которая всегда утраивает число:\n",
    "\n",
    "```python\n",
    "def myfunc(n):\n",
    "    return lambda a: a * n\n",
    "\n",
    "mytripler = myfunc(3)\n",
    "print(mytripler(11))\n",
    "```\n",
    "Вывод:\n",
    "```\n",
    "33\n",
    "```"
   ]
  },
  {
   "cell_type": "code",
   "execution_count": null,
   "metadata": {},
   "outputs": [],
   "source": [
    "def myfunc(n):\n",
    "    return lambda  a: a * n\n",
    "\n",
    "mydoubler = myfunc(2)\n",
    "mytripler = myfunc(3)\n",
    "print(mydoubler(11))\n",
    "print(mytripler(11))"
   ]
  },
  {
   "cell_type": "markdown",
   "metadata": {},
   "source": [
    "Используйте ```lambda-функцию```, когда анонимная функция нужна в определенной части кода, но не по всем скрипте."
   ]
  }
 ],
 "metadata": {
  "kernelspec": {
   "display_name": "Python 3 (ipykernel)",
   "language": "python",
   "name": "python3"
  },
  "language_info": {
   "codemirror_mode": {
    "name": "ipython",
    "version": 3
   },
   "file_extension": ".py",
   "mimetype": "text/x-python",
   "name": "python",
   "nbconvert_exporter": "python",
   "pygments_lexer": "ipython3",
   "version": "3.9.0"
  },
  "toc": {
   "base_numbering": 1,
   "nav_menu": {},
   "number_sections": true,
   "sideBar": true,
   "skip_h1_title": false,
   "title_cell": "Table of Contents",
   "title_sidebar": "Contents",
   "toc_cell": true,
   "toc_position": {},
   "toc_section_display": true,
   "toc_window_display": false
  }
 },
 "nbformat": 4,
 "nbformat_minor": 4
}
