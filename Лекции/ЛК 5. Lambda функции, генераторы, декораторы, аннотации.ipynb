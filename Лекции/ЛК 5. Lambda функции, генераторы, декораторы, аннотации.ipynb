{
 "cells": [
  {
   "cell_type": "markdown",
   "metadata": {
    "toc": true
   },
   "source": [
    "<h1>Table of Contents<span class=\"tocSkip\"></span></h1>\n",
    "<div class=\"toc\"><ul class=\"toc-item\"><li><span><a href=\"#Lambda-функции,-генераторы,-декораторы,-аннотации\" data-toc-modified-id=\"Lambda-функции,-генераторы,-декораторы,-аннотации-1\"><span class=\"toc-item-num\">1&nbsp;&nbsp;</span>Lambda функции, генераторы, декораторы, аннотации</a></span><ul class=\"toc-item\"><li><span><a href=\"#Анонимная-функция:-лямбда\" data-toc-modified-id=\"Анонимная-функция:-лямбда-1.1\"><span class=\"toc-item-num\">1.1&nbsp;&nbsp;</span>Анонимная функция: лямбда</a></span><ul class=\"toc-item\"><li><span><a href=\"#Зачем-использовать-лямбда-функции?\" data-toc-modified-id=\"Зачем-использовать-лямбда-функции?-1.1.1\"><span class=\"toc-item-num\">1.1.1&nbsp;&nbsp;</span>Зачем использовать лямбда-функции?</a></span></li><li><span><a href=\"#Лямбда-функции-и-функции-высшего-порядка\" data-toc-modified-id=\"Лямбда-функции-и-функции-высшего-порядка-1.1.2\"><span class=\"toc-item-num\">1.1.2&nbsp;&nbsp;</span>Лямбда-функции и функции высшего порядка</a></span><ul class=\"toc-item\"><li><span><a href=\"#Пример-с-filter()\" data-toc-modified-id=\"Пример-с-filter()-1.1.2.1\"><span class=\"toc-item-num\">1.1.2.1&nbsp;&nbsp;</span>Пример с <code>filter()</code></a></span></li><li><span><a href=\"#Пример-с-map()\" data-toc-modified-id=\"Пример-с-map()-1.1.2.2\"><span class=\"toc-item-num\">1.1.2.2&nbsp;&nbsp;</span>Пример с <code>map()</code></a></span></li><li><span><a href=\"#Пример-с-reduce()\" data-toc-modified-id=\"Пример-с-reduce()-1.1.2.3\"><span class=\"toc-item-num\">1.1.2.3&nbsp;&nbsp;</span>Пример с <code>reduce()</code></a></span></li></ul></li><li><span><a href=\"#Лямбда-и--list-comprehension\" data-toc-modified-id=\"Лямбда-и--list-comprehension-1.1.3\"><span class=\"toc-item-num\">1.1.3&nbsp;&nbsp;</span>Лямбда и  <code>list comprehension</code></a></span><ul class=\"toc-item\"><li><span><a href=\"#Лямбда-и-условные-операторы\" data-toc-modified-id=\"Лямбда-и-условные-операторы-1.1.3.1\"><span class=\"toc-item-num\">1.1.3.1&nbsp;&nbsp;</span>Лямбда и условные операторы</a></span></li><li><span><a href=\"#Лямбда-и-множественные-операторы\" data-toc-modified-id=\"Лямбда-и-множественные-операторы-1.1.3.2\"><span class=\"toc-item-num\">1.1.3.2&nbsp;&nbsp;</span>Лямбда и множественные операторы</a></span></li></ul></li></ul></li><li><span><a href=\"#Генераторы\" data-toc-modified-id=\"Генераторы-1.2\"><span class=\"toc-item-num\">1.2&nbsp;&nbsp;</span>Генераторы</a></span><ul class=\"toc-item\"><li><span><a href=\"#Функция-генератора\" data-toc-modified-id=\"Функция-генератора-1.2.1\"><span class=\"toc-item-num\">1.2.1&nbsp;&nbsp;</span>Функция генератора</a></span></li><li><span><a href=\"#Выражения-Generator-comprehension\" data-toc-modified-id=\"Выражения-Generator-comprehension-1.2.2\"><span class=\"toc-item-num\">1.2.2&nbsp;&nbsp;</span>Выражения <code>Generator comprehension</code></a></span><ul class=\"toc-item\"><li><span><a href=\"#Когда-использовать-генератор?\" data-toc-modified-id=\"Когда-использовать-генератор?-1.2.2.1\"><span class=\"toc-item-num\">1.2.2.1&nbsp;&nbsp;</span>Когда использовать генератор?</a></span></li></ul></li><li><span><a href=\"#Встроенные-функции-генераторы\" data-toc-modified-id=\"Встроенные-функции-генераторы-1.2.3\"><span class=\"toc-item-num\">1.2.3&nbsp;&nbsp;</span>Встроенные функции генераторы</a></span></li></ul></li><li><span><a href=\"#Декораторы\" data-toc-modified-id=\"Декораторы-1.3\"><span class=\"toc-item-num\">1.3&nbsp;&nbsp;</span>Декораторы</a></span><ul class=\"toc-item\"><li><span><a href=\"#Передача-декоратором-аргументов-в-функцию\" data-toc-modified-id=\"Передача-декоратором-аргументов-в-функцию-1.3.1\"><span class=\"toc-item-num\">1.3.1&nbsp;&nbsp;</span>Передача декоратором аргументов в функцию</a></span></li><li><span><a href=\"#Декораторы-с-аргументами\" data-toc-modified-id=\"Декораторы-с-аргументами-1.3.2\"><span class=\"toc-item-num\">1.3.2&nbsp;&nbsp;</span>Декораторы с аргументами</a></span></li></ul></li><li><span><a href=\"#Документирование-функции\" data-toc-modified-id=\"Документирование-функции-1.4\"><span class=\"toc-item-num\">1.4&nbsp;&nbsp;</span>Документирование функции</a></span></li><li><span><a href=\"#Аннотации-типов\" data-toc-modified-id=\"Аннотации-типов-1.5\"><span class=\"toc-item-num\">1.5&nbsp;&nbsp;</span>Аннотации типов</a></span><ul class=\"toc-item\"><li><span><a href=\"#Новое-в-Python-3.9\" data-toc-modified-id=\"Новое-в-Python-3.9-1.5.1\"><span class=\"toc-item-num\">1.5.1&nbsp;&nbsp;</span>Новое в <code>Python 3.9</code></a></span></li></ul></li></ul></li></ul></div>"
   ]
  },
  {
   "cell_type": "markdown",
   "metadata": {},
   "source": [
    "# Lambda функции, генераторы, декораторы, аннотации"
   ]
  },
  {
   "cell_type": "markdown",
   "metadata": {},
   "source": [
    "## Анонимная функция: лямбда\n",
    "\n",
    "**Лямбда-функция** — это короткая однострочная, анонимная функция. \n",
    "\n",
    "Лямбда-функции могут иметь любое количество аргументов, но у каждой может быть только одно выражение. Выражение вычисляется и возвращается. \n",
    "\n",
    "Эти функции могут быть использованы везде, где требуется объект-функция.\n",
    "\n",
    "**Лямбда-функция имеет следующий синтаксис:**\n",
    "\n",
    "```python\n",
    "lambda аргументы: выражение\n",
    "```\n",
    "\n",
    "Такие выражения содержат лишь одну инструкцию, поэтому ключевые слова требующие выделения отдельных блоков кода, например, ```for``` и ```while``` использовать нельзя. \n",
    "\n",
    "Лямбда-функции также можно присваивать переменным:\n",
    "\n",
    "```python\n",
    "multiplication = lambda x, y: x * y\n",
    "```\n",
    "\n",
    "что равносильно коду:\n",
    "\n",
    "```python\n",
    "def multiplication(x, y):\n",
    "    return x * y\n",
    "```\n",
    "\n",
    "В отличие от функций, здесь не используется ключевое слово ```return```. Результат работы и так возвращается.\n",
    "\n",
    "С помощью ```type()``` можно проверить тип:\n",
    "\n",
    "```python\n",
    ">>> type(product)\n",
    "function\n",
    "```\n",
    "> Лямбда-функции это всего лишь элегантный способ записи, когда она содержит одну инструкцию.\n",
    "\n",
    "На практике эти лямбда-функции используются в тех случаях, когда необходимо простое выражение передать куда-то в качестве объекта функции."
   ]
  },
  {
   "cell_type": "code",
   "execution_count": null,
   "metadata": {},
   "outputs": [],
   "source": [
    "power = lambda x=3, y=2: x ** y\n",
    "square = power\n",
    "print(square(5.))\n",
    "print(square())"
   ]
  },
  {
   "cell_type": "code",
   "execution_count": null,
   "metadata": {},
   "outputs": [],
   "source": [
    "power = lambda x, y, pow=2: x**pow + y\n",
    "[power(x, 2, 3) for x in [0,1,2]]"
   ]
  },
  {
   "cell_type": "markdown",
   "metadata": {},
   "source": [
    "* Лямбда-функция может иметь любое количество аргументов, но вычисляет и возвращает только одно значение\n",
    "\n",
    "* Лямбда-функции применимы везде, где требуются объекты-функции \n",
    "\n",
    "* Вы должны помнить, что  синтаксически лямбда-функция ограничена, позволяет представить всего одно выражение\n",
    "\n",
    "* Они имеют множество вариантов применения в конкретных областях программирования, наряду  с другими типами выражений, используемых в функциях."
   ]
  },
  {
   "cell_type": "markdown",
   "metadata": {},
   "source": [
    "### Зачем использовать лямбда-функции?\n",
    "\n",
    "Силу ```lambda-функции``` лучше видно, когда вы используете ее как анонимную функцию внутри другой функции. Скажем, у вас есть определение функции, которое принимает один аргумент, и этот аргумент будет умножен на неизвестное число:\n",
    "\n",
    "```python\n",
    "def myfunc(n):  \n",
    "    return lambda a: a * n\n",
    "```\n",
    "\n",
    "Используйте это определение функции для создания функции, которая всегда удваивает число, которое вы отправляете:\n",
    "\n",
    "```python\n",
    "def myfunc(n):\n",
    "    return lambda a: a * n\n",
    "\n",
    "mydoubler = myfunc(2)\n",
    "print(mydoubler(11))\n",
    "```\n",
    "\n",
    "Вывод:\n",
    "```\n",
    "22\n",
    "```\n",
    "\n",
    "Или используйте то же самое определение функции, чтобы сделать функцию, которая всегда утраивает число:\n",
    "\n",
    "```python\n",
    "def myfunc(n):\n",
    "    return lambda a: a * n\n",
    "\n",
    "mytripler = myfunc(3)\n",
    "print(mytripler(11))\n",
    "```\n",
    "Вывод:\n",
    "```\n",
    "33\n",
    "```"
   ]
  },
  {
   "cell_type": "code",
   "execution_count": null,
   "metadata": {},
   "outputs": [],
   "source": [
    "def myfunc(n):\n",
    "    return lambda  a: a * n\n",
    "\n",
    "mydoubler = myfunc(2)\n",
    "mytripler = myfunc(3)\n",
    "print(mydoubler(11))\n",
    "print(mytripler(11))"
   ]
  },
  {
   "cell_type": "markdown",
   "metadata": {},
   "source": [
    "Используйте ```lambda-функцию```, когда анонимная функция нужна в определенной части кода, но не по всем скрипте."
   ]
  },
  {
   "cell_type": "markdown",
   "metadata": {},
   "source": [
    "### Лямбда-функции и функции высшего порядка\n",
    "\n",
    "Мы используем лямбда-функцию, когда нам ненадолго требуется безымянная функция.\n",
    "\n",
    "В ```Python``` мы часто используем их как аргумент функции высшего порядка (функции, которая принимает другие функции в качестве аргументов).  Лямбда-функции используют вместе с такими встроенными функциями как ```filter()```, ```map()```, ```reduce()``` и др.\n",
    "\n",
    "Давайте рассмотрим еще несколько распространенных вариантов использования лямбда-функций."
   ]
  },
  {
   "cell_type": "markdown",
   "metadata": {},
   "source": [
    "#### Пример с ```filter()```\n",
    "\n",
    "Функция ```filter()``` в ```Python``` принимает в качестве аргументов функцию и список.\n",
    "\n",
    "Функция **вызывается со всеми элементами в списке**, и в результате возвращается новый список, содержащий элементы, **для которых функция результирует в ```True```**.\n",
    "\n",
    "Вот пример использования функции ```filter()``` для отбора четных чисел из списка."
   ]
  },
  {
   "cell_type": "code",
   "execution_count": null,
   "metadata": {},
   "outputs": [],
   "source": [
    "my_list = [1, 3, 4, 6, 10, 11, 15, 12, 14]\n",
    "\n",
    "def is_odd(x):\n",
    "    return x % 2 == 0\n",
    "\n",
    "new_list = list(filter(is_odd, my_list))\n",
    "\n",
    "print(new_list)"
   ]
  },
  {
   "cell_type": "code",
   "execution_count": null,
   "metadata": {},
   "outputs": [],
   "source": [
    "my_list = [1, 3, 4, 6, 10, 11, 15, 12, 14]\n",
    "\n",
    "new_list = list(filter(lambda x: (x % 2 == 0), my_list))\n",
    "\n",
    "print(new_list)"
   ]
  },
  {
   "cell_type": "code",
   "execution_count": null,
   "metadata": {},
   "outputs": [],
   "source": [
    "my_list = [1, 3, 4, 6, 10, 11, 15, 12, 14]\n",
    "\n",
    "new_list = list(filter(lambda x: (x % 2 == 0 and x > 10) , my_list))\n",
    "\n",
    "print(new_list)"
   ]
  },
  {
   "cell_type": "markdown",
   "metadata": {},
   "source": [
    "#### Пример с ```map()```\n",
    "\n",
    "Функция ```map()``` принимает в качестве аргументов функцию и список.\n",
    "\n",
    "Функция **вызывается со всеми элементами в списке**, и в результате возвращается новый список, содержащий элементы, **возвращенные данной функцией для каждого исходного элемента**.\n",
    "\n",
    "Ниже пример использования функции ```map()``` для удвоения всех элементов списка."
   ]
  },
  {
   "cell_type": "code",
   "execution_count": null,
   "metadata": {},
   "outputs": [],
   "source": [
    "current_list = [1, 3, 4, 6, 10, 11, 15, 12, 14]\n",
    "\n",
    "def doubler(x):\n",
    "    return x * 2\n",
    "    \n",
    "new_list = list(map(doubler, current_list))\n",
    "\n",
    "print(new_list)"
   ]
  },
  {
   "cell_type": "code",
   "execution_count": null,
   "metadata": {},
   "outputs": [],
   "source": [
    "current_list = [1, 3, 4, 6, 10, 11, 15, 12, 14]\n",
    "\n",
    "new_list = list(map(lambda x: x * 2, current_list))\n",
    "\n",
    "print(new_list)"
   ]
  },
  {
   "cell_type": "markdown",
   "metadata": {},
   "source": [
    "#### Пример с ```reduce()```\n",
    "\n",
    "Функция ```reduce()``` принимает в качестве аргументов функцию и список. \n",
    "\n",
    "Функция вызывается с помощью лямбда-функции и итерируемого объекта  и возвращается новый уменьшенный результат. \n",
    "\n",
    "Так выполняется повторяющаяся операция **над парами итерируемых объектов**. \n",
    "\n",
    "Функция ```reduce()``` входит в состав модуля ```functools```."
   ]
  },
  {
   "cell_type": "code",
   "execution_count": null,
   "metadata": {},
   "outputs": [],
   "source": [
    "from functools import reduce\n",
    "\n",
    "current_list = [5, 15, 20, 30, 50, 55, 75, 60, 70]\n",
    "\n",
    "summa = reduce((lambda x, y: x + y), current_list)\n",
    "\n",
    "print(summa)\n",
    "print(\"***************\")\n",
    "print(sum(current_list))"
   ]
  },
  {
   "cell_type": "markdown",
   "metadata": {},
   "source": [
    "Здесь результаты предыдущих двух элементов суммируются со  следующим элементом, и это продолжается до конца списка, вот так:\n",
    "\n",
    "```\n",
    "5 + 15 + 20 + 30 + 50 + 55 + 75 + 60 + 70\n",
    "20 + 20 + 30 + 50 + 55 + 75 + 60 + 70\n",
    "40 + 30 + 50 + 55 + 75 + 60 + 70\n",
    "70 + 50 + 55 + 75 + 60 + 70\n",
    "120 + 55 + 75 + 60 + 70\n",
    "175 + 75 + 60 + 70\n",
    "250 + 60 + 70\n",
    "310 + 70\n",
    "380\n",
    "```"
   ]
  },
  {
   "cell_type": "markdown",
   "metadata": {},
   "source": [
    "### Лямбда и  ```list comprehension```\n",
    "\n",
    "В этом примере мы будем использовать лямбда-функцию с ```list comprehension``` и лямбда-функцию с циклом ```for```. \n",
    "Мы выведем на экран таблицу из 10 элементов."
   ]
  },
  {
   "cell_type": "code",
   "execution_count": null,
   "metadata": {},
   "outputs": [],
   "source": [
    "tables = [lambda x = i: x * 10 for i in range(1, 11)]\n",
    "\n",
    "for table in tables:\n",
    "    print(table())"
   ]
  },
  {
   "cell_type": "markdown",
   "metadata": {},
   "source": [
    "#### Лямбда и условные операторы\n",
    "\n",
    "Давайте рассмотрим использование условий ```if-else``` в лямбда-функции. Как вы знаете, ```Python``` позволяет нам использовать однострочные условия, и  именно их мы можем помещать в лямбда-функцию для обработки возвращаемого результата.\n",
    "\n",
    "Например, есть две цифры, и вы должны определить, какая из них представляет наибольшее число."
   ]
  },
  {
   "cell_type": "code",
   "execution_count": null,
   "metadata": {},
   "outputs": [],
   "source": [
    "max_number = lambda a, b: a if a > b else b\n",
    "\n",
    "print(max_number(3, 5))"
   ]
  },
  {
   "cell_type": "markdown",
   "metadata": {},
   "source": [
    "Этот метод позволяет вам добавлять условия в лямбда-функции."
   ]
  },
  {
   "cell_type": "markdown",
   "metadata": {},
   "source": [
    "#### Лямбда и множественные операторы\n",
    "\n",
    "Лямбда-функции не допускают использования нескольких операторов, однако мы можем создать две лямбда-функции, а затем вызвать вторую лямбда-функцию в качестве параметра для первой функции. \n",
    "\n",
    "Давайте попробуем найти второй по величине элемент, используя лямбду."
   ]
  },
  {
   "cell_type": "code",
   "execution_count": null,
   "metadata": {},
   "outputs": [],
   "source": [
    "current_list = [[10,6,9],[0, 14, 16, 80],[8, 12, 30, 44]]\n",
    "\n",
    "sorted_list = lambda x: (sorted(i) for i in x)\n",
    "second_largest = lambda x, func: [y[len(y)-2] for y in func(x)]\n",
    "\n",
    "result = second_largest(current_list, sorted_list)\n",
    "\n",
    "print(result)"
   ]
  },
  {
   "cell_type": "markdown",
   "metadata": {},
   "source": [
    "В предыдущем примере, мы создали лямбда-функцию, которая:\n",
    "\n",
    "* Сортирует каждый вложенный список в заданном списке. \n",
    "* Затем этот список проходит как параметр для второй лямбда-функции, которая возвращает элемент $n-2$ из отсортированного списка, где  $n$ — длина вложенного списка."
   ]
  },
  {
   "cell_type": "markdown",
   "metadata": {},
   "source": [
    "## Генераторы\n",
    "\n",
    "**Генератор** в ```Python``` — это функция с уникальными возможностями. Она позволяет приостановить или продолжить работу. \n",
    "\n",
    "**Генератор** возвращает **итератор**, по которому можно проходить пошагово, получая доступ к одному значению с каждой итерацией.\n",
    "\n",
    "**Генератор** отчасти решает проблему того, что **создание итератора в ```Python``` — достаточно громоздкая операция**. \n",
    "\n",
    "Для этого нужно написать класс и реализовать методы ```__iter__()``` и ```__next__()```. После этого требуется настроить внутренние состояния и вызывать исключение ```StopIteration```, когда больше нечего возвращать."
   ]
  },
  {
   "cell_type": "markdown",
   "metadata": {},
   "source": [
    "**Генератор** — это альтернативный и более простой способ возвращать **итераторы**. Процедура создания не отличается от объявления обычной функции.\n",
    "\n",
    "Есть два простых способа создания генераторов в ```Python```."
   ]
  },
  {
   "cell_type": "markdown",
   "metadata": {},
   "source": [
    "### Функция генератора\n",
    "\n",
    "Генератор создается по принципу обычной функции.\n",
    "\n",
    "Отличие заключается в том, что вместо ```return``` используется инструкция ```yield```. Она уведомляет интерпретатор ```Python``` о том, что это генератор, и возвращает итератор.\n",
    "\n",
    "Синтаксис функции генератора:\n",
    "\n",
    "```python\n",
    "def gen_func(args):\n",
    "    ...\n",
    "    while [cond]:\n",
    "        ...\n",
    "        yield [value]\n",
    "```\n",
    "\n",
    "```return``` всегда является последней инструкцией при вызове функции, в то время как ```yield``` временно приостанавливает исполнение, сохраняет состояние и затем может продолжить работу позже.\n",
    "\n",
    "Дальше простейший пример функции генератора ```Python```, которая определяет следующее значение в последовательности Фибоначчи.\n",
    "\n",
    "Демонстрация функции генератора ```Python```:"
   ]
  },
  {
   "cell_type": "code",
   "execution_count": null,
   "metadata": {},
   "outputs": [],
   "source": [
    "def fibonacci(xterms):\n",
    "    # первые два условия\n",
    "    x1 = 0\n",
    "    x2 = 1\n",
    "    count = 0\n",
    "\n",
    "    if xterms <= 0:\n",
    "        print(\"Укажите целое число больше 0\")\n",
    "    elif xterms == 1:\n",
    "        print(\"Последовательность Фибоначчи до\", xterms, \":\")\n",
    "        print(x1)\n",
    "    else:\n",
    "        while count < xterms:\n",
    "            xth = x1 + x2\n",
    "            x1 = x2\n",
    "            x2 = xth\n",
    "            count += 1\n",
    "            yield xth"
   ]
  },
  {
   "cell_type": "markdown",
   "metadata": {},
   "source": [
    "В этом примере в функции генератора есть цикл ```while```, который вычисляет следующее значение Фибоначчи. Инструкция ```yield``` является частью цикла.\n",
    "\n",
    "После создания функции генератора вызываем ее, передав ```5``` в качестве аргумента. Она вернет только объект генератора."
   ]
  },
  {
   "cell_type": "code",
   "execution_count": null,
   "metadata": {},
   "outputs": [],
   "source": [
    "print(type(fibonacci))\n",
    "\n",
    "fib = fibonacci(5)\n",
    "\n",
    "print(fib, type(fib))"
   ]
  },
  {
   "cell_type": "markdown",
   "metadata": {},
   "source": [
    "Такая функция не будет выполняться до тех пор, пока не будет вызван метод ```next()``` с вернувшимся объектом в качестве аргумента (то есть ```fib```)."
   ]
  },
  {
   "cell_type": "code",
   "execution_count": null,
   "metadata": {},
   "outputs": [],
   "source": [
    "fib = fibonacci(5)\n",
    "\n",
    "print(next(fib))"
   ]
  },
  {
   "cell_type": "code",
   "execution_count": null,
   "metadata": {},
   "outputs": [],
   "source": [
    "print(next(fib))\n",
    "print(next(fib))\n",
    "print(next(fib))\n",
    "print(next(fib))"
   ]
  },
  {
   "cell_type": "code",
   "execution_count": null,
   "metadata": {},
   "outputs": [],
   "source": [
    "print(next(fib))"
   ]
  },
  {
   "cell_type": "code",
   "execution_count": null,
   "metadata": {},
   "outputs": [],
   "source": [
    "fib = fibonacci(5)\n",
    "\n",
    "for number in fib:\n",
    "    print(number)\n",
    "    \n",
    "print(next(fib))"
   ]
  },
  {
   "cell_type": "markdown",
   "metadata": {},
   "source": [
    "### Выражения ```Generator comprehension```\n",
    "\n",
    "Python позволяет писать ```Generator comprehension``` для создания анонимных функций генератора. Процесс напоминает создание лямбда-функций для создания анонимных функций.\n",
    "\n",
    "Синтаксис похож на используемый для ```List comprehension```. Однако там применяются квадратные скобки, а здесь — круглые.\n",
    "\n",
    "```python\n",
    "# Синтаксис выражения генератора\n",
    "gen_expr = (var**(1/2) for var in seq)\n",
    "```\n",
    "\n",
    "Еще одно отличие между ```List comprehension``` и ```Generator comprehension``` в том, что **при создании списков возвращается целый список**, а в случае **с генераторами — только одно значение за раз**.\n",
    "\n",
    "Пример выражение генератора ```Python```:"
   ]
  },
  {
   "cell_type": "code",
   "execution_count": null,
   "metadata": {},
   "outputs": [],
   "source": [
    "# Создаем список\n",
    "alist = [4, 16, 64, 256]\n",
    "\n",
    "# Вычислим квадратный корень, используя List comprehension\n",
    "out = [a**(1/2) for a in alist]\n",
    "print(out, type(out))"
   ]
  },
  {
   "cell_type": "code",
   "execution_count": null,
   "metadata": {},
   "outputs": [],
   "source": [
    "# Создаем список\n",
    "alist = [4, 16, 64, 256]\n",
    "\n",
    "# Используем Generator comprehension, чтобы вычислить квадратный корень\n",
    "out = (a**(1/2) for a in alist)\n",
    "print(out, type(out))"
   ]
  },
  {
   "cell_type": "code",
   "execution_count": null,
   "metadata": {},
   "outputs": [],
   "source": [
    "print(next(out))\n",
    "print(next(out))\n",
    "print(next(out))\n",
    "print(next(out))\n",
    "print(next(out))"
   ]
  },
  {
   "cell_type": "code",
   "execution_count": null,
   "metadata": {},
   "outputs": [],
   "source": [
    "alist = [4, 16, 64, 256]\n",
    "out = (a**(1/2) for a in alist)\n",
    "\n",
    "for number in out:\n",
    "    print(number)"
   ]
  },
  {
   "cell_type": "code",
   "execution_count": null,
   "metadata": {},
   "outputs": [],
   "source": [
    "alist = [4, 16, 64, 256]\n",
    "out = (a**(1/2) for a in alist)\n",
    "\n",
    "print(*out)"
   ]
  },
  {
   "cell_type": "code",
   "execution_count": null,
   "metadata": {},
   "outputs": [],
   "source": [
    "alist = [4, 16, 64, 256]\n",
    "list_out = [a**(1/2) for a in alist]\n",
    "gen_out = (a**(1/2) for a in alist)\n",
    "\n",
    "print(len(list_out), list_out[1])\n",
    "print(len(gen_out))\n",
    "# print(gen_out[0])"
   ]
  },
  {
   "cell_type": "markdown",
   "metadata": {},
   "source": [
    "#### Когда использовать генератор?\n",
    "\n",
    "Есть много ситуаций, когда генератор оказывается полезным. Вот некоторые из них:\n",
    "\n",
    "* Генераторы помогают обрабатывать большие объемы данных. Они позволяют производить так называемые ленивые вычисления. Подобным образом происходит потоковая обработка.\n",
    "* Генераторы можно устанавливать друг за другом и использовать их как Unix-каналы.\n",
    "* Генераторы позволяют настроить одновременное исполнение\n",
    "* Они часто используются для чтения крупных файлов. Это делает код чище и компактнее, разделяя процесс на более мелкие сущности.\n",
    "* Генераторы особенно полезны для веб-скрапинга и увеличения эффективности поиска. Они позволяют получить одну страницу, выполнить какую-то операцию и двигаться к следующей. Этот подход куда эффективнее чем получение всех страниц сразу и использование отдельного цикла для их обработки."
   ]
  },
  {
   "cell_type": "markdown",
   "metadata": {},
   "source": [
    "### Встроенные функции генераторы"
   ]
  },
  {
   "cell_type": "code",
   "execution_count": null,
   "metadata": {},
   "outputs": [],
   "source": [
    "current_list = [1, 3, 4, 6, 10, 11, 15, 12, 14]\n",
    "\n",
    "new_list = list(map(lambda x: x * 2 , current_list))\n",
    "\n",
    "print(new_list)"
   ]
  },
  {
   "cell_type": "code",
   "execution_count": null,
   "metadata": {},
   "outputs": [],
   "source": [
    "current_list = [1, 3, 4, 6, 10, 11, 15, 12, 14]\n",
    "\n",
    "map_obj = map(lambda x: x * 2 , current_list)\n",
    "\n",
    "print(map_obj, type(map_obj))\n",
    "\n",
    "for element in map_obj:\n",
    "    print(element)"
   ]
  },
  {
   "cell_type": "code",
   "execution_count": null,
   "metadata": {},
   "outputs": [],
   "source": [
    "my_list = [1, 3, 4, 6, 10, 11, 15, 12, 14]\n",
    "\n",
    "new_list = list(filter(lambda x: (x % 2 == 0) , my_list))\n",
    "\n",
    "print(new_list)"
   ]
  },
  {
   "cell_type": "code",
   "execution_count": null,
   "metadata": {},
   "outputs": [],
   "source": [
    "my_list = [1, 3, 4, 6, 10, 11, 15, 12, 14]\n",
    "\n",
    "filt_obj = filter(lambda x: (x % 2 == 0) , my_list)\n",
    "\n",
    "print(filt_obj, type(filt_obj))\n",
    "\n",
    "print(next(filt_obj))\n",
    "print(\"*********\")\n",
    "\n",
    "for element in filt_obj:\n",
    "    print(element)"
   ]
  },
  {
   "cell_type": "markdown",
   "metadata": {},
   "source": [
    "> **Генераторы создают последовательность на лету, что позволяет получать доступ к одному элементу в любой момент. Это не требует большого количества памяти и оставляет возможность работать с бесконечными потоками данных.**"
   ]
  },
  {
   "cell_type": "markdown",
   "metadata": {},
   "source": [
    "## Декораторы\n",
    "\n",
    "**Декораторы** — это, по сути, \"обёртки\", которые ***дают нам возможность изменить поведение функции, не изменяя её код***."
   ]
  },
  {
   "cell_type": "code",
   "execution_count": null,
   "metadata": {},
   "outputs": [],
   "source": [
    "def my_shiny_new_decorator(function_to_decorate):\n",
    "    # Внутри себя декоратор определяет функцию-\"обёртку\". Она будет обёрнута вокруг декорируемой,\n",
    "    # получая возможность исполнять произвольный код до и после неё.\n",
    "    \n",
    "    def the_wrapper_around_the_original_function():\n",
    "        print(\"Я - код, который отработает до вызова функции\")\n",
    "        function_to_decorate() # Сама функция\n",
    "        print(\"А я - код, срабатывающий после\")\n",
    "        \n",
    "    # Вернём эту функцию\n",
    "    return the_wrapper_around_the_original_function\n",
    "\n",
    "# Представим теперь, что у нас есть функция, которую мы не планируем больше трогать.\n",
    "def stand_alone_function():\n",
    "    print(\"Я простая одинокая функция, ты ведь не посмеешь меня изменять?\")"
   ]
  },
  {
   "cell_type": "code",
   "execution_count": null,
   "metadata": {},
   "outputs": [],
   "source": [
    "stand_alone_function()"
   ]
  },
  {
   "cell_type": "code",
   "execution_count": null,
   "metadata": {},
   "outputs": [],
   "source": [
    "# Однако, чтобы изменить её поведение, мы можем декорировать её, то есть просто передать декоратору,\n",
    "# который обернет исходную функцию в любой код, который нам потребуется, и вернёт новую,\n",
    "# готовую к использованию функцию:\n",
    "\n",
    "stand_alone_function_decorated = my_shiny_new_decorator(stand_alone_function)\n",
    "stand_alone_function_decorated()"
   ]
  },
  {
   "cell_type": "markdown",
   "metadata": {},
   "source": [
    "Наверное, теперь мы бы хотели, чтобы каждый раз, во время вызова ```stand_alone_function```, вместо неё вызывалась ```stand_alone_function_decorated```. Для этого просто перезапишем ```stand_alone_function```:"
   ]
  },
  {
   "cell_type": "code",
   "execution_count": null,
   "metadata": {},
   "outputs": [],
   "source": [
    "stand_alone_function = my_shiny_new_decorator(stand_alone_function)\n",
    "\n",
    "stand_alone_function()"
   ]
  },
  {
   "cell_type": "markdown",
   "metadata": {},
   "source": [
    "Собственно, это и есть декораторы. Вот так можно было записать предыдущий пример, используя синтаксис декораторов:"
   ]
  },
  {
   "cell_type": "code",
   "execution_count": null,
   "metadata": {},
   "outputs": [],
   "source": [
    "@my_shiny_new_decorator\n",
    "def another_stand_alone_function():\n",
    "    print(\"Оставь меня в покое\")"
   ]
  },
  {
   "cell_type": "code",
   "execution_count": null,
   "metadata": {},
   "outputs": [],
   "source": [
    "another_stand_alone_function()"
   ]
  },
  {
   "cell_type": "markdown",
   "metadata": {},
   "source": [
    "То есть, декораторы в ```python``` — это просто синтаксический сахар для конструкций вида:\n",
    "\n",
    "```python\n",
    "another_stand_alone_function = my_shiny_new_decorator(another_stand_alone_function)\n",
    "```\n",
    "\n",
    "При этом, естественно, можно использовать несколько декораторов для одной функции, например так:"
   ]
  },
  {
   "cell_type": "code",
   "execution_count": null,
   "metadata": {},
   "outputs": [],
   "source": [
    "def make_bold(fn):\n",
    "    def wrapped():\n",
    "        return \"<b>\" + fn() + \"</b>\"\n",
    "    return wrapped\n",
    " \n",
    "def make_italic(fn):\n",
    "    def wrapped():\n",
    "        return \"<i>\" + fn() + \"</i>\"\n",
    "    return wrapped\n",
    " \n",
    "@make_bold\n",
    "@make_italic\n",
    "def hello():\n",
    "    return \"Hello!\"\n",
    " \n",
    "print(hello())"
   ]
  },
  {
   "cell_type": "markdown",
   "metadata": {},
   "source": [
    "### Передача декоратором аргументов в функцию\n",
    "\n",
    "Однако, все декораторы, которые мы рассматривали, не имели одного очень важного функционала — передачи аргументов декорируемой функции. \n",
    "\n",
    "Собственно, это тоже несложно сделать:"
   ]
  },
  {
   "cell_type": "code",
   "execution_count": null,
   "metadata": {},
   "outputs": [],
   "source": [
    "def benchmark(func):\n",
    "    \"\"\"\n",
    "    Декоратор, выводящий время, которое заняло\n",
    "    выполнение декорируемой функции.\n",
    "    \"\"\"\n",
    "    import time\n",
    "    def wrapper(*args, **kwargs):\n",
    "        t = time.time() \n",
    "        res = func(*args, **kwargs)\n",
    "        print(func.__name__, format(time.time() - t, \".40f\"))\n",
    "        time.sleep(1)\n",
    "        return res\n",
    "    return wrapper\n",
    "\n",
    "def logging(func):\n",
    "    \"\"\"\n",
    "    Декоратор, логирующий работу кода.\n",
    "    (хорошо, он просто выводит вызовы, но тут могло быть и логирование!)\n",
    "    \"\"\"\n",
    "    def wrapper(*args, **kwargs):\n",
    "        res = func(*args, **kwargs)\n",
    "        print(func.__name__, args, kwargs)\n",
    "        return res\n",
    "    return wrapper\n",
    "\n",
    "def counter(func):\n",
    "    \"\"\"\n",
    "    Декоратор, считающий и выводящий количество вызовов\n",
    "    декорируемой функции.\n",
    "    \"\"\"\n",
    "    def wrapper(*args, **kwargs):\n",
    "        wrapper.count += 1\n",
    "        res = func(*args, **kwargs)\n",
    "        print(\"{0} была вызвана: {1}x\".format(func.__name__, wrapper.count))\n",
    "        return res\n",
    "    wrapper.count = 0\n",
    "    return wrapper\n"
   ]
  },
  {
   "cell_type": "code",
   "execution_count": null,
   "metadata": {},
   "outputs": [],
   "source": [
    "@benchmark\n",
    "@logging\n",
    "@counter\n",
    "def reverse_string(string):\n",
    "    return ''.join(reversed(string))"
   ]
  },
  {
   "cell_type": "code",
   "execution_count": null,
   "metadata": {},
   "outputs": [],
   "source": [
    "print(reverse_string(\"А роза упала на лапу Азора\"))"
   ]
  },
  {
   "cell_type": "markdown",
   "metadata": {},
   "source": [
    "### Декораторы с аргументами"
   ]
  },
  {
   "cell_type": "markdown",
   "metadata": {},
   "source": [
    "Иногда бывает нужно передать аргументы декораторам. В шаблоне декоратора общего назначения, имя написанное после символа @, относится к объекту функции, который может быть вызван другой функцией.\n",
    "\n",
    "Чтобы получить декоратор, в который можно передать аргументы, нужно из функции с параметрами вернуть функциональный объект, который может действовать как декоратор.\n",
    "\n",
    "```python\n",
    "def func_param(param=4):\n",
    "    def decorator(func):\n",
    "        # Создать и вернуть функцию-обертку\n",
    "        ...\n",
    "    return decorator\n",
    "```\n",
    "\n",
    "Обычно декоратор создает и возвращает внутреннюю функцию-обертку, следовательно полный пример даст внутреннюю функцию внутри внутренней функции. Звучит запутанно (смотрите ниже как проще создать декоратор с аргументами, используя класс)... Для тех, кто хочет понять, как все это работает, будем разбираться на реальном примере.\n",
    "\n",
    "Создаваемый декоратор @repeater() будет повторять декорируемую функцию, переданное в качестве аргумента, количество раз.\n",
    "\n",
    "```python\n",
    "import functools\n",
    "\n",
    "def repeater(repeat=1):\n",
    "    \"\"\"Повторение выполнения кода\"\"\"\n",
    "    def decorator(func):\n",
    "        @functools.wraps(func)\n",
    "        def wrapper(*args, **kwargs):\n",
    "            for i in range(repeat):\n",
    "                print(f'{i+1}: ', end='')\n",
    "                val = func(*args, **kwargs)\n",
    "            return val\n",
    "        return wrapper\n",
    "    return decorator\n",
    "```"
   ]
  },
  {
   "cell_type": "markdown",
   "metadata": {},
   "source": [
    "Самая внешняя функция ```repeater()```, которая принимает аргументы, возвращает ссылку на функцию декоратор ```decorator()```.\n",
    "\n",
    "В самой функции ```repeater()``` происходит несколько тонких вещей:\n",
    "\n",
    "1. Определение внутренней функции decorator() означает, что внешняя функция repeater() будет ссылаться на объект функции decorator. В простых декораторах без параметров, имя функции decorator() используется без скобок для ссылки на объект функции.\n",
    "\n",
    "```python\n",
    "@decorator\n",
    "def func():\n",
    "   ...\n",
    "```\n",
    "Добавление внешней функции необходимо при определении декораторов, которые принимают аргументы, что бы использовать скобки, для передачи параметров декоратора.\n",
    "\n",
    "```python\n",
    "@repeater(repeat=3)\n",
    "def func():\n",
    "   ...\n",
    "```\n",
    "\n",
    "2. Аргумент ```repeat```, явно не используется в самой функции ```repeater()```, но при передаче параметра создается замыкание, где значение ```repeat``` сохраняется до тех пор, пока оно не будет использовано позже функцией ```wrapper()```.\n",
    "\n",
    "Применим декоратор ```repeater()``` к функции ```say()```:"
   ]
  },
  {
   "cell_type": "code",
   "execution_count": null,
   "metadata": {},
   "outputs": [],
   "source": [
    "import functools\n",
    "\n",
    "def repeater(repeat=1):\n",
    "    \"\"\"Повторение выполнения кода\"\"\"\n",
    "    def decorator(func):\n",
    "        @functools.wraps(func)\n",
    "        def wrapper(*args, **kwargs):\n",
    "            for i in range(repeat):\n",
    "                print(f'{i+1}: ', end='')\n",
    "                val = func(*args, **kwargs)\n",
    "            return val\n",
    "        return wrapper\n",
    "    return decorator"
   ]
  },
  {
   "cell_type": "code",
   "execution_count": null,
   "metadata": {},
   "outputs": [],
   "source": [
    "@repeater(repeat=3)\n",
    "def say(name):\n",
    "    print(f'Hello {name}!')\n",
    "    \n",
    "say('Андрей')"
   ]
  },
  {
   "cell_type": "markdown",
   "metadata": {},
   "source": [
    "> Следующий пример будет создавать требуемую задержку выполнения кода. Такое поведение иногда требуется для мониторинга доступности какого нибудь ресурса. Декоратор назовем delayed."
   ]
  },
  {
   "cell_type": "code",
   "execution_count": null,
   "metadata": {},
   "outputs": [],
   "source": [
    "import functools\n",
    "import time\n",
    "\n",
    "def delayed(delay=1):\n",
    "    \"\"\"Задержка перед вызовом функции\"\"\"\n",
    "    def decorator(func):\n",
    "        @functools.wraps(func)\n",
    "        def wrapper(*args, **kwargs):\n",
    "            print(f'Спим {delay} сек.')\n",
    "            time.sleep(delay)\n",
    "            val = func(*args, **kwargs)\n",
    "            return val\n",
    "        return wrapper\n",
    "    return decorator\n",
    "\n",
    "@delayed(delay=0.5)\n",
    "def countdown(int_num):\n",
    "    if int_num < 1:\n",
    "        return\n",
    "    else:\n",
    "        print(int_num)\n",
    "    countdown(int_num - 1)    \n",
    "        \n",
    "countdown(3)"
   ]
  },
  {
   "cell_type": "markdown",
   "metadata": {},
   "source": [
    "***\n",
    "***"
   ]
  },
  {
   "cell_type": "markdown",
   "metadata": {},
   "source": [
    "## Документирование функции"
   ]
  },
  {
   "cell_type": "markdown",
   "metadata": {},
   "source": [
    "Определим функцию:\n",
    "\n",
    "```python\n",
    "def my_sum(s,y): \n",
    "    return x + y\n",
    "```\n",
    "\n",
    "Если изучить ее, обнаружатся два скрытых метода (которые начинаются с двух знаков нижнего подчеркивания), среди которых есть ```__doc__```. Он нужен для настройки документации функции. Документация в ```Python``` называется ```docstring``` и может быть объединена с функцией следующим образом:\n",
    "\n",
    "```python\n",
    "def my_sum(x, y):\n",
    "    \"\"\"Первая срока - заголовок\n",
    "\n",
    "    Затем следует необязательная пустая строка и текст \n",
    "    документации.\n",
    "    \"\"\"\n",
    "    return x+y\n",
    "```\n",
    "\n",
    "Команда ```docstring``` должна быть первой инструкцией после объявления функции. Ее потом можно будет извлекать или дополнять:\n",
    "\n",
    "```python\n",
    "print(my_sum.__doc__)\n",
    "my_sum.__doc__ += \"some additional text\"\n",
    "```"
   ]
  },
  {
   "cell_type": "code",
   "execution_count": null,
   "metadata": {},
   "outputs": [],
   "source": [
    "def my_sum(x, y):\n",
    "    \"\"\"Первая срока - заголовок\n",
    "\n",
    "    Затем следует необязательная пустая строка и текст \n",
    "    документации.\n",
    "    \"\"\"\n",
    "    return x+y"
   ]
  },
  {
   "cell_type": "code",
   "execution_count": null,
   "metadata": {},
   "outputs": [],
   "source": [
    "my_sum(1, 2)"
   ]
  },
  {
   "cell_type": "code",
   "execution_count": null,
   "metadata": {},
   "outputs": [],
   "source": [
    "dir(my_sum)"
   ]
  },
  {
   "cell_type": "code",
   "execution_count": null,
   "metadata": {},
   "outputs": [],
   "source": [
    "print(my_sum.__doc__)"
   ]
  },
  {
   "cell_type": "code",
   "execution_count": null,
   "metadata": {},
   "outputs": [],
   "source": [
    "my_sum.__doc__ += \"some additional text\"\n",
    "print(my_sum.__doc__)"
   ]
  },
  {
   "cell_type": "markdown",
   "metadata": {},
   "source": [
    "***\n",
    "***"
   ]
  },
  {
   "cell_type": "markdown",
   "metadata": {},
   "source": [
    "## Аннотации типов\n",
    "\n",
    "Аннотации функций являются **полностью необязательной информацией метаданных о типах, используемых пользовательскими функциями**.\n",
    "\n",
    "Аннотации хранятся в атрибуте функции ```__annotations__``` как словарь и не влияют ни на какую другую часть функции. \n",
    "\n",
    "Аннотации аргументов **определяются двоеточием после имени параметра, за которым следует выражение, оценивающее значение аннотации**.\n",
    "\n",
    "Аннотации возвращаемых значений функции определяются литералом ```->```, за которым следует выражение, между списком параметров и двоеточием, обозначающим конец оператора ```def```.\n",
    "\n",
    "В следующем примере есть позиционный аргумент, ключевой аргумент и аннотированное возвращаемое значение:"
   ]
  },
  {
   "cell_type": "code",
   "execution_count": null,
   "metadata": {},
   "outputs": [],
   "source": [
    "def f(ham: str, eggs: str = 'eggs') -> str:\n",
    "    print(\"Annotations:\", f.__annotations__)\n",
    "    print(\"Arguments:\", ham, eggs)\n",
    "    return ham + ' and ' + eggs"
   ]
  },
  {
   "cell_type": "code",
   "execution_count": null,
   "metadata": {},
   "outputs": [],
   "source": [
    "f('spam')"
   ]
  },
  {
   "cell_type": "markdown",
   "metadata": {},
   "source": [
    "**Прежде чем обсуждать аннотации функций в Python 3, сначала надо понять, что такое аннотации:**\n",
    "\n",
    "* Для аннотаций сложных или пользовательских типов переменных необходимо использовать встроенный модуль ```typing```.\n",
    "* Аннотации в функции, как для параметров, так и для возвращаемых значений, являются полностью необязательными.\n",
    "* Аннотации функций - не более чем способ связывания произвольных выражений ```Python``` с различными частями функции во время компиляции.\n",
    "\n",
    "Сам по себе ```Python``` не придает никакого особого значения аннотациям. ```Python``` просто делает эти выражения доступными.\n",
    "\n",
    "> **Аннотации приобретают смысл только тогда, когда они интерпретируются сторонними модулями.**\n",
    "\n",
    "> Эти потребители аннотаций (сторонние модули) могут делать все что угодно с аннотациями функций. \n",
    "\n",
    "Например, одна библиотека может использовать строковые аннотации для предоставления улучшенных справочных сообщений, например:\n",
    "\n",
    "```python\n",
    "def compile (source: \"something compilable\",\n",
    "            filename: \"where the compilable thing comes from\",\n",
    "            mode: \"is this a single statement or a suite?\"):\n",
    "    ...\n",
    "```"
   ]
  },
  {
   "cell_type": "code",
   "execution_count": null,
   "metadata": {},
   "outputs": [],
   "source": [
    "def f(ham: \"Ветчина\", eggs: \"Яйца\" = 'eggs') -> str:\n",
    "    print(\"Annotations:\", f.__annotations__)\n",
    "    print(\"Arguments:\", ham, eggs)\n",
    "    return ham + ' and ' + eggs\n",
    "\n",
    "f('spam')"
   ]
  },
  {
   "cell_type": "markdown",
   "metadata": {},
   "source": [
    "### Новое в ```Python 3.9```\n",
    "\n",
    "В аннотациях типов теперь можно использовать встроенные типы, такие как ```list``` и ```dict```, в качестве универсальных типов вместо импорта соответствующих типов из модуля аннотации типов ```typing``` (например, ```typing.List``` или ```typing.Dict```).\n",
    "\n",
    "Например раньше, чтобы явно указать, что структура данных должна состоять только из целых чисел, то для этого нужно было импортировать из модуля ```typing```:"
   ]
  },
  {
   "cell_type": "code",
   "execution_count": null,
   "metadata": {},
   "outputs": [],
   "source": [
    "from typing import List\n",
    "\n",
    "List[int]\n",
    "# typing.List[int]"
   ]
  },
  {
   "cell_type": "code",
   "execution_count": null,
   "metadata": {},
   "outputs": [],
   "source": [
    "from typing import Dict\n",
    "\n",
    "Dict[str, int]\n",
    "# typing.Dict[str, int]"
   ]
  },
  {
   "cell_type": "code",
   "execution_count": null,
   "metadata": {},
   "outputs": [],
   "source": [
    "from typing import List\n",
    "\n",
    "def greet_all(names: List[str]) -> None:\n",
    "    print(\"Annotations:\", greet_all.__annotations__)\n",
    "    for name in names:\n",
    "        print(\"Hello\", name)\n",
    "        \n",
    "greet_all([1, 2, 3])"
   ]
  },
  {
   "cell_type": "markdown",
   "metadata": {},
   "source": [
    "В функциях или классах они могут выглядеть следующим образом:"
   ]
  },
  {
   "cell_type": "code",
   "execution_count": null,
   "metadata": {},
   "outputs": [],
   "source": [
    "def greet_all(names: list[str]) -> None:\n",
    "    print(\"Annotations:\", greet_all.__annotations__)\n",
    "    for name in names:\n",
    "        print(\"Hello\", name)\n",
    "        \n",
    "greet_all([1, 2, 3])"
   ]
  },
  {
   "cell_type": "markdown",
   "metadata": {},
   "source": [
    "***\n",
    "***"
   ]
  }
 ],
 "metadata": {
  "kernelspec": {
   "display_name": "Python 3 (ipykernel)",
   "language": "python",
   "name": "python3"
  },
  "language_info": {
   "codemirror_mode": {
    "name": "ipython",
    "version": 3
   },
   "file_extension": ".py",
   "mimetype": "text/x-python",
   "name": "python",
   "nbconvert_exporter": "python",
   "pygments_lexer": "ipython3",
   "version": "3.9.0"
  },
  "toc": {
   "base_numbering": 1,
   "nav_menu": {},
   "number_sections": true,
   "sideBar": true,
   "skip_h1_title": false,
   "title_cell": "Table of Contents",
   "title_sidebar": "Contents",
   "toc_cell": true,
   "toc_position": {},
   "toc_section_display": true,
   "toc_window_display": false
  }
 },
 "nbformat": 4,
 "nbformat_minor": 4
}
