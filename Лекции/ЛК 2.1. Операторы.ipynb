{
 "cells": [
  {
   "cell_type": "markdown",
   "metadata": {
    "toc": true
   },
   "source": [
    "<h1>Table of Contents<span class=\"tocSkip\"></span></h1>\n",
    "<div class=\"toc\"><ul class=\"toc-item\"><li><span><a href=\"#Операторы\" data-toc-modified-id=\"Операторы-1\"><span class=\"toc-item-num\">1&nbsp;&nbsp;</span>Операторы</a></span><ul class=\"toc-item\"><li><span><a href=\"#Арифметические-операторы-в-Python\" data-toc-modified-id=\"Арифметические-операторы-в-Python-1.1\"><span class=\"toc-item-num\">1.1&nbsp;&nbsp;</span>Арифметические операторы в Python</a></span></li><li><span><a href=\"#Побитовые-операторы-в-Python\" data-toc-modified-id=\"Побитовые-операторы-в-Python-1.2\"><span class=\"toc-item-num\">1.2&nbsp;&nbsp;</span>Побитовые операторы в Python</a></span><ul class=\"toc-item\"><li><span><a href=\"#Бинарное-И-(&amp;)\" data-toc-modified-id=\"Бинарное-И-(&amp;)-1.2.1\"><span class=\"toc-item-num\">1.2.1&nbsp;&nbsp;</span>Бинарное И (&amp;)</a></span></li><li><span><a href=\"#Бинарное-ИЛИ-(|)\" data-toc-modified-id=\"Бинарное-ИЛИ-(|)-1.2.2\"><span class=\"toc-item-num\">1.2.2&nbsp;&nbsp;</span>Бинарное ИЛИ (|)</a></span></li><li><span><a href=\"#Бинарное-ИЛИ-НЕТ-(^)\" data-toc-modified-id=\"Бинарное-ИЛИ-НЕТ-(^)-1.2.3\"><span class=\"toc-item-num\">1.2.3&nbsp;&nbsp;</span>Бинарное ИЛИ НЕТ (^)</a></span></li><li><span><a href=\"#Инвертирующий-оператор-(~)\" data-toc-modified-id=\"Инвертирующий-оператор-(~)-1.2.4\"><span class=\"toc-item-num\">1.2.4&nbsp;&nbsp;</span>Инвертирующий оператор (~)</a></span></li><li><span><a href=\"#Бинарный-сдвиг-влево-(<<)\" data-toc-modified-id=\"Бинарный-сдвиг-влево-(<<)-1.2.5\"><span class=\"toc-item-num\">1.2.5&nbsp;&nbsp;</span>Бинарный сдвиг влево (&lt;&lt;)</a></span></li><li><span><a href=\"#Бинарный-сдвиг-вправо-(>>)\" data-toc-modified-id=\"Бинарный-сдвиг-вправо-(>>)-1.2.6\"><span class=\"toc-item-num\">1.2.6&nbsp;&nbsp;</span>Бинарный сдвиг вправо (&gt;&gt;)</a></span></li></ul></li><li><span><a href=\"#Операторы-присваивания\" data-toc-modified-id=\"Операторы-присваивания-1.3\"><span class=\"toc-item-num\">1.3&nbsp;&nbsp;</span>Операторы присваивания</a></span></li><li><span><a href=\"#Операторы-сравнения-в-Python\" data-toc-modified-id=\"Операторы-сравнения-в-Python-1.4\"><span class=\"toc-item-num\">1.4&nbsp;&nbsp;</span>Операторы сравнения в Python</a></span></li><li><span><a href=\"#Логические-операторы-в-Python\" data-toc-modified-id=\"Логические-операторы-в-Python-1.5\"><span class=\"toc-item-num\">1.5&nbsp;&nbsp;</span>Логические операторы в Python</a></span><ul class=\"toc-item\"><li><span><a href=\"#Оператор-AND\" data-toc-modified-id=\"Оператор-AND-1.5.1\"><span class=\"toc-item-num\">1.5.1&nbsp;&nbsp;</span>Оператор AND</a></span></li><li><span><a href=\"#Оператор-OR\" data-toc-modified-id=\"Оператор-OR-1.5.2\"><span class=\"toc-item-num\">1.5.2&nbsp;&nbsp;</span>Оператор OR</a></span></li><li><span><a href=\"#Оператор-NOT\" data-toc-modified-id=\"Оператор-NOT-1.5.3\"><span class=\"toc-item-num\">1.5.3&nbsp;&nbsp;</span>Оператор NOT</a></span></li></ul></li><li><span><a href=\"#Операторы-тождественности-в-Python\" data-toc-modified-id=\"Операторы-тождественности-в-Python-1.6\"><span class=\"toc-item-num\">1.6&nbsp;&nbsp;</span>Операторы тождественности в Python</a></span></li><li><span><a href=\"#Операторы-принадлежности-в-Python\" data-toc-modified-id=\"Операторы-принадлежности-в-Python-1.7\"><span class=\"toc-item-num\">1.7&nbsp;&nbsp;</span>Операторы принадлежности в Python</a></span><ul class=\"toc-item\"><li><span><a href=\"#В-(in)\" data-toc-modified-id=\"В-(in)-1.7.1\"><span class=\"toc-item-num\">1.7.1&nbsp;&nbsp;</span>В (in)</a></span></li><li><span><a href=\"#Нет-в-(not-in)\" data-toc-modified-id=\"Нет-в-(not-in)-1.7.2\"><span class=\"toc-item-num\">1.7.2&nbsp;&nbsp;</span>Нет в (not in)</a></span></li></ul></li><li><span><a href=\"#Приоритеты-операторов-Python\" data-toc-modified-id=\"Приоритеты-операторов-Python-1.8\"><span class=\"toc-item-num\">1.8&nbsp;&nbsp;</span>Приоритеты операторов Python</a></span></li></ul></li></ul></div>"
   ]
  },
  {
   "cell_type": "markdown",
   "metadata": {},
   "source": [
    "# Операторы\n",
    "\n",
    "\n",
    "> ***Оператор в Python*** — это символ, который выполняет операцию над одним или несколькими операндами.\n",
    "Операндом выступает переменная или значение, над которыми проводится операция.\n",
    "\n",
    "**Операторы Python бывают 7 типов:**\n",
    "\n",
    "* Арифметические операторы\n",
    "* Битовые операторы\n",
    "\n",
    "\n",
    "* Операторы присваивания\n",
    "\n",
    "\n",
    "* Операторы сравнения\n",
    "* Логические операторы\n",
    "\n",
    "\n",
    "* Операторы принадлежности\n",
    "* Операторы тождественности\n",
    "\n",
    "***\n",
    "***"
   ]
  },
  {
   "cell_type": "markdown",
   "metadata": {},
   "source": [
    "## Арифметические операторы в Python\n",
    "\n",
    "Арифметические операторы используются с числовыми значениями для выполнения общих математических операций:\n",
    "\n",
    "| **Оператор** |      **Значение**     | **Пример**  |\n",
    "|--------------|:---------------------:|-------------|\n",
    "|       +      |        Сложение       | 2 + 2 = 4   |\n",
    "|       -      |       Вычитание       | 4 - 2 = 2   |\n",
    "|       *      |       Умножение       | 2 * 2 = 4   |\n",
    "|       /      |        Деление        | 4 / 2 = 2.0 |\n",
    "|      **      |  Возведение в степень | 2 ** 3 = 8  |\n",
    "|       %      |   Остаток от деления  | 5 % 2 = 1   |\n",
    "|      //      | Целочисленное деление | 5 // 2 = 2  |"
   ]
  },
  {
   "cell_type": "code",
   "execution_count": null,
   "metadata": {},
   "outputs": [],
   "source": [
    "# Сложение\n",
    "\n",
    "rez = 2 + 2\n",
    "print(rez, type(rez))\n",
    "\n",
    "rez = 2.0 + 2.0\n",
    "print(rez, type(rez))\n",
    "\n",
    "rez = 2 + 2.0\n",
    "print(rez, type(rez))\n",
    "\n",
    "rez = 2.0 + 2\n",
    "print(rez, type(rez))"
   ]
  },
  {
   "cell_type": "code",
   "execution_count": null,
   "metadata": {},
   "outputs": [],
   "source": [
    "# Вычитание\n",
    "\n",
    "rez = 4 - 2\n",
    "print(rez, type(rez))\n",
    "\n",
    "rez = 4.0 - 2.0\n",
    "print(rez, type(rez))\n",
    "\n",
    "rez = 4 - 2.0\n",
    "print(rez, type(rez))\n",
    "\n",
    "rez = 4.0 - 2\n",
    "print(rez, type(rez))"
   ]
  },
  {
   "cell_type": "code",
   "execution_count": null,
   "metadata": {},
   "outputs": [],
   "source": [
    "# Умножение\n",
    "\n",
    "rez = 2 * 2\n",
    "print(rez, type(rez))\n",
    "\n",
    "rez = 2.0 * 2.0\n",
    "print(rez, type(rez))\n",
    "\n",
    "rez = 2 * 2.0\n",
    "print(rez, type(rez))\n",
    "\n",
    "rez = 2.0 * 2\n",
    "print(rez, type(rez))"
   ]
  },
  {
   "cell_type": "code",
   "execution_count": null,
   "metadata": {},
   "outputs": [],
   "source": [
    "# Деление\n",
    "\n",
    "rez = 4 / 2\n",
    "print(rez, type(rez))\n",
    "\n",
    "rez = 4.0 / 2.0\n",
    "print(rez, type(rez))\n",
    "\n",
    "rez = 4 / 2.0\n",
    "print(rez, type(rez))\n",
    "\n",
    "rez = 4.0 / 2\n",
    "print(rez, type(rez))"
   ]
  },
  {
   "cell_type": "markdown",
   "metadata": {},
   "source": [
    "**!!! Деление меняет тип результата !!!**\n",
    "\n",
    "***\n",
    "***"
   ]
  },
  {
   "cell_type": "code",
   "execution_count": null,
   "metadata": {},
   "outputs": [],
   "source": [
    "# Возведение в степень\n",
    "\n",
    "rez = 2 ** 3\n",
    "print(rez, type(rez))\n",
    "\n",
    "rez = 2.0 ** 3.0\n",
    "print(rez, type(rez))\n",
    "\n",
    "rez = 2 ** 3.0\n",
    "print(rez, type(rez))\n",
    "\n",
    "rez = 2.0 ** 3\n",
    "print(rez, type(rez))"
   ]
  },
  {
   "cell_type": "code",
   "execution_count": null,
   "metadata": {},
   "outputs": [],
   "source": [
    "# Извлечение корня\n",
    "\n",
    "rez = 2 ** 0.5\n",
    "print(rez, type(rez))\n",
    "print(format(rez, \".56f\"), \"\\n\")\n",
    "\n",
    "rez = 4 ** 0.5\n",
    "print(rez, type(rez))\n",
    "\n",
    "rez = 8 ** 0.333333333\n",
    "print(rez, type(rez))\n",
    "\n",
    "rez = 8 ** 0.3333333333333333333333333\n",
    "print(rez, type(rez))\n",
    "\n",
    "rez = 8 ** (1 / 3)\n",
    "print(rez, type(rez))"
   ]
  },
  {
   "cell_type": "code",
   "execution_count": null,
   "metadata": {},
   "outputs": [],
   "source": [
    "# Остаток от деления\n",
    "\n",
    "rez = 5 % 2\n",
    "print(rez, type(rez))\n",
    "\n",
    "rez = 5.0 % 2.0\n",
    "print(rez, type(rez))\n",
    "\n",
    "rez = 5.0 % 2\n",
    "print(rez, type(rez))\n",
    "\n",
    "rez = 5 % 2.0\n",
    "print(rez, type(rez))\n",
    "\n",
    "rez = 5 % 2.5\n",
    "print(rez, type(rez))\n",
    "\n",
    "rez = 5 % 2.2\n",
    "print(rez, type(rez))"
   ]
  },
  {
   "cell_type": "code",
   "execution_count": null,
   "metadata": {},
   "outputs": [],
   "source": [
    "# Целочисленное деление\n",
    "\n",
    "rez = 5 // 2\n",
    "print(rez, type(rez))\n",
    "\n",
    "rez = 5.0 // 2.0\n",
    "print(rez, type(rez))\n",
    "\n",
    "rez = 5.0 // 2\n",
    "print(rez, type(rez))\n",
    "\n",
    "rez = 5 // 2.0\n",
    "print(rez, type(rez))\n",
    "\n",
    "rez = 5 // 1.5\n",
    "print(rez, type(rez))"
   ]
  },
  {
   "attachments": {
    "%D0%A1%D0%BD%D0%B8%D0%BC%D0%BE%D0%BA%20%D1%8D%D0%BA%D1%80%D0%B0%D0%BD%D0%B0%202021-09-12%20202643.png": {
     "image/png": "[encoded data removed]"
    }
   },
   "cell_type": "markdown",
   "metadata": {},
   "source": [
    "***\n",
    "***\n",
    "\n",
    "## Побитовые операторы в Python\n",
    "\n",
    "Побитовые операторы используются для работы в битовом (двоичном) формате:\n",
    "\n",
    "![%D0%A1%D0%BD%D0%B8%D0%BC%D0%BE%D0%BA%20%D1%8D%D0%BA%D1%80%D0%B0%D0%BD%D0%B0%202021-09-12%20202643.png](attachment:%D0%A1%D0%BD%D0%B8%D0%BC%D0%BE%D0%BA%20%D1%8D%D0%BA%D1%80%D0%B0%D0%BD%D0%B0%202021-09-12%20202643.png)"
   ]
  },
  {
   "cell_type": "markdown",
   "metadata": {},
   "source": [
    "### Бинарное И (&)\n",
    "Проводит побитовую операцию ```and``` над двумя значением. "
   ]
  },
  {
   "cell_type": "code",
   "execution_count": null,
   "metadata": {},
   "outputs": [],
   "source": [
    "print(2 & 3)\n",
    "print(0b10 & 0b11)\n",
    "print()\n",
    "print(3 & 4)\n",
    "print(0b11 & 0b100)"
   ]
  },
  {
   "cell_type": "markdown",
   "metadata": {},
   "source": [
    "Здесь бинарная 2 — это 10, а 3 — 11. Результатом побитового and является 10 — бинарная 2. \n",
    "Побитовое ```and``` над ```011(3)``` и ```100(4)``` выдает результат ```000(0)```.\n",
    "\n",
    "***\n",
    "***"
   ]
  },
  {
   "cell_type": "markdown",
   "metadata": {},
   "source": [
    "### Бинарное ИЛИ (|)\n",
    "Проводит побитовую операцию ```or``` на двух значениях."
   ]
  },
  {
   "cell_type": "code",
   "execution_count": null,
   "metadata": {},
   "outputs": [],
   "source": [
    "print(2 | 3)\n",
    "print(0b10 | 0b11)\n",
    "\n",
    "print()\n",
    "\n",
    "print(3 | 4)\n",
    "print(0b011 | 0b100)"
   ]
  },
  {
   "cell_type": "markdown",
   "metadata": {},
   "source": [
    "Здесь ```or``` для ```10(2)``` и ```11(3)``` возвращает ```11(3)```.\n",
    "\n",
    "***\n",
    "***"
   ]
  },
  {
   "cell_type": "markdown",
   "metadata": {},
   "source": [
    "### Бинарное ИЛИ НЕТ (^)\n",
    "Проводит побитовую операцию ```xor``` (исключающее или) на двух значениях."
   ]
  },
  {
   "cell_type": "code",
   "execution_count": null,
   "metadata": {},
   "outputs": [],
   "source": [
    "print(2 ^ 3)\n",
    "print(0b10 ^ 0b11)"
   ]
  },
  {
   "cell_type": "markdown",
   "metadata": {},
   "source": [
    "Здесь результатом ИЛИ НЕ для ```10(2)``` и ```11(3)``` будет ```01(1)```.\n",
    "\n",
    "***\n",
    "***"
   ]
  },
  {
   "cell_type": "markdown",
   "metadata": {},
   "source": [
    "### Инвертирующий оператор (~)\n",
    "\n",
    "\n",
    "Он возвращает инвертированные двоичные числа. Другими словами, переворачивает биты. \n"
   ]
  },
  {
   "cell_type": "code",
   "execution_count": null,
   "metadata": {},
   "outputs": [],
   "source": [
    "print(~2)\n",
    "print(~0b10)\n",
    "print(~-3)\n",
    "print(~-0b11)"
   ]
  },
  {
   "cell_type": "markdown",
   "metadata": {},
   "source": [
    "Битовая ```2``` — это ```00000010```. Ее инвертированная версия — ```11111101```. Это бинарная ```-3```. Поэтому результат ```-3```. Похожим образом ```~1``` равняется ```-2```.\n",
    "\n",
    "***\n",
    "***"
   ]
  },
  {
   "cell_type": "markdown",
   "metadata": {},
   "source": [
    "### Бинарный сдвиг влево (<<)\n",
    "Он сдвигает значение левого операнда на позицию, которая указана справа."
   ]
  },
  {
   "cell_type": "code",
   "execution_count": null,
   "metadata": {},
   "outputs": [],
   "source": [
    "print(2, \"\\t\", bin(2), \"\\n\")\n",
    "print(2 << 0, \"\\t\", bin(2 << 0))\n",
    "print(2 << 1, \"\\t\", bin(2 << 1))\n",
    "print(2 << 2, \"\\t\", bin(2 << 2))\n",
    "print(2 << 3, \"\\t\", bin(2 << 3))"
   ]
  },
  {
   "cell_type": "markdown",
   "metadata": {},
   "source": [
    "Так, бинарная ```2``` — это ```10```. ```2 << 2``` сдвинет значение на две позиции влево и выйдет ```1000``` — это бинарная ```8```.\n",
    "\n",
    "***\n",
    "***"
   ]
  },
  {
   "cell_type": "markdown",
   "metadata": {},
   "source": [
    "### Бинарный сдвиг вправо (>>)\n",
    "\n",
    "Сдвигает значение левого оператора на позицию, указанную справа."
   ]
  },
  {
   "cell_type": "code",
   "execution_count": null,
   "metadata": {
    "scrolled": true
   },
   "outputs": [],
   "source": [
    "print(13, \"\\t\", bin(13), \"\\n\")\n",
    "print(13 >> 0, \"\\t\", bin(13 >> 0))\n",
    "print(13 >> 1, \"\\t\", bin(13 >> 1))\n",
    "print(13 >> 2, \"\\t\", bin(13 >> 2))\n",
    "print(13 >> 3, \"\\t\", bin(13 >> 3))\n",
    "print(13 >> 4, \"\\t\", bin(13 >> 4))"
   ]
  },
  {
   "cell_type": "markdown",
   "metadata": {},
   "source": [
    "Так, бинарная ```3``` — это ```11```. ```3 >> 2``` сдвинет значение на два положение вправо. Результат — ```00```, то есть ```0```. ```3 >> 1``` сдвинет на одну позицию вправо, а результатом будет ```01``` — бинарная ```1```.\n",
    "\n",
    "***\n",
    "***"
   ]
  },
  {
   "cell_type": "markdown",
   "metadata": {},
   "source": [
    "## Операторы присваивания\n",
    "\n",
    "Оператор присваивания присваивает значение переменной. \n",
    "\n",
    "\n",
    "Он может манипулировать значением до присваивания. \n",
    "Есть 8 операторов присваивания: 1 простой и 7 с использованием арифметических операторов.\n",
    "\n",
    "```python\n",
    "=\n",
    "\n",
    "+=\n",
    "-=\n",
    "*=\n",
    "/=\n",
    "**=\n",
    "%=\n",
    "//=\n",
    "```\n",
    "\n",
    "> Например оператор ```+=``` Суммирует значение обеих сторон и присваивает его выражению слева. ```a += 10``` — это то же самое, что и ```a = a + 10```.\n",
    "\n",
    "> То же касается и все остальных операторов присваивания."
   ]
  },
  {
   "cell_type": "code",
   "execution_count": null,
   "metadata": {},
   "outputs": [],
   "source": [
    "a = 10\n",
    "print(a)\n",
    "\n",
    "a = a + 5\n",
    "print(a)\n",
    "\n",
    "a += 5\n",
    "print(a)"
   ]
  },
  {
   "cell_type": "code",
   "execution_count": null,
   "metadata": {},
   "outputs": [],
   "source": [
    "print(a)\n",
    "\n",
    "a = a - 5\n",
    "print(a)\n",
    "\n",
    "a -= 5\n",
    "print(a)"
   ]
  },
  {
   "cell_type": "markdown",
   "metadata": {},
   "source": [
    "***\n",
    "***\n",
    "\n",
    "\n",
    "В Python нет классических инкриментов и декриментов, таких как:\n",
    "\n",
    "```\n",
    "i++\n",
    "i--\n",
    "\n",
    "++i\n",
    "--i\n",
    "```\n",
    "\n",
    "Уменьшающих или увеличивающих значение переменной на 1."
   ]
  },
  {
   "cell_type": "code",
   "execution_count": null,
   "metadata": {},
   "outputs": [],
   "source": [
    "# Будет ошибка синтаксиса\n",
    "\n",
    "i = 0\n",
    "print(i)\n",
    "\n",
    "i++\n",
    "print(i)\n",
    "\n",
    "i--\n",
    "print(i)"
   ]
  },
  {
   "cell_type": "markdown",
   "metadata": {},
   "source": [
    "***\n",
    "***\n",
    "\n",
    "Вместо этого принято пользоваться записью:\n",
    "\n",
    "```python\n",
    "\n",
    "i += 1\n",
    "i -= 1\n",
    "\n",
    "```"
   ]
  },
  {
   "cell_type": "code",
   "execution_count": null,
   "metadata": {},
   "outputs": [],
   "source": [
    "i = 0\n",
    "print(i)\n",
    "\n",
    "i += 1\n",
    "print(i)\n",
    "\n",
    "i -= 1\n",
    "print(i)"
   ]
  },
  {
   "attachments": {
    "%D0%A1%D0%BD%D0%B8%D0%BC%D0%BE%D0%BA%20%D1%8D%D0%BA%D1%80%D0%B0%D0%BD%D0%B0%202021-09-12%20215643.png": {
     "image/png": "[encoded data removed]"
    }
   },
   "cell_type": "markdown",
   "metadata": {},
   "source": [
    "## Операторы сравнения в Python\n",
    "\n",
    "Операторы сравнения используются для сравнения двух значений:\n",
    "\n",
    "![%D0%A1%D0%BD%D0%B8%D0%BC%D0%BE%D0%BA%20%D1%8D%D0%BA%D1%80%D0%B0%D0%BD%D0%B0%202021-09-12%20215643.png](attachment:%D0%A1%D0%BD%D0%B8%D0%BC%D0%BE%D0%BA%20%D1%8D%D0%BA%D1%80%D0%B0%D0%BD%D0%B0%202021-09-12%20215643.png)\n",
    "\n",
    "После сравнения возвращают булевое значение ```True``` или ```False```"
   ]
  },
  {
   "cell_type": "code",
   "execution_count": null,
   "metadata": {},
   "outputs": [],
   "source": [
    "# Оператор равно\n",
    "\n",
    "print(12 == 10) #False\n",
    "print(12 == 12) #True"
   ]
  },
  {
   "cell_type": "code",
   "execution_count": null,
   "metadata": {},
   "outputs": [],
   "source": [
    "# Оператор не равно\n",
    "\n",
    "print(12 != 10) #True\n",
    "print(12 != 12) #False"
   ]
  },
  {
   "cell_type": "code",
   "execution_count": null,
   "metadata": {},
   "outputs": [],
   "source": [
    "# Операторы сравнения\n",
    "\n",
    "print(12 > 10)   #True\n",
    "print(12 > 12)   #False\n",
    "print(12 <= 12)  #True\n",
    "print(15 >= 20)  #False"
   ]
  },
  {
   "cell_type": "markdown",
   "metadata": {},
   "source": [
    "***\n",
    "***\n",
    "\n",
    "**С осторожностью можно сравнивать объекты разных типов...**"
   ]
  },
  {
   "cell_type": "code",
   "execution_count": null,
   "metadata": {},
   "outputs": [],
   "source": [
    "print(42 == 42.0)       #True\n",
    "print(42 == \"42.0\")     #False\n",
    "print(42.0 == \"42.0\")   #False\n",
    "\n",
    "print(\"42\" == \"42.0\")   #False\n",
    "print(\"42\" == \"42\")     #True"
   ]
  },
  {
   "cell_type": "code",
   "execution_count": null,
   "metadata": {},
   "outputs": [],
   "source": [
    "#       1     2     3     4     5     6     7     8     9    10\n",
    "sum_ = 0.1 + 0.1 + 0.1 + 0.1 + 0.1 + 0.1 + 0.1 + 0.1 + 0.1 + 0.1\n",
    "print(sum_ == 1)       #True or False ?"
   ]
  },
  {
   "cell_type": "code",
   "execution_count": null,
   "metadata": {},
   "outputs": [],
   "source": [
    "print(sum_)"
   ]
  },
  {
   "attachments": {
    "%D0%A1%D0%BD%D0%B8%D0%BC%D0%BE%D0%BA%20%D1%8D%D0%BA%D1%80%D0%B0%D0%BD%D0%B0%202021-09-12%20220848.png": {
     "image/png": "[encoded data removed]"
    }
   },
   "cell_type": "markdown",
   "metadata": {},
   "source": [
    "## Логические операторы в Python\n",
    "\n",
    "Логические операторы используются для объединения **условных операторов**:\n",
    "\n",
    "![%D0%A1%D0%BD%D0%B8%D0%BC%D0%BE%D0%BA%20%D1%8D%D0%BA%D1%80%D0%B0%D0%BD%D0%B0%202021-09-12%20220848.png](attachment:%D0%A1%D0%BD%D0%B8%D0%BC%D0%BE%D0%BA%20%D1%8D%D0%BA%D1%80%D0%B0%D0%BD%D0%B0%202021-09-12%20220848.png)\n",
    "\n",
    "Также возвращает bool ```True``` или ```False```."
   ]
  },
  {
   "cell_type": "markdown",
   "metadata": {},
   "source": [
    "### Оператор AND"
   ]
  },
  {
   "cell_type": "code",
   "execution_count": null,
   "metadata": {},
   "outputs": [],
   "source": [
    "print(True and True)\n",
    "print(True and False)\n",
    "print(False and True)\n",
    "print(False and False)"
   ]
  },
  {
   "cell_type": "code",
   "execution_count": null,
   "metadata": {},
   "outputs": [],
   "source": [
    "x = 6\n",
    "print(x < 5 and x < 10)      #False\n",
    "\n",
    "x = 3\n",
    "print(x < 5 and x < 10)      #True"
   ]
  },
  {
   "cell_type": "markdown",
   "metadata": {},
   "source": [
    "### Оператор OR"
   ]
  },
  {
   "cell_type": "code",
   "execution_count": null,
   "metadata": {},
   "outputs": [],
   "source": [
    "print(True or True)\n",
    "print(True or False)\n",
    "print(False or True)\n",
    "print(False or False)"
   ]
  },
  {
   "cell_type": "code",
   "execution_count": null,
   "metadata": {},
   "outputs": [],
   "source": [
    "x = 6\n",
    "print(x < 5 or x < 10)       #True\n",
    "\n",
    "x = 3\n",
    "print(x < 5 or x < 10)       #True\n",
    "\n",
    "x = 11\n",
    "print(x < 5 or x < 10)       #False"
   ]
  },
  {
   "cell_type": "markdown",
   "metadata": {},
   "source": [
    "### Оператор NOT"
   ]
  },
  {
   "cell_type": "code",
   "execution_count": null,
   "metadata": {},
   "outputs": [],
   "source": [
    "x = 6\n",
    "print(not(x < 5 and x < 10))  #True\n",
    "\n",
    "x = 3\n",
    "print(not(x < 5 or x < 10))   #False"
   ]
  },
  {
   "cell_type": "markdown",
   "metadata": {},
   "source": [
    "***\n",
    "***\n",
    "\n",
    "Обычная форма записи операторов сравнения:\n",
    "\n",
    "```\n",
    "&&\n",
    "||\n",
    "!\n",
    "```\n",
    "\n",
    "**вызовет ошибку синтаксиса!!**"
   ]
  },
  {
   "cell_type": "code",
   "execution_count": null,
   "metadata": {},
   "outputs": [],
   "source": [
    "True && True\n",
    "True || True\n",
    "!True"
   ]
  },
  {
   "attachments": {
    "%D0%A1%D0%BD%D0%B8%D0%BC%D0%BE%D0%BA%20%D1%8D%D0%BA%D1%80%D0%B0%D0%BD%D0%B0%202021-09-12%20223821.png": {
     "image/png": "[encoded data removed]"
    }
   },
   "cell_type": "markdown",
   "metadata": {},
   "source": [
    "***\n",
    "***\n",
    "## Операторы тождественности в Python\n",
    "\n",
    "Операторы тождественности используются для сравнения объектов. \n",
    "\n",
    "**Являются ли они одним и тем же объектом с одинаковым местоположением в памяти:**\n",
    "\n",
    "![%D0%A1%D0%BD%D0%B8%D0%BC%D0%BE%D0%BA%20%D1%8D%D0%BA%D1%80%D0%B0%D0%BD%D0%B0%202021-09-12%20223821.png](attachment:%D0%A1%D0%BD%D0%B8%D0%BC%D0%BE%D0%BA%20%D1%8D%D0%BA%D1%80%D0%B0%D0%BD%D0%B0%202021-09-12%20223821.png)"
   ]
  },
  {
   "cell_type": "code",
   "execution_count": null,
   "metadata": {},
   "outputs": [],
   "source": [
    "lst1 = [1, 2, 3]\n",
    "lst2 = lst1\n",
    "\n",
    "print(lst1 == lst2) \n",
    "print(lst1 is lst2)"
   ]
  },
  {
   "cell_type": "code",
   "execution_count": null,
   "metadata": {},
   "outputs": [],
   "source": [
    "print(lst1, id(lst1))\n",
    "print(lst1, id(lst2))"
   ]
  },
  {
   "cell_type": "code",
   "execution_count": null,
   "metadata": {},
   "outputs": [],
   "source": [
    "lst1 = [1, 2, 3]\n",
    "lst2 = [1, 2, 3]\n",
    "\n",
    "print(lst1 == lst2) \n",
    "print(lst1 is lst2)"
   ]
  },
  {
   "cell_type": "code",
   "execution_count": null,
   "metadata": {},
   "outputs": [],
   "source": [
    "print(lst1, id(lst1))\n",
    "print(lst1, id(lst2))"
   ]
  },
  {
   "cell_type": "code",
   "execution_count": null,
   "metadata": {},
   "outputs": [],
   "source": [
    "str1 = \"Hello\"\n",
    "str2 = \"Hello\"\n",
    "print(str1 == str2)\n",
    "print(str1 is str2)"
   ]
  },
  {
   "cell_type": "code",
   "execution_count": null,
   "metadata": {},
   "outputs": [],
   "source": [
    "print(str1, id(str1))\n",
    "print(str1, id(str2))"
   ]
  },
  {
   "cell_type": "code",
   "execution_count": null,
   "metadata": {},
   "outputs": [],
   "source": [
    "str1 = \"Hello\"\n",
    "str2 = \"Hell\" + \"o\"\n",
    "print(str1 == str2)\n",
    "print(str1 is str2)"
   ]
  },
  {
   "cell_type": "code",
   "execution_count": null,
   "metadata": {},
   "outputs": [],
   "source": [
    "print(str1, id(str1))\n",
    "print(str1, id(str2))"
   ]
  },
  {
   "cell_type": "code",
   "execution_count": null,
   "metadata": {},
   "outputs": [],
   "source": [
    "str1 = \"Hello\"\n",
    "str2 = \"Hell\"\n",
    "str2 += \"o\"\n",
    "print(str1 == str2)\n",
    "print(str1 is str2)"
   ]
  },
  {
   "cell_type": "code",
   "execution_count": null,
   "metadata": {},
   "outputs": [],
   "source": [
    "print(str1, id(str1))\n",
    "print(str1, id(str2))"
   ]
  },
  {
   "cell_type": "code",
   "execution_count": null,
   "metadata": {},
   "outputs": [],
   "source": [
    "int1 = 28\n",
    "int2 = 28\n",
    "\n",
    "print(int1 == int2)\n",
    "print(int1 is int2)"
   ]
  },
  {
   "cell_type": "code",
   "execution_count": null,
   "metadata": {},
   "outputs": [],
   "source": [
    "print(int1, id(int1))\n",
    "print(int2, id(int2))"
   ]
  },
  {
   "cell_type": "code",
   "execution_count": null,
   "metadata": {},
   "outputs": [],
   "source": [
    "int1 = 288\n",
    "int2 = 288\n",
    "\n",
    "print(int1 == int2)\n",
    "print(int1 is int2)"
   ]
  },
  {
   "cell_type": "code",
   "execution_count": null,
   "metadata": {},
   "outputs": [],
   "source": [
    "print(int1, id(int1))\n",
    "print(int2, id(int2))"
   ]
  },
  {
   "cell_type": "markdown",
   "metadata": {},
   "source": [
    "> **Операторы тождественности сравнивают адреса в памяти!!!**"
   ]
  },
  {
   "cell_type": "code",
   "execution_count": null,
   "metadata": {},
   "outputs": [],
   "source": [
    "print(True is not None)\n",
    "print(False is not None)"
   ]
  },
  {
   "cell_type": "code",
   "execution_count": null,
   "metadata": {},
   "outputs": [],
   "source": [
    "print(True != None)\n",
    "print(False != None)"
   ]
  },
  {
   "attachments": {
    "%D0%A1%D0%BD%D0%B8%D0%BC%D0%BE%D0%BA%20%D1%8D%D0%BA%D1%80%D0%B0%D0%BD%D0%B0%202021-09-12%20222945.png": {
     "image/png": "[encoded data removed]"
    }
   },
   "cell_type": "markdown",
   "metadata": {},
   "source": [
    "***\n",
    "***\n",
    "\n",
    "## Операторы принадлежности в Python\n",
    "\n",
    "Операторы принадлежности используются для проверки того, представлена ли последовательность в объекте.\n",
    "\n",
    "Последовательность может быть ```списком```, ```строкой``` или ```кортежем```. Есть всего два таких оператора: ```in``` и ```not in```.\n",
    "\n",
    "![%D0%A1%D0%BD%D0%B8%D0%BC%D0%BE%D0%BA%20%D1%8D%D0%BA%D1%80%D0%B0%D0%BD%D0%B0%202021-09-12%20222945.png](attachment:%D0%A1%D0%BD%D0%B8%D0%BC%D0%BE%D0%BA%20%D1%8D%D0%BA%D1%80%D0%B0%D0%BD%D0%B0%202021-09-12%20222945.png)"
   ]
  },
  {
   "cell_type": "markdown",
   "metadata": {},
   "source": [
    "### В (in)\n",
    "Проверяет, является ли значение членом последовательности. В этом примере видно, что строки ```fox``` нет в списке питомцев. Но ```cat``` — есть, поэтому она возвращает ```True```. Также строка ```me``` является подстрокой ```disappointment```. Поэтому она вернет ```True```."
   ]
  },
  {
   "cell_type": "code",
   "execution_count": null,
   "metadata": {},
   "outputs": [],
   "source": [
    "pets = [\"dog\", \"cat\", \"ferret\"]\n",
    "print(\"cat\" in pets)\n",
    "print(\"me\" in \"disappointment\")"
   ]
  },
  {
   "cell_type": "markdown",
   "metadata": {},
   "source": [
    "### Нет в (not in)\n",
    "\n",
    "Этот оператор проверяет, **НЕ** является ли значение членом последовательности."
   ]
  },
  {
   "cell_type": "code",
   "execution_count": null,
   "metadata": {},
   "outputs": [],
   "source": [
    "print(\"pot\" not in \"disappointment\") "
   ]
  },
  {
   "cell_type": "markdown",
   "metadata": {},
   "source": [
    "***\n",
    "***\n",
    "\n",
    "## Приоритеты операторов Python\n",
    "\n",
    "\n",
    "\n",
    "**Самые приоритетные операции ```вверху```, ```снизу``` — с низким приоритетом.**\n",
    "\n",
    "Вычисления выполняются ```слева направо```, то есть, если в выражении встретятся операторы одинаковых приоритетов, первым будет выполнен тот, что слева.\n",
    "\n",
    "> **Оператор возведения в степень исключение из этого правила.** Из двух операторов ** сначала выполнится правый, а потом левый."
   ]
  },
  {
   "cell_type": "markdown",
   "metadata": {},
   "source": [
    "**Оператор**|**Название**\n",
    ":-----:|:-----:\n",
    "( )|Скобки\n",
    "**|Возведение в степень\n",
    "+x, -x, ~x|Унарные плюс, минус и битовое отрицание\n",
    "*, /, //, %|Умножение, деления, взятие остатка\n",
    "+, -|Сложение и вычитание\n",
    "<<, >>|Битовые сдвиги\n",
    "&|Битовое И\n",
    "^|Битовое исключающее ИЛИ (XOR)\n",
    "||Битовое ИЛИ\n",
    "==, !=, >, >=, <, <=, is, is not, in, not in|Сравнение, проверка идентичности, проверка вхождения\n",
    "not|Логическое НЕ\n",
    "and|Логическое И\n",
    "or|Логическое ИЛИ\n",
    "=|Операторы присваивания"
   ]
  }
 ],
 "metadata": {
  "kernelspec": {
   "display_name": "Python 3 (ipykernel)",
   "language": "python",
   "name": "python3"
  },
  "language_info": {
   "codemirror_mode": {
    "name": "ipython",
    "version": 3
   },
   "file_extension": ".py",
   "mimetype": "text/x-python",
   "name": "python",
   "nbconvert_exporter": "python",
   "pygments_lexer": "ipython3",
   "version": "3.9.0"
  },
  "toc": {
   "base_numbering": 1,
   "nav_menu": {},
   "number_sections": true,
   "sideBar": true,
   "skip_h1_title": false,
   "title_cell": "Table of Contents",
   "title_sidebar": "Contents",
   "toc_cell": true,
   "toc_position": {},
   "toc_section_display": true,
   "toc_window_display": false
  }
 },
 "nbformat": 4,
 "nbformat_minor": 4
}
